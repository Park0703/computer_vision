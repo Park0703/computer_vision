{
 "cells": [
  {
   "cell_type": "code",
   "execution_count": null,
   "metadata": {
    "colab": {
     "base_uri": "https://localhost:8080/"
    },
    "executionInfo": {
     "elapsed": 26437,
     "status": "ok",
     "timestamp": 1632737417628,
     "user": {
      "displayName": "정지혁",
      "photoUrl": "https://lh3.googleusercontent.com/a-/AOh14Gi2xnkUvkGuxYJpQ869taL552Birarh0kp9GKTKCQ=s64",
      "userId": "09534774022449022692"
     },
     "user_tz": -540
    },
    "id": "VV6uxX03lf6g",
    "outputId": "1a0dd68a-aff9-4ace-a778-ddef46850008"
   },
   "outputs": [
    {
     "name": "stdout",
     "output_type": "stream",
     "text": [
      "Mounted at /content/drive\n"
     ]
    }
   ],
   "source": [
    "# 구글 드라이브의 폴더와 구글 코랩 폴더 연결\n",
    "from google.colab import drive\n",
    "drive.mount('/content/drive')"
   ]
  },
  {
   "cell_type": "code",
   "execution_count": null,
   "metadata": {
    "colab": {
     "base_uri": "https://localhost:8080/"
    },
    "executionInfo": {
     "elapsed": 15,
     "status": "ok",
     "timestamp": 1632737417629,
     "user": {
      "displayName": "정지혁",
      "photoUrl": "https://lh3.googleusercontent.com/a-/AOh14Gi2xnkUvkGuxYJpQ869taL552Birarh0kp9GKTKCQ=s64",
      "userId": "09534774022449022692"
     },
     "user_tz": -540
    },
    "id": "v5SORExslh3Q",
    "outputId": "bb2e6178-d721-4bca-c42e-dc67f933531c"
   },
   "outputs": [
    {
     "name": "stdout",
     "output_type": "stream",
     "text": [
      "/content\n"
     ]
    }
   ],
   "source": [
    "# 현재 경로 확인\n",
    "!pwd"
   ]
  },
  {
   "cell_type": "code",
   "execution_count": null,
   "metadata": {
    "colab": {
     "base_uri": "https://localhost:8080/"
    },
    "executionInfo": {
     "elapsed": 10,
     "status": "ok",
     "timestamp": 1632737417630,
     "user": {
      "displayName": "정지혁",
      "photoUrl": "https://lh3.googleusercontent.com/a-/AOh14Gi2xnkUvkGuxYJpQ869taL552Birarh0kp9GKTKCQ=s64",
      "userId": "09534774022449022692"
     },
     "user_tz": -540
    },
    "id": "Wjo2oKF4lioE",
    "outputId": "eb4caebb-ca6e-49f2-b0b2-1a4b2e1c321e"
   },
   "outputs": [
    {
     "name": "stdout",
     "output_type": "stream",
     "text": [
      "/content/drive/My Drive/Colab Notebooks\n"
     ]
    }
   ],
   "source": [
    "# drive/My Drive/Colab Notebooks 경로로 변경\n",
    "%cd drive/My\\ Drive/Colab\\ Notebooks\\"
   ]
  },
  {
   "cell_type": "markdown",
   "metadata": {
    "id": "ReEfuFTFgFVV"
   },
   "source": [
    "# Tensorflow "
   ]
  },
  {
   "cell_type": "code",
   "execution_count": 39,
   "metadata": {
    "executionInfo": {
     "elapsed": 251,
     "status": "ok",
     "timestamp": 1632842677744,
     "user": {
      "displayName": "정지혁",
      "photoUrl": "https://lh3.googleusercontent.com/a-/AOh14Gi2xnkUvkGuxYJpQ869taL552Birarh0kp9GKTKCQ=s64",
      "userId": "09534774022449022692"
     },
     "user_tz": -540
    },
    "id": "Mar8oDp73Ag7"
   },
   "outputs": [],
   "source": [
    "import tensorflow as tf "
   ]
  },
  {
   "cell_type": "code",
   "execution_count": 40,
   "metadata": {
    "executionInfo": {
     "elapsed": 254,
     "status": "ok",
     "timestamp": 1632842678382,
     "user": {
      "displayName": "정지혁",
      "photoUrl": "https://lh3.googleusercontent.com/a-/AOh14Gi2xnkUvkGuxYJpQ869taL552Birarh0kp9GKTKCQ=s64",
      "userId": "09534774022449022692"
     },
     "user_tz": -540
    },
    "id": "9zCNiVO93Ar4"
   },
   "outputs": [],
   "source": [
    "(X_train, y_train), (X_test,y_test) = tf.keras.datasets.fashion_mnist.load_data()"
   ]
  },
  {
   "cell_type": "code",
   "execution_count": 3,
   "metadata": {
    "colab": {
     "base_uri": "https://localhost:8080/"
    },
    "executionInfo": {
     "elapsed": 246,
     "status": "ok",
     "timestamp": 1632823672039,
     "user": {
      "displayName": "정지혁",
      "photoUrl": "https://lh3.googleusercontent.com/a-/AOh14Gi2xnkUvkGuxYJpQ869taL552Birarh0kp9GKTKCQ=s64",
      "userId": "09534774022449022692"
     },
     "user_tz": -540
    },
    "id": "EuXpJBw23AuN",
    "outputId": "2da80321-3f17-43a6-f037-90b5d97c9e89"
   },
   "outputs": [
    {
     "data": {
      "text/plain": [
       "dtype('uint8')"
      ]
     },
     "execution_count": 3,
     "metadata": {},
     "output_type": "execute_result"
    }
   ],
   "source": [
    "X_train.dtype"
   ]
  },
  {
   "cell_type": "code",
   "execution_count": 41,
   "metadata": {
    "executionInfo": {
     "elapsed": 259,
     "status": "ok",
     "timestamp": 1632842680884,
     "user": {
      "displayName": "정지혁",
      "photoUrl": "https://lh3.googleusercontent.com/a-/AOh14Gi2xnkUvkGuxYJpQ869taL552Birarh0kp9GKTKCQ=s64",
      "userId": "09534774022449022692"
     },
     "user_tz": -540
    },
    "id": "ukW63arR3_of"
   },
   "outputs": [],
   "source": [
    "# Normalization (min-max) => 최소값 0 최대값 1로 정규화를 한다 => 학습시 훨씬 더 효율적으로 할 수 있기 때문에 더 정확하고 빠르게 할 수 있다 \n",
    "X_train = X_train / 255\n",
    "X_test = X_test / 255"
   ]
  },
  {
   "cell_type": "code",
   "execution_count": 42,
   "metadata": {
    "executionInfo": {
     "elapsed": 4,
     "status": "ok",
     "timestamp": 1632842681901,
     "user": {
      "displayName": "정지혁",
      "photoUrl": "https://lh3.googleusercontent.com/a-/AOh14Gi2xnkUvkGuxYJpQ869taL552Birarh0kp9GKTKCQ=s64",
      "userId": "09534774022449022692"
     },
     "user_tz": -540
    },
    "id": "-cfSL0AE4FBU"
   },
   "outputs": [],
   "source": [
    "# 전처리는 model안에서\n",
    "\n",
    "# Sequential 버전 \n",
    "model = tf.keras.Sequential([\n",
    "  tf.keras.layers.Flatten(input_shape=(28,28)),\n",
    "  tf.keras.layers.Dense(128, activation='relu'),\n",
    "  tf.keras.layers.Dense(10, activation='softmax')\n",
    "])\n",
    "\n",
    "# Model 버전 \n",
    "inputs_ = tf.keras.layers.Input(shape=(28,28))\n",
    "x = tf.keras.layers.Flatten()(inputs_)\n",
    "x = tf.keras.layers.Dense(128)(x)\n",
    "x = tf.keras.layers.ReLU()(x)\n",
    "outputs = tf.keras.layers.Dense(10, activation='softmax')(x)"
   ]
  },
  {
   "cell_type": "code",
   "execution_count": 43,
   "metadata": {
    "executionInfo": {
     "elapsed": 340,
     "status": "ok",
     "timestamp": 1632842683772,
     "user": {
      "displayName": "정지혁",
      "photoUrl": "https://lh3.googleusercontent.com/a-/AOh14Gi2xnkUvkGuxYJpQ869taL552Birarh0kp9GKTKCQ=s64",
      "userId": "09534774022449022692"
     },
     "user_tz": -540
    },
    "id": "_FflXTmd4vGT"
   },
   "outputs": [],
   "source": [
    "model = tf.keras.models.Model(inputs_, outputs)"
   ]
  },
  {
   "cell_type": "code",
   "execution_count": 44,
   "metadata": {
    "colab": {
     "base_uri": "https://localhost:8080/"
    },
    "executionInfo": {
     "elapsed": 10,
     "status": "ok",
     "timestamp": 1632842684200,
     "user": {
      "displayName": "정지혁",
      "photoUrl": "https://lh3.googleusercontent.com/a-/AOh14Gi2xnkUvkGuxYJpQ869taL552Birarh0kp9GKTKCQ=s64",
      "userId": "09534774022449022692"
     },
     "user_tz": -540
    },
    "id": "bq9-3aIk4dPJ",
    "outputId": "53fd8804-d141-41f6-ed5f-c478cd21b1b4"
   },
   "outputs": [
    {
     "name": "stdout",
     "output_type": "stream",
     "text": [
      "Model: \"model_4\"\n",
      "_________________________________________________________________\n",
      "Layer (type)                 Output Shape              Param #   \n",
      "=================================================================\n",
      "input_5 (InputLayer)         [(None, 28, 28)]          0         \n",
      "_________________________________________________________________\n",
      "flatten_6 (Flatten)          (None, 784)               0         \n",
      "_________________________________________________________________\n",
      "dense_12 (Dense)             (None, 128)               100480    \n",
      "_________________________________________________________________\n",
      "re_lu_4 (ReLU)               (None, 128)               0         \n",
      "_________________________________________________________________\n",
      "dense_13 (Dense)             (None, 10)                1290      \n",
      "=================================================================\n",
      "Total params: 101,770\n",
      "Trainable params: 101,770\n",
      "Non-trainable params: 0\n",
      "_________________________________________________________________\n"
     ]
    }
   ],
   "source": [
    "model.summary()"
   ]
  },
  {
   "cell_type": "code",
   "execution_count": 12,
   "metadata": {
    "colab": {
     "base_uri": "https://localhost:8080/"
    },
    "executionInfo": {
     "elapsed": 264,
     "status": "ok",
     "timestamp": 1632824379893,
     "user": {
      "displayName": "정지혁",
      "photoUrl": "https://lh3.googleusercontent.com/a-/AOh14Gi2xnkUvkGuxYJpQ869taL552Birarh0kp9GKTKCQ=s64",
      "userId": "09534774022449022692"
     },
     "user_tz": -540
    },
    "id": "hYYUSZ665rVb",
    "outputId": "2ad24cd5-9e1d-4642-80a5-cc1bf7c64b26"
   },
   "outputs": [
    {
     "data": {
      "text/plain": [
       "[<tf.Variable 'dense_2/kernel:0' shape=(784, 128) dtype=float32, numpy=\n",
       " array([[ 0.02516936,  0.06438791,  0.018306  , ..., -0.01758076,\n",
       "          0.06290304,  0.05140124],\n",
       "        [-0.05912167, -0.01394046,  0.00835894, ...,  0.07631402,\n",
       "         -0.02987464,  0.03332863],\n",
       "        [-0.0592133 ,  0.03133401,  0.07544664, ...,  0.0805388 ,\n",
       "         -0.07592296, -0.03545989],\n",
       "        ...,\n",
       "        [ 0.04126004,  0.02557782, -0.07374297, ..., -0.01776882,\n",
       "          0.05950726,  0.03152514],\n",
       "        [ 0.04481585, -0.01106533,  0.0462807 , ...,  0.02908169,\n",
       "          0.02692767, -0.03776729],\n",
       "        [ 0.00387245, -0.05717902,  0.07691073, ..., -0.03013743,\n",
       "          0.04765027, -0.012512  ]], dtype=float32)>,\n",
       " <tf.Variable 'dense_2/bias:0' shape=(128,) dtype=float32, numpy=\n",
       " array([0., 0., 0., 0., 0., 0., 0., 0., 0., 0., 0., 0., 0., 0., 0., 0., 0.,\n",
       "        0., 0., 0., 0., 0., 0., 0., 0., 0., 0., 0., 0., 0., 0., 0., 0., 0.,\n",
       "        0., 0., 0., 0., 0., 0., 0., 0., 0., 0., 0., 0., 0., 0., 0., 0., 0.,\n",
       "        0., 0., 0., 0., 0., 0., 0., 0., 0., 0., 0., 0., 0., 0., 0., 0., 0.,\n",
       "        0., 0., 0., 0., 0., 0., 0., 0., 0., 0., 0., 0., 0., 0., 0., 0., 0.,\n",
       "        0., 0., 0., 0., 0., 0., 0., 0., 0., 0., 0., 0., 0., 0., 0., 0., 0.,\n",
       "        0., 0., 0., 0., 0., 0., 0., 0., 0., 0., 0., 0., 0., 0., 0., 0., 0.,\n",
       "        0., 0., 0., 0., 0., 0., 0., 0., 0.], dtype=float32)>,\n",
       " <tf.Variable 'dense_3/kernel:0' shape=(128, 10) dtype=float32, numpy=\n",
       " array([[-0.15315153,  0.0456792 , -0.01593776, ...,  0.10890259,\n",
       "          0.05543895,  0.05593623],\n",
       "        [ 0.13440786,  0.08750169,  0.10087   , ..., -0.15075403,\n",
       "         -0.13427767,  0.15088643],\n",
       "        [ 0.00122444,  0.02775083, -0.05616018, ..., -0.01628929,\n",
       "         -0.00568283, -0.05492131],\n",
       "        ...,\n",
       "        [ 0.07487939, -0.07071173,  0.1954471 , ..., -0.01074487,\n",
       "          0.10662811, -0.13067412],\n",
       "        [ 0.13852535,  0.161729  ,  0.18972401, ..., -0.1629928 ,\n",
       "          0.04696299,  0.08850865],\n",
       "        [-0.13064459, -0.07557841, -0.06935515, ...,  0.19506954,\n",
       "          0.18600823,  0.00797179]], dtype=float32)>,\n",
       " <tf.Variable 'dense_3/bias:0' shape=(10,) dtype=float32, numpy=array([0., 0., 0., 0., 0., 0., 0., 0., 0., 0.], dtype=float32)>]"
      ]
     },
     "execution_count": 12,
     "metadata": {},
     "output_type": "execute_result"
    }
   ],
   "source": [
    "model.trainable_weights # 학습 가능한 가중치를 학습시킬 것이다"
   ]
  },
  {
   "cell_type": "markdown",
   "metadata": {
    "id": "RUK8ES3G8HR_"
   },
   "source": [
    "## Loss function"
   ]
  },
  {
   "cell_type": "markdown",
   "metadata": {
    "id": "DSMurQXz8Sj0"
   },
   "source": [
    "```\n",
    "모델은 학습을 할때 실제값 - 예측값을 최소화 하는 방향으로 학습을 하는데 \n",
    "이때 loss function은 예측값이 실제값에 가까워지는지 판단하는 척도가 되는 함수이다 \n",
    "```"
   ]
  },
  {
   "cell_type": "code",
   "execution_count": 14,
   "metadata": {
    "executionInfo": {
     "elapsed": 242,
     "status": "ok",
     "timestamp": 1632824745701,
     "user": {
      "displayName": "정지혁",
      "photoUrl": "https://lh3.googleusercontent.com/a-/AOh14Gi2xnkUvkGuxYJpQ869taL552Birarh0kp9GKTKCQ=s64",
      "userId": "09534774022449022692"
     },
     "user_tz": -540
    },
    "id": "1itJN6qh6sZ6"
   },
   "outputs": [],
   "source": [
    "tf.keras.losses.binary_crossentropy # parameter 변경 불가능, decorator로 기능을 확장할 수 있다 / 그대로 사용할 때 편리함 \n",
    "tf.keras.losses.BinaryCrossentropy() # instance 하면서 완전히 다른 값을 가질 수 있다, subclass 상속을 통해서 다른 값을 가질 수 있다 / 인자를 바꾸거나 원하는 형태로 바꿀 때는 클래스 방식을 쓴다\n",
    "tf.keras.losses.categorical_crossentropy\n",
    "tf.keras.losses.CategoricalCrossentropy\n",
    "tf.keras.losses.SparseCategoricalCrossentropy # one-hot-encoding을 내부적으로 해준다 \n",
    "tf.keras.losses.sparse_categorical_crossentropy # partial을 굳이 사용하지 않고 one-hot-encoding을 할 수 있도록 클래스를 제공한다 "
   ]
  },
  {
   "cell_type": "code",
   "execution_count": 15,
   "metadata": {
    "executionInfo": {
     "elapsed": 248,
     "status": "ok",
     "timestamp": 1632825885871,
     "user": {
      "displayName": "정지혁",
      "photoUrl": "https://lh3.googleusercontent.com/a-/AOh14Gi2xnkUvkGuxYJpQ869taL552Birarh0kp9GKTKCQ=s64",
      "userId": "09534774022449022692"
     },
     "user_tz": -540
    },
    "id": "fl0YI1f_AaN1"
   },
   "outputs": [],
   "source": [
    "from functools import partial"
   ]
  },
  {
   "cell_type": "code",
   "execution_count": 16,
   "metadata": {
    "executionInfo": {
     "elapsed": 263,
     "status": "ok",
     "timestamp": 1632825918165,
     "user": {
      "displayName": "정지혁",
      "photoUrl": "https://lh3.googleusercontent.com/a-/AOh14Gi2xnkUvkGuxYJpQ869taL552Birarh0kp9GKTKCQ=s64",
      "userId": "09534774022449022692"
     },
     "user_tz": -540
    },
    "id": "P8wK3pyDAdK-"
   },
   "outputs": [],
   "source": [
    "def x(a,b):\n",
    "  return a+b"
   ]
  },
  {
   "cell_type": "code",
   "execution_count": 17,
   "metadata": {
    "executionInfo": {
     "elapsed": 249,
     "status": "ok",
     "timestamp": 1632825925496,
     "user": {
      "displayName": "정지혁",
      "photoUrl": "https://lh3.googleusercontent.com/a-/AOh14Gi2xnkUvkGuxYJpQ869taL552Birarh0kp9GKTKCQ=s64",
      "userId": "09534774022449022692"
     },
     "user_tz": -540
    },
    "id": "SS_x_Nc3Afta"
   },
   "outputs": [],
   "source": [
    "x2 = partial(x, b=1) # 기존의 함수기능을 변경할 수 있다 "
   ]
  },
  {
   "cell_type": "code",
   "execution_count": 18,
   "metadata": {
    "colab": {
     "base_uri": "https://localhost:8080/"
    },
    "executionInfo": {
     "elapsed": 243,
     "status": "ok",
     "timestamp": 1632825933421,
     "user": {
      "displayName": "정지혁",
      "photoUrl": "https://lh3.googleusercontent.com/a-/AOh14Gi2xnkUvkGuxYJpQ869taL552Birarh0kp9GKTKCQ=s64",
      "userId": "09534774022449022692"
     },
     "user_tz": -540
    },
    "id": "mCXowlVHAmOj",
    "outputId": "54217064-8b56-4593-b728-a58b041bf133"
   },
   "outputs": [
    {
     "data": {
      "text/plain": [
       "4"
      ]
     },
     "execution_count": 18,
     "metadata": {},
     "output_type": "execute_result"
    }
   ],
   "source": [
    "x2(3)"
   ]
  },
  {
   "cell_type": "code",
   "execution_count": 47,
   "metadata": {
    "executionInfo": {
     "elapsed": 237,
     "status": "ok",
     "timestamp": 1632843136917,
     "user": {
      "displayName": "정지혁",
      "photoUrl": "https://lh3.googleusercontent.com/a-/AOh14Gi2xnkUvkGuxYJpQ869taL552Birarh0kp9GKTKCQ=s64",
      "userId": "09534774022449022692"
     },
     "user_tz": -540
    },
    "id": "IUXwrMDP8C1B"
   },
   "outputs": [],
   "source": [
    "# compile은 내부적으로 computational graph로 바꾸어 lose function를 효율적으로 자동 미분하도록 도와준다  \n",
    "# tf.keras.losses.categorical_crossentropy의 단축 표현 => categorical_crossentropy 단, 단축표현은 parameter 변경 불가능 \n",
    "model.compile(loss=tf.keras.losses.categorical_crossentropy)"
   ]
  },
  {
   "cell_type": "markdown",
   "metadata": {
    "id": "uEKkm6tdE5PK"
   },
   "source": [
    "```python\n",
    "compile(학습 설계) 할 때 필요한 파라미터 3가지 \n",
    "1. loss function\n",
    "2. optimizer => 자동 미분을 할 때 사용하는 방법 설정 \n",
    "3. metrics => 평가 기준 설정 \n",
    "```"
   ]
  },
  {
   "cell_type": "code",
   "execution_count": null,
   "metadata": {
    "id": "L8wdsGJGC3A6"
   },
   "outputs": [],
   "source": [
    "# 내가 원하는 값의 형태로 바꾸지 않는 지점까지를 logit이라고 한다 / from_logits=True는 logits으로 부터 실제값 - 예측값을 구하는 방법을 사용하겠다는 의미이다 \n",
    "model.compile(loss=tf.keras.losses.CategoricalCrossentropy(from_logits=True), optimizer='adam')"
   ]
  },
  {
   "cell_type": "code",
   "execution_count": null,
   "metadata": {
    "id": "gFFkisSsDk89"
   },
   "outputs": [],
   "source": [
    "'adam' # parameter 변경 불가능 \n",
    "tf.keras.optimizers.Adam() # parameter 변경 가능"
   ]
  },
  {
   "cell_type": "markdown",
   "metadata": {
    "id": "iKgzTEtcNL7_"
   },
   "source": [
    "### Softmax"
   ]
  },
  {
   "cell_type": "markdown",
   "metadata": {
    "id": "iTFa2t-kIV9Y"
   },
   "source": [
    "```\n",
    "softmax는 numerical stability하지 않는 문제가 발생할 수 있다 \n",
    "```"
   ]
  },
  {
   "cell_type": "code",
   "execution_count": 55,
   "metadata": {
    "executionInfo": {
     "elapsed": 234,
     "status": "ok",
     "timestamp": 1632845325740,
     "user": {
      "displayName": "정지혁",
      "photoUrl": "https://lh3.googleusercontent.com/a-/AOh14Gi2xnkUvkGuxYJpQ869taL552Birarh0kp9GKTKCQ=s64",
      "userId": "09534774022449022692"
     },
     "user_tz": -540
    },
    "id": "LbH6wgp9-oKl"
   },
   "outputs": [],
   "source": [
    "def softmax(logits): \n",
    "  exp = tf.exp(logits)\n",
    "  return exp / tf.reduce_sum(exp)"
   ]
  },
  {
   "cell_type": "code",
   "execution_count": 56,
   "metadata": {
    "colab": {
     "base_uri": "https://localhost:8080/"
    },
    "executionInfo": {
     "elapsed": 6,
     "status": "ok",
     "timestamp": 1632845326594,
     "user": {
      "displayName": "정지혁",
      "photoUrl": "https://lh3.googleusercontent.com/a-/AOh14Gi2xnkUvkGuxYJpQ869taL552Birarh0kp9GKTKCQ=s64",
      "userId": "09534774022449022692"
     },
     "user_tz": -540
    },
    "id": "p5AQ8s4BFQTl",
    "outputId": "8450a762-6ce2-4c35-eb5e-6b6707ad4f99"
   },
   "outputs": [
    {
     "data": {
      "text/plain": [
       "<tf.Tensor: shape=(2,), dtype=float32, numpy=array([nan,  0.], dtype=float32)>"
      ]
     },
     "execution_count": 56,
     "metadata": {},
     "output_type": "execute_result"
    }
   ],
   "source": [
    "softmax([10000.,0.]) # softmax는 지수연산을 하기 때문에 큰 값이 들어오면 쉽게 오버플로우가 발생한다 "
   ]
  },
  {
   "cell_type": "code",
   "execution_count": 57,
   "metadata": {
    "colab": {
     "base_uri": "https://localhost:8080/"
    },
    "executionInfo": {
     "elapsed": 7,
     "status": "ok",
     "timestamp": 1632845328567,
     "user": {
      "displayName": "정지혁",
      "photoUrl": "https://lh3.googleusercontent.com/a-/AOh14Gi2xnkUvkGuxYJpQ869taL552Birarh0kp9GKTKCQ=s64",
      "userId": "09534774022449022692"
     },
     "user_tz": -540
    },
    "id": "rc9Ha32mKkNB",
    "outputId": "b7765e49-f3fd-4636-9257-bae7b6d838dc"
   },
   "outputs": [
    {
     "data": {
      "text/plain": [
       "<tf.Tensor: shape=(3,), dtype=float32, numpy=array([0.09003057, 0.66524094, 0.24472848], dtype=float32)>"
      ]
     },
     "execution_count": 57,
     "metadata": {},
     "output_type": "execute_result"
    }
   ],
   "source": [
    "softmax([1.,3.,2.])"
   ]
  },
  {
   "cell_type": "code",
   "execution_count": 49,
   "metadata": {
    "executionInfo": {
     "elapsed": 214,
     "status": "ok",
     "timestamp": 1632845110485,
     "user": {
      "displayName": "정지혁",
      "photoUrl": "https://lh3.googleusercontent.com/a-/AOh14Gi2xnkUvkGuxYJpQ869taL552Birarh0kp9GKTKCQ=s64",
      "userId": "09534774022449022692"
     },
     "user_tz": -540
    },
    "id": "GGR1rW4uFV4N"
   },
   "outputs": [],
   "source": [
    "def softmax2(logits): # 큰 값이 들어갔을 때 오버플로우를 방지하는 방법 그러나 이 또한 문제가 있다\n",
    "  exp = tf.exp(logits-tf.reduce_max(logits))\n",
    "  return exp / tf.reduce_sum(exp)"
   ]
  },
  {
   "cell_type": "code",
   "execution_count": 50,
   "metadata": {
    "colab": {
     "base_uri": "https://localhost:8080/"
    },
    "executionInfo": {
     "elapsed": 8,
     "status": "ok",
     "timestamp": 1632845112488,
     "user": {
      "displayName": "정지혁",
      "photoUrl": "https://lh3.googleusercontent.com/a-/AOh14Gi2xnkUvkGuxYJpQ869taL552Birarh0kp9GKTKCQ=s64",
      "userId": "09534774022449022692"
     },
     "user_tz": -540
    },
    "id": "gFAxqh8dJtDu",
    "outputId": "bf374ca0-b3af-43c0-fb96-434d2ea32442"
   },
   "outputs": [
    {
     "data": {
      "text/plain": [
       "<tf.Tensor: shape=(2,), dtype=float32, numpy=array([1., 0.], dtype=float32)>"
      ]
     },
     "execution_count": 50,
     "metadata": {},
     "output_type": "execute_result"
    }
   ],
   "source": [
    "softmax2([100000., 0.])"
   ]
  },
  {
   "cell_type": "code",
   "execution_count": 51,
   "metadata": {
    "colab": {
     "base_uri": "https://localhost:8080/"
    },
    "executionInfo": {
     "elapsed": 257,
     "status": "ok",
     "timestamp": 1632845124328,
     "user": {
      "displayName": "정지혁",
      "photoUrl": "https://lh3.googleusercontent.com/a-/AOh14Gi2xnkUvkGuxYJpQ869taL552Birarh0kp9GKTKCQ=s64",
      "userId": "09534774022449022692"
     },
     "user_tz": -540
    },
    "id": "lMdQST4AGQ02",
    "outputId": "4bc186b0-923d-4702-bf0b-6e55d629faae"
   },
   "outputs": [
    {
     "data": {
      "text/plain": [
       "<tf.Tensor: shape=(3,), dtype=float32, numpy=array([1., 0., 0.], dtype=float32)>"
      ]
     },
     "execution_count": 51,
     "metadata": {},
     "output_type": "execute_result"
    }
   ],
   "source": [
    "softmax2([100.,3.,0.]) # 가장 큰값만 값을 가지고 나머지는 값을 못갖게 되는 일도 발생한다 "
   ]
  },
  {
   "cell_type": "code",
   "execution_count": 59,
   "metadata": {
    "colab": {
     "base_uri": "https://localhost:8080/"
    },
    "executionInfo": {
     "elapsed": 250,
     "status": "ok",
     "timestamp": 1632845544240,
     "user": {
      "displayName": "정지혁",
      "photoUrl": "https://lh3.googleusercontent.com/a-/AOh14Gi2xnkUvkGuxYJpQ869taL552Birarh0kp9GKTKCQ=s64",
      "userId": "09534774022449022692"
     },
     "user_tz": -540
    },
    "id": "EP1f1LTWLaHd",
    "outputId": "8f770a88-875a-424b-b845-59acccbfeae6"
   },
   "outputs": [
    {
     "data": {
      "text/plain": [
       "<tf.Tensor: shape=(3,), dtype=float32, numpy=array([0., 1., 0.], dtype=float32)>"
      ]
     },
     "execution_count": 59,
     "metadata": {},
     "output_type": "execute_result"
    }
   ],
   "source": [
    "softmax2([100.,300.,200.])"
   ]
  },
  {
   "cell_type": "code",
   "execution_count": 63,
   "metadata": {
    "colab": {
     "base_uri": "https://localhost:8080/"
    },
    "executionInfo": {
     "elapsed": 250,
     "status": "ok",
     "timestamp": 1632845636355,
     "user": {
      "displayName": "정지혁",
      "photoUrl": "https://lh3.googleusercontent.com/a-/AOh14Gi2xnkUvkGuxYJpQ869taL552Birarh0kp9GKTKCQ=s64",
      "userId": "09534774022449022692"
     },
     "user_tz": -540
    },
    "id": "i4nU-hSbKemF",
    "outputId": "3543a283-d2d6-42e3-b639-694fb929c723"
   },
   "outputs": [
    {
     "data": {
      "text/plain": [
       "<tf.Tensor: shape=(3,), dtype=float32, numpy=array([0.3333549 , 0.33332223, 0.3333229 ], dtype=float32)>"
      ]
     },
     "execution_count": 63,
     "metadata": {},
     "output_type": "execute_result"
    }
   ],
   "source": [
    "softmax2([0.00011,0.000012,0.000014]) # 너무 작은 값이 들어가도 언더플로우가 발생하여 모두 동일한 비율로 들어가게 된다 "
   ]
  },
  {
   "cell_type": "markdown",
   "metadata": {
    "id": "Jt9glq4QNOvU"
   },
   "source": [
    "### 학습과정 설정 및 학습(compile & fit)"
   ]
  },
  {
   "cell_type": "code",
   "execution_count": 64,
   "metadata": {
    "executionInfo": {
     "elapsed": 222,
     "status": "ok",
     "timestamp": 1632845831801,
     "user": {
      "displayName": "정지혁",
      "photoUrl": "https://lh3.googleusercontent.com/a-/AOh14Gi2xnkUvkGuxYJpQ869taL552Birarh0kp9GKTKCQ=s64",
      "userId": "09534774022449022692"
     },
     "user_tz": -540
    },
    "id": "UFCa269uGT_9"
   },
   "outputs": [],
   "source": [
    "model.compile(loss=tf.keras.losses.SparseCategoricalCrossentropy(from_logits=False), \n",
    "              optimizer='adam', metrics=['acc'])"
   ]
  },
  {
   "cell_type": "code",
   "execution_count": 66,
   "metadata": {
    "colab": {
     "base_uri": "https://localhost:8080/"
    },
    "executionInfo": {
     "elapsed": 11071,
     "status": "ok",
     "timestamp": 1632845894006,
     "user": {
      "displayName": "정지혁",
      "photoUrl": "https://lh3.googleusercontent.com/a-/AOh14Gi2xnkUvkGuxYJpQ869taL552Birarh0kp9GKTKCQ=s64",
      "userId": "09534774022449022692"
     },
     "user_tz": -540
    },
    "id": "NBbXIdfqK1N1",
    "outputId": "b3fffdd3-a1d2-43ab-e09e-84346e02e886"
   },
   "outputs": [
    {
     "name": "stdout",
     "output_type": "stream",
     "text": [
      "Epoch 1/2\n",
      "1875/1875 [==============================] - 5s 2ms/step - loss: 0.5010 - acc: 0.8243\n",
      "Epoch 2/2\n",
      "1875/1875 [==============================] - 4s 2ms/step - loss: 0.3774 - acc: 0.8643\n"
     ]
    },
    {
     "data": {
      "text/plain": [
       "<keras.callbacks.History at 0x7efc4ebf33d0>"
      ]
     },
     "execution_count": 66,
     "metadata": {},
     "output_type": "execute_result"
    }
   ],
   "source": [
    "model.fit(X_train,y_train, epochs=2) # 학습 데이터와 epoch을 정해주면 학습이 가능하다 / default로 epoch=1, batch size = 32"
   ]
  },
  {
   "cell_type": "code",
   "execution_count": 69,
   "metadata": {
    "colab": {
     "base_uri": "https://localhost:8080/"
    },
    "executionInfo": {
     "elapsed": 231,
     "status": "ok",
     "timestamp": 1632846472928,
     "user": {
      "displayName": "정지혁",
      "photoUrl": "https://lh3.googleusercontent.com/a-/AOh14Gi2xnkUvkGuxYJpQ869taL552Birarh0kp9GKTKCQ=s64",
      "userId": "09534774022449022692"
     },
     "user_tz": -540
    },
    "id": "ONsvsqIkO2MM",
    "outputId": "25d92b48-0714-4b68-f18b-441050616732"
   },
   "outputs": [
    {
     "data": {
      "text/plain": [
       "(60000, 28, 28)"
      ]
     },
     "execution_count": 69,
     "metadata": {},
     "output_type": "execute_result"
    }
   ],
   "source": [
    "X_train.shape # 6만개 데이터 "
   ]
  },
  {
   "cell_type": "code",
   "execution_count": 70,
   "metadata": {
    "colab": {
     "base_uri": "https://localhost:8080/"
    },
    "executionInfo": {
     "elapsed": 240,
     "status": "ok",
     "timestamp": 1632846522356,
     "user": {
      "displayName": "정지혁",
      "photoUrl": "https://lh3.googleusercontent.com/a-/AOh14Gi2xnkUvkGuxYJpQ869taL552Birarh0kp9GKTKCQ=s64",
      "userId": "09534774022449022692"
     },
     "user_tz": -540
    },
    "id": "A10GQbGNO2c_",
    "outputId": "c91861a0-807b-499d-f411-f85ec7a25449"
   },
   "outputs": [
    {
     "data": {
      "text/plain": [
       "32.0"
      ]
     },
     "execution_count": 70,
     "metadata": {},
     "output_type": "execute_result"
    }
   ],
   "source": [
    "60000/1875 # batch size"
   ]
  },
  {
   "cell_type": "code",
   "execution_count": 71,
   "metadata": {
    "colab": {
     "base_uri": "https://localhost:8080/"
    },
    "executionInfo": {
     "elapsed": 1214,
     "status": "ok",
     "timestamp": 1632846658399,
     "user": {
      "displayName": "정지혁",
      "photoUrl": "https://lh3.googleusercontent.com/a-/AOh14Gi2xnkUvkGuxYJpQ869taL552Birarh0kp9GKTKCQ=s64",
      "userId": "09534774022449022692"
     },
     "user_tz": -540
    },
    "id": "Yk34jmuyPmXh",
    "outputId": "ce906d4a-d339-4e27-edd2-872dbe10a55e"
   },
   "outputs": [
    {
     "data": {
      "text/plain": [
       "[0.38287022709846497, 0.8614166378974915]"
      ]
     },
     "execution_count": 71,
     "metadata": {},
     "output_type": "execute_result"
    }
   ],
   "source": [
    "# loss, metrics return \n",
    "model.train_on_batch(X_train, y_train) # fit은 batch size만큼 train_on_batch가 실행된다 ex) 데이터 개수 = 60000, batch size=100 600번 train_on_batch실행 "
   ]
  },
  {
   "cell_type": "markdown",
   "metadata": {
    "id": "G7A5vo38Rmyr"
   },
   "source": [
    "## GridSearch CV"
   ]
  },
  {
   "cell_type": "markdown",
   "metadata": {
    "id": "5bVvQwf3NNUA"
   },
   "source": [
    "```\n",
    "Hyperparameter tuning 방법중 하나이다 \n",
    "@@@\n",
    "```"
   ]
  },
  {
   "cell_type": "code",
   "execution_count": 68,
   "metadata": {
    "executionInfo": {
     "elapsed": 225,
     "status": "ok",
     "timestamp": 1632846081544,
     "user": {
      "displayName": "정지혁",
      "photoUrl": "https://lh3.googleusercontent.com/a-/AOh14Gi2xnkUvkGuxYJpQ869taL552Birarh0kp9GKTKCQ=s64",
      "userId": "09534774022449022692"
     },
     "user_tz": -540
    },
    "id": "9GcSQuC6SKNu"
   },
   "outputs": [],
   "source": [
    "from sklearn.neighbors import KNeighborsClassifier\n",
    "from sklearn.model_selection import GridSearchCV"
   ]
  },
  {
   "cell_type": "code",
   "execution_count": null,
   "metadata": {
    "id": "DBp5aN0tgLH0"
   },
   "outputs": [],
   "source": [
    "knn = KNeighborsClassifier(n_neighbors=5)"
   ]
  },
  {
   "cell_type": "code",
   "execution_count": null,
   "metadata": {
    "id": "jytCkoMtgLKv"
   },
   "outputs": [],
   "source": [
    "GridSearchCV(KNeighborsClassifier(), {'n_neighbors':[5,6,7,8,9,10]}) # 사용자가 지정한 파라미터를 반복문을 사용하는 것처럼 구해주는 방법 "
   ]
  },
  {
   "cell_type": "markdown",
   "metadata": {
    "id": "DoXPZh5pgLuX"
   },
   "source": [
    "## Callback"
   ]
  },
  {
   "cell_type": "markdown",
   "metadata": {
    "id": "fwTtwQIUQwJm"
   },
   "source": [
    "```\n",
    "callback은 특정 상황에 대해서 그 결과를 판단할 수 있도록 결과값을 알려주는 기능 \n",
    "```"
   ]
  },
  {
   "cell_type": "code",
   "execution_count": 75,
   "metadata": {
    "executionInfo": {
     "elapsed": 233,
     "status": "ok",
     "timestamp": 1632847740904,
     "user": {
      "displayName": "정지혁",
      "photoUrl": "https://lh3.googleusercontent.com/a-/AOh14Gi2xnkUvkGuxYJpQ869taL552Birarh0kp9GKTKCQ=s64",
      "userId": "09534774022449022692"
     },
     "user_tz": -540
    },
    "id": "7mB48vAIgNQ6"
   },
   "outputs": [],
   "source": [
    "class MyCallback(tf.keras.callbacks.Callback):\n",
    "  def on_epoch_end(self, epoch, logs=None): # signature를 동일하게 맞춰야 한다 \n",
    "    print('epoch', epoch+1, '시작')"
   ]
  },
  {
   "cell_type": "code",
   "execution_count": null,
   "metadata": {
    "id": "Y9EwEBVhgZ64"
   },
   "outputs": [],
   "source": [
    "dir(tf.keras.callbacks.Callback)"
   ]
  },
  {
   "cell_type": "code",
   "execution_count": 72,
   "metadata": {
    "colab": {
     "base_uri": "https://localhost:8080/"
    },
    "executionInfo": {
     "elapsed": 264,
     "status": "ok",
     "timestamp": 1632847605670,
     "user": {
      "displayName": "정지혁",
      "photoUrl": "https://lh3.googleusercontent.com/a-/AOh14Gi2xnkUvkGuxYJpQ869taL552Birarh0kp9GKTKCQ=s64",
      "userId": "09534774022449022692"
     },
     "user_tz": -540
    },
    "id": "FhrWYdFhTRoj",
    "outputId": "d23e25e3-4fd3-406d-eaef-f748bfb06578"
   },
   "outputs": [
    {
     "data": {
      "text/plain": [
       "['BaseLogger',\n",
       " 'CSVLogger',\n",
       " 'Callback',\n",
       " 'CallbackList',\n",
       " 'EarlyStopping',\n",
       " 'History',\n",
       " 'LambdaCallback',\n",
       " 'LearningRateScheduler',\n",
       " 'ModelCheckpoint',\n",
       " 'ProgbarLogger',\n",
       " 'ReduceLROnPlateau',\n",
       " 'RemoteMonitor',\n",
       " 'TensorBoard',\n",
       " 'TerminateOnNaN',\n",
       " '__builtins__',\n",
       " '__cached__',\n",
       " '__doc__',\n",
       " '__file__',\n",
       " '__loader__',\n",
       " '__name__',\n",
       " '__package__',\n",
       " '__path__',\n",
       " '__spec__',\n",
       " '_sys',\n",
       " 'experimental']"
      ]
     },
     "execution_count": 72,
     "metadata": {},
     "output_type": "execute_result"
    }
   ],
   "source": [
    "dir(tf.keras.callbacks)"
   ]
  },
  {
   "cell_type": "code",
   "execution_count": 76,
   "metadata": {
    "colab": {
     "base_uri": "https://localhost:8080/"
    },
    "executionInfo": {
     "elapsed": 1235,
     "status": "ok",
     "timestamp": 1632847748102,
     "user": {
      "displayName": "정지혁",
      "photoUrl": "https://lh3.googleusercontent.com/a-/AOh14Gi2xnkUvkGuxYJpQ869taL552Birarh0kp9GKTKCQ=s64",
      "userId": "09534774022449022692"
     },
     "user_tz": -540
    },
    "id": "WNTUq5RLTn0W",
    "outputId": "7f2c1765-8ca4-41b0-cb98-d51c5b6c0d3c"
   },
   "outputs": [
    {
     "name": "stdout",
     "output_type": "stream",
     "text": [
      "Epoch 1/2\n",
      "100/100 [==============================] - 0s 4ms/step - loss: 0.2951 - acc: 0.8926\n",
      "epoch 1 시작\n",
      "Epoch 2/2\n",
      "100/100 [==============================] - 0s 4ms/step - loss: 0.2919 - acc: 0.8947\n",
      "epoch 2 시작\n"
     ]
    }
   ],
   "source": [
    "h = model.fit(X_train,y_train, steps_per_epoch=100, epochs=2, callbacks=[MyCallback()])"
   ]
  },
  {
   "cell_type": "code",
   "execution_count": 87,
   "metadata": {
    "executionInfo": {
     "elapsed": 231,
     "status": "ok",
     "timestamp": 1632848141518,
     "user": {
      "displayName": "정지혁",
      "photoUrl": "https://lh3.googleusercontent.com/a-/AOh14Gi2xnkUvkGuxYJpQ869taL552Birarh0kp9GKTKCQ=s64",
      "userId": "09534774022449022692"
     },
     "user_tz": -540
    },
    "id": "rEA6cj7JiEw5"
   },
   "outputs": [],
   "source": [
    "inputs_ = tf.keras.layers.Input(shape=(28,28))\n",
    "x = tf.keras.layers.Flatten()(inputs_)\n",
    "x = tf.keras.layers.Dense(2)(x)\n",
    "x = tf.keras.layers.ReLU()(x)\n",
    "outputs = tf.keras.layers.Dense(10, activation='softmax')(x)\n",
    "\n",
    "model = tf.keras.models.Model(inputs_, outputs)\n",
    "\n",
    "model.compile(loss=tf.keras.losses.SparseCategoricalCrossentropy(from_logits=False), \n",
    "              optimizer='adam', metrics=['accuracy'])"
   ]
  },
  {
   "cell_type": "code",
   "execution_count": 88,
   "metadata": {
    "colab": {
     "base_uri": "https://localhost:8080/"
    },
    "executionInfo": {
     "elapsed": 228,
     "status": "ok",
     "timestamp": 1632848144121,
     "user": {
      "displayName": "정지혁",
      "photoUrl": "https://lh3.googleusercontent.com/a-/AOh14Gi2xnkUvkGuxYJpQ869taL552Birarh0kp9GKTKCQ=s64",
      "userId": "09534774022449022692"
     },
     "user_tz": -540
    },
    "id": "zMxt92NkiU9n",
    "outputId": "6aaa1f5d-827d-4c6f-abe9-6a496da10c4d"
   },
   "outputs": [
    {
     "data": {
      "text/plain": [
       "<tf.Variable 'dense_14/kernel:0' shape=(784, 2) dtype=float32, numpy=\n",
       "array([[ 0.0621696 ,  0.03114827],\n",
       "       [ 0.05718201, -0.06315091],\n",
       "       [ 0.01374986, -0.00775776],\n",
       "       ...,\n",
       "       [ 0.00518525,  0.02914727],\n",
       "       [ 0.04352903, -0.05101464],\n",
       "       [ 0.03367535,  0.01672252]], dtype=float32)>"
      ]
     },
     "execution_count": 88,
     "metadata": {},
     "output_type": "execute_result"
    }
   ],
   "source": [
    "model.weights[0] # 학습전 "
   ]
  },
  {
   "cell_type": "code",
   "execution_count": 89,
   "metadata": {
    "colab": {
     "base_uri": "https://localhost:8080/"
    },
    "executionInfo": {
     "elapsed": 5896,
     "status": "ok",
     "timestamp": 1632848152344,
     "user": {
      "displayName": "정지혁",
      "photoUrl": "https://lh3.googleusercontent.com/a-/AOh14Gi2xnkUvkGuxYJpQ869taL552Birarh0kp9GKTKCQ=s64",
      "userId": "09534774022449022692"
     },
     "user_tz": -540
    },
    "id": "lq9cZeEbicUS",
    "outputId": "e41be800-d421-466e-b6c7-e6508aea85bf"
   },
   "outputs": [
    {
     "name": "stdout",
     "output_type": "stream",
     "text": [
      "1875/1875 [==============================] - 5s 2ms/step - loss: 1.3585 - accuracy: 0.4977\n"
     ]
    },
    {
     "data": {
      "text/plain": [
       "<keras.callbacks.History at 0x7efc51d21ed0>"
      ]
     },
     "execution_count": 89,
     "metadata": {},
     "output_type": "execute_result"
    }
   ],
   "source": [
    "model.fit(X_train, y_train)"
   ]
  },
  {
   "cell_type": "code",
   "execution_count": 90,
   "metadata": {
    "colab": {
     "base_uri": "https://localhost:8080/"
    },
    "executionInfo": {
     "elapsed": 18,
     "status": "ok",
     "timestamp": 1632848152345,
     "user": {
      "displayName": "정지혁",
      "photoUrl": "https://lh3.googleusercontent.com/a-/AOh14Gi2xnkUvkGuxYJpQ869taL552Birarh0kp9GKTKCQ=s64",
      "userId": "09534774022449022692"
     },
     "user_tz": -540
    },
    "id": "mBen8bsiihrn",
    "outputId": "e9bb94f9-1606-46a5-9190-cac6a0f0ebe4"
   },
   "outputs": [
    {
     "data": {
      "text/plain": [
       "<tf.Variable 'dense_14/kernel:0' shape=(784, 2) dtype=float32, numpy=\n",
       "array([[ 0.01506082,  0.07337335],\n",
       "       [ 0.02667496, -0.08142766],\n",
       "       [-0.03281154, -0.00934248],\n",
       "       ...,\n",
       "       [ 0.02592397,  0.03641215],\n",
       "       [ 0.06711672, -0.02997859],\n",
       "       [ 0.01211459,  0.00046465]], dtype=float32)>"
      ]
     },
     "execution_count": 90,
     "metadata": {},
     "output_type": "execute_result"
    }
   ],
   "source": [
    "model.weights[0] # 학습 후 (epoch 1)"
   ]
  },
  {
   "cell_type": "code",
   "execution_count": 91,
   "metadata": {
    "colab": {
     "base_uri": "https://localhost:8080/"
    },
    "executionInfo": {
     "elapsed": 20671,
     "status": "ok",
     "timestamp": 1632848173005,
     "user": {
      "displayName": "정지혁",
      "photoUrl": "https://lh3.googleusercontent.com/a-/AOh14Gi2xnkUvkGuxYJpQ869taL552Birarh0kp9GKTKCQ=s64",
      "userId": "09534774022449022692"
     },
     "user_tz": -540
    },
    "id": "V8pQil0cin-Y",
    "outputId": "8d3f576a-a052-4152-f1df-1f70c07de343"
   },
   "outputs": [
    {
     "name": "stdout",
     "output_type": "stream",
     "text": [
      "Epoch 1/3\n",
      "1875/1875 [==============================] - 5s 2ms/step - loss: 0.9381 - accuracy: 0.6460\n",
      "Epoch 2/3\n",
      "1875/1875 [==============================] - 4s 2ms/step - loss: 0.8567 - accuracy: 0.6885\n",
      "Epoch 3/3\n",
      "1875/1875 [==============================] - 4s 2ms/step - loss: 0.8133 - accuracy: 0.7038\n"
     ]
    },
    {
     "data": {
      "text/plain": [
       "<keras.callbacks.History at 0x7efc51d5e650>"
      ]
     },
     "execution_count": 91,
     "metadata": {},
     "output_type": "execute_result"
    }
   ],
   "source": [
    "model.fit(X_train, y_train, epochs=3) # 이전에 epoch이 한번 돌아갔으므로 총 epochs은 4번 돌린것과 같다 (mutable이기 때문)"
   ]
  },
  {
   "cell_type": "code",
   "execution_count": 92,
   "metadata": {
    "colab": {
     "base_uri": "https://localhost:8080/"
    },
    "executionInfo": {
     "elapsed": 12,
     "status": "ok",
     "timestamp": 1632848173006,
     "user": {
      "displayName": "정지혁",
      "photoUrl": "https://lh3.googleusercontent.com/a-/AOh14Gi2xnkUvkGuxYJpQ869taL552Birarh0kp9GKTKCQ=s64",
      "userId": "09534774022449022692"
     },
     "user_tz": -540
    },
    "id": "RSdwhitviqfr",
    "outputId": "1d20c8a8-58bf-4ace-9dec-62a9050f5106"
   },
   "outputs": [
    {
     "data": {
      "text/plain": [
       "<tf.Variable 'dense_14/kernel:0' shape=(784, 2) dtype=float32, numpy=\n",
       "array([[-0.04761839,  0.18095993],\n",
       "       [-0.0655762 , -0.07643786],\n",
       "       [-0.17626587,  0.11628444],\n",
       "       ...,\n",
       "       [ 0.15831317,  0.12745775],\n",
       "       [ 0.0916123 ,  0.08825199],\n",
       "       [ 0.03401611,  0.01437407]], dtype=float32)>"
      ]
     },
     "execution_count": 92,
     "metadata": {},
     "output_type": "execute_result"
    }
   ],
   "source": [
    "model.weights[0] # 학습 후 (epoch 4)"
   ]
  },
  {
   "cell_type": "code",
   "execution_count": 93,
   "metadata": {
    "colab": {
     "base_uri": "https://localhost:8080/"
    },
    "executionInfo": {
     "elapsed": 10458,
     "status": "ok",
     "timestamp": 1632848183458,
     "user": {
      "displayName": "정지혁",
      "photoUrl": "https://lh3.googleusercontent.com/a-/AOh14Gi2xnkUvkGuxYJpQ869taL552Birarh0kp9GKTKCQ=s64",
      "userId": "09534774022449022692"
     },
     "user_tz": -540
    },
    "id": "e_TgqS7cjGlt",
    "outputId": "6831d657-f015-4292-b60c-c5d734a0973e"
   },
   "outputs": [
    {
     "name": "stdout",
     "output_type": "stream",
     "text": [
      "Epoch 4/5\n",
      "1875/1875 [==============================] - 4s 2ms/step - loss: 0.7889 - accuracy: 0.7098\n",
      "Epoch 5/5\n",
      "1875/1875 [==============================] - 4s 2ms/step - loss: 0.7734 - accuracy: 0.7145\n"
     ]
    },
    {
     "data": {
      "text/plain": [
       "<keras.callbacks.History at 0x7efc51d21f90>"
      ]
     },
     "execution_count": 93,
     "metadata": {},
     "output_type": "execute_result"
    }
   ],
   "source": [
    "model.fit(X_train, y_train, initial_epoch=3, epochs=5) # initial epoch부터 다시 학습을 시작한다 "
   ]
  },
  {
   "cell_type": "code",
   "execution_count": 21,
   "metadata": {
    "colab": {
     "base_uri": "https://localhost:8080/"
    },
    "executionInfo": {
     "elapsed": 10657,
     "status": "ok",
     "timestamp": 1632835190134,
     "user": {
      "displayName": "정지혁",
      "photoUrl": "https://lh3.googleusercontent.com/a-/AOh14Gi2xnkUvkGuxYJpQ869taL552Birarh0kp9GKTKCQ=s64",
      "userId": "09534774022449022692"
     },
     "user_tz": -540
    },
    "id": "2SgpK2qvjzD2",
    "outputId": "e05221fc-3a37-43eb-d992-bdae5630c0f0"
   },
   "outputs": [
    {
     "name": "stdout",
     "output_type": "stream",
     "text": [
      "Epoch 1/2\n",
      "1875/1875 - 3s - loss: 0.9043\n",
      "Epoch 2/2\n",
      "1875/1875 - 3s - loss: 0.8777\n"
     ]
    },
    {
     "data": {
      "text/plain": [
       "<keras.callbacks.History at 0x7efc50cd7210>"
      ]
     },
     "execution_count": 21,
     "metadata": {},
     "output_type": "execute_result"
    }
   ],
   "source": [
    "model.fit(X_train, y_train, epochs=2, verbose=2)  # 숫자가 커지면 표현되는 정보가 줄어든다 "
   ]
  },
  {
   "cell_type": "code",
   "execution_count": 22,
   "metadata": {
    "colab": {
     "base_uri": "https://localhost:8080/"
    },
    "executionInfo": {
     "elapsed": 8860,
     "status": "ok",
     "timestamp": 1632835227350,
     "user": {
      "displayName": "정지혁",
      "photoUrl": "https://lh3.googleusercontent.com/a-/AOh14Gi2xnkUvkGuxYJpQ869taL552Birarh0kp9GKTKCQ=s64",
      "userId": "09534774022449022692"
     },
     "user_tz": -540
    },
    "id": "S3eat3ZEkBao",
    "outputId": "fecf1ed9-3098-4e44-88b9-893e71388b9e"
   },
   "outputs": [
    {
     "name": "stdout",
     "output_type": "stream",
     "text": [
      "Epoch 1/2\n",
      "Epoch 2/2\n"
     ]
    },
    {
     "data": {
      "text/plain": [
       "<keras.callbacks.History at 0x7efc50ca5610>"
      ]
     },
     "execution_count": 22,
     "metadata": {},
     "output_type": "execute_result"
    }
   ],
   "source": [
    "model.fit(X_train, y_train, epochs=2, verbose=3) "
   ]
  },
  {
   "cell_type": "code",
   "execution_count": 94,
   "metadata": {
    "colab": {
     "base_uri": "https://localhost:8080/"
    },
    "executionInfo": {
     "elapsed": 83807,
     "status": "ok",
     "timestamp": 1632848268098,
     "user": {
      "displayName": "정지혁",
      "photoUrl": "https://lh3.googleusercontent.com/a-/AOh14Gi2xnkUvkGuxYJpQ869taL552Birarh0kp9GKTKCQ=s64",
      "userId": "09534774022449022692"
     },
     "user_tz": -540
    },
    "id": "krPahi_fkdGL",
    "outputId": "8f5b5220-d0c5-47da-9249-e2417eca18a0"
   },
   "outputs": [
    {
     "name": "stdout",
     "output_type": "stream",
     "text": [
      "Epoch 6/20\n",
      "1313/1313 [==============================] - 6s 4ms/step - loss: 0.7630 - accuracy: 0.7176 - val_loss: 0.7644 - val_accuracy: 0.7236\n",
      "Epoch 7/20\n",
      "1313/1313 [==============================] - 6s 4ms/step - loss: 0.7571 - accuracy: 0.7197 - val_loss: 0.7743 - val_accuracy: 0.7108\n",
      "Epoch 8/20\n",
      "1313/1313 [==============================] - 6s 4ms/step - loss: 0.7529 - accuracy: 0.7206 - val_loss: 0.7593 - val_accuracy: 0.7146\n",
      "Epoch 9/20\n",
      "1313/1313 [==============================] - 5s 4ms/step - loss: 0.7485 - accuracy: 0.7202 - val_loss: 0.7564 - val_accuracy: 0.7232\n",
      "Epoch 10/20\n",
      "1313/1313 [==============================] - 5s 4ms/step - loss: 0.7454 - accuracy: 0.7230 - val_loss: 0.7620 - val_accuracy: 0.7138\n",
      "Epoch 11/20\n",
      "1313/1313 [==============================] - 5s 4ms/step - loss: 0.7426 - accuracy: 0.7242 - val_loss: 0.7688 - val_accuracy: 0.7273\n",
      "Epoch 12/20\n",
      "1313/1313 [==============================] - 5s 4ms/step - loss: 0.7410 - accuracy: 0.7253 - val_loss: 0.7562 - val_accuracy: 0.7230\n",
      "Epoch 13/20\n",
      "1313/1313 [==============================] - 5s 4ms/step - loss: 0.7383 - accuracy: 0.7252 - val_loss: 0.7649 - val_accuracy: 0.7212\n",
      "Epoch 14/20\n",
      "1313/1313 [==============================] - 5s 4ms/step - loss: 0.7361 - accuracy: 0.7273 - val_loss: 0.7529 - val_accuracy: 0.7227\n",
      "Epoch 15/20\n",
      "1313/1313 [==============================] - 5s 4ms/step - loss: 0.7342 - accuracy: 0.7278 - val_loss: 0.7500 - val_accuracy: 0.7280\n",
      "Epoch 16/20\n",
      "1313/1313 [==============================] - 5s 4ms/step - loss: 0.7330 - accuracy: 0.7300 - val_loss: 0.7539 - val_accuracy: 0.7308\n",
      "Epoch 17/20\n",
      "1313/1313 [==============================] - 5s 4ms/step - loss: 0.7321 - accuracy: 0.7296 - val_loss: 0.7486 - val_accuracy: 0.7286\n",
      "Epoch 18/20\n",
      "1313/1313 [==============================] - 6s 4ms/step - loss: 0.7303 - accuracy: 0.7314 - val_loss: 0.7518 - val_accuracy: 0.7164\n",
      "Epoch 19/20\n",
      "1313/1313 [==============================] - 6s 4ms/step - loss: 0.7288 - accuracy: 0.7309 - val_loss: 0.7553 - val_accuracy: 0.7300\n",
      "Epoch 20/20\n",
      "1313/1313 [==============================] - 5s 4ms/step - loss: 0.7272 - accuracy: 0.7303 - val_loss: 0.7629 - val_accuracy: 0.7312\n"
     ]
    }
   ],
   "source": [
    "h = model.fit(X_train, y_train, initial_epoch=5, epochs=20, validation_split=0.3) # 학습을 하면 항상 history callback 이다 "
   ]
  },
  {
   "cell_type": "code",
   "execution_count": 28,
   "metadata": {
    "colab": {
     "base_uri": "https://localhost:8080/"
    },
    "executionInfo": {
     "elapsed": 236,
     "status": "ok",
     "timestamp": 1632835398591,
     "user": {
      "displayName": "정지혁",
      "photoUrl": "https://lh3.googleusercontent.com/a-/AOh14Gi2xnkUvkGuxYJpQ869taL552Birarh0kp9GKTKCQ=s64",
      "userId": "09534774022449022692"
     },
     "user_tz": -540
    },
    "id": "bUmeKgZBkqyF",
    "outputId": "10a500b5-70ac-4e50-f948-ae59a3cfa180"
   },
   "outputs": [
    {
     "data": {
      "text/plain": [
       "True"
      ]
     },
     "execution_count": 28,
     "metadata": {},
     "output_type": "execute_result"
    }
   ],
   "source": [
    "'history' in dir(h)"
   ]
  },
  {
   "cell_type": "code",
   "execution_count": 95,
   "metadata": {
    "colab": {
     "base_uri": "https://localhost:8080/"
    },
    "executionInfo": {
     "elapsed": 28,
     "status": "ok",
     "timestamp": 1632848268099,
     "user": {
      "displayName": "정지혁",
      "photoUrl": "https://lh3.googleusercontent.com/a-/AOh14Gi2xnkUvkGuxYJpQ869taL552Birarh0kp9GKTKCQ=s64",
      "userId": "09534774022449022692"
     },
     "user_tz": -540
    },
    "id": "h3rnD1PrkvLH",
    "outputId": "a5700026-3298-4fe4-f9f2-8e25f51c7fe1"
   },
   "outputs": [
    {
     "data": {
      "text/plain": [
       "{'accuracy': [0.7176190614700317,\n",
       "  0.7197142839431763,\n",
       "  0.7205952405929565,\n",
       "  0.7201666831970215,\n",
       "  0.7230238318443298,\n",
       "  0.7241904735565186,\n",
       "  0.7253095507621765,\n",
       "  0.7251666784286499,\n",
       "  0.7272857427597046,\n",
       "  0.7277857065200806,\n",
       "  0.7300238013267517,\n",
       "  0.7295714020729065,\n",
       "  0.7314285635948181,\n",
       "  0.7308571338653564,\n",
       "  0.7302857041358948],\n",
       " 'loss': [0.7630206346511841,\n",
       "  0.7571397423744202,\n",
       "  0.7528698444366455,\n",
       "  0.7484991550445557,\n",
       "  0.7454163432121277,\n",
       "  0.7425763607025146,\n",
       "  0.7409718632698059,\n",
       "  0.7382715940475464,\n",
       "  0.7360761165618896,\n",
       "  0.7342188358306885,\n",
       "  0.7329500913619995,\n",
       "  0.7321329712867737,\n",
       "  0.7303406000137329,\n",
       "  0.7287805080413818,\n",
       "  0.7271991968154907],\n",
       " 'val_accuracy': [0.7235555648803711,\n",
       "  0.710777759552002,\n",
       "  0.714555561542511,\n",
       "  0.7232221961021423,\n",
       "  0.7138333320617676,\n",
       "  0.7272777557373047,\n",
       "  0.7229999899864197,\n",
       "  0.7211666703224182,\n",
       "  0.7227222323417664,\n",
       "  0.7279999852180481,\n",
       "  0.7307778000831604,\n",
       "  0.7286111116409302,\n",
       "  0.7163888812065125,\n",
       "  0.7300000190734863,\n",
       "  0.7312222123146057],\n",
       " 'val_loss': [0.764350175857544,\n",
       "  0.7743284106254578,\n",
       "  0.7592969536781311,\n",
       "  0.7563954591751099,\n",
       "  0.761951208114624,\n",
       "  0.7687644958496094,\n",
       "  0.7562490105628967,\n",
       "  0.7648731470108032,\n",
       "  0.7528972029685974,\n",
       "  0.7499648332595825,\n",
       "  0.7538741230964661,\n",
       "  0.7485952973365784,\n",
       "  0.7518408894538879,\n",
       "  0.7553211450576782,\n",
       "  0.7628713250160217]}"
      ]
     },
     "execution_count": 95,
     "metadata": {},
     "output_type": "execute_result"
    }
   ],
   "source": [
    "h.history"
   ]
  },
  {
   "cell_type": "code",
   "execution_count": 96,
   "metadata": {
    "executionInfo": {
     "elapsed": 22,
     "status": "ok",
     "timestamp": 1632848268100,
     "user": {
      "displayName": "정지혁",
      "photoUrl": "https://lh3.googleusercontent.com/a-/AOh14Gi2xnkUvkGuxYJpQ869taL552Birarh0kp9GKTKCQ=s64",
      "userId": "09534774022449022692"
     },
     "user_tz": -540
    },
    "id": "FTWO4VWClEPL"
   },
   "outputs": [],
   "source": [
    "import pandas as pd"
   ]
  },
  {
   "cell_type": "code",
   "execution_count": 97,
   "metadata": {
    "colab": {
     "base_uri": "https://localhost:8080/",
     "height": 511
    },
    "executionInfo": {
     "elapsed": 22,
     "status": "ok",
     "timestamp": 1632848268101,
     "user": {
      "displayName": "정지혁",
      "photoUrl": "https://lh3.googleusercontent.com/a-/AOh14Gi2xnkUvkGuxYJpQ869taL552Birarh0kp9GKTKCQ=s64",
      "userId": "09534774022449022692"
     },
     "user_tz": -540
    },
    "id": "jRGG10l3UDjf",
    "outputId": "8130a3d7-05da-4f8c-bcc5-8455465f2310"
   },
   "outputs": [
    {
     "data": {
      "text/html": [
       "<div>\n",
       "<style scoped>\n",
       "    .dataframe tbody tr th:only-of-type {\n",
       "        vertical-align: middle;\n",
       "    }\n",
       "\n",
       "    .dataframe tbody tr th {\n",
       "        vertical-align: top;\n",
       "    }\n",
       "\n",
       "    .dataframe thead th {\n",
       "        text-align: right;\n",
       "    }\n",
       "</style>\n",
       "<table border=\"1\" class=\"dataframe\">\n",
       "  <thead>\n",
       "    <tr style=\"text-align: right;\">\n",
       "      <th></th>\n",
       "      <th>loss</th>\n",
       "      <th>accuracy</th>\n",
       "      <th>val_loss</th>\n",
       "      <th>val_accuracy</th>\n",
       "    </tr>\n",
       "  </thead>\n",
       "  <tbody>\n",
       "    <tr>\n",
       "      <th>0</th>\n",
       "      <td>0.763021</td>\n",
       "      <td>0.717619</td>\n",
       "      <td>0.764350</td>\n",
       "      <td>0.723556</td>\n",
       "    </tr>\n",
       "    <tr>\n",
       "      <th>1</th>\n",
       "      <td>0.757140</td>\n",
       "      <td>0.719714</td>\n",
       "      <td>0.774328</td>\n",
       "      <td>0.710778</td>\n",
       "    </tr>\n",
       "    <tr>\n",
       "      <th>2</th>\n",
       "      <td>0.752870</td>\n",
       "      <td>0.720595</td>\n",
       "      <td>0.759297</td>\n",
       "      <td>0.714556</td>\n",
       "    </tr>\n",
       "    <tr>\n",
       "      <th>3</th>\n",
       "      <td>0.748499</td>\n",
       "      <td>0.720167</td>\n",
       "      <td>0.756395</td>\n",
       "      <td>0.723222</td>\n",
       "    </tr>\n",
       "    <tr>\n",
       "      <th>4</th>\n",
       "      <td>0.745416</td>\n",
       "      <td>0.723024</td>\n",
       "      <td>0.761951</td>\n",
       "      <td>0.713833</td>\n",
       "    </tr>\n",
       "    <tr>\n",
       "      <th>5</th>\n",
       "      <td>0.742576</td>\n",
       "      <td>0.724190</td>\n",
       "      <td>0.768764</td>\n",
       "      <td>0.727278</td>\n",
       "    </tr>\n",
       "    <tr>\n",
       "      <th>6</th>\n",
       "      <td>0.740972</td>\n",
       "      <td>0.725310</td>\n",
       "      <td>0.756249</td>\n",
       "      <td>0.723000</td>\n",
       "    </tr>\n",
       "    <tr>\n",
       "      <th>7</th>\n",
       "      <td>0.738272</td>\n",
       "      <td>0.725167</td>\n",
       "      <td>0.764873</td>\n",
       "      <td>0.721167</td>\n",
       "    </tr>\n",
       "    <tr>\n",
       "      <th>8</th>\n",
       "      <td>0.736076</td>\n",
       "      <td>0.727286</td>\n",
       "      <td>0.752897</td>\n",
       "      <td>0.722722</td>\n",
       "    </tr>\n",
       "    <tr>\n",
       "      <th>9</th>\n",
       "      <td>0.734219</td>\n",
       "      <td>0.727786</td>\n",
       "      <td>0.749965</td>\n",
       "      <td>0.728000</td>\n",
       "    </tr>\n",
       "    <tr>\n",
       "      <th>10</th>\n",
       "      <td>0.732950</td>\n",
       "      <td>0.730024</td>\n",
       "      <td>0.753874</td>\n",
       "      <td>0.730778</td>\n",
       "    </tr>\n",
       "    <tr>\n",
       "      <th>11</th>\n",
       "      <td>0.732133</td>\n",
       "      <td>0.729571</td>\n",
       "      <td>0.748595</td>\n",
       "      <td>0.728611</td>\n",
       "    </tr>\n",
       "    <tr>\n",
       "      <th>12</th>\n",
       "      <td>0.730341</td>\n",
       "      <td>0.731429</td>\n",
       "      <td>0.751841</td>\n",
       "      <td>0.716389</td>\n",
       "    </tr>\n",
       "    <tr>\n",
       "      <th>13</th>\n",
       "      <td>0.728781</td>\n",
       "      <td>0.730857</td>\n",
       "      <td>0.755321</td>\n",
       "      <td>0.730000</td>\n",
       "    </tr>\n",
       "    <tr>\n",
       "      <th>14</th>\n",
       "      <td>0.727199</td>\n",
       "      <td>0.730286</td>\n",
       "      <td>0.762871</td>\n",
       "      <td>0.731222</td>\n",
       "    </tr>\n",
       "  </tbody>\n",
       "</table>\n",
       "</div>"
      ],
      "text/plain": [
       "        loss  accuracy  val_loss  val_accuracy\n",
       "0   0.763021  0.717619  0.764350      0.723556\n",
       "1   0.757140  0.719714  0.774328      0.710778\n",
       "2   0.752870  0.720595  0.759297      0.714556\n",
       "3   0.748499  0.720167  0.756395      0.723222\n",
       "4   0.745416  0.723024  0.761951      0.713833\n",
       "5   0.742576  0.724190  0.768764      0.727278\n",
       "6   0.740972  0.725310  0.756249      0.723000\n",
       "7   0.738272  0.725167  0.764873      0.721167\n",
       "8   0.736076  0.727286  0.752897      0.722722\n",
       "9   0.734219  0.727786  0.749965      0.728000\n",
       "10  0.732950  0.730024  0.753874      0.730778\n",
       "11  0.732133  0.729571  0.748595      0.728611\n",
       "12  0.730341  0.731429  0.751841      0.716389\n",
       "13  0.728781  0.730857  0.755321      0.730000\n",
       "14  0.727199  0.730286  0.762871      0.731222"
      ]
     },
     "execution_count": 97,
     "metadata": {},
     "output_type": "execute_result"
    }
   ],
   "source": [
    "pd.DataFrame(h.history)"
   ]
  },
  {
   "cell_type": "code",
   "execution_count": 98,
   "metadata": {
    "colab": {
     "base_uri": "https://localhost:8080/",
     "height": 282
    },
    "executionInfo": {
     "elapsed": 19,
     "status": "ok",
     "timestamp": 1632848268101,
     "user": {
      "displayName": "정지혁",
      "photoUrl": "https://lh3.googleusercontent.com/a-/AOh14Gi2xnkUvkGuxYJpQ869taL552Birarh0kp9GKTKCQ=s64",
      "userId": "09534774022449022692"
     },
     "user_tz": -540
    },
    "id": "ZpJ5J7JglF35",
    "outputId": "ac6c15a1-6432-459c-9875-a9b2bd29bb30"
   },
   "outputs": [
    {
     "data": {
      "text/plain": [
       "<matplotlib.axes._subplots.AxesSubplot at 0x7efc51d4f1d0>"
      ]
     },
     "execution_count": 98,
     "metadata": {},
     "output_type": "execute_result"
    },
    {
     "data": {
      "image/png": "[encoded data removed]",
      "text/plain": [
       "<Figure size 432x288 with 1 Axes>"
      ]
     },
     "metadata": {
      "needs_background": "light"
     },
     "output_type": "display_data"
    }
   ],
   "source": [
    "pd.DataFrame(h.history).plot.line()"
   ]
  }
 ],
 "metadata": {
  "accelerator": "GPU",
  "colab": {
   "authorship_tag": "ABX9TyPjLIxu+WYDlCy0s4LfE61Z",
   "collapsed_sections": [],
   "name": "14일차 수업 내용_고급시각.ipynb",
   "provenance": []
  },
  "kernelspec": {
   "display_name": "Python 3",
   "language": "python",
   "name": "python3"
  },
  "language_info": {
   "codemirror_mode": {
    "name": "ipython",
    "version": 3
   },
   "file_extension": ".py",
   "mimetype": "text/x-python",
   "name": "python",
   "nbconvert_exporter": "python",
   "pygments_lexer": "ipython3",
   "version": "3.8.5"
  }
 },
 "nbformat": 4,
 "nbformat_minor": 1
}
