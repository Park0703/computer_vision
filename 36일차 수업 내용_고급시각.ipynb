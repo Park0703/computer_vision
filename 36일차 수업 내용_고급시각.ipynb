{
 "cells": [
  {
   "cell_type": "code",
   "execution_count": null,
   "metadata": {
    "colab": {
     "base_uri": "https://localhost:8080/"
    },
    "executionInfo": {
     "elapsed": 1007,
     "status": "ok",
     "timestamp": 1634661978776,
     "user": {
      "displayName": "정지혁",
      "photoUrl": "https://lh3.googleusercontent.com/a-/AOh14Gi2xnkUvkGuxYJpQ869taL552Birarh0kp9GKTKCQ=s64",
      "userId": "09534774022449022692"
     },
     "user_tz": -540
    },
    "id": "VV6uxX03lf6g",
    "outputId": "0102b23a-a0d0-488c-dcfb-94587770d563"
   },
   "outputs": [
    {
     "name": "stdout",
     "output_type": "stream",
     "text": [
      "Drive already mounted at /content/drive; to attempt to forcibly remount, call drive.mount(\"/content/drive\", force_remount=True).\n"
     ]
    }
   ],
   "source": [
    "# 구글 드라이브의 폴더와 구글 코랩 폴더 연결\n",
    "from google.colab import drive\n",
    "drive.mount('/content/drive')"
   ]
  },
  {
   "cell_type": "code",
   "execution_count": null,
   "metadata": {
    "colab": {
     "base_uri": "https://localhost:8080/"
    },
    "executionInfo": {
     "elapsed": 9,
     "status": "ok",
     "timestamp": 1634661979918,
     "user": {
      "displayName": "정지혁",
      "photoUrl": "https://lh3.googleusercontent.com/a-/AOh14Gi2xnkUvkGuxYJpQ869taL552Birarh0kp9GKTKCQ=s64",
      "userId": "09534774022449022692"
     },
     "user_tz": -540
    },
    "id": "v5SORExslh3Q",
    "outputId": "c03550af-6c3d-4a75-872a-8b0875b648de"
   },
   "outputs": [
    {
     "name": "stdout",
     "output_type": "stream",
     "text": [
      "/content/drive/My Drive/Colab Notebooks\n"
     ]
    }
   ],
   "source": [
    "# 현재 경로 확인\n",
    "!pwd"
   ]
  },
  {
   "cell_type": "code",
   "execution_count": null,
   "metadata": {
    "colab": {
     "base_uri": "https://localhost:8080/"
    },
    "executionInfo": {
     "elapsed": 9,
     "status": "ok",
     "timestamp": 1634661966283,
     "user": {
      "displayName": "정지혁",
      "photoUrl": "https://lh3.googleusercontent.com/a-/AOh14Gi2xnkUvkGuxYJpQ869taL552Birarh0kp9GKTKCQ=s64",
      "userId": "09534774022449022692"
     },
     "user_tz": -540
    },
    "id": "Wjo2oKF4lioE",
    "outputId": "26a78adc-b919-4ba4-e114-44afd0067c3e"
   },
   "outputs": [
    {
     "name": "stdout",
     "output_type": "stream",
     "text": [
      "[Errno 2] No such file or directory: 'drive/My Drive/Colab Notebooks'\n",
      "/content/drive/My Drive/Colab Notebooks\n"
     ]
    }
   ],
   "source": [
    "# drive/My Drive/Colab Notebooks 경로로 변경\n",
    "%cd drive/My\\ Drive/Colab\\ Notebooks\\"
   ]
  },
  {
   "cell_type": "markdown",
   "metadata": {
    "id": "GwQLgfLa-xpw"
   },
   "source": [
    "# Variational AutoEncoder"
   ]
  },
  {
   "cell_type": "markdown",
   "metadata": {
    "id": "GKIQEmFT_EsD"
   },
   "source": [
    "## Reparametization trick"
   ]
  },
  {
   "cell_type": "markdown",
   "metadata": {
    "id": "AFjnevRDAYA4"
   },
   "source": [
    "> 확률의 문제를 학습의 문제로 변형하기 위한 방법 <br> \n",
    "> 미분 가능한 식으로 변형하여 backpropagation이 가능하도록 변형한다"
   ]
  },
  {
   "cell_type": "code",
   "execution_count": null,
   "metadata": {
    "id": "LigcjQ3UETo6"
   },
   "outputs": [],
   "source": [
    "import tensorflow as tf \n",
    "from tensorflow.keras import backend as K # backend(tensorflow)에 맞추어 low level 데이터 연산을 해주는 라이브러리 \n",
    "import inspect"
   ]
  },
  {
   "cell_type": "code",
   "execution_count": null,
   "metadata": {
    "colab": {
     "base_uri": "https://localhost:8080/"
    },
    "executionInfo": {
     "elapsed": 233,
     "status": "ok",
     "timestamp": 1635762966240,
     "user": {
      "displayName": "정지혁",
      "photoUrl": "https://lh3.googleusercontent.com/a-/AOh14Gi2xnkUvkGuxYJpQ869taL552Birarh0kp9GKTKCQ=s64",
      "userId": "09534774022449022692"
     },
     "user_tz": -540
    },
    "id": "rZOGUCElEZhE",
    "outputId": "5c64429f-7d8b-4f8a-9eab-8363f4407175"
   },
   "outputs": [
    {
     "name": "stdout",
     "output_type": "stream",
     "text": [
      "@keras_export('keras.backend.random_normal')\n",
      "@tf.__internal__.dispatch.add_dispatch_support\n",
      "@doc_controls.do_not_generate_docs\n",
      "def random_normal(shape, mean=0.0, stddev=1.0, dtype=None, seed=None):\n",
      "  \"\"\"Returns a tensor with normal distribution of values.\n",
      "\n",
      "  It is an alias to `tf.random.normal`.\n",
      "\n",
      "  Args:\n",
      "      shape: A tuple of integers, the shape of tensor to create.\n",
      "      mean: A float, the mean value of the normal distribution to draw samples.\n",
      "        Default to 0.0.\n",
      "      stddev: A float, the standard deviation of the normal distribution\n",
      "        to draw samples. Default to 1.0.\n",
      "      dtype: `tf.dtypes.DType`, dtype of returned tensor. Default to use Keras\n",
      "        backend dtype which is float32.\n",
      "      seed: Integer, random seed. Will use a random numpy integer when not\n",
      "        specified.\n",
      "\n",
      "  Returns:\n",
      "      A tensor with normal distribution of values.\n",
      "\n",
      "  Example:\n",
      "\n",
      "  >>> random_normal_tensor = tf.keras.backend.random_normal(shape=(2,3),\n",
      "  ... mean=0.0, stddev=1.0)\n",
      "  >>> random_normal_tensor\n",
      "  <tf.Tensor: shape=(2, 3), dtype=float32, numpy=...,\n",
      "  dtype=float32)>\n",
      "  \"\"\"\n",
      "  if dtype is None:\n",
      "    dtype = floatx()\n",
      "  if seed is None:\n",
      "    seed = np.random.randint(10e6)\n",
      "  return tf.random.normal(\n",
      "      shape, mean=mean, stddev=stddev, dtype=dtype, seed=seed)\n",
      "\n"
     ]
    }
   ],
   "source": [
    "print(inspect.getsource(K.random_normal)) # 정규분포로 부터 무작위 샘플을 추출 하는 함수 "
   ]
  },
  {
   "cell_type": "code",
   "execution_count": null,
   "metadata": {
    "id": "AXJjgcWPjDqM",
    "outputId": "4eb29eb3-832e-43a9-b20e-e52172aca2a2"
   },
   "outputs": [
    {
     "data": {
      "text/plain": [
       "<function keras.losses.kl_divergence(y_true, y_pred)>"
      ]
     },
     "execution_count": 2,
     "metadata": {},
     "output_type": "execute_result"
    }
   ],
   "source": [
    "tf.keras.losses.kl_divergence"
   ]
  },
  {
   "cell_type": "code",
   "execution_count": null,
   "metadata": {
    "colab": {
     "base_uri": "https://localhost:8080/"
    },
    "executionInfo": {
     "elapsed": 5598,
     "status": "ok",
     "timestamp": 1635763120915,
     "user": {
      "displayName": "정지혁",
      "photoUrl": "https://lh3.googleusercontent.com/a-/AOh14Gi2xnkUvkGuxYJpQ869taL552Birarh0kp9GKTKCQ=s64",
      "userId": "09534774022449022692"
     },
     "user_tz": -540
    },
    "id": "GycZ9KjpFAtQ",
    "outputId": "972021b9-cd8f-4ad8-ffc7-732d4c3c7f7a"
   },
   "outputs": [
    {
     "data": {
      "text/plain": [
       "<tf.Tensor: shape=(2, 3), dtype=float32, numpy=\n",
       "array([[-0.03670657,  0.19654608,  1.8087223 ],\n",
       "       [-0.5491878 , -1.7109    ,  0.6098757 ]], dtype=float32)>"
      ]
     },
     "execution_count": 8,
     "metadata": {},
     "output_type": "execute_result"
    }
   ],
   "source": [
    "K.random_normal((2,3))"
   ]
  },
  {
   "cell_type": "code",
   "execution_count": null,
   "metadata": {
    "id": "qj_NGa5hFmqM"
   },
   "outputs": [],
   "source": [
    "epsilon = K.random_normal(shape=(K.shape(z_mean)[0], latent_dim), mean=0, stddev=0.1)"
   ]
  },
  {
   "cell_type": "markdown",
   "metadata": {
    "id": "slsgdYHiFYhK"
   },
   "source": [
    "```\n",
    "random normal 자체는 미분이 가능하지만 random normal 결과는 미분가능하지 않기 때문에 파라미터화 해야 한다 \n",
    "```"
   ]
  },
  {
   "cell_type": "code",
   "execution_count": null,
   "metadata": {
    "id": "VN4Jg7RGHuFy"
   },
   "outputs": [],
   "source": [
    "from sklearn.linear_model import LinearRegression, Ridge, Lasso, ElasticNet"
   ]
  },
  {
   "cell_type": "markdown",
   "metadata": {
    "id": "BGUX8tzBHvoq"
   },
   "source": [
    "## Regularizer term"
   ]
  },
  {
   "cell_type": "markdown",
   "metadata": {
    "id": "V0gzp_PBIDcm"
   },
   "source": [
    "> Regularizer term은 λ또는 Regularization Parameter라고도 부른다 <br>\n",
    "> Regularizer term은 급격한 변화를 방지하는 역할을 한다. 결국 일반화 된 모델이 만들어지도록 유도한다"
   ]
  },
  {
   "cell_type": "markdown",
   "metadata": {
    "id": "7B9jACH7Hy_2"
   },
   "source": [
    "```\n",
    "Lasso \n",
    "- L1-norm 패널티를 가진 선형 회귀 방법, overfitting을 방지하는 방법이다 \n",
    "Ridge \n",
    "- L2-norm 패널티를 가진 선형 회귀 방법, overfitting을 방지하는 방법이다 \n",
    "ElasticNet L1, L2\n",
    "- L1-norm, L2-norm 패널티를 동시에 가진 선형 회귀 방법, overfitting을 방지하는 방법이다 \n",
    "```"
   ]
  },
  {
   "cell_type": "markdown",
   "metadata": {
    "id": "_eDCF6HhjDqN"
   },
   "source": [
    "### Lasso"
   ]
  },
  {
   "cell_type": "markdown",
   "metadata": {
    "id": "ZigdjSxOjDqN"
   },
   "source": [
    "![스크린샷 2021-11-02 오후 3.04.10.png](data:image/png;base64,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)"
   ]
  },
  {
   "cell_type": "markdown",
   "metadata": {
    "id": "jb-z7QRmjDqN"
   },
   "source": [
    "![스크린샷 2021-11-02 오후 3.04.30.png](data:image/png;base64,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)"
   ]
  },
  {
   "cell_type": "markdown",
   "metadata": {
    "id": "9ZRHlekRjDqN"
   },
   "source": [
    "> MSE를 최소로 만드는 w,b 찾기"
   ]
  },
  {
   "cell_type": "markdown",
   "metadata": {
    "id": "eZupj98XjDqO"
   },
   "source": [
    "![스크린샷 2021-11-02 오후 3.05.20.png](data:image/png;base64,iVBORw0KGgoAAAANSUhEUgAAAfoAAADWCAYAAAA5DECwAAAMbmlDQ1BJQ0MgUHJvZmlsZQAASImVVwdYU8kWnluSkJCEEkBASuhNkE4AKSG0ANKLYCMkgYQSY0JQsaOLCq5dRLGiqyKKbQXEjl1ZFHtfLKgo66IuNlTehAR03Ve+d75v7v1z5sx/yp3JvQcArQ88qTQf1QagQFIoS4wIYY5Kz2CSOgAFDAV0wALePL5cyo6PjwFQBu5/l3c3AKK8X3VWcv1z/r+KrkAo5wOAjIE4SyDnF0B8HAB8LV8qKwSAqNRbTSqUKvEsiPVkMECIVyhxjgpvV+IsFT7cb5OcyIH4MgAaVB5PlgMA/R7UM4v4OZCH/hliV4lALAFAaxjEgXwRTwCxMvZhBQUTlLgSYntoL4UYxgNYWd9x5vyNP2uQn8fLGcSqvPpFI1Qsl+bzpvyfpfnfUpCvGPBhCwdVJItMVOYPa3grb0K0ElMh7pJkxcYpaw3xB7FAVXcAUIpIEZmiskdN+HIOrB8wgNhVwAuNhtgE4nBJfmyMWp+VLQ7nQgx3CzpZXMhNhtgQ4vlCeViS2majbEKi2hdany3jsNX6czxZv1+lrweKvBS2mv+NSMhV82P0YlFyGsQUiK2LxKmxENMhdpHnJUWrbUYUizixAzYyRaIyfmuIE4WSiBAVP1aULQtPVNuXFcgH8sU2isTcWDXeVyhKjlTVBzvF5/XHD3PBLgsl7JQBHqF8VMxALgJhaJgqd+y5UJKSpOb5IC0MSVStxSnS/Hi1PW4pzI9Q6i0h9pQXJanX4qmFcHOq+PFsaWF8sipOvDiXFxWvigdfAmIAB4QCJlDAkQUmgFwgbu1q6IK/VDPhgAdkIAcIgbNaM7AirX9GAq9JoBj8AZEQyAfXhfTPCkER1H8Z1KquziC7f7aof0UeeApxAYgG+fC3on+VZNBbKngCNeJ/eOfBwYfx5sOhnP/3+gHtNw0bamLUGsWAR6bWgCUxjBhKjCSGEx1wYzwQ98dj4DUYDnechfsO5PHNnvCU0EZ4RLhOaCfcHi8ukf0Q5UjQDvnD1bXI+r4WuC3k9MJD8ADIDplxA9wYOOOe0A8bD4KevaCWo45bWRXmD9x/y+C7p6G2I7uSUfIQcjDZ/seVdEe61yCLstbf10cVa9ZgvTmDMz/653xXfQG8R/9oic3H9mNnsRPYeeww1gCY2DGsEWvBjijx4O560r+7Brwl9seTB3nE//DHU/tUVlLuWuva6fpZNVconFyoPHicCdIpMnGOqJDJhm8HIZMr4bsMY7q7ursBoHzXqP6+3ib0v0MQg5Zvujm/AxBwrK+v79A3XdQxAPb6wON/8JvOngWAjiYA5w7yFbIilQ5XXgjwX0ILnjQjYAasgD3Mxx14A38QDMJAFIgDySAdjINVFsF9LgOTwDQwG5SCcrAErARrwAawGWwHu8A+0AAOgxPgDLgILoPr4C7cPR3gJegG70AvgiAkhIYwECPEHLFBnBB3hIUEImFIDJKIpCOZSA4iQRTINGQOUo4sQ9Ygm5AaZC9yEDmBnEfakNvIQ6QTeYN8QjGUiuqhpqgtOhxloWw0Gk1Gx6I56ES0GJ2LLkIr0Wp0J1qPnkAvotfRdvQl2oMBTBMzwCwwZ4yFcbA4LAPLxmTYDKwMq8CqsTqsCT7nq1g71oV9xIk4A2fiznAHR+IpOB+fiM/AF+Jr8O14PX4Kv4o/xLvxrwQawYTgRPAjcAmjCDmESYRSQgVhK+EA4TQ8Sx2Ed0Qi0YBoR/SBZzGdmEucSlxIXEfcTTxObCM+JvaQSCQjkhMpgBRH4pEKSaWk1aSdpGOkK6QO0gcNTQ1zDXeNcI0MDYlGiUaFxg6NoxpXNJ5p9JK1yTZkP3IcWUCeQl5M3kJuIl8id5B7KToUO0oAJZmSS5lNqaTUUU5T7lHeampqWmr6aiZoijVnaVZq7tE8p/lQ8yNVl+pI5VDHUBXURdRt1OPU29S3NBrNlhZMy6AV0hbRamgnaQ9oH+gMugudSxfQZ9Kr6PX0K/RXWmQtGy221jitYq0Krf1al7S6tMnattocbZ72DO0q7YPaN7V7dBg6bjpxOgU6C3V26JzXea5L0rXVDdMV6M7V3ax7UvcxA2NYMTgMPmMOYwvjNKNDj6hnp8fVy9Ur19ul16rXra+r76mfqj9Zv0r/iH67AWZga8A1yDdYbLDP4IbBpyGmQ9hDhEMWDKkbcmXIe8OhhsGGQsMyw92G1w0/GTGNwozyjJYaNRjdN8aNHY0TjCcZrzc+bdw1VG+o/1D+0LKh+4beMUFNHE0STaaabDZpMekxNTONMJWarjY9adplZmAWbJZrtsLsqFmnOcM80FxsvsL8mPkLpj6TzcxnVjJPMbstTCwiLRQWmyxaLXot7SxTLEssd1vet6JYsayyrVZYNVt1W5tbj7SeZl1rfceGbMOyEdmssjlr897WzjbNdp5tg+1zO0M7rl2xXa3dPXuafZD9RPtq+2sORAeWQ57DOofLjqijl6PIscrxkhPq5O0kdlrn1DaMMMx3mGRY9bCbzlRntnORc63zQxcDlxiXEpcGl1fDrYdnDF86/Ozwr65ervmuW1zvuum6RbmVuDW5vXF3dOe7V7lf86B5hHvM9Gj0eO3p5Cn0XO95y4vhNdJrnlez1xdvH2+Zd513p4+1T6bPWp+bLD1WPGsh65wvwTfEd6bvYd+Pft5+hX77/P70d/bP89/h/3yE3QjhiC0jHgdYBvACNgW0BzIDMwM3BrYHWQTxgqqDHgVbBQuCtwY/Yzuwc9k72a9CXENkIQdC3nP8ONM5x0Ox0IjQstDWMN2wlLA1YQ/CLcNzwmvDuyO8IqZGHI8kREZHLo28yTXl8rk13O4on6jpUaeiqdFJ0WuiH8U4xshimkaiI6NGLh95L9YmVhLbEAfiuHHL4+7H28VPjD+UQEyIT6hKeJroljgt8WwSI2l80o6kd8khyYuT76bYpyhSmlO1Usek1qS+TwtNW5bWPmr4qOmjLqYbp4vTGzNIGakZWzN6RoeNXjm6Y4zXmNIxN8bajZ089vw443H5446M1xrPG78/k5CZlrkj8zMvjlfN68niZq3N6uZz+Kv4LwXBghWCTmGAcJnwWXZA9rLs5zkBOctzOkVBogpRl5gjXiN+nRuZuyH3fV5c3ra8vvy0/N0FGgWZBQclupI8yakJZhMmT2iTOklLpe0T/SaunNgti5ZtlSPysfLGQj34Ud+isFf8pHhYFFhUVfRhUuqk/ZN1Jksmt0xxnLJgyrPi8OJfpuJT+VObp1lMmz3t4XT29E0zkBlZM5pnWs2cO7NjVsSs7bMps/Nm/1biWrKs5K85aXOa5prOnTX38U8RP9WW0ktlpTfn+c/bMB+fL57fusBjweoFX8sEZRfKXcsryj8v5C+88LPbz5U/9y3KXtS62Hvx+iXEJZIlN5YGLd2+TGdZ8bLHy0cur1/BXFG24q+V41eer/Cs2LCKskqxqr0yprJxtfXqJas/rxGtuV4VUrV7rcnaBWvfrxOsu7I+eH3dBtMN5Rs+bRRvvLUpYlN9tW11xWbi5qLNT7ekbjn7C+uXmq3GW8u3ftkm2da+PXH7qRqfmpodJjsW16K1itrOnWN2Xt4Vuquxzrlu026D3eV7wB7Fnhd7M/fe2Be9r3k/a3/drza/rj3AOFBWj9RPqe9uEDW0N6Y3th2MOtjc5N904JDLoW2HLQ5XHdE/svgo5ejco33Hio/1HJce7zqRc+Jx8/jmuydHnbx2KuFU6+no0+fOhJ85eZZ99ti5gHOHz/udP3iBdaHhovfF+havlgO/ef12oNW7tf6Sz6XGy76Xm9pGtB29EnTlxNXQq2euca9dvB57ve1Gyo1bN8fcbL8luPX8dv7t13eK7vTenXWPcK/svvb9igcmD6p/d/h9d7t3+5GHoQ9bHiU9uvuY//jlE/mTzx1zn9KeVjwzf1bz3P354c7wzssvRr/oeCl92dtV+ofOH2tf2b/69c/gP1u6R3V3vJa97nuz8K3R221/ef7V3BPf8+Bdwbve92UfjD5s/8j6ePZT2qdnvZM+kz5XfnH40vQ1+uu9voK+PilPxuv/FMDgQLOzAXizDQBaOgAM2LdRRqt6wX5BVP1rPwL/Cav6xX7xBqAOfr8ndMGvm5sA7NkC2y/IrwV71XgaAMm+APXwGBxqkWd7uKu4qLBPITzo63sLezbScgC+LOnr663u6/uyGQYLe8fjElUPqhQi7Bk2cr9kFWSBfyOq/vS7HH+8A2UEnuDH+78As6qRCC33310AAACKZVhJZk1NACoAAAAIAAQBGgAFAAAAAQAAAD4BGwAFAAAAAQAAAEYBKAADAAAAAQACAACHaQAEAAAAAQAAAE4AAAAAAAAAkAAAAAEAAACQAAAAAQADkoYABwAAABIAAAB4oAIABAAAAAEAAAH6oAMABAAAAAEAAADWAAAAAEFTQ0lJAAAAU2NyZWVuc2hvdAInqL4AAAAJcEhZcwAAFiUAABYlAUlSJPAAAAHWaVRYdFhNTDpjb20uYWRvYmUueG1wAAAAAAA8eDp4bXBtZXRhIHhtbG5zOng9ImFkb2JlOm5zOm1ldGEvIiB4OnhtcHRrPSJYTVAgQ29yZSA2LjAuMCI+CiAgIDxyZGY6UkRGIHhtbG5zOnJkZj0iaHR0cDovL3d3dy53My5vcmcvMTk5OS8wMi8yMi1yZGYtc3ludGF4LW5zIyI+CiAgICAgIDxyZGY6RGVzY3JpcHRpb24gcmRmOmFib3V0PSIiCiAgICAgICAgICAgIHhtbG5zOmV4aWY9Imh0dHA6Ly9ucy5hZG9iZS5jb20vZXhpZi8xLjAvIj4KICAgICAgICAgPGV4aWY6UGl4ZWxZRGltZW5zaW9uPjIxNDwvZXhpZjpQaXhlbFlEaW1lbnNpb24+CiAgICAgICAgIDxleGlmOlBpeGVsWERpbWVuc2lvbj41MDY8L2V4aWY6UGl4ZWxYRGltZW5zaW9uPgogICAgICAgICA8ZXhpZjpVc2VyQ29tbWVudD5TY3JlZW5zaG90PC9leGlmOlVzZXJDb21tZW50PgogICAgICA8L3JkZjpEZXNjcmlwdGlvbj4KICAgPC9yZGY6UkRGPgo8L3g6eG1wbWV0YT4KkXnUWAAAABxpRE9UAAAAAgAAAAAAAABrAAAAKAAAAGsAAABrAABEf5kZS4gAAEAASURBVHgB7N2Ht2RF9TbgA5KUpKCAJAdQQJIEyYIkJYhEJYOggijLv8blwp9kCYoCCooEBQEFyUElB4eMBMkwCOh3nlpsvqLndM+9zO07t2/vWqun+3afU2fXW1X7ffeuOmcW+19bmiyJQCKQCCQCiUAiMCsRWCyJflb2azZqhiIw7623mldefrl57bXXmjfeeKN5++23G1r7Yx/7WPOpT32qWW655Zoll1yyWXzxxWdoC9KsRCARGDUEkuhHrcfS3pFG4Nlnn23+8Y9/NA8++GDzxBNPNC+99FLz7rvvNmuvvXaz8847N+uvv36z/PLLN0svvfRItzONTwQSgZmDQF+i53zefuedZt6bbzavv/56eb3Zfn6n/U4Rgay88srFKS211FLNRz7ykYGt+s9//lPqePXVV5tXXnmleauNbBTnrrDCCiWS4eD8XRfRjpfjIwqaN29esWOxxRYrv7FVWWKJJUo0xEmyT32iI1GTc5yvLdrx3//+txzfz26/q9fL9dW54oorljqXXXbZUm9tZ35OBCaCQBD93//+90L4yN6cQPCHHXZYs+WWWybRTwTIPCYRSAQmjEBfoo8U49NPP9088sgjzaOPPloiECSNYNdaa61mxx13LA5qpZVWaj760Y8OvOiLL77YPPzww80DDzzQ3HPPPc1zzz1XCPSTn/xks+GGGzYbbLBB89nPfraIh7oihEtcPP/88+X8xx57rGET0pbeRMSI22fk/vGPf7zUIUL6/Oc/X5wmR+qchx56qJk7d27z5JNPFuEQkZP2eNWFOCAKCAzXl1bddNNNi52f+cxnynXq4/NzIjARBGJeGYs33nhjc/fdd5e5te666zbHHXdcIfpM3U8EyTwmEUgEJorAAon+8ccfL8SMnL3+9a9/lQgZKX/9619vvvjFLzarr756icq7LioaRtYI+oYbbmhuu+22EslIWVqPXGeddZrtttuu2WyzzT5A9BHJI/RnnnmmkDOSfuGFF0p0jnyRu3drnV4If5lllin2bLTRRs22225bCBrRi5w41b/97W/NXXfdVY4lVmJdtDeTIANA1BAkhAFBssceezRbb711sZO4yZIIfFgE/vnPfzZXX311c+edd5a5YR4ce+yxzeabb/6BKglZ2TDj3JyQgZJdkr3KkggkAonARBDoS/QcjNR9iaTb6ANJImnRvegcSX7ta19rttlmm0LWn/jEJzqvpx5RsXXJiy66qNSBrBHy5z73ueLYZAbWW2+9En0H4RIHXsj9L3/5S4l6XAAxI3HvonAOUP0cJyHxcrvRaY011mg22WSTZocddmjWXHPNIkz+/e9/l2NuvfXW5oorrihigRDYeOONi/0yAXVB9MQIux3Prm984xulvZ/+9KeLSKmPz8+JwGQQsEb/+9//vohnmSNz4Zvf/GYZ23U9xKv54hhzSeZslVVWaSwfZUkEEoFEYCII9CX6OBlBSrnfd999JRqWchThIloRLqKXdhfxdhUOShYAYf7pT38q79YpCQORPLJVB3KuC6JF2s679NJLG3ZwhghcVC2LoIQgubfNNlxyySUlRU+ESNtv09a95nv1Im1ZhZtuuqm5+OKLi0DYe++9y/XVa79BXWJPwM0339yceeaZ5adjjjmm2GpPQW6WqtHKz5NFQHbswgsvLJvyLDkRr8ajsVgXJG+5i+AW0Rung+ZbfW5+TgQSgUQAAgskeqlr0byI2Tq3tXpkL6LYfvvtS+pe2n3VVVftRNQ5MgGWAEQnyPb2228vkclXvvKVQrRIuVcocHD3339/OZdAkAE48MADy/XqiCaWBoiRK6+8sqTaEb2lBc7TsUo4TER/+eWXlwj94IMPLtcnMqzX10U2wTo920899dTy03e+851y/VxDrZHKzx8GActHZ511VplP0vZf+MIXyq57+z/qIqNl/Js30vVz5sxpdtppp7JLvz4uPycCiUAi0A+BBRL9U089VcjOGjfiE50jfuvjnNMWW2zx/jp9fZFI2SPga6+9thCtlDfhwHFJQdZEK0qui+sh5VtuuaW8nHvCCSeUiBrR9u6WJyjuuOOOsq6O3FdbbbWSto962c25itDZI1V/9NFHl/p8JiS6imjqd7/7Xflp3333LZsPu46b6u9iScIeBXsFOPla4Ez19bK+6UGAgNS3lpBOP/30sv9EhmqrrbYqL+NcsS6v7801KX7zkBi21LTrrruW5abpsTivkggkAqOOwAKJXgR/3XXXFYJ3e5kUuA1tHJF1ddG8NXZRdF1sjpNulPK3xm5DnJ3F0vHXXHNNuVXtW9/6Vomo1dtLtDIIBIGIGtmKZI4//vjiDImM3l3yUv32DhAj6vIiJogCRUbhr3/9ayF6gkDqn3DgZLuEQ7Qlduz7mxPujfzjuKl+jyUPOLgVy8bF3XffPR38VAM9zfWZN8YUAWtJyOeuJTBLVdbxjX/zQDaMqCYIjNnepa5pbkZeLhFIBEYIgQUSvTT9ZZddViJyxG7tWupdlCldb81chIGI64Lk77333pLmJxY4ODvVkTEn51ypcE6raxcxgrMrmaPj8GyqO+qoo0r2wJpmEHh9zUGfbSL8wx/+UGxnD9Hx3e9+t9zOVJ9HKBApyoe5Tl3XwnwmiKRrZSFkIIghGQhZlEVRIsIkQODjb5EpMaUvvfsbISEvwkv0KhMBR0s9RFJstuxtQyyVOM81vKsvXoSdcwme+nbOIM5eu1xPVoddjqntUie71LUgu8JO5xj76nEtn2PZiO0RqXtXtNk+Fm02VolTxbn2qLi17vzzzy97TA466KAieI1xdiF5Y9Q6PpFnvmm/e+xF9OZh3PVh7riGDBfM2OXlexmAuH5kwAIvfeTlbwUWxK/jsyQCicDsQmCBRM/Z/OpXvypOweY5Dkf6Wwqek7S+/tWvfrWsidfQBLFyaiJh50mf28jHic1phYGIXpTCCfm9LiJwztC1kL0UvNv5bNxzjzzim0yRWfj1r39dNvdxiO7dP/zww4tQqetBsJYNFI53step61qYz0H02k5oseN73/teiegWpt4Pe25syiTACBBCDmnByF6LNdp3j3bVv/ZW6GuEg0D0NWHV9ZyEsMexcSslcemWSn97uQ4CtBENybmlU0RrzNh7QQgab8aMvwkRY2SvvfYqx8lC6VNjQL1+Z1fYNMiusI8Ncaula2k/UehFBBAAbA3itNb+5S9/uSz16LvYvEnoOt+ylCUhmafIbFlCUq/Mk5Q9m+FpWUoxj2DA9hBMyNxYVg/MzTd1+N5avo17ru93JfCSJYOHYxXHWZryniURSARmFwJ9iT6iFRHl2WefXaIFRCtC4og4e9GLJ3r5PhwER8cpcvZ//OMfiyMkENSHuBEFp8g5eRKYjEBX4VRlBET/UpfI2T3GXh5cY6mgdnhddcR3rm254dxzzy12cXyWHHrt5qg5S/sKOFLRc79NhlH3sN6D6Amd3/72t8VZn3TSSUXoDOuag+oNotevSIhY00cI1SZJG8qQGPwQLnJCIrAPMkI8SJ+wiwg3SNKx6kTEiBkZR3Yl/nas6+y5555l/IiaZZYQvbFClKqDHa7jdkiEi9zUyy5r3TVxGn8IuXcTXGAR41m7ELR6XNN4VOxFYRf7jRvX8p3I2/iWaq+JXj2idP365z//uRC3zBYBSwyoP4g+7HWO8UiQRCQf9gW2sgbaTiQhcN/H5lVj2FxRguhlCWSKCAk4yhYceeSRZW5F3fmeCCQCswOBvkQft63d2hKtXecctid3cTQclIgAGYmKOFQ73BVOFplzOI6RCtxll12K477ggguKs+T4kDWiJRS6CjGAXKyni8Q5c86OQ44H7LgVqdfx9dbFboKEYDjllFOaue0uZueJCus17yAyzpLzU69nj/cjgN7rTPXfM43oER4hROB5yAsygaX+ReDS5K+2vy/RkrhbJx1LECBH5EoQHHLIIUU8EYux9CJ97HfHXn/99SUiJsIQtehV1I7oXe+adm+H89yGhkClmkWq6tBvsh+EiP5jg70jNjDCkrCQSkfSSI7tPhsLMjvGY1cxnhG46xOL7JGF0h7kyR7jy/h0N4fjiAAC4tvf/nax0zEhbJA3IjeuCROZCfMqMlsx7tkHE7eXeocF4pZBq0uk7l1T36j3qquuKnPlgAMOKAKCKI5NqfoRXvrQ7X2wkpUhoM0H8zlLIpAIzC4E+hJ9OAS7g88555zi0KSOOUub6zggqUVEeMQRRxTHxuGFI+O8ETNHJloQqZxxxhnFGYlMfNe1th/whtB4sBULbpvjmNStTtkDwiIIASkjj64SEaNUKaJXh2iLY/eKiF3KU1QoSiUOtItAQTjDLNopbe29LpFdQF4ieqRiTwGC6yqiZE4/1mK7jpmK755oieHmFktY6X/9ITsDR5/1BRJEPLJBxg9iQ1T2GHhuAhJmq/FinCBe4wlJE4EIR98iae0hwvSfcaheKWYRsDS+uhT9SiggWn1oPCBx41Ud7EJiSM5xCNH1ZAhsyiT86qI/zAECQiaKaFUvQWOpwvgjcrRDEaWfd955ZZw6z9g6tuNJd4SPvSKOlwVgU5fQiHnETm1C1iEIajvjcwgmOBHUxj2c4O0agRPMtc18+tnPflZssE8G0RMnMM+SCCQCswuBvkSPaJAzZ80xIZqjWke9cuswpR19X0ckHJsn6d3dOmwRuNSrSE/EznkjhjPbXcYIlZP2irXWLkgjEhdRzX0vuuHERC0cKcctuuGgBtXDDg7auT//+c8LISBvDjtSqq4lalQ3siIEpO0jauyyb6q+Yx+H770ukbZGgIieXYceemhxxuztLdKv0rXeh1kQn7swRLlIF9EheUSEeOMWQMSD1IwVt4exv76dkp0Ejmj1N7/5TUmnE1dEgz4lEEXr+lq6Wf9ZevH3fvvtVwhMP8YTDV3L5k3vom5Eb4yoh136254SaXDETUAhW3YTsL1EL7I2Joxz+BMbyN04NzZkE+pIXT/ZXGdOEBZIs850RZ8gbfODcBDla6/2xNJXHAdfT2RUHyy1oau+OD4yAXAiiCyfWeJA9Oo2NhTjyrEEmPv4/a1ftJ8oGvb4CXvzPRFIBKYPgb5Ez7FJvyNoKUtO0+5gkYFogKPkxDl5t70hXQ6Zw5M6RAD7779/iSY4Hcdz1D7XD8rhXAaVILxIzaqfXYiRLZzvbrvtVhzmCq2gWKa9bl0467mtUOAAPTmPcOCE2W2DF1JAnGznfAkaa7ZInkgJB1nXOZWfkTyMEZC2irgUNom8tFsGBSl0LSUgUJGl9ohOg/im0sa6LtgjIITKJn2AoBGRCFrkrkiLi/jh7tHH2iOVjHhE/LAn+kTziF4EGil55IuUCccX23EoujXmIiWNGPUPUaG/FH2HkC0bOZcdyBgmNdERcxHRR6RsjVyGqS6xBGXJR0oeebtu3NoWqfA4h2ggJOEDE4LAZkDZqygwiL0i7LS5TuaiXkKKYxG8yBzhu5ZxbtMrnLuKsWNuwfu0004r41zGDN6btLas+l6kHpkiAkY/ElP2EhAv5qx2ZkkEEoHZhUBfoo9onqNBQiIijobTQUwcIMeLCE888cTivDkxjlQEgniskYqaOXyiwKNnEWvt8P0+qESqEbHHeqm6OGlpX+dbs+eou1KPyIQ44ABFfIiRw+aIEYKoTCEGbE5Crp6Rz7GKBpHoMAt8bVrk2JGjKFdBCl6wjM1jcfsTDKMgNIKE0NImuA+zsNParrQ3LBEPQkGmsPKd0kv0vrPGjHgQuf5E3l7S09ohY2GtWjT+bit47OIndBxDWMjMWE/2fyxoL5IiGBR9/Itf/KLYpV+JDnbBpk6xqwfeiNm4ltbu2oRm7dqYcW1thiv7ZBvYF+OmXLz9x3GxNOXajvvSl75U5oVj9KWxLJK2hKT+yEbBRLvqAhMZMCJH1A8X4xx2XSXmCZtPPvnk0jbzT+bM3CAqFG2GFRx8JrQJZTgQbvXY6rpOfpcIJAKjh0BfokfY/pMY7yY/B8NxiKA4CQ7F7UGcqIiewxB5cvBz2pQqx8HhidQ4yiBa53OsnJssAac5mcI5ERQyBFKwohjXE+HJFPRGPBFVEgfOEQUe266dcoDSlEFMCMUmQ+lo0Y2ok4hAJsMsrktgiEhroocb0iduED1C004Re+2Mg+gRGrL19zBKEJVIUGpY5KrPYdX1jHaZFG3T7wQe+23G0+9Eo36090JfEmO+k2rWf64lQpVi9ptriUQRuHFVEyOC80KMUtGOVRdi3GeffcoYrPEgUET+hKLz4EZ4ItO66I/4T2eIEmO56z+dibV8BI6YZWjYZzzChi2K/jS24PHTn/70gxF3tTZe12cTrMyaJTCZBEtKC1pDJ8ARPSGB4KXk2UMkqpugNc7VS7zIxhBNC8qs1djk50QgERgtBPoSfawRcsicFQfMcSHmiHZEdhw44kaKHIi/PemL40Tqz7ZRmM1biJYTUlc8yhbJTjZVyFnaRW1t194Bu505URF416YmokTmQYpYuhRZInpOkK2iGAUx+Z0zFF0hVFHbZO2bbPcTKshB5F6n7n0Pe9kTAgrJWUvllOsCQ2LLC96xOaw+Zio+w0UqPe7CkPGpiUT2oy7ahCwRmxQx++M/BZLaRshS3fqRcGF7rO8jYH3jO2KM2CIKiU3kRMyEQAwCNbbikbJIFjHWgiBscz1r6caFbJQsUES0cYx3gsZmNceJho19QpLQqAsxYtnH9c9r2zOv/VvKnpA0Z9itEAswgYdNe/YauOuEjfWSi/qMRcdZ6iL2LIGpL8Rnff3ezwQPHAh04oTgkVlA9GwgcPQHjC0ZmKeydMMaN7325d+JQCIw/Qj0JXoEg8hFlFKMCIaT43TrzW2ch0iM80WUnGe9Num7eMId8cCpxaNsF6a5iILDEqVzatZCu+rl2KzNixxFhaJewsTaaF04VBG1aBIpIXmfkVAtCOpzhvl5pt1eBx/4ISApasJEJI+oEEpvJkEWAumIdJGgcWHXPRJGKvoDIelHJIQQkTqskZBjCAL1EgDIlgDrXRsn/IxRdnneA4FUb0ILu9RJrEixO459xKGxjURDqETmgs3/93//V5adkDzhYEmnN3UuMjauCVkZLnZL8cOF3cSK0pvhML4IU8eJpo05Rb9L16vP3gXHeSIkGyeSAYMrgWDexR4AQgYOBDphTMQQhpZA9F2WRCARmN0I9CX6iGg4d46TsxNNcTycfDh8zoMIQOAcCzFQr5VLlSJaa6JBtG7Hs568MAW5yyAgEnWLdr7//e8Xh1zX6zeOjx2cqeuKkHpTtYhARC1C9Nm7vyOyjBR/XfcwP880oo+9AgjIkxIJoC6iCkykiC1JWA9GqghS6t5YQbj6TWpaZgCJSUtLI8ukIFuZFph7EZdeXWvjcIrlGbvZnRdEa7wG0cZSAAI/s02xI15r+FLbbIrUNdtE29opxc4+/0sjGx1LlNTFtS0hmQ/OcU2b+xB4CEbHW4KQTXCcDBMR43ZJxxE45pVCRFvqUheBjNwnkwFzrk18BBQyJ2bMX/i5NjvgSDRNx56O0qj8JxFIBBYpAvMRfRCeVDeHyEHalStNy3FIZYvuOA2bijgUJMtRc4giZs4uIhREK0UrsuZ0iQBE67i6cK7IRN1s4OC7dtHHOUH07JR9YEMd0auD0/a7CNR6MTEilTnowSDECOcuMkQabI6Uclx7Ot5nGtFLT4sGEZBd6CLreKJbTVSBu/6OXfCIhbBCOMhcejrGj2jcUg/CQ0pBuIGx+qJO74u1fbJkG/XHkgpi1P9BjJaQLM2IwPVdCDSZJ21wXcKPkKufMR+ZglgKcByiV781cvYZO8Ss4jjtIGiIh9i0R9DEfflsjKWh2JBK4BiT6uk6jnB2jJdslUxDffsfDFxb6co0xR4EyybEmDEvoncsQWJ+mYMEeS2ESoX5TyKQCMxKBOYj+kjRcjIImoPwoA4pV1EH54FAObef/OQnZQ3TWiQnuEv7gBkpdOlL54nMODUOUyrRcQRDF9EGkYg42CDVWGcGetGPPQQiRmSh7vqRugQK544ACBb1Dlq7jfo5Wm0T8Uk3i+A4SxHYdJaZRvSRioeNTZpIwt0WCLUmtMBdv1uLti4tEtbv0uQwrYkezoOIPgjVmCAGjataAEZ/Ga+WChBoPJHOsUG0xogxiMAJEOIjnjFfb7qcKNETpa7tJdWubiSLmKXaZcDMFS/F7yJ0mTKkb0x1HRebQrXF/gDCiHCBnQIDYlSphUz5ov3HvLDJkfhxHLxhr71scI7d+3PavSqifBhlSQQSgdmNwHxEHxEtR33ppZcWx9B1n7FInSPn6KzzSQNy+rHWGQ4T0UrRIgoORwq0a60zUqCcEYJGsIQDh8hZh8NGJKJtKUqRpfNWbNO9G7Xp11pAOCY2PxEs2lUTiii9LkFQnLXbr5y/abuOv2GbeeAUh31/em2Lz0H0iOGa9/5bX5vZEMiiKEFA+rN3qST6RrRpnwPiY7cUtWITG6IS7Yr+kTZiDgEWQiCWh5wTKXT1EWn6B0npB+SlHiUI1Nq06xovXTjJ0jiG/TY3qkPq3HgkTCNDENftHbdsNL5tJmU/YSqrZMOkvmKjsSglbtOk7ERdjCtLWMYtsrbbv2sXv/b4vx1kCGQLZKri9r/A15xjLxFAgPocgsI5HmhEAGszcS56117tNK9qnGsb83MikAjMTgTmI3oOTNovnKLIWuTRu3mN4+cwRTaieA5JNCW9ryBKzk8EZZczh43gpUBF1pECDVhFLwhWytex6rPZy/ppHXmIADlDjpBD5JjVK6PAeXJoik1S6nR9ggUZWTJwfQ5SFFeXIFYCx25+KV/3fasXBiKi6SxhjzYgCfZ27fqeLpuk7d1uhgBFjchDRL9Ni6dUumJX/qMt0Yj49ZGNcoSf1LcxAkMRpD5DRL/85S9LH+kzfVcLQFG/PjTOkKPzjBv11JvXgkBFsMSlJSEpeeOmLvVSj/qIjniksLERRBmb8YwDmwW1FXkb/7u0wtO1pfPjJVNgDhCSxjxR2HVbXyxhmVuWCWSrPKJWu+uCqAk7qXt2ypzYC0E4EAieHWHsmxMeoCSTFRk09RAbxjyhZVmNaLbO7zpuj/VeZzDqa+fnRCARmJ0IvE/0nAhHFdEYwkUyHI0HzHB0SJxTUTg4TpBzFSVwJpyPwsEjeb9zmAhZRCYiEtWL/hEAxx+bkBwr5WjDkro5f6QsQovjOGEigLPjuNnHaXHAHDtCRgjaweFxrpyidDPbECUHW+9eVqeXa6oPYUibareUKZuDoErjpukfbRAtIhTiy56HrjXsaTKn9AtiRiD6lxDbrb09a/02mwNbRPlWO4aebvsGiSNq4wIRdd3/jdCMC0StT5Gf9sEd8RpXSArZ60u/Gw+IXlQfY00fe1CO8SO6Nba6/tvkECrGo/FD7NkcaDzW4zrwNP5t7vOuEKaONS7ZZTyLsI0bbfHub/XGf0+rXuPR98aU2/XYYfxpq7VzwsRxsZeAbfUave/VR0CI3GFl7MPAbXMEV030onjX8tJWthI1BKvxrz+yJAKJwHgh8D7Rc1SiMFEER8N5cSpS3BwKR8EpRcQcwoATQ4QcEgfNsXA2ogmkwFGqFxFwMiIKTo6Dqm+XErnZpe14KXeOVHpW3RwZJ+daruFvjp8tBAMx4DMbRFeuF4TNDqLDOa4vInOc+hR1uhZidV1tRlJslMmQcnZNr+ksiE6KOF4IQ5u1Y1GUiHD1kz5ENGyDCxHi3ZgIO+PZC96JsV67I2OB6IkxY8YYcb7+QX4IUX8hf/V4VxdxqP8INIQWT6QzPvVX/US6wIr4kFmyZKCP1SfTIEtgo2CM6ziePcav+UBEGB8x5ggYYxeBEmOXXXZZIXBjiSCQ5icoLWmx13iCnwcNGZdECuImXAho4oVIVQIXAsZdJep3XSIGFuo35r189hssIiNBGLKZuDWf9AuCJ1jr60Q78z0RSARmPwLzET1i5IyQoxQrZ8thce410feDJtb457ZCAWmLUJAvB86ZcbCiQY6yJnrX44xFK9Lz6iEaOE/nclg+Iww2cXSIm7OrI7JI7XPOrq9eRI4cuogyiB5JuR7yIC60tV7z79fe2f59rFkjDnstYvOcvhRpIzGCTP/AGcaEl8hW/yK6ruJYeMsgIWvjBckROPqYkIixYvz1CjR16iupcJvriLQYp7I7vcRtPHjuguP1NbsQn37uInrjD8kSNjGOjJVonzZ6yTioV/3sYbdx6VUTvetamiJCETP7/O5VEzDxRIi4LnEAYxkUmBA6rkmEwqYWrIExmy27ESnetTMycj5HJiSOz/dEIBGY/Qi8T/QRoXNwiJlz4bgiurIRqibUftBw1M4VAakHEfhOxKEuJOoV0Xqk7udxcK2j5/yRgHO82IBEnB+fox42cVzqcIziXNfubYfz6+PCfnV6ceKup3DE2sqxxm2Ccfy4ves/5G7dV0QKI/+LmnQ8nOIV/UOUwUz/ekX/9uIGbyJCf6tfn+m76GPnxTjRz4guxkFdlzFGTBq/MUa7xmkQt+NdW/2DjtdO45h99XxwnvbFy3WRq/qV+D3qhofrqcNx2gkr7XFMHGdMK46NMQwX+MNJ24111yU2fO7Cg0CQCSCYXUfWwYZD4ppt+itLIpAIjBcC7xP9eDU7WztRBESXom6b8DypDUHFo2xFiP7OsugRiEyAjIHsC4GwTrs8tu57mQeZhiyJQCIwnggk0Y9nv0+41dZ8LeXYt2HznGUTDyay5itCjEzKhCvMA4eCQPSTiN5nxG7/gSUUmZXIGAzl4llpIpAIzGgEkuhndPcseuPcsy1CtF5s05yNaPUTCBe9heNjgWUNqX/7TqT4kbmlAcsL+skmPPscpPal7Ov/h358UMqWJgKJQC8CSfS9iOTfH0BAKlgkb3PXoAfSfOCk/GPKEYi9JG4B1R/2D7jdT7SuX9wl4DZM5O/7OW3KfsX31vKn3JisMBFIBEYKgST6kequ6Tc2HkhjB7fNYXPa28I8SKj3uQrTb9l4XTE2B+oH/6ukyF1qHrEjeJsC7Zew6c73Mi9ZEoFEIBGAQBJ9joOBCLif238CI3UvikQgnrAmapzI7ZYDK88fJ4yA9Ly1d5kVT3p0p4FbDr0868KtjG7p0z/uuXfHQpZEIBFIBCCQRJ/jYCACnqvggTDuAxdVIpG4Xz2JfiB0U/ojovesAP1hz4RUvfV5myNlWTyAqr4ff0ovnpUlAonASCOQRD/S3Td8490fjlTi/nO7t+Pe76771Ydv0Xhewb30bqHTHx7SI7vijgf9YZ3e/fX6I3fXj+f4yFYnAoMQSKIfhE7+lggkAolAIpAIjDgCSfQj3oFpfiKQCCQCiUAiMAiBJPpB6ORviUAikAgkAonAiCOQRD/iHZjmJwKJQCKQCCQCgxBIoh+ETv6WCCQCiUAikAiMOAJJ9CPegWl+IpAIJAKJQCIwCIEk+kHo5G+JQCKQCCQCicCII5BEP+IdmOYnAolAIpAIJAKDEEiiH4RO/pYIJAKJQCKQCIw4Akn0I96BaX4ikAgkAolAIjAIgST6Qejkb4lAIpAIJAKJwIgjkEQ/4h2Y5icCiUAikAgkAoMQSKIfhE7+lggkAolAIpAIjDgCSfQj3oFpfiKQCCQCiUAiMAiBJPpB6ORviUAikAgkAonAiCOQRD/iHZjmJwKJQCKQCCQCgxAYeaJ/9913m7ffeaeZ9+abzeuvv15eb7af32m/Uz72sY81K6+8crP88ss3Sy21VPORj3xkEB7Nf/7zn1LHq6++2rzyyivNW2+9VY537gorrNAst9xy79dVV/S///2v8XL8a6+91rzxxhvNvHnzih2LLbZY+Y2tyhJLLNEsueSSzdJLL13sY5u/33777XKO87VFO/773/+W4/vZ7Xf1evdS54orrlhsXHbZZUu9tZ35eXoR0Cd1vxoX+tV3xsUyyyxT+sq40l/GWZZEIBFIBKYSgZEn+nktsb7y8svN008/3TzyyCPNo48+2jz55JOFpAG11lprNTvuuGOz/vrrNyuttFLz0Y9+dCB+L774YvPwww83DzzwQHPPPfc0zz33XCHpT37yk82GG27YbLDBBs1nP/vZIh7qijh04uL5558v5z/22GPFJqS9+OKLFzLm4H0mPj7+8Y+XOtZee+3m85//fHH2jtWOBx98sJk7d25pB+FACCBwxOBVF4RBFDgO4X/qU59qNtlkk2LnZz7zmXKd+vj8PL0I6Bei8Zlnnmkeeuih9/vVd8TbKqusUvrqc5/7XLPuuus2n/jEJ6bXwLxaIpAIzHoEZg3RP/7444WYkfO9997b/Otf/yrROVL++te/3nzxi19sVl999RKVd/WqaBxZI+gbbrihue2225p//OMfzUsvvVSi+HXWWafZbrvtms022+wDRB+RPJLmzIkMJP3CCy+8H9EjdyJANBcRnUiOPRtttFGz7bbbFoJWxxNPPFGu+7e//a256667SvRHrCBwUV9vxCdrIPNAkLi24/bYY4/SXm0nbrIsOgSC6PXr3Xff3fz9739v7rzzzublVpzKNK233nqlr4yDJPpF10955URgNiMw8kQfqfsSSbcRE6JH0qJ70fmaa67ZfO1rX2u22WabBln3i5jUwykj94suuqjUgawRsmhr8803L5kBjjmWAQwM4sALuf/lL38pGQXfI1zO27soHNGr/5///GcREhz9GmusUaLvHXbYodgpOv/3v/9djrn11lubK664oogFQmDjjTcu9ssE1AXREyPsdrzI/+CDDy7t/fSnP13EQX18fp5eBIwN/WosGZP69Q9/+EPJwhhTW2yxRRlbMjuZup/evsmrJQLjgsDIE310FIKUcr/vvvtK1CT9XUe4iF7aXQq+q0h/ywIgzD/96U/l/dlnny3CQCSPbNWBnOuCaJG28y699NJC1ISB9PnWW29donbHhyC5txUil1xySUnRi9Sl7bdp617zvXqRtqzCTTfd1Fx88cVFIOy9997l+uoVBdaFeJAJuPnmm5uzzjqrLDMcc8wxxVZ7ChB/lkWPANFJ5OnX3/72t2U8fOUrXyn9agz0G5eL3vK0IBFIBEYdgVlD9FLXUqOcqXVuZGlN1Hr49ttvX9Kj0u6rrrpqZ585RybAEoC1dOfffvvtZU1/kEMWqd1///3lXAJBBuDAAw8s17P+KkpTYmmAGLnyyitLqh3RS6+L/B2rqM/+AIRw+eWXl1S9CJ3QIDJkE+oSESPbTzvttPLTt7/97XJ9G/wsG2RZ9AjIOFlS0q8i+si86NdBS0qL3vK0IBFIBEYdgVlD9E899VQhW2uhUqWic8SP6L7whS+UFGms09edFil7BHzttdcWopXyJhwQt817NdGKkuviepz3LbfcUl7OPeGEE0pEjWh7d8sTFHfccUdZV0fuq622WknbR73stjYvQmePVP3RRx9d6vOZkOgqxMHvfve78tO+++5bNh92HTfV38WShKyCvQLuKKgFzlRfb1Tri37Xr9dff33JFEW/ukuiX7+OanvT7kQgEZg5CMwaorfb/rrrrisEjzSlwG18crucdXXRvN33oui62Bwn2pLyt8ZuN7RNUdLx11xzTblV7Vvf+laJqLscsgwCQSCiRrZz5sxpjj/++GarrbYqIqN3l7xUvzQuMcK5exETRIEio/DXv/61ED1BINojHCwDdAmHaAu7kYlCbPRG/nHcVL/Hkgcc4G3D4O677172E0z1tUa5PhkiBE8Qwkl25rvf/e77mZdeQTjKbU3bE4FEYGYhMGuIXpr+sssuKxE5orZ2HZGzdL0181133bUQcd0FkVJ1PrFAGNipjow5Zed+5zvfKUQr3SpirQuCu/rqqwvR2xdg899RRx1VHLhlgyDw+pxBn23Yktq1bMAebUEIW2655QdOIxSIFOXDXOcDlS3EHwQREpOFkIEghkSqsigzoZS9ES1WlmOIIePCd3G3hD5lMwx99rsxQcDIVhBhkaGQHeoVbhNto4yRzZJ23Ns7Qnwed9xxJdM00ToW5XHmBfzgYtz5Gz5wk5Xy7rvAmaD1u/kSzwioN7H2tiUya853Df1gWcr3XnAnitXVldlyvKxSl336Tz+aM+zSDu/+dheLDbr63t/qqdtn6U37XFv73mjte+2989kX7Ys2EmyOY4fraI96fQ8jxxlvrpclEZguBGYN0dtt/6tf/aqkj22e4xgQtRS8yWrD01e/+tWyJl6DG8Rq451I2HnS55wxop3TRugierujTdZeRy8Cv/HGG0sELqqXTXA7n417dlKb1JMpMgu//vWvy+Y+zsi9+4cffngRKnU9CNaygUJcTPY6dV0L8zmIXtsJLXZ873vfKxmNhal3qs6FIRv1p70U+pYzR0IctbsiiEDPHLDREcmLvBEzhy/y3mWXXQoxD8qoLMhe6/Pu5rCchLiMx29+85vlbooFnTsTfrd3hJA1X4x5OMEHbnvttVfBSRbNmDSG3Wrqd8RGrNqL4tW7mTTa5ljXsAQHe/WHcECaCJnoJpDcrYB86xJ7W8I+fyNZc2O33XYrmTFCQP0yb94RMVEv+8Yuf/MD2ud8NpnD2iez5jvtc75xZGyZ72yKF0HgOOKXTzLu1EtoqAsG7qAhPrIkAtOFwHxEb1KZZAYnJcoZTqaYkJS7l0k+bOUam9xElGeffXaZ3IjWxJICN2m1wQNzfG/nvRKqm/P/4x//WNpKIKgPcYvUOQpEe9hhh81HtIEJIcGJExVS+CY/R+S16aablqUCOPTe/x7n1++u7f75c889t5AS0rTk0Gs3h8XRcIjqFT3322RY1z+Mz0H01p7tJmfzSSedVITOMK430ToRuf4zlvUlxx7OG87I1vg2Tgg8SzoICa7uikAYBKL+33PPPcv4+TBE71pexuc555xTNojaYa9f99lnn3Lr5kTbtCiPgx2iN9YRGBHsThe3rNrDQhA7BsGbc/COpSQkidy+/OUvF2FQtyMicQSLHOFvTJlH5m3MU30lo4K4LWMhVmMNsSqujYCJDGIq7EOu++23X7muetk0d+7cMib0McK1p0U7zCvE3NU+gsZY0j5kH+1jU9w9QzDwe35zDBzU55rGo8wBHAQc7Bc09AYONTb5ORGYKgTmI3oTRArWpKkfAeuCHJYyaHBSxkjVC6n2U/Cloin4pzjsdhLd2hLtqaeeWpyDlCilbs1dO0xwTvwb3/hG2eHusnG7k5S9Y0xQkRsVf8EFFxRHz5Ega0SrPV0FmXB4lglE4pwh8uUY4gE7botb0INrYMuxuc/6pz/9aXFGzrOBsF7zjtsI9RMnot6dd955PgfaZeswvpupRE+ocrCIiXBDGPpSv0j9ctC1Y0filkeMeUSvX7/0pS+V75C9yP/DpO71qTEa/cr5u8tCv3YR3zD6aCrqhB9MjTvZGwLZ+IMlnBCmsQAjWMExlp9ebj+v347lrswUglaXl76SCieCEDSB7G/4EQE2veozpKxPHBcCNwQDEnddhM9Wc9jeHMexCeHKzKnvmvf24FhqI8x9j8ijfcha+zznQgaBb2CP78xDfaoe1yZAzEPz0Xn63TWNI8KBKPc92y1tRYYQXlkSgWEjMB/RG5AiXINzYYheapJjjYk4rIaEAzLpREwcts1rHA+id3+7CcbBH3HEESUyNwk5XBE/9Y2YpWg5ehP9jDPOKBNYms13XWv70Z4QGg+2YsFtc9Zg1a1OQodT55BEPJyACLKrRATKmZ1yyimlDuofhjWOIh8OUSaBONCuXVqBov5hFu3k0LzXJbILnKOInnO2p0B001U4U1ke78MoMPF6qiX5O1qHH06WcyaYYEp8uj7bRdpS6oRf7IMg2gg/D1qSLXG8yNG4cQ5yMu58J+qXvu2XuRKJIgj9SoiKChGP2+pcT7Q7SsXYtrSBSI1BGBDByB2mxjhRTRQ4DpaEtPFZL+kYRzCUbakFOTz0EyJH0oGr63muBP9kDvk9IuMaP/Z5sqWonhBhH1/ED7FPfxkLMgeI3u8HHHBAGReuRRxG+8y1aN+q1unb340FEbzxIoNnvs9txYU6CTeEr8/9zX9oo2PMD2NA9uj73/9+6f8PkyGq25qfE4GJIjAf0XNEiMREMGA5t8kUBMdJmljUqwE/zMLxImcO2yY2REOhm5DSyb7n7BG5SB9p+k9w7m4FgAicE95pp52Ks+JYtP3MM88sa3XW2b1EX87vKhGJm/gmPAdjQlP6JjnHx9GIGAbVww7YO/e8884rRM85iiTC4blWPFAHzkgLESHVYRNG2Oe9LkFkBBWiZ9ehhx5aBBV7e4sNSVLX3odRjFeiSZ//5je/KY6bGCK6YKUf2Sgr5TgO+PTTTy+EA2+Exbn7jIyd63iF0AliEtFx2sZ4PAGxqz2WwhCGfv3FL35RIjxLAepm06g9KEe62+ZT7zBEusY4XKWjjVdkyn/IpIiu3WWAHAlwc0AR6RJM5qdxY/7YK0EUexnPiDAiXgRvM6P5ZQ64lnFmDtRF/1x11VUlsyb9zz516UfnwFt/CmLMV+Qvc+Z7n50f7TN+jVO+DIETMAII3wkQ/vznP5eoXvtE+pYU2E6EuCZf9KK7f9rlOEt7MqXG14knnlj6nx2umSURGDYC8xF9P4fOkEjZdznwXkOH7dDjehyu9DuCtr7N6Rx00EFlPSyUNMI3Wd32hnQ5GMTEIVDx+++/f5nEnDLHb43c5/pBOSbooBKEF6lN9bMLntbmkIFNQZzACq2gEB3UhfPieBCC1HE4PnZzIrCHO9tFSJyICALJi6iGTRj9BCCbRGfaLTLjmLuWEji16RCAsZSCYETq+sVmKtEzZy36rgsH/OMf/7hEqJyzKIwg0E8cezwymWirMwCIDHE4tuu2zbiGfkQe+hWhceyDnssQ5y3su3Ybw94nMl/jesjV3PVuzMWcj9+NPe3QJoROUMON4KmFC6EbEb1oXCreg5wiaxLzFv4yYca4eYgsiYbefiIszFfCIFLgNskS0HUJ+8w9dbJPP+pX9vlbif702VwKMRfnR/vMKyJB+/Q3/6KYq27n5VvMdYLCEgb7jQnzVhGE8EOOgwehUG6XbQOIJVv7kugLTPnPkBGYj+j7pWgna4cBjESHPZAjmqf4OV8RhZQeR4H8ORIOwoSlpDkcgoAjkl40ITlqUTMHYkJKEXJwUnoiL+f4fVARScIOsXPu7FEXJ0f9O9+aPUcncjHh6yLq4zAQgoiC47GJSAaCQ+V4FQ5GZOBa1g4JCI4RiQ6zaE/Xkg4S8Yo1cTZw/OypSYKDJUiGvaQTOEoZwx9RWxu2JsoZB46BlWN+9KMflTXiOW0U7ziCjK1wDwIgIPSrJSKRubFGDIhQBy3tOE7Ep1+leo2DQc9lCLsW9p1wJL7YrEyU7NlnvMvEEW0RUYc9xqj2W1MnCOCk/d71uTmvIGbjRdv1CbK1dGY8K7EEoJ/MEfPW7/36yfiTsUOa5hPS7SL6sE+d+ptdIbARetgXmR+2EATRzjgf4WuP8y2NifprQcAeGQaCki8hIt1FYX7DUFZI0U5LhJHZcFzcLuua9RwpJ+Q/icAQEBh5ojfJrMl5N2mkCBG3ScnZcLCeGGfSiuhF5iJPqTuOnQMyiSPdG0Tr/COPPLIQPRXPaUymcPAEhQyBFKboyvVE4DIFHFVdiAzXRjzOIQSOPfbYsnTAoQbhcN5ShtKSIocQIeFY6jqn8rPrdm3ShJuUNkKxvslpaieiqJ1YED3HWUdWU2mjukRiCBXBEIFsqQkmrkcoiXZhfvLJJ5f1XE6asBOZwbUu8LbZTOrYo4lFpKJEok2fSuN3FY5e/xOcSM1xIluRH9KB12RK4G08GcOEtLFClNTF+jlbjSukz/6JFKIRBuaRuoMAEaOXNvg/FUTMyBkxd909QAiI/BGu8/Q74UwcKfG7fiKOjYlBd7cgXv+XhOONNfWZn1LlSq99iBjW7PN/ReirQaX3fL4DFs631NI7X7UrboM1/rWry37jUaDBF5gfMgOWFsPuQTblb4nAVCEwH9GPWuo+lHVE8yYkAkTMNuNw5BdeeGFxqBwDtY0oOVj/nasJitSfbR3jze8RLafMiUmxWaNHspPNTNTEIBKxG5+TFoGLMCOyiY6M1CTlzzkgKESPfOqIg9P2O6ISHSBUUepk7YvrTvQdsUjfi9wRJMeo+B72sicEFMKRmha51wWGxJYXvCOyqo+Zis/W5vU3vI0BdthUR8zVJfrH+EBc/vZ/FPTL4IQwgAGSk/o1RghHfdBPCOpX/Y8gkT5HP+i5DLWNXZ/hjcRldpAeEShiVW9dRNGI3stx/p5IMT7dnULA1ERv7MLI3LCngYgicAgWmBmLdXHd888/v4ht2TT1sZOwVqTgf/azn5V+IgLN2a5+ijr1q7thvBOQ7DTOvCvsk3Vhn820xiTb4oW0B5VoH6E9kfMRt82//A+hhbi7NgcSKAINwsAYIlAsUYTgGWRT/pYITBUC8xF9v7XYiV4wHLqUOOfDCQ6zIBiOncq3XsexcyYiXA6RI//5z39eogbKnFNBlJyPtdtQ+r6LJ9yZvGyPR9kujP1IQYpPlC7r4Hpd9XIElgw4ZWvBIpw6YgkbRA8iOanYSOn7zPnVgiCOH/b7TLq9Dg4I9cx2M6UMhHFgTNjLQDjVJQSTaFvkiTBF2kiLGIkMSn2Oz/AndhTHLUiwROSH+BBlv8ivVNj+4xhjGSnoX+OYLcSV7+Ht+oQMwUq4Gie9wjHah2iko7uIPtL5deaFIBKhIyTRfET0YZf55HkVBIf5Ay/HmlcKAch2KXbHiWKRsX4gmkXZjrEE4u4Sc8KctQRib0dvP0V9hMG57SbVR9q5ybcQBuZzzN9YWgn7/F3/r4+xtl6M7Pin93wBT31+3T6iwHwmCAgethDk2lcLCvjqd0sd/AtRSPDUt8t2mJJfJQJTjsB8RI/kutZiXbnLMfRaZEKY+CYv5xObUnqPm6q/IzJAjia+SeeaolwO0cQ3IUX3bELgnA0SMOlirVwq0Sa4mmi7Ur6TtZsjq3fnSgm7vUakURcRQjwoR8QLuy7lz/Fx+pyNz979jeSd14+g6mtN5eeZQvTGJjxEdD/5yU/eT8XD2d6I3ogz1oiND6RjTLj9y7GDUuqBPwyNsSDCfphG5IdwiV79Oui5DIiRWEE8SE/WAEkhbt8je+QuYrUZzB4EmZ/eTWkyDsjKHNBHBMpEijEEC+8EQIgAdcTykpS1aN+ud0RvvsXSgbHIdv1AcLHbGj4iN//YSzSInN1uqB3qQJL6qiZK9kZ9+kh9jpdOd6zzol/Zp0/1J/vMhy77+mEw0fNjEx/7ZYLgi7jZT5wLIBTj0UuGTjvtKyiCoM2CbNPRzn525feJwFQgMB/R91uLdbHJED2yH+ZabDhcE4kD4BCskVHWIi2OiHMz8UUOImsk63Yc/20t22oHheBF/iIwTo4IQLSOq4uJbnKrmw2ItWsXfZwTRM9O2Qc21BG9OkRAfidIpGSJEe3gQCLVGfXFe9xWKLJCNmzuWquN44f1zkFqI8cnMkZCi+LJeDEe9Lc1d5GWvRqxAdIGQSWIwzh3rMgMGVuTZjfymIrMCHuIsOhX1xMt69euzXuO9xKpe5Sw8WWcOqcmetkc/ax99goY6/4vBvUOs8iOGb/6WeZLPxMYCA7Jh8AkLtwZAlvCFQbugglStsThGL8jQMfKuPgdERI2dYmlIdf1iGu4yCS4rmg+IvV+9hEE5kbYV9ddf57o+eyRHZEJsjShz+q7KPSHot0EjXb676MJNEuF7CZ4QhDUNuTnRGBYCMxH9AZy11rsRA0woQx2LxNsQanNidbbe5wJj+w4agTNObtP3rqhSEskgkAjwrNWav1eNLBLu4uWk4jILZS3J9JJsTmuH9FyTJyxyc4GGYw6M9BrZ+whkD412dVdb9pBPBwfR4bo1Sv66Y1YeuuVodA2EROnEbc4xe1gvccP6++ZQvS1Y9WPxrBUMAIR7QaBIErYIUrHWPMVGRN9P/zhD8vxdST7YXGLiFq/EqKIhJP30r+9kWvYL0OF0NggIkV+5pRxYvx4X7pN59/b2h3jfjqIPsab+SazIOq31GG+1cKIjeYQgiP8EPsxxxxTcJXRcGwQoH6yqZHw0U/mkX6oi/mgj0T09oAQGDJtrsvHhH9h383tfLh9AfbVddefJ9o+9vIl2mdzoPZ13UURguCmtv/Pb1P3fFHsAZGF6L19sLYlPycCU43AfEQ/1RcYVn0R0YqYTDiiosvhidQ9gMZEFh1JndYpwnCwHLIIQ+oUyXPIbl8T6dVF+pKa58wQNIIlHETh9Zomh2yyc1IiL+et2Dq6jVo1X0fqIaw4Dnb62+8iUWubsbQQNoQwsNRgicXxm3pIR5t5mNOmeoe9JyLsiPcgegR1zXuPFOXYEdR0Fv1IeBE/+hGRI9QQTXD0O6EmA4HwlRBiIsMf/OAH5XhOWV8ikQ+7yVG/ICn9ao3WWOn3XAZCU5ZIetfatvvKEYGIuTclz2bHI1uRotI17ssPU/iP8S6Sl/2ITYVd/Qx3x5hPiJkIdTuZOQdPAsYDq25riTuErbmGuLWVgFCiP5Gqeix9IFnzLB5lXQsy9rnbwjg018yFLvv6QTLR87XPNYwzd/toX9ddFGw1tmpBcHQ7L7ZrBY052m/zZj/78vtEYGEQGFmi57BN/nAqIuuu21akTDkKjlQUL3XOmUSKrXbIUnEIAMGLMDifcDwBMseDYKX4Has+m3ak42ycErEosRmK4+aAkId6ZRQsa0TqLiIE4oFgQTBx/74HdYhg6hLESuDYzS3aEymoFwbT7UDCHrgQH+xFaP2WHOq2TOVn5AdjuCBA9hBpBAchZiOU9V1RPMwdawOe8SFVHkKREBRxygo5xzEfpriG5SKO/ve//30RDNGvxkz0K7ulf4kPY8C4IjYd03X3AlsWBdHHHhbpeyRsSUtK3rivS71UReTqg7hvPEST9tqkJnNBNIhwLalZatFuxbzUX+aP/jHO4kmQRAOBjeijsE8GgX3EcD/74vje94mer33xICD+h+1dd1EQBMSY/rdHx3x3Fw+/UvuJXjvy70RgGAiMHNFLiXICHARlzTFy6lJ+HjDjNpc6pSeVSFlzTpyDyM1EUzh0UZffEQRC5iQ4ElE9py/Fijw5fsWxIi6OSt0msMkr0ojjOGIiQITGMbCPY0c4HCNCJgi0Q/Qh68ChiYLUgSilMdkaxK1OL9dUH4fGkWi3yI/Njg2hUYydhn/CIUtNE1/Wa2UikOSiKHDxRDzviv4TMYro2Wr8IAg4IXGRnNufkI+1X1kfv1kCQVJByBNtS2Ry9CsRqo+ku405a7TIqu5XgsM5xon+hyPRYZx0PW+BHYuC6I1RmQnjHzbmhtvJYtd74GNZi7Axn4x/YvWQQw4p86mel3NbgXVd++An+MPAPIKN8Uzs2tBHlBnr5oZsgOcbmBddqe940A1xBV/HddkXdva+T/R89cvQOZ6Y1/56KS7qJSDjyXnGgXYJRMxTEb3xUAuVOC/fE4FhIDByRB9rgLFuZ/MaUuXIOQKRLTUfEXMIA44cEYqAORKpVKrbxA3BwOmYfNbRRd0IS2RaOxYT2INjCAyOiJNGGOqOVK9rRepXCpYtCIcY8JkNMgyuF4TNDhGMOjgPROm4OgoKEnFdbeYM2ciBSHu6ptd0lkixSot7IUlt1o5FUUTDSIYQQ0psgqU1ev0oQ+MzQaKf9KPbGpESISiinNOmffW7cTDZPQ+RydGvCF6/Im99qf+JvBiD8Ik+1Z+EkrHkFjyZiK67BZwz3UQf15NqJ0jML+Ot68FCCFBmTNu1Cdb+LwnZMe2KeRmZIH0kmtZ2Y934qcc9QkSM+kZ/IExzLYR34EEMhH3mbj/7HN9btG+i5/M7MhEEjTFu/nXdRSFgNuyOAAAEP0lEQVTaJyBvbXF4og1KjKPAgYgzJs3VJPve3si/h4HAyBI9B8qZishFBFS8aCx2+4dD6QdarPETCpw9R498ORrOmIPi9JFDTfSux5lxeJy6eogGpOFck9dnToBNCJ6DiuWCIMAgBI7O9dXL6atDFBnHhf3q9Hts8uKcODxOt17zj+PH9V0fInsiCq5S6AjEeNAPIkykgehh6ThLOzJEjtP3hJbj6n6fKJ7Rr8Zn9CsxpO56d7r+U/Sp8ePdd+zUp17sYE9vcdx0rtG7HuKSGicyY54hrN55Zjx7boTj4Wssa4f21EQf7bZ3hiiTASEMYIXovZA8Ae/8yMYZ870l7EOs7HM8P9BlX++5/p7M+TIMlu74C20jCLs2V0ZEDweihoAz/mAHhyT6rp7I74aFwMgRfUToCJZTl343UTkGqUFpzzpF2A84DsW50rnqER37jsJWF4fiFdF6RBDz2gjxlXbihnN2jhcbQqHH56iHTZyWOiLi5uhcu24HMvd7fVzYr04vx7iegjy0VZSDRLL8/yekRb8aL/qUcIJR9CdBBUvHIQf9WR/nWP0f/T5RbOt+RVwyCtGv+iv6P+rzG6HqXWFnPY6Nod5iHEwn0bu+OYLc4BlzrGueGc8yU47XJvh1HR/tNu/gBH/j2vcw8oIXPJyvL2Dhu67iegQevLuu13VO/d1EzzdetI/d2mac1EsxUWeMK/UaE8abY2EWuGU0H2jl+7ARGDmiHzYgWX8iMNMRQPSWJzyKVpmOXfczHZO0LxFIBPojkETfH5v8JRGYcQhEZkdEn0Q/47onDUoEZiQCSfQzslvSqETggwjEmrblJp/tgv/lL39ZUtwerONuE2lt6W3LE5Ndcvjg1fKvRCARmE0IJNHPpt7MtsxaBGKXuk2b1rTt+raJELl7spxNXgje5r0Pc1vgrAUuG5YIJAJNEn0OgkRgBBD4ANG3G7yeaTee2dmP6O3idldHEv0IdGSamAgsAgSS6BcB6HnJRGCyCLyfum93lb/Tpu6l8O1wt3PbLm670jN1P1lU8/hEYDwQSKIfj37OViYCiUAikAiMKQJJ9GPa8dnsRCARSAQSgfFAIIl+PPo5W5kIJAKJQCIwpggk0Y9px2ezE4FEIBFIBMYDgST68ejnbGUikAgkAonAmCKQRD+mHZ/NTgQSgUQgERgPBJLox6Ofs5WJQCKQCCQCY4pAEv2Ydnw2OxFIBBKBRGA8EEiiH49+zlYmAolAIpAIjCkCSfRj2vHZ7EQgEUgEEoHxQCCJfjz6OVuZCCQCiUAiMKYIJNGPacdnsxOBRCARSATGA4Ek+vHo52xlIpAIJAKJwJgikEQ/ph2fzU4EEoFEIBEYDwSS6Mejn7OViUAikAgkAmOKQBL9mHZ8NjsRSAQSgURgPBBIoh+Pfs5WJgKJQCKQCIwpAkn0Y9rx2exEIBFIBBKB8UDg/wEAAP//gzMIjgAANzdJREFU7d2HtzRF0QbwRUUxKyJiIogiEgVRBEEBUUAQEMkgInLgGP4ZjueoByUoUV4JSg7KSxAMKCKCICBREcSAqJi/b379vcU3LDOb7sZ7q8/Zu3tnZ2emq7vrqXqqunut/6lKJ0tKICWQEkgJpARSAstSAmsl0C/Lds1KpQRSAimBlEBKoEgggT47QkogJZASSAmkBJaxBBLol3HjZtVSAimBlEBKICWQQN/SB6QueP3973/v/PnPf+784x//6Ky11lqdddZZp/OKV76ys86LXtTyy/k7HPX405/+1Pn3v//deeELX1jqpk5ecexVr3pV52Uve1ln7bXX7jz/+c+fv4rkE6UEUgJTk0Bdb/zrX//qvKjSeXHsn//8Z8cxumTdddct+uIvf/lL5+mnny76hA55xSte0XnpS19afveCF7xgas+dN3quBBLonyuTcuS///1v6bCPPfZY58477+w88cQTnec973md173udZ2tttqqs/7667f8cr4OG5hejz76aOe2224rRstrXvOajvqp2x/+8IfOk08+2XFs++2372yyySadV7/61cWgma+a5NOkBFIC05IAnUFH/Pa3v32W3vjPf/7Tefzxx4s+DL3xnve8p+iLe+65p+iZp556qsNp2HLLLTsbb7xx57WvfW0B/Gk9e97nuRJIoO+SCSv1r3/9awE/IPjAgw92fn777eV/APjWt761s/POO3fe/OY3d/1yPv8NoL///vs71113XRmkQJ0lzpv/4x//2Pn1r3/defnLX94xYDfffPPOG97whvL/fNYonyolkBKYtAQC6B944IFGvfH73/++8/DDD3de8pKXFAfhlRXL6RgjgHHg+BYV0L99s82K8wD4s8xOAgn0XbJHbwPFX/7yl5077rijfNZ5S8fdYovOdttt13nve9/bedOb3tT1y/n916A1YFevXl0GJ5DfYIMNCqiz2n/+85+XEIU6bbTRRp23vOUtxauf3xrlk6UEUgKTlkBdbzzyyCPFa6c3NqvAW7gPQ4jpDH3yjne8o4Q377777g4aH3VPp2xR6U1efZbZSWDFAz0qSrzpb3/72zNePIuUtYqK+tWvftV56KGHioe74447dnasQH7HyvNdJKDXve69997OlVdeWag1gw4zgarHYNx0000dBs4b3/jGzoYbbljAPi3w2Q3KvHNKYF4kEHqDTgTy9Ma2225b2MDrr7++wwAQf+cg7LTTTiVW/+Mf/7gYAOLz2EEs4XrrrTcvVVqRz7HigV7yCPr6wYqi58FLvEPRv/jFLy6dlnd/9dVXF2OAJw/s31O93lSB4iIVdVu1alUxaHbbbbcSPzP4DGD1Y+gA/k033bTE6zEYWVICKYGVLYHQG/TkHnvsUfSG0B+Av/zyy4tzJGfpbW97WwlnchgYAPQoZpABwCni3WeZnQQS6NcAPWr7Zz/7WaGwxd8l3Yk7oaHOOuuskrS2iEAfsbbbqzyDc889tyTYHHrooZ2tt966ZNcLUVx00UXFs//whz9crG8gL2s2S0ogJbAyJdCtN/x/2GGHFb1hRs5dd93VOf/884ve2GuvvTpoezN26NFLL7206NH3ve99xQDI5N7Z96EVD/RB3bNAf/e733X8j7Y2jU7nvvXWWzunnHJK+W4RgT7qxzK/8MILC0tx8MEHl5kDpguKz5999tnFAKgPZDMMsqQEUgIrUwJNeuOQQw4pHj29wXHgAMnxoTe22WabQuHTM3GcnnE8p+vOvg+teKCPJpBcIgtdMV9UQVf94Ac/6Jx88sllKtoiAr11AJ6sjJi7Kwtc1j0DZv/99y+xNvWVUHPeeeeV+h5xxBE5MIsk8k9KYGVLoJfekNME6Hn0vHt6w1Q6+T4cozPPPLM4SUcffXTnne98Z0nWy3U5ZtufEujXyJ/3zopVdEqflwPQYyokFso1kFgjVrb77ruX0ITpMAasJD0e/L777luoOSELBkGWlEBKYGVKoE1vSMgz7VjITxKvXKb99tuvxOL95qc//WnnggsuKEB/wAEHFKDHkDovy+wkkEDfInse/nIB+t/85jdlfqukQ/PlJc+IpwF6swrkJgD6d73rXWXOawJ9S6fIwymBFSIBoN2kN+gPQO87ugOA77DDDiWB1284EzfffHMBeutyyNJPoJ99p0mgb2mD5QL06DQGC5oe5VaWpqw89rWrKTGOWRxIpqy4m6QZU2IyptbSKfJwSmCFSKCX3qBH6BS6A/tJbwh3+o358xwIDKnsfPrEPPuk7mfbcRLoW+S/XIC+pXp5OCWQEkgJpARWiAQS6FsaOoG+RTB5OCWQEkgJpAQWSgIJ9C3NlUDfIpg8nBJICaQEUgILJYEE+pbmSqBvEUweTgmkBFICKYGFkkACfUtzJdC3CCYPpwRqEvh7ldD552qbY8lZMT1VYqciIcs0zVhSuvaz/JgSSAlMUQIJ9C3CTqBvEUweTgnUJGBnR6sr2urYIitWSrPJiQL4zbs2/crmJllSAimB2Ugggb5F7gn0LYLJwxOVgClLlmI2JzmmQ/KILXQUUx8n+gBDXJzHbjOoG264ocyrNqfaNCtAb5MkGybZKdECTeZTx3dD3CJPTQmkBMYggQT6FiEm0LcIJg9PVAI2BVm9enXnF7/4RZmPbLERCxnZNGTjjTcui49M9AEGvDiQ571bNOXaa68t3rzdD3nuqHsGgCWXefU2N4mtShkrWVICKYHpSiCBvkXe8wb0FKvXU089VdbdtzDFLIvYqxX0rLCXu90tvSUsNsKbt1vid77znfKujQGj7T632GKLQoHb8pPHPOtNhwLorZB2S7X/+PMqcEfRv3HN9s133nln55vf/GbprzvvvHN5fkaAldWyTF8CqT+mL/N5umMCfUtrAHoxx+9///tzsakN7wkY3HPPPZ2rrrqqc99997U8+XQO28bXVrexDzXQzzK6BKxOyJvnCT/00EOl75EpClxbr7vuuh3bCMd2oFYbm3UBHpLwLK2seMZY09wuZjZLYrzstttuZdOT9ddfvxgus37ulXj/1B8rsdX/v84J9P8vi2d9sjwsj8rudaeeempZK57HYge7nXbaqWPP+mmWGKgSn1atWlV2ifJ8nlPh4fH0eNq8plGBIDw1ho4YsetT5v6vFzTyBz7wgQ669u1vf3tnvfXWq3+dnweUAHmjt5944olixMXyoVgS8W0GgD6o/cmaYSXBDZMyj0Vd9Buhh4svvrj0mw9+8IPFQMk9FGbXYrPUHxwmTkq9pP6oS2PynxPoW2TME5FRTMmec845JUHKlos77rhjATgddZolqDfe3TXXXNP50Y9+VHaQAgwKYAcOr3/96zubbbZZWWd6lOejqGPNaptXSAxDzwoZ1Mumm27a2XPPPTvvfve7E+jrghnyMwOKMcUrlrlO/owmyXeS1xhZktp87zOw5NXPq2HlGfVJzJOxow76CQMl91AYsnOM8fTUH2MU5gJeKoF+TaNRUJQpqpT1G7s38aAlR/l/k002KRSkXZkiVoqqpJS9TyN2+thjj5WtZQH99773vbL9LGC2aYR47oYbbliStxgiErko2mFKWP7YAkBvi1veGRByjLemAPq99tqrGD7p0Q8j4WefG0BPtrx3fUhYJDz2+B54PvLII6WdgSaafJ5KMEGe0xamjz76aDEOGSQ5vW5+WqpbfwgX0R8YwUnqj3AWxqU/GMd0MsOYjuPoeDd+FqnQt+qgPn+tsEd5aeWwqQudPq5cnAT6Nb1CRwSegI3Qn6wWAeFJGRi8WoPBQKC4gHzszCT5aMsttyzHeNSjUuZrHqPvWxgk9n2+5JJLOrfddlt5VgNIx/A82223XWfbbbftbLPNNgU0+l60dkJY/gDGNcWLf/jDHxbjgpcWDEICfU1oS/hI3gY6eetjMtaFX0JhxffaghFq4DMCJt3Phq2SOvyrqsOvKsZJFr7nBfD6SS6YM6w0J3d+6A96Q2jFFtUMzEnqD3rVfcapP+hkDogxQScLc3mnoxepGPPqoD7yc5SNNtqo1GecSc4J9Gt6RTfQ87CCLqVsFUqYgtWZ4jVtoGcBehk0l19+eTFO0Pm8b4Wn99bK43tXFc81f5n3F2xDOWHIP4wdSsFgvfHGGzsPVB4ApS4TPD36IYW5jE83Xnjx999/f1HAjJE99tijsGDLuNoLV7XQH1iXK664ohjx9AddpxT9Ua15YErnuPWH9RaA2Tj0R4Qw6T3GJH0URuUiNUoYXqap3nLLLeXRGcjqM04DOYF+Ta8IgQd1Hx6tTlkvkfTGe+Z1TZu6D487KDhxUPOVAbDCEKFkTcfaZ599incvbj/qtKZYwOXH1RSqiy66qHj2kmtYnQn0ReT5p5IA5ocijxCXEBLmS1gry/xIoK4/eNmhP8KbrOuPvffeuySAzqP+wGiedtpphXWVO4XF9C5RdZEKA5kzpT4cN4XejrpECG+pdUqgX6oEZ/T78KBuvfXW0kFMZ3IMBacA4ve///0d+QRofAMAI+E1TGHouObtt9/eOf/884vViWYy+EcBes8oyRFlFau9MZYkamWZnQS0B6MuXhQ+OrQfFRpr3TM0GYOMX/PmN65yRFxD/2E8K/MYcpidxGd75176gzFAf5hVMw79IRQq18m6CvrIUvRHSI2BctJJJ5XcIQnS8WJcLlJhGMt/Mo2bflU+/vGPl9ld2OJxGcoJ9IvUK2rPinHgWaPwv/vd75YBdO+99z5D4aN90D+y4lnmMvEp4WGTOwx6dB+q7Oqrry5Un0VdZH+PAvQoKteRxS973DOOs0PXRJQfh5CAOC3a/YGKWn2wAm2JnLtV898Bdq8Sa93L3QjjAIWKAtZ3UMKMAP0ujve6Xn43HQmE/kDhy6kAwKE/tBv9ob3oD+Oc/mCMj6o/XNtsIfk+S9EfIZ0E+pDEYO8J9IPJaW7PCtpHDP3mm28uMTDemUEJjCXk7bvvvsWrl6wiwWOUwur8YXWPH1aWtPvICh0G6BklEhwxDxb8wRJYGlWIIYF+lBYZ728C6CU4Ufr6yYc+9KFijPEqtHe9MP546wxAK/lZB8DaEmYMAHmgr415866tL1pgyfdZ5kcC/fSHNqM/UMmz1B/dEkug75ZI7/8T6HvLZ+6/jYxNMZ5LL720UOzooAB7FJwFfljmEfcZpVI8Npa4AXbllVcWb20YoI+cAgyEmQ1mLfAYI1kwqftRWmV8vwnqPpbgZZTZiMbUScwLGr9enC+vRaImShZTgwVA9QN5XqHvGQmuYa17Rl33derXzM/Tl0C3/hC3pz94/MZk6A8JYuLgo8bAl6o/uiWTQN8tkd7/J9D3ls/cf8urMq3plxUIRxY+qpQXpfCuUHCyaGVBB7DG9K1BKyimB6xjXQGKnvGw1VZbPZMh2nQtzydGh7pDEboGkA9akDefZX4kIKnO7AqeOhZG+4jVai+KXxKqEkB/1113lVCMZC7TAuN77e73vEAAAeyBBs8+y/xIoEl/COHQH/J5Zq0/2iSVQN8mmebjCfTNclmYoxFDN7WJVy8GRlFT2ArvipdVz8IfZXORiOlJpAkQANg8tF5LsobHwFNgiHhea7bHHP9xZZUuTIPN+YPy5PUdfQklj7I/8MADC1jz2IG5EtR9bLIkiQ/Ir1XF4pX/WUPt+73f8ezHOS+43CT/LFkCTfrD7Al9IKYTxyweuT6Mtmnqj7YKJtC3Sab5eAJ9s1wW7mhkb8rCNz9WrJXyFSc1mHlT3Vn4EmuGzcKPWDsv3e8p8qYYbgjQPFfePOC46aabikd3+OGHlzACIyQ8wDg/32crAf1FvxGnP/vss0uMXYgGI7ScPHKGqz6MqTJ2MFwredOdbv1h90H9AHOjaPtdd931WVn409AfbaMhgb5NMs3HE+ib5bJwR4NKlUXLE/vJT35S4qayngG9LFpL+D6ThV9RqWtXym1YoC1UXzX4eXSK36N027JxJfEZlJ5LhjZvQHKPLN5RFMXCNcyCPbB2BYIUvXUTtBnaHiMkx8O0yuVQgJgwEpra1FFeq813jJGVWLr1B0OPbGIhHazMLPRHW1sk0LdJpvl4An2zXBb2qBX+gDwK32CQ+GYQA2Oetyza/fbb75ks2n7zpJcqCN48yt5ziM9K8DLPOnb/ixg+iv8vlfJ9unrnaWEKxHct9FOPDfM40cVPVZ7YU5Un5n/FeUtZ2GOp9ez3+0WrJyVv2qZ3hqJpdoDQdMjlUCJEIZnQglP65ic+8YkyO2Ue6hcGtYRG/d2YcExbeBkfnlk4xGffm/nAgGGoWZsiGIphDOom/eF6oT/k5ExTf7S1RT+gJyu6gfzIhH7BRqqHvAP6gty6c5VinQ/nkiH9+IpKzutU5yrBeDkv2oVx7DxhTNcdZhpzMCk5j76tpfN4owQiaQ6FLwtf8pxjOr5ObsUyW+3y7MXbJu2h8ZbOOuusooTQv2Lz9U1wIobP82cU2LhFHgCQRxXy/OuxYdm7MvcxBDLEKTfFeR/96EfLe6NgZnxw0eoZSx+bDknepsUdcsghZV+HGYtyLLcPoOe5MkSB5oknnlhCFGO5wRIvEiEy40I/xz4Ac6ALWIAK0EWpy5UxDmxyJX9GX5NEuVs1q6U7ibLfYzXpjzAeZqE/2p63H9ADeGwEw4VekXNAhtrZ4jr0RRhC9XvEOh+YLLqRYUvOzlVc0zmhg5ynTbSDJYNdd5iFoWYG9BpVp2Gt8ASDoq0Lo9dncVdWjZcKs5qyTE8CAJ1CEKOnwKyfrJNTbOLxsRBGdxa+QTzOovN7DuzCmWeeWaxpQGxPdYNG31ACAGVtAxWUsWcH9JLATOupJ/sF0Lvu9ddfX1aVYnm77lFHHVUYi3HWY1zXWrR66i+MLgajBY54LEcffXQxDpdDbkUAPebL5i4A4HOf+1yJQY+rzUe5jnEDpOhgbAqg0uf1H5688U0v6/OACDMGjIDYt7/97QJC2sp0xvpCN4OG6Jr0BzaOvJRp6Y9+shsU6Ok++oTDw+nAalpill4BzpwIBc6pu1yiM844ozCQjCThKg6Hc5UAesnFDCvX12bkffDBB5fzFwLoKVxUFo+JtUFZR9HR6qUpkYt1yarx4rn5P8v0JKCNdFqeQFD4kuAM1siipQjEXOtZtAbAOAuDkWfuGb71rW8Vgw9QAOT67myhWJzLUna+HANgcsABBxTFa1lLilgJ6h7laslI9fS9ZX7nmVqOelLg6smTtFJY1JOX0VZP89SjnhTPNOoJTLShhZi+/vWvF2UmiRITRNkDmkUu8wr0HCwzaIATOld/F24LUELD87r1B+egiY0puhrQMxJ22WWXcgz48PyHoe6b9IcFsugPRX+dhv7o17f6Ab3xRnaSgYGx8SZJWQH0lvYF5Gh8RX8nO/399NNPL0Yu/GIQ1HM3grrnkFhP5N6KQVmr+r1z6StrTiwEdY/6oYBUZClAr8K5ElbpQzP5Ex4Z4NQhKQVegQ6toPBZqhR3JFkNoxD6Vco8XAOMRwi4Wc6f+tSnikfY9FsKjvdiAAM2VrJYIADksQAXpdvyZiBEHeoUW9M95uFYKHL1XLVqVWkPTEevegJaBsI060nhe1F8X/rSlwq4YFg8wyjTq2Yl+zCwvNdLUNQAgEfPCzv++ONbqXseMXZyUM+4fq9BPoe8f1OB/K3VmKV/6WLjBtDYCpvT5P6enUd5wQUXFA9TCE4x1jCpsRKm80c1yOr6w0qW9AfDb1r6o5/M+gF9/D4Yauefc845RQea3it8WQ8hhmOiP5ArXSQvBdBjRuQW1Yv24Wg8UK1ZQs4cJ6ESvxmmzIy6p1A0KipIo3ZT9+HF65hNhcWns4npydIMaqTp3Dw2OQloO8Auvod6BfjYmlhIR7tER+bZ6/TablyKjCUtjkUhGWQsZx69GH1TYU37jXNR/QZe08p76uVcIQkA6H+bQAhF8F5GXeK36ZkmcWzUevIkUIPTrKcxrt+ccsoppd9YEpf3GN7lJOQz7msaA3XqO64f4wOlC+jXrvr+4Ycd1pqDoF8JJ02qf9GzjFsAYrYDr56cjUtslZi78Un/Og8g2b0Nve88fR9TZkwzGh1byngO+dAfHD/9AKhNS39EO7W9Dwr0GGnGtfPJiwFj4TAyqjsG+ggWG71Pt/gfjnFWm3J/MIoofnjJGNBGwaC0PXPT8ZkBvYHh4b13lwD5ON4G9r6f9MCIZ4h3FrvO6d2g6fVs8ZtZvANS8XDv4/Sg2+qC4hOH5Jl5ibuSkWfQkXX2j3zkI8XTbkpOabtuv+M8bTH3eFFEhx56aKsi1XbA3YAELGJhklvKgKwG2+vWJMOEJ2agYSp4LIdVCtpAG4fHFc/hfZg+RJ76vHfjpHushLzi+rOuZzxPv3dyZlBRfGZLkDPvZlFCcuG4SJoi+/Dsta3PjF8LTBmL1pkAkPUyLcclDECAyqP0rAxwhpWQTndozVj+4he/WJwyDIs2CbCpM2D1uozyeVb6o9+zDgr0jCJg7/yTTz65YBsmk17BZMaSvkITQpycE7qHnvE7IeiPfexjhZL3TNoFNjIItBMDHEPAIBhFf84M6HV+FYwB0U/gbd8DsnEo3rbrdx+PLFWNQPjdTET3+bP6n9Ut3vySKk4+yjz2YZ87KHEK5LLLLiseAxlpX6AkmQeNxSrlLY4rCz82y7BEKk/AgEL9snqbivbyTAYkqhijZNMbsTTKLp7LcV6YOLfPDAgWOuU2DsOJx0L5G+zKoGCvTYVDMCWew6upzEs9m56t6RhZozwZbtgYhiEamdwXoaC/MVpYynooUrt6RShFXXjNjN96YdBQ9pMORTJEyBr9zjAXqjriiCOKAc6YNVbrxTlf+MIXihfKOEHfGweeVQydgTKOQj7Anv6Q3ItxmIb+6PfsgwJ9GHTkRa9gSoA8vRJhKPeipy688MKSi4CNpouAP/3IkdDnlQhpOF9bMe6DEYV33dP1yo96/Emg7yGcpq8iJkwh8QxZXvNYAEFQbeEBTvI5yYG3QNEBepSfgWsAK+hI4Kvzs0wlqIyjhCfAQuYN8jowB9ba71UiJuz3AJ4B4tn83uBjNFiiE81vQJJl06Yrve7R67tgIjAf+hQDcpACJDwnxRBsTa/fzbqevZ6t/p1+IxbJcGNMkTVQCU+ofu48fn6gMtqub0guDk+PQUf5U9BNocYA+kknF6Pg7QXBUyRrFPyRRx5ZPMW6XI0BYzqAyzjRHvqeJDzG5jhL6A8AD+inpT/61WFQoI/rGG9f/vKXC3iTF71isy86BF7o5xhCeoUOVG9t4ft6yFHsngwYARxieqm+Lkjcb9D3mQE9a20RqXsNILbC09NYgyroQRtkXOfpGDpZ0GujJssM+jzhQVIIOruXQeJ/hScKnCgKFFWbxz3o/eI8iXimn2gPhgYFtOeee5Z6xzlN76zkU089tSTyMQoMSgqM3PRNlrQBqV6SlDwvWpM1PY7Cs4pwg4Hu/0GKZBwxdB7vIEA/63oOUifniFuKYesvqEkxY94Qw2YRCiX+uyoU+ZfKsKW89RvFcYwQBY+6l4x30EEHPUPRRt2CuufpO2dc/SyuH++R3MUwphMYVJLqug3jYC6NYSEV/2PKjF9jLGanxHWX+j4r/dHvuYcFeoyEkCC9xGjjRNAr5MXIcpxxr4/IJ+KcMKb0+WOPPbboIc8U44Fnj+FyLc7GqHKfGdBHTMsgqA+MEHzEHtsozRgYLKEmCzmuM+53zyueGAln8wr0PCGxtOgcsUnIuOXRfT3eqQ7NGDLNRJKN9tVBxfcoikE87u7rtv1v4FCg7qktKKFBpoVJ3rPAjt+h6w0mlCTPCthQhNqZ4m1ShG3PI+bGc1Ncl9JuKiEnAxqVWgf66PMxBuq/p5DJz8DvRd3HbyZVz7h+9/ug9e/+HTlccsklRfboevUD9OLGi1woan2UMp/1PHr9iuF3ejWti/7iBIgf2zWQZ18v0T8BnefGCprNYvwaE+Oi7Ov39DnuOy390X3/7v+HBfrINcEIxnRcWfJCIvoA5zCmjWoP561evbronRNOOKEY8MYQR0NyonMkp3I0muTuXMyMQue36ZuZAf2iTq8LSzdoexTXPBbAjr4P2p73N41S5FPNtf1ZBZLmtVsYwuBlsbJsKYp6LHypz8Q6NhitSoUeNbjEsrqnqXTfh2djep3fGUA8Zdn35OZ6gJfH43rDTN9kIKAeFfNouz2leA75HZgDoQ1ggJ4bpBjIYUD0SsaLa02qnnH97vdB69/9u4hdMpIYazzNcfaT7vtN6/95AXqAwWsOapkxS77ix3Jnug0qlDGmzFhAIetzVvQzfkeJEQ8q72nrj37PNSzQM9rPPffcMmWR0yDmzoHg7DBkvXNE6EPOLv0o1An8LaSEzqeTGADaiA6nNxliTfPmnRvz9mN6XpODMDOgZ1Hmgjn9utnifV8ozCp/gWUbHj1jCOuCUkeRo/C7s3tHrSlgQJdhDgwMCsk0FdRvr+J8ngpP0sDwfAYky9vCHYDYIOX1YI3aLOXuewA6A1cZJ3PRfZ9B/59UPdvur/6WRFaGYUKEMc4777xCcwN5sh/GwGp7nlkfnxegB/JABnBJFuMFSkIF8gBfyEpxjhAY/excY8tYZnx99rOfLUDfBDjjkvO09Ue/5x4W6IVoZMkbB5wGeoVxxNDCPHIe6Cd6KpwU50ts/MxnPlPagTHGaQHydKXx0JaUCujDsQD0HIu5AnoNyqLh0ehcEdPqJ/j4Pqh73hglPKmYVtwv3weTgBwGyiHi9NpZZxdGQBHytHX27uzewa7+3LOEUljRPFegBpTNd+eh9yoYpVigA/0lWZDC82ysaX2KEhT6MGAHzXKN7GH3bsqu7vVMk/huUvVse1aegz6gAI9BDTohBusa0Am8TKEUxpp2WeQyL0AvKZC3DLhi+pdpfkCoPv0rPD+GgLYwriSlGlef//zny/mApAlMxtFO09Yf/Z55WKCP2DpdBNyFLHnjxoE2IEd6xv90l+t/4xvfKPk2n/zkJ4tnzyAg39iDw7lt+EbfxHhjPLSNt2jX3NSmX4vn9z0lwAMG6jq63cgobt42q1S2qMTA+sIRPS82xJeUkUEF7FGMgMF0Id5grwLMrWHvd5Qaw4P3znJmRAJpYGNgDlOCIvWbcUzDG+beTedOqp5N93Js1PpH0iBPxroGmB8GYqxU2Ha/eT8eQM8rFoul+I855phi+E7z2SP7nwH+1a9+tfR5Y9KLYYVKFj6SHCanADAoYShKHONxOh9Dp28Dn3GFBGelP/q1wbBAT16SeBlIHAgOAp0kNMLJ4TjQLfSNvu76FsTBomDAnCtviLzF5umkXmXQ8ZZA30uK+d3AEtBpdVDevOk7aPRYq1qsGsjXt2Ec+MJ9Toz7UqSAm2HBMual9CpBm/kd+ku83OCSBIbS9E4p8+aHLQafMimvZ5jnmWQ9255jlPpLvjItiUJCbQIUCrHNQ2m797wdD6A3K4RBqk8NosDHXQ9tAqCNT1nhngctjGmTLMbA5WEynCWMOVd+DwofNYw5Pe6444oBjRkAVH7jnHGUGMfT1h/9nn1YoKcDy/TFyoF4rHIgyJ2cJNPRK4xXrKHjDAHXN/uHvqQjGQPaxXloeHH+fmWQ8ZZA30+K+X1PCVAIrPHILOZVSzARikGfy5zmoem4kygGi8Q5CkLMHTDzmNBjPPM2j4MXz4v08ltAb4DxJCniYeb5G2iUn6RDsnBPz0E5tlFuk5BF0zXHWc+m6zu2lPoHpczTtHSoMJ6FQwA9JUcpLnLBcgFQ6ybwlsP4pfxnUSKG7F1hTBmjPHrPqv8yUHmiQBxwybkwniMG7DtMi/HCcFlKqesPfYD+MCanpT/6PfuwQB+zgDgQvHu6IJYXFiaJpEf1xqDIxP/KV75S5EznYBGFDIE8p6XN0Qh94xrYFef1ovgT6Pu1dH7fUwIoJx6AueCS7yRV6VQ6tOQ7ClsH5i1PogAKz8AjjDXp7Wdu9b1eQEHxotcoF0mhBiSA97wG2aDPC+S8hCkMbsocOJnqwoqfdYy5u56Ugnqia3kPg3gMvdptqfVnqJEdBc9QI7tjq/nE2q+Xodbrmebpu6DMKWQvINlLIU/62SN51TgFRJ6J0aG/GrPivD4zSICt2RBmz4gDy7mQlCfmjFI2rpcaWgn9IYSGOfBc4s4MkGnoj37yHhboeeZ+w1ihE7W1pFyOB9ky/hXjhnzpH0Dvd87haHhpC6xJL0eFQ4WB4UwIMfZK2kug79fS+X2rBHRWwCYur8Oa98mDBG4sUx6A7OlRKfDWG9e+CKDR6QE9ClCSEeqeMmpTRLwseQTA2TvrGWXsuYd53rg/z4fB4LrAE4MxSoy/VrWxfOyup7rtv//+Q9ez7WHa6g8M0ML9chzCEKEUKUegc9RRR/XNsWh7njzeWwJAFNjrr0CckQ5MjFnALYYM0AE97955ksNMt3Oevh2xZmC0lNDKPOiP3tLqFNA+6aSTChDzyOOl7k2FPhSioRO9jDeGtVAgr5uhVy/OYeDSWxhQ5w1iQMm9oW/oW/cw3upJlfV7+JxA3y2R/H8gCYSCF+uzPSwKCh3IC+Mt8ox5Zf0s04Fu1uckz2JwGTDheaDLPENMG+q+hNijbGJUG6oSDYnC5LH0sqS7r+N/9zfwJFuh7ylLQO/FgJhlGWc92+pRrz+FRel4qX+boRXXIn/tIE+Cd092g6yDEL/P9+EkEAwYmh7oB1XPKwTu6HqsCkDicTqP1yi0ZZzEec51nrEySmnSHwwP+sO4nab+6PX8w3r0GBL9mGy9yIexy5PHpnnVSxhe2oHR5DyyJYdexbgG9MYb9sO46cWcJtD3kmZ+1yoBMSKdjCdm3rhBioYDlDFfXudjbU6jAAwLfAAMyslzWFOf91EvBqJOz1PBQnjmTSrP/y1LBGb3lW1LIVJSQYuPK1mpXodBPk+qnm33rtefgaf+vMS2+lP0gKRuoKE2GWgMLsory/KVQJP+cMy4taAM+nqa+qNN0sMCfdt1xn2cg2UTJboOc4i9ZFAwEppKAn2TVPJYXwmgjFDeYuMWmGGZ8opjvjwKipIf1eLv+wBdJ6CAMQpifUEBH3744YUC5olEifNYxD7zuAETpeJ5+1nScZ3ud/H+VatWlWxl1DgajvfTFmPr/v24/59UPduec9j6RxKWkIv58xSRecMUfC/PpO3+eXyxJDBv+qNNevMK9JFUKXkVAyY+30vfJtC3tXAeb5SAjsVrFVtCHYlxi9+hnOzSxJtlYUroWUoJypDHDSx1Ygly6MKmgi6jPDAMQgk8Rtn+AJdnCcA9N2pfwo9pT6gyxslWtX3om67d61h4pu5r4QtGxSDz+Htdc9Dv3JuczDrgHTNaUK6TqGfbM41af88tfwDQS+JEaZpHLM4oDqy9syw/CfTTH4xuzsK09UebpOcN6I03Lw6NpXZ9PvTQQ4tD0xQaiHol0Ick8n0gCQBI3jCvWfIdyhz4yjCXXWqhGnHZtmkhA92kOsk9zIuXjer6PG6x/zZKN6ZpMUAs2IPaMgjkCJi/KoTAIGEMSEDyvyzXjSvK/pUV4I/6vOGZMh4uuuiiYpQYeJIQJ1nUDbgLQZi3i/ZUHwA5iXq21WXU+mtXbBDKXwIT2pFhhvKfJRPSVs88Ph4J9NIf1tsI/dFm0A/6FMPqj7brzhvQG/PGHKCvOxbm4HMy6uxlvU4J9HVp5OdWCehc/6qmsv262kSGgvYS45ZEgjYSV41d43p1uNYbrPmi3KdiDXjINp2R5MYjpwAGmd8O5G666aYyXcs1ADhKGJDIKeBRABKxQMDYlqzX7znjewD7ZEU7/6Ki7hk+mIMDDjigMAmYiO7km/jdUt8jqUr4xFrZkgB5Q4wswDnuerY9b1v99QnsQnf9PReWxlrgq6vkRUYXY8yURm2snbIsPwkMoj/sNSFsM0v90S35eQN64wcbJlRmOqLQqG2rMZe9SgJ9L+nkd89I4O+S2Cpvnucq6QzAiAOj2GL+ubg82rXNqnzmYj0+AA6gZV41aspUICAAxBgSMrl7lVgS1ywAFD7QAyReMQ+YMvEZKC7VczCAGBeSERk/ricJEMMhMWZSOQoGu/3Pb6uobwuaCEmYmmbhEy/1HWc922TeXX+GlfpHzLA758H5VuujqKy77Xv9h6LCsozKrLQ9Xx6fDwksiv7olta8AX2EKDFhwqZCpk1Jx931SKDvlkj+3ygB3rAFNgCwbE/KWowbRS0ZZFyUG2oPcBpgF154YfHCxezMX23aN7v7YQ0EMWvJKrLwUfXAF/ihhePFIBlHMYCArBAGGh1QSSjDGEwS6MXhGVoGPGZFPRkV8hg2rqa2ycJV13HVs01WveovjNAG9GTFONKHgglqu0ceX3wJLIr+6JY0gxRjZqwxRhmwXrNa2ZDjIjxJR/psfMuNkmvUq3AMOEH0otwqhT5VF4xpW7Z+r2s2fbdWFVP8vwXAm77NY3MvARS6WDBPmVePlpY4xdNG2+tolPpSs8wlaKHcAb37mSYGOAE9Ch6A9ioRqzcLQMfGEHgmAKwz25WOFdwNQL2u2eu7oKLR0QYTqhpTAOQmSd2jQsnmqcqw+WNFf6une6uXe6vrOOvZJoO2+jOuelH3ZKWNnNNrWlDbffP4YklgUfRHt1SDgRKiNJ4Ypl7Cf7MonArMIcPDGMNMcrb6GR70YtEX1ZjzW8Vv1EldjMNxlAT6cUhxBtcIyk3yh+xoFi6vWVKcmBoQHmRhlH6PHrF5CoEnrjMLDwBLSXiAfhDLtd998vuUQEpgehJI/TEeWUfyLf24usptoYOtOYG9o4sB9jyUBPp5aIURngENDuRR9gBY/JwVaQqdLGlxed7jUj3kiM1jC4QGTLtCR5syFstOvqcC+zflQiojtGL+JCUwGwnMQn9cddVVJX69nPRHOEJ3VSuAXl4tUCb7PnKBgj2bTQs/+64rHuhRP6hKlKX4qv/RKUBSQpvGcgwF7DzA53uUCrp5WlRsNFtQsmLAprnZ4c0qZjxsVJG4OereamZLKWGpRpKJuK0FeEyPIyeyMT0O2AsTMDKypARSAvMtgWnrDzpT2E8Mmv6QA7Ic9Ac5wgx4AOxNS+V0odsnuSvoqL1rxQO9xAlTigBYJFLoiGLOktnQL7xlSW7AjjXqeyAfiVXTSK6KBo7YlPnyPGwDyGASn5LAISbP215qljTLVGeWrKPusuzFkAC/ju0+NqkB9MIES11II+qX7ymBlMDkJDAL/UGv0pvLSX/ABEYLecrBkXDrZYYKXQgf5qkk0K8BeoApzm1BB+AmxmIepAVhGAM6qg4r6QLoKZFwIUvSeZMsgBeT4P7oc8l35qV7JkUHY5x4H0cJoNeR1R3AOxa5m+L/LFdAn/OsxyHxvEZKYHIS6NYfZoQI+aX+GE3mAfScLOwuvQsPOFyAfylTmUd7ot6/WvFAH9Q9gEe9oMHRMDK0UdOmf5lapvFkQwI+dLnzLciyWTWX3NKqVkCaZPGcwJZBItblGXjankeJrG5WZYBxdLbu/wd5zqDuefURrqj/DtDbJAfQD5JdWv9tfk4JpASmK4Em/UHPhf6gN8wKadIfozxpXX/IKuekhB5yvUXXH0Hdew+PHotKfqF3R5HbpH6z4oE+BMuyZeGi52OKhAVhgLv4t3nQqHoWnPNQ5+ZN8vxPPPHEEqeOa03i3YA0MN0X0HtOIQQdTYnOVR9MTc8R5zV913Ss+3rxe7Iwz9oUPlmm5nxmSQmkBOZTAm36AwDXS9t4r58zyOd+10n9MYgUx3dOAv0aWYrRx1rswEwSHnAXo7eSmbiLxDuJJVYO41GbVy5WfcIJJ5RNY8bXLM+9knCBewJ61D0K3yBFyQX4xq9ikMXx7v/jvEHfm37PIt9tt92KgcMgIqssKYGUwHxKoEl/yLWhP7pL03jvPmeQ/3tdJ/XHIBIc3zkJ9GtkyTu/+OKLS4IFQLeykZiLDln3WGN/dYDLqxYXP+6448r67ONrludeiYFh/rrEwTpl/9wzp3OE4SO7XyLiPM0XnU7t8y4pgcWSQOqPxWqvcT9tAv0aicb2gmL0gJ6XGvPRY5Uip/L8bZLCmzcXFQV15JFHloS0cTdO/Xri5HIFxOlR9vWYV3jucX63Jd39f5w36HvT78WjJKCQzTzNFx20TnleSmAlSaBJf7TVv2m8t53b63iv66T+6CW58X+34oEedeXFQ//a175W1ijnrZoyZntXgF8vDAGeP2/e7yxMc+CBB5bNUurn5eeUQEogJZASSAnMgwRWPNDzjFm7pquddtppZSqZBWBieVe7jdWLFeLsN8yzl4Am296Sszz7LCmBlEBKICWQEpg3Cax4oLfinXnzNms544wzCi2+1157lWljYvOxyxjvXfKKRDjnSW6xa5I4tcxzceosKYGUQEogJZASmDcJrHig795+1VS6ww47rAC93btihSPT2BgFFpo4/fTTy2p5Yvg77LDDTLdHnLcOlc+TEkgJpARSAvMlgRUP9ObMW4QGdW96nQSzY489tlD3QD42hZEAZ4U8nv9ZZ51VkuEOOuigYhCg962INMsiSS9W7LPOfRgowz6TUIYFLqzjbO4tw8eiQRIUs6QEUgLLWwL0iJUwlXB0upN9B5FA6pFBpDS9c1Y80FuEhpduVTwJeUDSdDlxeksbWvVIQe9b2xjQS8aTaX7MMccUoB/H2vJLbXLT7i6//PJymX322ec5SYSDXh/AM35su2hmgdWy5CCYZpglJZASWN4SsFnWlVdeWVaxswub6bOAfliwTz0yX/1kxQM98L722mvL9onmp1vpDoDbBa5eWLnmsfP8b7zxxpKId/zxxxfP345FjIJZFkB/6aWXlkfYd999hwZ6CYmMGaEMq/+53g033FAYjqOOOmri0wdnKbu8d0ogJfB/EgD04TDIVRoW6FOPzGdPWvFAH9Pl0Pfi8BLwUPJ2gqsXC+UAPqvT2fzGiniAfvvtty/09rAWb/3a4/iMZrdanhKbKwxzXbQ/RgPYC19YYMM2uNb8F8qQdJglJZASWN4SYOTTI+bA0yPWyRhGt6Uemc/+seKBPhbKYclaxtV0uaCs6k3Gw73ssssK0BsIdqs79NBDC9DXF9Sp/2aanw1MMwOUUXZPigHKYBCTx2BcccUVZaB/+tOfnvjKf9OUVd4rJZASaJZA6pFmuSz60RUN9Dq16XLmz/PYLX7Dc91ll13K0rb1xmUQmD8vlg8MLaqz6667llj+5ptvPhebuqiPMowFHnUMyg2r8aJq1btfVKzFOeecU0ISCfQhpXxPCSx/CaQeWX5tvOKB3hr3l1xySeeJJ54o8Shgj7bv3o3tvvvuK0kqzrflI3pb/ArVPyugNyABtL2RPZMMedskyhmQ9cogkUHfVBgDPH/JdtYKkFwYxXXR+Keccko5lEAfksn3lMDylEDoEfqivu1q6pHl0d4rGug1oZgU2loHNyUNDd9ExZt2Im7tfBQ5QO11/qS7BzD28uy33XZbmfoHrBkgttaV9SqXQAZ9U4nBbFOenXbaqVNfATCBvklieSwlsHwlIFSH3eTwcBRMFxbCM6049cjit/uKB/pFbcIAerMGrrvuumKE8MzNfQXaLPQcoIvauvncKYHpSsB0WnoE4HMWgDwngAOUemS6bTGJuyXQT0KqU7omsDdAV69eXbLlTQ00G8ByvBb6Sep+Sg2Rt0kJLLgEHnzwwQL0Zt3QH5wFuoR3n3pkwRu3evwE+gVvw1jgAsVmkR8L26DdGAE5QBe8cfPxUwJTkoBNuq6++uoS8tt6663LeiIWApPLk3pkSo0wwdsk0E9QuNO4NFpt1apVZcOd/fffvwC9PAIr/iXlNo0WyHukBBZfAtYRueCCC8paInvvvXeZPiz8Zypx6pHFb98E+gVtQx67pEDL1Jr2x/I+4ogjykwAa/Kj4pYyQC0MdOqppxbpZNb9gnaSfOyUQB8JRK5PrCfif+uDbLrppmU2z8MPP5x6pI8MF+HrBPpFaKWGZ7Rlril1d9xxR+eiiy4qU+sMUFP9HI9NaYadXhcD3/S6BPoGweehlMAykkBsvx3rhITDYIqxNTWEBEeh7lOPzFcnSaCfr/YY+GnQak9W8+QtbHPNNdeU5LsDDjigrAFQ34xn0AvGoHZdnzEF5513XplTa9vebbbZphgTkvzMvTe9MEtKICWw2BIw1mMqrjXujeuDDz64s8UWW4xUsdQjI4lt4j9KoJ+4iCdzA1Y2Wu2uu+7q3HLLLZ11qtXsLN3LEgfEsb3uoHe3mY3VAR9//PFiwVvy1+Y9FuHZfffdyyY5sbiObFxTcLKkBFICiy2B2JZWUq/1OKwh0rQE+KC1TD0yqKSme14C/XTlPba7AXqJMsDZXHpAv91225W5r0sG+iqZ77fVQjwGP6AXDrB9bwL92JovL5QSmAsJyOex2ienwWdrcVhAizE/SnkW0KceGUWEE/lNAv1ExDr5i6LInn766fJCvVnpzk5zVsdbEnVfLZDx7+raKHzWvpgdK991gX5S95Nv27xDSmBaEuAsYAStoGmM27Fuyy23LKtrjvIMz1D3qUdGEd/EfpNAPzHR5oVTAimBlMB8SkCynES8WHCLUW/fjo2rRbcsmMO4z7J8JJBAv3zaMmuSEkgJpAQGkoBZO7zvu+6+u3N5tf020BebF6YLVnCgC+VJCyGBBPqFaKZ8yJRASiAlsHQJAHehPqE5YG9hLVtvW+pW0q2VNbMsPwkk0C+/Ns0apQRSAimBRgnY0lryrmTe2MHSlDqzaDbYYIOyI2fjD/PgQksggX6hmy8fPiWQEkgJDC6BAHrLZEvaBfAS8OyPAfgl32ZZfhJIoF9+bZo1SgmkBFICjRII6t57ePSm5vLqE+QbRbYsDibQL4tmzEqkBFICKYGUQEqgWQL/C2apdz2yKNIRAAAAAElFTkSuQmCC)"
   ]
  },
  {
   "cell_type": "markdown",
   "metadata": {
    "id": "jfLph3nbjDqO"
   },
   "source": [
    "![스크린샷 2021-11-02 오후 4.31.52.png](data:image/png;base64,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)"
   ]
  },
  {
   "cell_type": "markdown",
   "metadata": {
    "id": "yYix1hOnjDqO"
   },
   "source": [
    "> MSE + penalty를 최소로 만드는 w, b 찾기"
   ]
  },
  {
   "cell_type": "markdown",
   "metadata": {
    "id": "s-keWpjFjDqO"
   },
   "source": [
    "```\n",
    "MSE와 penalty를 최소가 되는 w와 b를 찾는 것이 핵심이다 \n",
    "이는 w의 모든 원소가 0이되거나 0에 가깝게 되야한다는 의미이다 \n",
    "그렇다면 어떤 특성들은 모델을 만들때 사용하지 않게 된다 \n",
    "모델을 만들때 모든 가중치를 고려하게 된다면 복잡한 모델이 만들어지고 그만큼 학습 데이터에만 잘 학습된 \n",
    "즉, overfitting이 된 모델이 탄생하게 될 것이다 \n",
    "\n",
    "따라서 penalty를 추가함으로써 자연스럽게 학습과정에서 덜 중요한 특징들은 사용되지 않게 적절한 특징을 \n",
    "추려내는 것이 관건이다 \n",
    "예를 들어 100개 특성을 갖는 회귀 모델일 있다고 가정할 때 α=1로 설정했더니 95개가 0이 되면서 5개의 특성이 사용된 것을 확인 했다. 이때 성능 측정을 했더니 underfitting이 발생했다\n",
    "그런데 α=0.0001로 설정했더니 5개만 0이 되면서 95개 특성을 사용해야 했다. 이때 성능 측정을 했더니 overfitting이 발생했다\n",
    "결국 α=0.1로 설정하여 70개 특성이 0이 되면서 30개 특성을 사용하여 성능 측정을 했더니 적절하게 일반화 된 모델을 만들 수 있게 되었다 \n",
    "이때 이 α를 구할 수 있도록 파라미터가 추가 된 것은 L1-norm penalty를 추가했기 때문에 가능한 일이다\n",
    "```"
   ]
  },
  {
   "cell_type": "markdown",
   "metadata": {
    "id": "qZEi761njDqO"
   },
   "source": [
    "## Ridge"
   ]
  },
  {
   "cell_type": "markdown",
   "metadata": {
    "id": "xbmiLxtGjDqO"
   },
   "source": [
    "```\n",
    "Ridge는 L1-norm 대신 L2-norm을 사용한 Regulaization 방법이라고 생각하면 된다 \n",
    "Lasso와 차이점이 있다면 가중치가 0에 가까워질 뿐 0이 되지는 않는다 \n",
    "왜냐 하면 Ridge는 절대값을 추가한 것이 아니라 제곱합이기 때문에 0이 되지 않는다\n",
    "\n",
    "따라서 특성의 중요도가 전체적으로 비슷한 경우 Ridge가 좀 더 괜찮은 모델을 찾아줄 것이다\n",
    "```"
   ]
  },
  {
   "cell_type": "code",
   "execution_count": null,
   "metadata": {
    "id": "lnRLIVziH4Bv"
   },
   "outputs": [],
   "source": [
    "layer = tf.keras.layers.Dense(\n",
    "    5, input_dim=5,\n",
    "    kernel_initializer='ones',\n",
    "    kernel_regularizer=tf.keras.regularizers.L1(0.01)\n",
    ")"
   ]
  },
  {
   "cell_type": "code",
   "execution_count": null,
   "metadata": {
    "colab": {
     "base_uri": "https://localhost:8080/"
    },
    "executionInfo": {
     "elapsed": 275,
     "status": "ok",
     "timestamp": 1635764265617,
     "user": {
      "displayName": "정지혁",
      "photoUrl": "https://lh3.googleusercontent.com/a-/AOh14Gi2xnkUvkGuxYJpQ869taL552Birarh0kp9GKTKCQ=s64",
      "userId": "09534774022449022692"
     },
     "user_tz": -540
    },
    "id": "WxldWJ3RJdSo",
    "outputId": "23429e2b-25e3-4a3a-a677-6779b2fa6619"
   },
   "outputs": [
    {
     "data": {
      "text/plain": [
       "[]"
      ]
     },
     "execution_count": 4,
     "metadata": {},
     "output_type": "execute_result"
    }
   ],
   "source": [
    "layer.weights"
   ]
  },
  {
   "cell_type": "code",
   "execution_count": null,
   "metadata": {
    "id": "R5a5ZiS-JfLX"
   },
   "outputs": [],
   "source": [
    "layer.build((None,5))"
   ]
  },
  {
   "cell_type": "code",
   "execution_count": null,
   "metadata": {
    "colab": {
     "base_uri": "https://localhost:8080/"
    },
    "executionInfo": {
     "elapsed": 231,
     "status": "ok",
     "timestamp": 1635764281140,
     "user": {
      "displayName": "정지혁",
      "photoUrl": "https://lh3.googleusercontent.com/a-/AOh14Gi2xnkUvkGuxYJpQ869taL552Birarh0kp9GKTKCQ=s64",
      "userId": "09534774022449022692"
     },
     "user_tz": -540
    },
    "id": "JjXbhaixJhE1",
    "outputId": "c39de923-3489-4a9e-fa98-62926a371aa3"
   },
   "outputs": [
    {
     "data": {
      "text/plain": [
       "[<tf.Variable 'kernel:0' shape=(5, 5) dtype=float32, numpy=\n",
       " array([[1., 1., 1., 1., 1.],\n",
       "        [1., 1., 1., 1., 1.],\n",
       "        [1., 1., 1., 1., 1.],\n",
       "        [1., 1., 1., 1., 1.],\n",
       "        [1., 1., 1., 1., 1.]], dtype=float32)>,\n",
       " <tf.Variable 'bias:0' shape=(5,) dtype=float32, numpy=array([0., 0., 0., 0., 0.], dtype=float32)>]"
      ]
     },
     "execution_count": 8,
     "metadata": {},
     "output_type": "execute_result"
    }
   ],
   "source": [
    "layer.weights"
   ]
  },
  {
   "cell_type": "code",
   "execution_count": null,
   "metadata": {
    "id": "eP_GQzCyJTfk"
   },
   "outputs": [],
   "source": [
    "tensor = tf.ones(shape=(5,5))*2.0"
   ]
  },
  {
   "cell_type": "code",
   "execution_count": null,
   "metadata": {
    "colab": {
     "base_uri": "https://localhost:8080/"
    },
    "executionInfo": {
     "elapsed": 276,
     "status": "ok",
     "timestamp": 1635764292863,
     "user": {
      "displayName": "정지혁",
      "photoUrl": "https://lh3.googleusercontent.com/a-/AOh14Gi2xnkUvkGuxYJpQ869taL552Birarh0kp9GKTKCQ=s64",
      "userId": "09534774022449022692"
     },
     "user_tz": -540
    },
    "id": "KeDaIOQtJYSU",
    "outputId": "7766471d-4c82-43e7-ec39-fab6db8ade81"
   },
   "outputs": [
    {
     "data": {
      "text/plain": [
       "<tf.Tensor: shape=(5, 5), dtype=float32, numpy=\n",
       "array([[2., 2., 2., 2., 2.],\n",
       "       [2., 2., 2., 2., 2.],\n",
       "       [2., 2., 2., 2., 2.],\n",
       "       [2., 2., 2., 2., 2.],\n",
       "       [2., 2., 2., 2., 2.]], dtype=float32)>"
      ]
     },
     "execution_count": 10,
     "metadata": {},
     "output_type": "execute_result"
    }
   ],
   "source": [
    "tensor"
   ]
  },
  {
   "cell_type": "code",
   "execution_count": null,
   "metadata": {
    "id": "2sbR96-UJa2B"
   },
   "outputs": [],
   "source": [
    "out = layer(tensor)"
   ]
  },
  {
   "cell_type": "code",
   "execution_count": null,
   "metadata": {
    "colab": {
     "base_uri": "https://localhost:8080/"
    },
    "executionInfo": {
     "elapsed": 232,
     "status": "ok",
     "timestamp": 1635764296869,
     "user": {
      "displayName": "정지혁",
      "photoUrl": "https://lh3.googleusercontent.com/a-/AOh14Gi2xnkUvkGuxYJpQ869taL552Birarh0kp9GKTKCQ=s64",
      "userId": "09534774022449022692"
     },
     "user_tz": -540
    },
    "id": "hcfh0KSuJk6h",
    "outputId": "266e7fbe-7545-4c40-a212-c5a0f9319857"
   },
   "outputs": [
    {
     "data": {
      "text/plain": [
       "<tf.Tensor: shape=(5, 5), dtype=float32, numpy=\n",
       "array([[10., 10., 10., 10., 10.],\n",
       "       [10., 10., 10., 10., 10.],\n",
       "       [10., 10., 10., 10., 10.],\n",
       "       [10., 10., 10., 10., 10.],\n",
       "       [10., 10., 10., 10., 10.]], dtype=float32)>"
      ]
     },
     "execution_count": 12,
     "metadata": {},
     "output_type": "execute_result"
    }
   ],
   "source": [
    "out"
   ]
  },
  {
   "cell_type": "markdown",
   "metadata": {
    "id": "WsJKAdK2JlpZ"
   },
   "source": [
    "### Regularizer / penalty"
   ]
  },
  {
   "cell_type": "markdown",
   "metadata": {
    "id": "rvLbcDnzjDqQ"
   },
   "source": [
    "```\n",
    "각 항의 계수를 작게 만들어 가설함수를 간단하게 하고 과적합을 피할수 있도록 유도한다\n",
    "\n",
    "loss = loss + regulizer_term(L1, L2) \n",
    "```"
   ]
  },
  {
   "cell_type": "code",
   "execution_count": null,
   "metadata": {
    "id": "s8p3gljijDqR"
   },
   "outputs": [],
   "source": [
    "(X_train, y_train), (X_test, y_test) = tf.keras.datasets.mnist.load_data()\n",
    "y_train = tf.cast(y_train, tf.int32)"
   ]
  },
  {
   "cell_type": "code",
   "execution_count": null,
   "metadata": {
    "id": "5TVtt6BTjDqR"
   },
   "outputs": [],
   "source": [
    "model = tf.keras.models.Sequential([\n",
    "    tf.keras.layers.Flatten(input_shape=(28,28)),\n",
    "    tf.keras.layers.Dense(128,activation='relu', kernel_regularizer=tf.keras.regularizers.l1()),\n",
    "    tf.keras.layers.Dropout(0.2),\n",
    "    tf.keras.layers.Dense(10, activation='softmax')\n",
    "])"
   ]
  },
  {
   "cell_type": "code",
   "execution_count": null,
   "metadata": {
    "id": "XMsrUBLIjDqR"
   },
   "outputs": [],
   "source": [
    "loss = tf.keras.losses.SparseCategoricalCrossentropy()"
   ]
  },
  {
   "cell_type": "code",
   "execution_count": null,
   "metadata": {
    "id": "D5SCOhxRjDqS"
   },
   "outputs": [],
   "source": [
    "prediction = model(X_train)"
   ]
  },
  {
   "cell_type": "code",
   "execution_count": null,
   "metadata": {
    "id": "GxkVo3_jjDqS",
    "outputId": "faa2382a-e1f4-43bd-c09c-486bc46b5322"
   },
   "outputs": [
    {
     "data": {
      "text/plain": [
       "[<tf.Tensor: shape=(), dtype=float32, numpy=40.870396>]"
      ]
     },
     "execution_count": 47,
     "metadata": {},
     "output_type": "execute_result"
    }
   ],
   "source": [
    "model.losses # regularizer를 반환한다"
   ]
  },
  {
   "cell_type": "code",
   "execution_count": null,
   "metadata": {
    "id": "n3afYZwijDqS",
    "outputId": "3e4cf9cd-00c9-45cf-b2c8-fb8f95a5a156"
   },
   "outputs": [
    {
     "data": {
      "text/plain": [
       "<tf.Tensor: shape=(), dtype=float32, numpy=164.54881>"
      ]
     },
     "execution_count": 48,
     "metadata": {},
     "output_type": "execute_result"
    }
   ],
   "source": [
    "# loss + Regularization term / overfitting은 덜 나지만 학습속도는 느려진다\n",
    "loss(y_train, prediction) + tf.reduce_sum(model.losses) "
   ]
  },
  {
   "cell_type": "markdown",
   "metadata": {
    "id": "wOdAZ52ZjDqS"
   },
   "source": [
    "### loss function의 차이"
   ]
  },
  {
   "cell_type": "code",
   "execution_count": null,
   "metadata": {
    "id": "cw4vEjkhjDqS"
   },
   "outputs": [],
   "source": [
    "(X_train, y_train), (X_test, y_test) = tf.keras.datasets.mnist.load_data()\n",
    "y_train = tf.cast(y_train, tf.int32)\n",
    "y_train_ohe = tf.keras.utils.to_categorical(y_train)"
   ]
  },
  {
   "cell_type": "code",
   "execution_count": null,
   "metadata": {
    "id": "BPfAJb51jDqS"
   },
   "outputs": [],
   "source": [
    "model1 = tf.keras.models.Sequential([\n",
    "    tf.keras.layers.Flatten(input_shape=(28,28)),\n",
    "    tf.keras.layers.Dense(128,activation='relu', kernel_regularizer=tf.keras.regularizers.l1()),\n",
    "    tf.keras.layers.Dropout(0.2),\n",
    "    tf.keras.layers.Dense(10, activation='softmax')\n",
    "])\n",
    "prediction = model1(X_train)"
   ]
  },
  {
   "cell_type": "code",
   "execution_count": null,
   "metadata": {
    "id": "Jh8bpDmyjDqT",
    "outputId": "6fe921f1-e860-4575-ff3d-5017f0d58481"
   },
   "outputs": [
    {
     "data": {
      "text/plain": [
       "<tf.Tensor: shape=(60000,), dtype=float32, numpy=\n",
       "array([192.52524 ,  51.914566,  72.927284, ..., 171.85602 , 150.09734 ,\n",
       "        53.307495], dtype=float32)>"
      ]
     },
     "execution_count": 111,
     "metadata": {},
     "output_type": "execute_result"
    }
   ],
   "source": [
    "tf.keras.losses.sparse_categorical_crossentropy(y_train, prediction)\n",
    "# tf.keras.losses.SparseCategoricalCrossentropy()(y_train, prediction)\n",
    "# tf.nn.sparse_softmax_cross_entropy_with_logits(y_train, prediction)"
   ]
  },
  {
   "cell_type": "code",
   "execution_count": null,
   "metadata": {
    "id": "e005ALo8jDqT",
    "outputId": "806370ab-46a6-493b-d87f-d85b8550a503"
   },
   "outputs": [
    {
     "data": {
      "text/plain": [
       "<tf.Tensor: shape=(), dtype=float32, numpy=116.44715>"
      ]
     },
     "execution_count": 112,
     "metadata": {},
     "output_type": "execute_result"
    }
   ],
   "source": [
    "# tf.keras.losses.sparse_categorical_crossentropy(y_train, prediction)\n",
    "tf.keras.losses.SparseCategoricalCrossentropy()(y_train, prediction)\n",
    "# tf.nn.sparse_softmax_cross_entropy_with_logits(y_train, prediction)"
   ]
  },
  {
   "cell_type": "code",
   "execution_count": null,
   "metadata": {
    "id": "YwO0O-ihjDqT",
    "outputId": "45be1922-903f-456e-e130-749f259c6972"
   },
   "outputs": [
    {
     "data": {
      "text/plain": [
       "<tf.Tensor: shape=(60000,), dtype=float32, numpy=\n",
       "array([2.46115  , 2.46115  , 2.46115  , ..., 2.46115  , 2.46115  ,\n",
       "       2.4379332], dtype=float32)>"
      ]
     },
     "execution_count": 113,
     "metadata": {},
     "output_type": "execute_result"
    }
   ],
   "source": [
    "# tf.keras.losses.sparse_categorical_crossentropy(y_train, prediction)\n",
    "# tf.keras.losses.SparseCategoricalCrossentropy()(y_train, prediction)\n",
    "tf.nn.sparse_softmax_cross_entropy_with_logits(y_train, prediction)"
   ]
  },
  {
   "cell_type": "code",
   "execution_count": null,
   "metadata": {
    "id": "dmJQB33_jDqT"
   },
   "outputs": [],
   "source": [
    "model2 = tf.keras.models.Sequential([\n",
    "    tf.keras.layers.Flatten(input_shape=(28,28)),\n",
    "    tf.keras.layers.Dense(128,activation='relu', kernel_regularizer=tf.keras.regularizers.l1()),\n",
    "    tf.keras.layers.Dropout(0.2),\n",
    "    tf.keras.layers.Dense(10)\n",
    "])\n",
    "prediction = model2(X_train)"
   ]
  },
  {
   "cell_type": "code",
   "execution_count": null,
   "metadata": {
    "id": "8XOfCR-gjDqT",
    "outputId": "2cbde6c0-45e0-4d4e-e9ab-c8d381d10d51"
   },
   "outputs": [
    {
     "data": {
      "text/plain": [
       "<tf.Tensor: shape=(60000,), dtype=float32, numpy=\n",
       "array([17.216707 , 17.727533 ,  1.6094378, ...,  1.0986124,  1.0986124,\n",
       "       17.216707 ], dtype=float32)>"
      ]
     },
     "execution_count": 115,
     "metadata": {},
     "output_type": "execute_result"
    }
   ],
   "source": [
    "tf.keras.losses.sparse_categorical_crossentropy(y_train, prediction)\n",
    "# tf.keras.losses.SparseCategoricalCrossentropy(from_logits=True)(y_train, prediction)\n",
    "# tf.nn.sparse_softmax_cross_entropy_with_logits(y_train, prediction)"
   ]
  },
  {
   "cell_type": "code",
   "execution_count": null,
   "metadata": {
    "id": "ysqwywRUjDqU",
    "outputId": "8b9426cb-418a-47ee-f559-6f63ab511ffc"
   },
   "outputs": [
    {
     "data": {
      "text/plain": [
       "<tf.Tensor: shape=(), dtype=float32, numpy=151.73372>"
      ]
     },
     "execution_count": 116,
     "metadata": {},
     "output_type": "execute_result"
    }
   ],
   "source": [
    "# tf.keras.losses.sparse_categorical_crossentropy(y_train, prediction)\n",
    "tf.keras.losses.SparseCategoricalCrossentropy(from_logits=True)(y_train, prediction)\n",
    "# tf.nn.sparse_softmax_cross_entropy_with_logits(y_train, prediction)"
   ]
  },
  {
   "cell_type": "code",
   "execution_count": null,
   "metadata": {
    "id": "7wDK-MS3jDqU",
    "outputId": "d728fbab-ba43-41f9-f718-fb5dadacb17b"
   },
   "outputs": [
    {
     "data": {
      "text/plain": [
       "<tf.Tensor: shape=(60000,), dtype=float32, numpy=\n",
       "array([114.73    , 230.42961 , 114.96562 , ...,  13.309306,  -0.      ,\n",
       "       137.89368 ], dtype=float32)>"
      ]
     },
     "execution_count": 117,
     "metadata": {},
     "output_type": "execute_result"
    }
   ],
   "source": [
    "# tf.keras.losses.sparse_categorical_crossentropy(y_train, prediction)\n",
    "# tf.keras.losses.SparseCategoricalCrossentropy(from_logits=True)(y_train, prediction)\n",
    "tf.nn.sparse_softmax_cross_entropy_with_logits(y_train, prediction)"
   ]
  },
  {
   "cell_type": "code",
   "execution_count": null,
   "metadata": {
    "id": "uQcCx3cqjDqU"
   },
   "outputs": [],
   "source": [
    "# model1.compile(loss=tf.keras.losses.sparse_categorical_crossentropy)\n",
    "# model1.compile(loss=tf.keras.losses.SparseCategoricalCrossentropy())\n",
    "model1.compile(loss=tf.nn.sparse_softmax_cross_entropy_with_logits)\n",
    "# model1.compile(loss=tf.nn.softmax_cross_entropy_with_logits) "
   ]
  },
  {
   "cell_type": "code",
   "execution_count": null,
   "metadata": {
    "id": "SeyXM5fLjDqU"
   },
   "outputs": [],
   "source": [
    "# model2.compile(loss=tf.keras.losses.sparse_categorical_crossentropy)\n",
    "# model2.compile(loss=tf.keras.losses.SparseCategoricalCrossentropy())\n",
    "model2.compile(loss=tf.nn.sparse_softmax_cross_entropy_with_logits)\n",
    "# model2.compile(loss=tf.nn.softmax_cross_entropy_with_logits) "
   ]
  },
  {
   "cell_type": "code",
   "execution_count": null,
   "metadata": {
    "id": "k6jjvgQkjDqU",
    "outputId": "90e7f6a4-9ec1-4d2b-a433-cd1c5c636707"
   },
   "outputs": [
    {
     "name": "stderr",
     "output_type": "stream",
     "text": [
      "2021-11-02 15:59:12.522765: I tensorflow/compiler/mlir/mlir_graph_optimization_pass.cc:185] None of the MLIR Optimization Passes are enabled (registered 2)\n",
      "2021-11-02 15:59:12.527036: W tensorflow/core/platform/profile_utils/cpu_utils.cc:128] Failed to get CPU frequency: 0 Hz\n",
      "2021-11-02 15:59:12.647707: I tensorflow/core/grappler/optimizers/custom_graph_optimizer_registry.cc:112] Plugin optimizer for device_type GPU is enabled.\n"
     ]
    },
    {
     "name": "stdout",
     "output_type": "stream",
     "text": [
      "Epoch 1/2\n",
      "1875/1875 [==============================] - 6s 3ms/step - loss: 9.0639\n",
      "Epoch 2/2\n",
      "1875/1875 [==============================] - 6s 3ms/step - loss: 3.7299\n"
     ]
    },
    {
     "data": {
      "text/plain": [
       "<keras.callbacks.History at 0x2ab863250>"
      ]
     },
     "execution_count": 92,
     "metadata": {},
     "output_type": "execute_result"
    }
   ],
   "source": [
    "model1.fit(X_train, y_train, epochs=2) # sparse_categorical_crossentropy"
   ]
  },
  {
   "cell_type": "code",
   "execution_count": null,
   "metadata": {
    "id": "zGwsyd3rjDqU",
    "outputId": "9bba3803-657c-496d-ab83-41185bdcd16f"
   },
   "outputs": [
    {
     "name": "stdout",
     "output_type": "stream",
     "text": [
      "Epoch 1/2\n",
      "  32/1875 [..............................] - ETA: 6s - loss: 6.2577 "
     ]
    },
    {
     "name": "stderr",
     "output_type": "stream",
     "text": [
      "2021-11-02 15:59:28.287200: I tensorflow/core/grappler/optimizers/custom_graph_optimizer_registry.cc:112] Plugin optimizer for device_type GPU is enabled.\n"
     ]
    },
    {
     "name": "stdout",
     "output_type": "stream",
     "text": [
      "1875/1875 [==============================] - 6s 3ms/step - loss: 3.1716\n",
      "Epoch 2/2\n",
      "1875/1875 [==============================] - 6s 3ms/step - loss: 2.5536\n"
     ]
    },
    {
     "data": {
      "text/plain": [
       "<keras.callbacks.History at 0x2afab4bb0>"
      ]
     },
     "execution_count": 94,
     "metadata": {},
     "output_type": "execute_result"
    }
   ],
   "source": [
    "model1.fit(X_train, y_train, epochs=2) # SparseCategoricalCrossentropy"
   ]
  },
  {
   "cell_type": "code",
   "execution_count": null,
   "metadata": {
    "collapsed": true,
    "id": "-AI-PDkOjDqU",
    "outputId": "69e0deaa-b533-408f-9173-b303dd00f3c8"
   },
   "outputs": [
    {
     "ename": "RuntimeError",
     "evalue": "You must compile your model before training/testing. Use `model.compile(optimizer, loss)`.",
     "output_type": "error",
     "traceback": [
      "\u001b[0;31m---------------------------------------------------------------------------\u001b[0m",
      "\u001b[0;31mRuntimeError\u001b[0m                              Traceback (most recent call last)",
      "\u001b[0;32m/var/folders/t0/pdn5rbsd5ljcgnjkx8bzvsyr0000gn/T/ipykernel_3826/1796060246.py\u001b[0m in \u001b[0;36m<module>\u001b[0;34m\u001b[0m\n\u001b[0;32m----> 1\u001b[0;31m \u001b[0mmodel1\u001b[0m\u001b[0;34m.\u001b[0m\u001b[0mfit\u001b[0m\u001b[0;34m(\u001b[0m\u001b[0mX_train\u001b[0m\u001b[0;34m,\u001b[0m \u001b[0my_train_ohe\u001b[0m\u001b[0;34m,\u001b[0m \u001b[0mepochs\u001b[0m\u001b[0;34m=\u001b[0m\u001b[0;36m2\u001b[0m\u001b[0;34m)\u001b[0m \u001b[0;31m# nn.sparse_softmax_cross_entropy_with_logits\u001b[0m\u001b[0;34m\u001b[0m\u001b[0;34m\u001b[0m\u001b[0m\n\u001b[0m",
      "\u001b[0;32m~/miniforge3/envs/tensorflow_26/lib/python3.8/site-packages/keras/engine/training.py\u001b[0m in \u001b[0;36mfit\u001b[0;34m(self, x, y, batch_size, epochs, verbose, callbacks, validation_split, validation_data, shuffle, class_weight, sample_weight, initial_epoch, steps_per_epoch, validation_steps, validation_batch_size, validation_freq, max_queue_size, workers, use_multiprocessing)\u001b[0m\n\u001b[1;32m   1104\u001b[0m     \u001b[0;31m# Legacy graph support is contained in `training_v1.Model`.\u001b[0m\u001b[0;34m\u001b[0m\u001b[0;34m\u001b[0m\u001b[0;34m\u001b[0m\u001b[0m\n\u001b[1;32m   1105\u001b[0m     \u001b[0mversion_utils\u001b[0m\u001b[0;34m.\u001b[0m\u001b[0mdisallow_legacy_graph\u001b[0m\u001b[0;34m(\u001b[0m\u001b[0;34m'Model'\u001b[0m\u001b[0;34m,\u001b[0m \u001b[0;34m'fit'\u001b[0m\u001b[0;34m)\u001b[0m\u001b[0;34m\u001b[0m\u001b[0;34m\u001b[0m\u001b[0m\n\u001b[0;32m-> 1106\u001b[0;31m     \u001b[0mself\u001b[0m\u001b[0;34m.\u001b[0m\u001b[0m_assert_compile_was_called\u001b[0m\u001b[0;34m(\u001b[0m\u001b[0;34m)\u001b[0m\u001b[0;34m\u001b[0m\u001b[0;34m\u001b[0m\u001b[0m\n\u001b[0m\u001b[1;32m   1107\u001b[0m     \u001b[0mself\u001b[0m\u001b[0;34m.\u001b[0m\u001b[0m_check_call_args\u001b[0m\u001b[0;34m(\u001b[0m\u001b[0;34m'fit'\u001b[0m\u001b[0;34m)\u001b[0m\u001b[0;34m\u001b[0m\u001b[0;34m\u001b[0m\u001b[0m\n\u001b[1;32m   1108\u001b[0m     \u001b[0m_disallow_inside_tf_function\u001b[0m\u001b[0;34m(\u001b[0m\u001b[0;34m'fit'\u001b[0m\u001b[0;34m)\u001b[0m\u001b[0;34m\u001b[0m\u001b[0;34m\u001b[0m\u001b[0m\n",
      "\u001b[0;32m~/miniforge3/envs/tensorflow_26/lib/python3.8/site-packages/keras/engine/training.py\u001b[0m in \u001b[0;36m_assert_compile_was_called\u001b[0;34m(self)\u001b[0m\n\u001b[1;32m   2788\u001b[0m     \u001b[0;31m# (i.e. whether the model is built and its inputs/outputs are set).\u001b[0m\u001b[0;34m\u001b[0m\u001b[0;34m\u001b[0m\u001b[0;34m\u001b[0m\u001b[0m\n\u001b[1;32m   2789\u001b[0m     \u001b[0;32mif\u001b[0m \u001b[0;32mnot\u001b[0m \u001b[0mself\u001b[0m\u001b[0;34m.\u001b[0m\u001b[0m_is_compiled\u001b[0m\u001b[0;34m:\u001b[0m\u001b[0;34m\u001b[0m\u001b[0;34m\u001b[0m\u001b[0m\n\u001b[0;32m-> 2790\u001b[0;31m       raise RuntimeError('You must compile your model before '\n\u001b[0m\u001b[1;32m   2791\u001b[0m                          \u001b[0;34m'training/testing. '\u001b[0m\u001b[0;34m\u001b[0m\u001b[0;34m\u001b[0m\u001b[0m\n\u001b[1;32m   2792\u001b[0m                          'Use `model.compile(optimizer, loss)`.')\n",
      "\u001b[0;31mRuntimeError\u001b[0m: You must compile your model before training/testing. Use `model.compile(optimizer, loss)`."
     ]
    }
   ],
   "source": [
    "model1.fit(X_train, y_train_ohe, epochs=2) # nn.sparse_softmax_cross_entropy_with_logits"
   ]
  },
  {
   "cell_type": "code",
   "execution_count": null,
   "metadata": {
    "id": "ayYz3ptsjDqU",
    "outputId": "7c628d60-3afe-4c16-f186-6e36c914e1b9"
   },
   "outputs": [
    {
     "name": "stdout",
     "output_type": "stream",
     "text": [
      "Epoch 1/2\n",
      "  18/1875 [..............................] - ETA: 12s - loss: 97.9138 "
     ]
    },
    {
     "name": "stderr",
     "output_type": "stream",
     "text": [
      "2021-11-02 16:00:26.691468: I tensorflow/core/grappler/optimizers/custom_graph_optimizer_registry.cc:112] Plugin optimizer for device_type GPU is enabled.\n"
     ]
    },
    {
     "name": "stdout",
     "output_type": "stream",
     "text": [
      "1875/1875 [==============================] - 9s 5ms/step - loss: 103.1872\n",
      "Epoch 2/2\n",
      "1875/1875 [==============================] - 9s 5ms/step - loss: 103.0049\n"
     ]
    },
    {
     "data": {
      "text/plain": [
       "<keras.callbacks.History at 0x2abb74610>"
      ]
     },
     "execution_count": 98,
     "metadata": {},
     "output_type": "execute_result"
    }
   ],
   "source": [
    "model1.fit(X_train, y_train, epochs=2) # nn.softmax_cross_entropy_with_logits"
   ]
  },
  {
   "cell_type": "code",
   "execution_count": null,
   "metadata": {
    "id": "v4wH4_Z4jDqV",
    "outputId": "66d9bc3b-8aa1-4007-94a3-5ddab1ce8b5e"
   },
   "outputs": [
    {
     "name": "stdout",
     "output_type": "stream",
     "text": [
      "Epoch 1/2\n",
      "  21/1875 [..............................] - ETA: 9s - loss: 91.7908  "
     ]
    },
    {
     "name": "stderr",
     "output_type": "stream",
     "text": [
      "2021-11-02 16:20:28.216625: I tensorflow/core/grappler/optimizers/custom_graph_optimizer_registry.cc:112] Plugin optimizer for device_type GPU is enabled.\n"
     ]
    },
    {
     "name": "stdout",
     "output_type": "stream",
     "text": [
      "1875/1875 [==============================] - 9s 5ms/step - loss: 8.9059\n",
      "Epoch 2/2\n",
      "1875/1875 [==============================] - 8s 4ms/step - loss: 3.7517\n"
     ]
    },
    {
     "data": {
      "text/plain": [
       "<keras.callbacks.History at 0x2ca7eba00>"
      ]
     },
     "execution_count": 154,
     "metadata": {},
     "output_type": "execute_result"
    }
   ],
   "source": [
    "model2.fit(X_train, y_train_ohe, epochs=2) # nn.softmax_cross_entropy_with_logits (with softmax)"
   ]
  },
  {
   "cell_type": "code",
   "execution_count": null,
   "metadata": {
    "collapsed": true,
    "id": "Kb84DrKojDqV",
    "outputId": "32190729-a239-4e47-e68f-a3cd217df6e3"
   },
   "outputs": [
    {
     "ename": "RuntimeError",
     "evalue": "You must compile your model before training/testing. Use `model.compile(optimizer, loss)`.",
     "output_type": "error",
     "traceback": [
      "\u001b[0;31m---------------------------------------------------------------------------\u001b[0m",
      "\u001b[0;31mRuntimeError\u001b[0m                              Traceback (most recent call last)",
      "\u001b[0;32m/var/folders/t0/pdn5rbsd5ljcgnjkx8bzvsyr0000gn/T/ipykernel_3826/2009654430.py\u001b[0m in \u001b[0;36m<module>\u001b[0;34m\u001b[0m\n\u001b[0;32m----> 1\u001b[0;31m \u001b[0mmodel2\u001b[0m\u001b[0;34m.\u001b[0m\u001b[0mfit\u001b[0m\u001b[0;34m(\u001b[0m\u001b[0mX_train\u001b[0m\u001b[0;34m,\u001b[0m \u001b[0my_train_ohe\u001b[0m\u001b[0;34m,\u001b[0m \u001b[0mepochs\u001b[0m\u001b[0;34m=\u001b[0m\u001b[0;36m2\u001b[0m\u001b[0;34m)\u001b[0m \u001b[0;31m# nn.sparse_softmax_cross_entropy_with_logits\u001b[0m\u001b[0;34m\u001b[0m\u001b[0;34m\u001b[0m\u001b[0m\n\u001b[0m",
      "\u001b[0;32m~/miniforge3/envs/tensorflow_26/lib/python3.8/site-packages/keras/engine/training.py\u001b[0m in \u001b[0;36mfit\u001b[0;34m(self, x, y, batch_size, epochs, verbose, callbacks, validation_split, validation_data, shuffle, class_weight, sample_weight, initial_epoch, steps_per_epoch, validation_steps, validation_batch_size, validation_freq, max_queue_size, workers, use_multiprocessing)\u001b[0m\n\u001b[1;32m   1104\u001b[0m     \u001b[0;31m# Legacy graph support is contained in `training_v1.Model`.\u001b[0m\u001b[0;34m\u001b[0m\u001b[0;34m\u001b[0m\u001b[0;34m\u001b[0m\u001b[0m\n\u001b[1;32m   1105\u001b[0m     \u001b[0mversion_utils\u001b[0m\u001b[0;34m.\u001b[0m\u001b[0mdisallow_legacy_graph\u001b[0m\u001b[0;34m(\u001b[0m\u001b[0;34m'Model'\u001b[0m\u001b[0;34m,\u001b[0m \u001b[0;34m'fit'\u001b[0m\u001b[0;34m)\u001b[0m\u001b[0;34m\u001b[0m\u001b[0;34m\u001b[0m\u001b[0m\n\u001b[0;32m-> 1106\u001b[0;31m     \u001b[0mself\u001b[0m\u001b[0;34m.\u001b[0m\u001b[0m_assert_compile_was_called\u001b[0m\u001b[0;34m(\u001b[0m\u001b[0;34m)\u001b[0m\u001b[0;34m\u001b[0m\u001b[0;34m\u001b[0m\u001b[0m\n\u001b[0m\u001b[1;32m   1107\u001b[0m     \u001b[0mself\u001b[0m\u001b[0;34m.\u001b[0m\u001b[0m_check_call_args\u001b[0m\u001b[0;34m(\u001b[0m\u001b[0;34m'fit'\u001b[0m\u001b[0;34m)\u001b[0m\u001b[0;34m\u001b[0m\u001b[0;34m\u001b[0m\u001b[0m\n\u001b[1;32m   1108\u001b[0m     \u001b[0m_disallow_inside_tf_function\u001b[0m\u001b[0;34m(\u001b[0m\u001b[0;34m'fit'\u001b[0m\u001b[0;34m)\u001b[0m\u001b[0;34m\u001b[0m\u001b[0;34m\u001b[0m\u001b[0m\n",
      "\u001b[0;32m~/miniforge3/envs/tensorflow_26/lib/python3.8/site-packages/keras/engine/training.py\u001b[0m in \u001b[0;36m_assert_compile_was_called\u001b[0;34m(self)\u001b[0m\n\u001b[1;32m   2788\u001b[0m     \u001b[0;31m# (i.e. whether the model is built and its inputs/outputs are set).\u001b[0m\u001b[0;34m\u001b[0m\u001b[0;34m\u001b[0m\u001b[0;34m\u001b[0m\u001b[0m\n\u001b[1;32m   2789\u001b[0m     \u001b[0;32mif\u001b[0m \u001b[0;32mnot\u001b[0m \u001b[0mself\u001b[0m\u001b[0;34m.\u001b[0m\u001b[0m_is_compiled\u001b[0m\u001b[0;34m:\u001b[0m\u001b[0;34m\u001b[0m\u001b[0;34m\u001b[0m\u001b[0m\n\u001b[0;32m-> 2790\u001b[0;31m       raise RuntimeError('You must compile your model before '\n\u001b[0m\u001b[1;32m   2791\u001b[0m                          \u001b[0;34m'training/testing. '\u001b[0m\u001b[0;34m\u001b[0m\u001b[0;34m\u001b[0m\u001b[0m\n\u001b[1;32m   2792\u001b[0m                          'Use `model.compile(optimizer, loss)`.')\n",
      "\u001b[0;31mRuntimeError\u001b[0m: You must compile your model before training/testing. Use `model.compile(optimizer, loss)`."
     ]
    }
   ],
   "source": [
    "model2.fit(X_train, y_train_ohe, epochs=2) # nn.sparse_softmax_cross_entropy_with_logits"
   ]
  },
  {
   "cell_type": "markdown",
   "metadata": {
    "id": "-MIclLcxjDqV"
   },
   "source": [
    "```\n",
    "One-hot encoding x => sparse O\n",
    "One-hot encoding O => Sparse X\n",
    "```"
   ]
  },
  {
   "cell_type": "code",
   "execution_count": null,
   "metadata": {
    "id": "3OsuB3rXjDqV"
   },
   "outputs": [],
   "source": [
    "(X_train, y_train), (X_test, y_test) = tf.keras.datasets.mnist.load_data()"
   ]
  },
  {
   "cell_type": "code",
   "execution_count": null,
   "metadata": {
    "id": "9RPW9Y6rjDqV"
   },
   "outputs": [],
   "source": [
    "model = tf.keras.models.Sequential([\n",
    "    tf.keras.layers.Conv2D(3,3),\n",
    "    tf.keras.layers.Conv2D(1,3)\n",
    "])"
   ]
  },
  {
   "cell_type": "code",
   "execution_count": null,
   "metadata": {
    "collapsed": true,
    "id": "6Vw6ftZLjDqV",
    "outputId": "cbe100f4-5c95-4377-ed8d-3bfdf3cd9c0a"
   },
   "outputs": [
    {
     "ename": "ValueError",
     "evalue": "Input 0 of layer sequential_38 is incompatible with the layer: : expected min_ndim=4, found ndim=3. Full shape received: (60000, 28, 28)",
     "output_type": "error",
     "traceback": [
      "\u001b[0;31m---------------------------------------------------------------------------\u001b[0m",
      "\u001b[0;31mValueError\u001b[0m                                Traceback (most recent call last)",
      "\u001b[0;32m/var/folders/t0/pdn5rbsd5ljcgnjkx8bzvsyr0000gn/T/ipykernel_3826/688688749.py\u001b[0m in \u001b[0;36m<module>\u001b[0;34m\u001b[0m\n\u001b[0;32m----> 1\u001b[0;31m \u001b[0mmodel\u001b[0m\u001b[0;34m(\u001b[0m\u001b[0mX_train\u001b[0m\u001b[0;34m,\u001b[0m \u001b[0mapply_sigmoid\u001b[0m\u001b[0;34m=\u001b[0m\u001b[0;32mTrue\u001b[0m\u001b[0;34m)\u001b[0m\u001b[0;34m\u001b[0m\u001b[0;34m\u001b[0m\u001b[0m\n\u001b[0m",
      "\u001b[0;32m~/miniforge3/envs/tensorflow_26/lib/python3.8/site-packages/keras/engine/base_layer.py\u001b[0m in \u001b[0;36m__call__\u001b[0;34m(self, *args, **kwargs)\u001b[0m\n\u001b[1;32m   1018\u001b[0m         training=training_mode):\n\u001b[1;32m   1019\u001b[0m \u001b[0;34m\u001b[0m\u001b[0m\n\u001b[0;32m-> 1020\u001b[0;31m       \u001b[0minput_spec\u001b[0m\u001b[0;34m.\u001b[0m\u001b[0massert_input_compatibility\u001b[0m\u001b[0;34m(\u001b[0m\u001b[0mself\u001b[0m\u001b[0;34m.\u001b[0m\u001b[0minput_spec\u001b[0m\u001b[0;34m,\u001b[0m \u001b[0minputs\u001b[0m\u001b[0;34m,\u001b[0m \u001b[0mself\u001b[0m\u001b[0;34m.\u001b[0m\u001b[0mname\u001b[0m\u001b[0;34m)\u001b[0m\u001b[0;34m\u001b[0m\u001b[0;34m\u001b[0m\u001b[0m\n\u001b[0m\u001b[1;32m   1021\u001b[0m       \u001b[0;32mif\u001b[0m \u001b[0meager\u001b[0m\u001b[0;34m:\u001b[0m\u001b[0;34m\u001b[0m\u001b[0;34m\u001b[0m\u001b[0m\n\u001b[1;32m   1022\u001b[0m         \u001b[0mcall_fn\u001b[0m \u001b[0;34m=\u001b[0m \u001b[0mself\u001b[0m\u001b[0;34m.\u001b[0m\u001b[0mcall\u001b[0m\u001b[0;34m\u001b[0m\u001b[0;34m\u001b[0m\u001b[0m\n",
      "\u001b[0;32m~/miniforge3/envs/tensorflow_26/lib/python3.8/site-packages/keras/engine/input_spec.py\u001b[0m in \u001b[0;36massert_input_compatibility\u001b[0;34m(input_spec, inputs, layer_name)\u001b[0m\n\u001b[1;32m    227\u001b[0m       \u001b[0mndim\u001b[0m \u001b[0;34m=\u001b[0m \u001b[0mx\u001b[0m\u001b[0;34m.\u001b[0m\u001b[0mshape\u001b[0m\u001b[0;34m.\u001b[0m\u001b[0mrank\u001b[0m\u001b[0;34m\u001b[0m\u001b[0;34m\u001b[0m\u001b[0m\n\u001b[1;32m    228\u001b[0m       \u001b[0;32mif\u001b[0m \u001b[0mndim\u001b[0m \u001b[0;32mis\u001b[0m \u001b[0;32mnot\u001b[0m \u001b[0;32mNone\u001b[0m \u001b[0;32mand\u001b[0m \u001b[0mndim\u001b[0m \u001b[0;34m<\u001b[0m \u001b[0mspec\u001b[0m\u001b[0;34m.\u001b[0m\u001b[0mmin_ndim\u001b[0m\u001b[0;34m:\u001b[0m\u001b[0;34m\u001b[0m\u001b[0;34m\u001b[0m\u001b[0m\n\u001b[0;32m--> 229\u001b[0;31m         raise ValueError('Input ' + str(input_index) + ' of layer ' +\n\u001b[0m\u001b[1;32m    230\u001b[0m                          \u001b[0mlayer_name\u001b[0m \u001b[0;34m+\u001b[0m \u001b[0;34m' is incompatible with the layer: '\u001b[0m\u001b[0;34m\u001b[0m\u001b[0;34m\u001b[0m\u001b[0m\n\u001b[1;32m    231\u001b[0m                          \u001b[0;34m': expected min_ndim='\u001b[0m \u001b[0;34m+\u001b[0m \u001b[0mstr\u001b[0m\u001b[0;34m(\u001b[0m\u001b[0mspec\u001b[0m\u001b[0;34m.\u001b[0m\u001b[0mmin_ndim\u001b[0m\u001b[0;34m)\u001b[0m \u001b[0;34m+\u001b[0m\u001b[0;34m\u001b[0m\u001b[0;34m\u001b[0m\u001b[0m\n",
      "\u001b[0;31mValueError\u001b[0m: Input 0 of layer sequential_38 is incompatible with the layer: : expected min_ndim=4, found ndim=3. Full shape received: (60000, 28, 28)"
     ]
    }
   ],
   "source": [
    "model(X_train, apply_sigmoid=True)"
   ]
  },
  {
   "cell_type": "code",
   "execution_count": null,
   "metadata": {
    "id": "uLBiIeZijDqV"
   },
   "outputs": [],
   "source": [
    "tensor = tf.ones(shape)"
   ]
  },
  {
   "cell_type": "code",
   "execution_count": null,
   "metadata": {
    "id": "j2xO9HIljDqV"
   },
   "outputs": [],
   "source": [
    "out = layer(tensor, apply_sigmoid=True)"
   ]
  }
 ],
 "metadata": {
  "accelerator": "GPU",
  "colab": {
   "collapsed_sections": [],
   "name": "36일차 수업 내용_고급시각.ipynb",
   "provenance": []
  },
  "kernelspec": {
   "display_name": "Python 3",
   "language": "python",
   "name": "python3"
  },
  "language_info": {
   "codemirror_mode": {
    "name": "ipython",
    "version": 3
   },
   "file_extension": ".py",
   "mimetype": "text/x-python",
   "name": "python",
   "nbconvert_exporter": "python",
   "pygments_lexer": "ipython3",
   "version": "3.8.5"
  }
 },
 "nbformat": 4,
 "nbformat_minor": 1
}
