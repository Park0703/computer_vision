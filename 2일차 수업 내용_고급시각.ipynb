{
 "cells": [
  {
   "cell_type": "code",
   "execution_count": null,
   "metadata": {
    "colab": {
     "base_uri": "https://localhost:8080/"
    },
    "executionInfo": {
     "elapsed": 237,
     "status": "ok",
     "timestamp": 1631006892167,
     "user": {
      "displayName": "정지혁",
      "photoUrl": "https://lh3.googleusercontent.com/a-/AOh14Gi2xnkUvkGuxYJpQ869taL552Birarh0kp9GKTKCQ=s64",
      "userId": "09534774022449022692"
     },
     "user_tz": -540
    },
    "id": "VV6uxX03lf6g",
    "outputId": "da267914-7a0c-4170-e263-cd1c8e356c89"
   },
   "outputs": [
    {
     "name": "stdout",
     "output_type": "stream",
     "text": [
      "Drive already mounted at /content/drive; to attempt to forcibly remount, call drive.mount(\"/content/drive\", force_remount=True).\n"
     ]
    }
   ],
   "source": [
    "# 구글 드라이브의 폴더와 구글 코랩 폴더 연결\n",
    "from google.colab import drive\n",
    "drive.mount('/content/drive')"
   ]
  },
  {
   "cell_type": "code",
   "execution_count": null,
   "metadata": {
    "colab": {
     "base_uri": "https://localhost:8080/"
    },
    "executionInfo": {
     "elapsed": 257,
     "status": "ok",
     "timestamp": 1631006895266,
     "user": {
      "displayName": "정지혁",
      "photoUrl": "https://lh3.googleusercontent.com/a-/AOh14Gi2xnkUvkGuxYJpQ869taL552Birarh0kp9GKTKCQ=s64",
      "userId": "09534774022449022692"
     },
     "user_tz": -540
    },
    "id": "v5SORExslh3Q",
    "outputId": "79c67e83-2f75-4698-f169-293a0b722806"
   },
   "outputs": [
    {
     "name": "stdout",
     "output_type": "stream",
     "text": [
      "/content/drive/My Drive/Colab Notebooks\n"
     ]
    }
   ],
   "source": [
    "# 현재 경로 확인\n",
    "!pwd"
   ]
  },
  {
   "cell_type": "code",
   "execution_count": null,
   "metadata": {
    "colab": {
     "base_uri": "https://localhost:8080/"
    },
    "executionInfo": {
     "elapsed": 218,
     "status": "ok",
     "timestamp": 1631006903004,
     "user": {
      "displayName": "정지혁",
      "photoUrl": "https://lh3.googleusercontent.com/a-/AOh14Gi2xnkUvkGuxYJpQ869taL552Birarh0kp9GKTKCQ=s64",
      "userId": "09534774022449022692"
     },
     "user_tz": -540
    },
    "id": "Wjo2oKF4lioE",
    "outputId": "7230dfa5-68b7-49cf-b00f-78a89fe5d60d"
   },
   "outputs": [
    {
     "name": "stdout",
     "output_type": "stream",
     "text": [
      "[Errno 2] No such file or directory: 'drive/My Drive/Colab Notebooks'\n",
      "/content/drive/My Drive/Colab Notebooks\n"
     ]
    }
   ],
   "source": [
    "# drive/My Drive/Colab Notebooks 경로로 변경\n",
    "%cd drive/My\\ Drive/Colab\\ Notebooks\\"
   ]
  },
  {
   "cell_type": "code",
   "execution_count": null,
   "metadata": {
    "colab": {
     "base_uri": "https://localhost:8080/"
    },
    "executionInfo": {
     "elapsed": 232,
     "status": "ok",
     "timestamp": 1631006920904,
     "user": {
      "displayName": "정지혁",
      "photoUrl": "https://lh3.googleusercontent.com/a-/AOh14Gi2xnkUvkGuxYJpQ869taL552Birarh0kp9GKTKCQ=s64",
      "userId": "09534774022449022692"
     },
     "user_tz": -540
    },
    "id": "OKqL2lWclkh6",
    "outputId": "7b6d8eb5-3e92-4de1-8d2e-a66d43951207"
   },
   "outputs": [
    {
     "name": "stdout",
     "output_type": "stream",
     "text": [
      "/content/drive/My Drive/Colab Notebooks\n"
     ]
    }
   ],
   "source": [
    "!pwd"
   ]
  },
  {
   "cell_type": "markdown",
   "metadata": {
    "id": "GrOUQ2vblunH"
   },
   "source": [
    "# Python"
   ]
  },
  {
   "cell_type": "markdown",
   "metadata": {
    "id": "DHPduxn6lwiu"
   },
   "source": [
    "## Callable "
   ]
  },
  {
   "cell_type": "markdown",
   "metadata": {
    "id": "XEV7KcfytHdM"
   },
   "source": [
    "```python\n",
    "Call: 함수를 호출 한다\n",
    "\n",
    "Python에서 괄호('()')를 붙일 수 있는 것은 callable 이다 \n",
    "즉, 호출 가능한 함수 또는 객체 \n",
    " \n",
    "1. function(method)\n",
    "2. class\n",
    "3. __call__이 정의된 object\n",
    "```"
   ]
  },
  {
   "cell_type": "markdown",
   "metadata": {
    "id": "wSx4m9SwvQfc"
   },
   "source": [
    "## LEGB"
   ]
  },
  {
   "cell_type": "markdown",
   "metadata": {
    "id": "ni7y0dCVvQkv"
   },
   "source": [
    "```python\n",
    "G: 기본적으로 사용하는 공간은 Global 공간 (global)\n",
    "B: Builtin이라는 공간에 저장되어 있는 것들 \n",
    "E: Enclosing Function Local, 함수를 내포하는 또 다른 함수 영역\n",
    "L: Local, 함수 내 정의된 지역변수\n",
    "\n",
    "python 공간규칙     \n",
    "1. B에 없으면 G에 있는지 찾는다\n",
    "2. 상위단계(B쪽으로 갈수록 상위)에서 하위단계로 접근할 수 없다 \n",
    "3. 하위단계(L쪽으로 갈수록 하위)에서 상위단계로는 접근할 수 있다 \n",
    "\n",
    "변수 찾는 우선순위 => L > E > G > B\n",
    "```    "
   ]
  },
  {
   "cell_type": "code",
   "execution_count": null,
   "metadata": {
    "id": "BKoZ_1QDvn6R"
   },
   "outputs": [],
   "source": [
    "xxx = 2\n",
    "\n",
    "def x():\n",
    "  xxx = 1 \n",
    "  print(xxx)"
   ]
  },
  {
   "cell_type": "code",
   "execution_count": null,
   "metadata": {
    "colab": {
     "base_uri": "https://localhost:8080/"
    },
    "executionInfo": {
     "elapsed": 6,
     "status": "ok",
     "timestamp": 1631009581539,
     "user": {
      "displayName": "정지혁",
      "photoUrl": "https://lh3.googleusercontent.com/a-/AOh14Gi2xnkUvkGuxYJpQ869taL552Birarh0kp9GKTKCQ=s64",
      "userId": "09534774022449022692"
     },
     "user_tz": -540
    },
    "id": "vUJ_jWNpvuj1",
    "outputId": "13223d95-ef21-4f0f-e745-44ce3946bd54"
   },
   "outputs": [
    {
     "name": "stdout",
     "output_type": "stream",
     "text": [
      "1\n"
     ]
    }
   ],
   "source": [
    "x()"
   ]
  },
  {
   "cell_type": "code",
   "execution_count": null,
   "metadata": {
    "id": "0JKWrIUIvvWp"
   },
   "outputs": [],
   "source": [
    "xxx = 2\n",
    "\n",
    "def x():\n",
    "  print(xxx)"
   ]
  },
  {
   "cell_type": "code",
   "execution_count": null,
   "metadata": {
    "colab": {
     "base_uri": "https://localhost:8080/"
    },
    "executionInfo": {
     "elapsed": 254,
     "status": "ok",
     "timestamp": 1631009601283,
     "user": {
      "displayName": "정지혁",
      "photoUrl": "https://lh3.googleusercontent.com/a-/AOh14Gi2xnkUvkGuxYJpQ869taL552Birarh0kp9GKTKCQ=s64",
      "userId": "09534774022449022692"
     },
     "user_tz": -540
    },
    "id": "Dw5a0_qHv2d7",
    "outputId": "888c6287-611b-46ed-b822-f0e3e44ce273"
   },
   "outputs": [
    {
     "name": "stdout",
     "output_type": "stream",
     "text": [
      "2\n"
     ]
    }
   ],
   "source": [
    "x()"
   ]
  },
  {
   "cell_type": "markdown",
   "metadata": {
    "id": "QfEOSrO5x9-g"
   },
   "source": [
    "## Closure"
   ]
  },
  {
   "cell_type": "markdown",
   "metadata": {
    "id": "Qwm8MHRnyALk"
   },
   "source": [
    "```python\n",
    "'함수를 중첩시키고 함수를 리턴하는 함수'. 클로저는 보통 함수를 쉽게 변형할 수 있는 기법이다 # Higher order function \n",
    " \n",
    "클래스 안에 __call__이 선언되어 있으면 인스턴스가 호출가능해진다(인스턴스( )/__call__메소드가 호출된다)\n",
    "사실 함수도 클래스의 객체이며 함수를 호출할 때 '함수이름( )'과 같이 사용할 수 있었던 이유가 바로 __call__ 메서드가 \n",
    "선언되어 있기 때문이다\n",
    "```"
   ]
  },
  {
   "cell_type": "code",
   "execution_count": null,
   "metadata": {
    "id": "z4Kx7V27yLh5"
   },
   "outputs": [],
   "source": [
    "def clo(m):\n",
    "    def inner(n):\n",
    "        return m + n \n",
    "    return inner \n",
    "\n",
    "class A:\n",
    "    def __init__(self, m):\n",
    "        self.m = m\n",
    "    def __call__(self, n):\n",
    "        return self.m + n "
   ]
  },
  {
   "cell_type": "code",
   "execution_count": null,
   "metadata": {
    "colab": {
     "base_uri": "https://localhost:8080/"
    },
    "executionInfo": {
     "elapsed": 223,
     "status": "ok",
     "timestamp": 1631010511374,
     "user": {
      "displayName": "정지혁",
      "photoUrl": "https://lh3.googleusercontent.com/a-/AOh14Gi2xnkUvkGuxYJpQ869taL552Birarh0kp9GKTKCQ=s64",
      "userId": "09534774022449022692"
     },
     "user_tz": -540
    },
    "id": "KGpHH5-WzTSA",
    "outputId": "f7114d63-bcbd-440c-d6cc-299428aace30"
   },
   "outputs": [
    {
     "data": {
      "text/plain": [
       "7"
      ]
     },
     "execution_count": 24,
     "metadata": {},
     "output_type": "execute_result"
    }
   ],
   "source": [
    "clo(4)(3)"
   ]
  },
  {
   "cell_type": "code",
   "execution_count": null,
   "metadata": {
    "id": "fmb0G4E9yO7E"
   },
   "outputs": [],
   "source": [
    "a = A(3)"
   ]
  },
  {
   "cell_type": "code",
   "execution_count": null,
   "metadata": {
    "colab": {
     "base_uri": "https://localhost:8080/"
    },
    "executionInfo": {
     "elapsed": 677,
     "status": "ok",
     "timestamp": 1631010478227,
     "user": {
      "displayName": "정지혁",
      "photoUrl": "https://lh3.googleusercontent.com/a-/AOh14Gi2xnkUvkGuxYJpQ869taL552Birarh0kp9GKTKCQ=s64",
      "userId": "09534774022449022692"
     },
     "user_tz": -540
    },
    "id": "-amEaV7ryRBU",
    "outputId": "46420aaa-f4db-46e7-8744-4c473e68ffe6"
   },
   "outputs": [
    {
     "data": {
      "text/plain": [
       "6"
      ]
     },
     "execution_count": 23,
     "metadata": {},
     "output_type": "execute_result"
    }
   ],
   "source": [
    "a(3)"
   ]
  },
  {
   "cell_type": "code",
   "execution_count": null,
   "metadata": {
    "id": "1PgYwBA2yUCZ"
   },
   "outputs": [],
   "source": [
    "import tensorflow as tf "
   ]
  },
  {
   "cell_type": "code",
   "execution_count": null,
   "metadata": {
    "colab": {
     "base_uri": "https://localhost:8080/"
    },
    "executionInfo": {
     "elapsed": 8083,
     "status": "ok",
     "timestamp": 1631010309896,
     "user": {
      "displayName": "정지혁",
      "photoUrl": "https://lh3.googleusercontent.com/a-/AOh14Gi2xnkUvkGuxYJpQ869taL552Birarh0kp9GKTKCQ=s64",
      "userId": "09534774022449022692"
     },
     "user_tz": -540
    },
    "id": "Gp0PdCPuybjG",
    "outputId": "9d7f2160-c373-40ac-f558-d397ed28c824"
   },
   "outputs": [
    {
     "data": {
      "text/plain": [
       "<tf.Tensor: shape=(3, 4), dtype=float32, numpy=\n",
       "array([[ 1.57166   , -0.1644063 ,  1.6268642 , -0.73175406],\n",
       "       [ 2.9206128 , -0.0049057 ,  3.2637818 , -1.5273063 ],\n",
       "       [ 4.2695656 ,  0.1545949 ,  4.9006996 , -2.3228586 ]],\n",
       "      dtype=float32)>"
      ]
     },
     "execution_count": 22,
     "metadata": {},
     "output_type": "execute_result"
    }
   ],
   "source": [
    "# 4개의 퍼셉트론에 tf.constant([[1,2],[3,4],[5,6]])값을 계산하는 함수 \n",
    "tf.keras.layers.Dense(4)(tf.constant([[1,2],[3,4],[5,6]])) "
   ]
  },
  {
   "cell_type": "code",
   "execution_count": null,
   "metadata": {
    "id": "mHjgUSer27j7"
   },
   "outputs": [],
   "source": [
    "class B:\n",
    "  def __init__(self, m):\n",
    "    self.m = m\n",
    "  \n",
    "  def __call__(self, n):\n",
    "    return self.m + n "
   ]
  },
  {
   "cell_type": "code",
   "execution_count": null,
   "metadata": {
    "colab": {
     "base_uri": "https://localhost:8080/"
    },
    "executionInfo": {
     "elapsed": 499,
     "status": "ok",
     "timestamp": 1631011631246,
     "user": {
      "displayName": "정지혁",
      "photoUrl": "https://lh3.googleusercontent.com/a-/AOh14Gi2xnkUvkGuxYJpQ869taL552Birarh0kp9GKTKCQ=s64",
      "userId": "09534774022449022692"
     },
     "user_tz": -540
    },
    "id": "Yk4yNvOA3Eph",
    "outputId": "e5156af2-e079-48e5-f672-c296cf74d75a"
   },
   "outputs": [
    {
     "data": {
      "text/plain": [
       "7"
      ]
     },
     "execution_count": 28,
     "metadata": {},
     "output_type": "execute_result"
    }
   ],
   "source": [
    "B(3)(4)"
   ]
  },
  {
   "cell_type": "code",
   "execution_count": null,
   "metadata": {
    "id": "wKIxhO703iBP"
   },
   "outputs": [],
   "source": [
    "def __call__(self, n):\n",
    "  return self.m + n + 1"
   ]
  },
  {
   "cell_type": "code",
   "execution_count": null,
   "metadata": {
    "id": "8soREefZ3svu"
   },
   "outputs": [],
   "source": [
    "B.__call__ = x"
   ]
  },
  {
   "cell_type": "markdown",
   "metadata": {
    "id": "S9KCHxRD4Nis"
   },
   "source": [
    "#### ※ function이라는 데이터 타입도 존재한다 "
   ]
  },
  {
   "cell_type": "code",
   "execution_count": null,
   "metadata": {
    "id": "UDYh3HOT4DLc"
   },
   "outputs": [],
   "source": [
    "def a(n):\n",
    "  return n "
   ]
  },
  {
   "cell_type": "code",
   "execution_count": null,
   "metadata": {
    "colab": {
     "base_uri": "https://localhost:8080/"
    },
    "executionInfo": {
     "elapsed": 223,
     "status": "ok",
     "timestamp": 1631011852076,
     "user": {
      "displayName": "정지혁",
      "photoUrl": "https://lh3.googleusercontent.com/a-/AOh14Gi2xnkUvkGuxYJpQ869taL552Birarh0kp9GKTKCQ=s64",
      "userId": "09534774022449022692"
     },
     "user_tz": -540
    },
    "id": "nJD9_jPw4b5d",
    "outputId": "48ab69cb-bb33-46b0-aad6-6e74acbf29e9"
   },
   "outputs": [
    {
     "data": {
      "text/plain": [
       "function"
      ]
     },
     "execution_count": 31,
     "metadata": {},
     "output_type": "execute_result"
    }
   ],
   "source": [
    "type(a)"
   ]
  },
  {
   "cell_type": "markdown",
   "metadata": {
    "id": "UGeWYeks5a9h"
   },
   "source": [
    "## Callable Method 종류 "
   ]
  },
  {
   "cell_type": "markdown",
   "metadata": {
    "id": "iAOJQWuu5FpY"
   },
   "source": [
    "```python\n",
    "1. Instance method \n",
    "2. classmethod\n",
    "3. staticmethod\n",
    "```"
   ]
  },
  {
   "cell_type": "markdown",
   "metadata": {
    "id": "HvvwwWK25rkZ"
   },
   "source": [
    "## 위임 개념은 크게 3가지로 볼 수 있다 "
   ]
  },
  {
   "cell_type": "markdown",
   "metadata": {
    "id": "EWm5YpqO5j9G"
   },
   "source": [
    "```python\n",
    "1. instance \n",
    "2. class  \n",
    "3. inheritance\n",
    "``` "
   ]
  },
  {
   "cell_type": "code",
   "execution_count": null,
   "metadata": {
    "id": "NuCh1Mv_5ff4"
   },
   "outputs": [],
   "source": [
    "class T:\n",
    "  a = 1 # class variable/attribute 클래스 안에서는 식별자를 변수라고 칭한다 \n",
    "        # attribute 클래스 안에 정의 되어 있는 모든 것을 attribute 라고 한다 "
   ]
  },
  {
   "cell_type": "code",
   "execution_count": null,
   "metadata": {
    "colab": {
     "base_uri": "https://localhost:8080/"
    },
    "executionInfo": {
     "elapsed": 211,
     "status": "ok",
     "timestamp": 1631012317369,
     "user": {
      "displayName": "정지혁",
      "photoUrl": "https://lh3.googleusercontent.com/a-/AOh14Gi2xnkUvkGuxYJpQ869taL552Birarh0kp9GKTKCQ=s64",
      "userId": "09534774022449022692"
     },
     "user_tz": -540
    },
    "id": "8RJzLAhw6EE3",
    "outputId": "49f5dd72-19c6-4eda-9777-c633ab0651b3"
   },
   "outputs": [
    {
     "data": {
      "text/plain": [
       "1"
      ]
     },
     "execution_count": 34,
     "metadata": {},
     "output_type": "execute_result"
    }
   ],
   "source": [
    "T.a # 클래스가 어떻게 행동해요? 클래스는 메타 클래스의 인스턴스이기 때문이다 "
   ]
  },
  {
   "cell_type": "code",
   "execution_count": null,
   "metadata": {
    "colab": {
     "base_uri": "https://localhost:8080/"
    },
    "executionInfo": {
     "elapsed": 212,
     "status": "ok",
     "timestamp": 1631012412422,
     "user": {
      "displayName": "정지혁",
      "photoUrl": "https://lh3.googleusercontent.com/a-/AOh14Gi2xnkUvkGuxYJpQ869taL552Birarh0kp9GKTKCQ=s64",
      "userId": "09534774022449022692"
     },
     "user_tz": -540
    },
    "id": "51qnPOQg6hHN",
    "outputId": "ab52cdf6-e658-42d7-e69e-cf779ebc7d91"
   },
   "outputs": [
    {
     "data": {
      "text/plain": [
       "{'xx': 1}"
      ]
     },
     "execution_count": 36,
     "metadata": {},
     "output_type": "execute_result"
    }
   ],
   "source": [
    "b = T()\n",
    "b.xx = 1 \n",
    "\n",
    "vars(b) # 인스턴스 변수들을 알려준다 "
   ]
  },
  {
   "cell_type": "code",
   "execution_count": null,
   "metadata": {
    "colab": {
     "base_uri": "https://localhost:8080/",
     "height": 164
    },
    "executionInfo": {
     "elapsed": 213,
     "status": "error",
     "timestamp": 1631012433876,
     "user": {
      "displayName": "정지혁",
      "photoUrl": "https://lh3.googleusercontent.com/a-/AOh14Gi2xnkUvkGuxYJpQ869taL552Birarh0kp9GKTKCQ=s64",
      "userId": "09534774022449022692"
     },
     "user_tz": -540
    },
    "id": "XBq_1xN06pmD",
    "outputId": "4a304334-379c-4e44-d131-f4c663504a37"
   },
   "outputs": [
    {
     "ename": "AttributeError",
     "evalue": "ignored",
     "output_type": "error",
     "traceback": [
      "\u001b[0;31m---------------------------------------------------------------------------\u001b[0m",
      "\u001b[0;31mAttributeError\u001b[0m                            Traceback (most recent call last)",
      "\u001b[0;32m<ipython-input-37-08f77a43bec2>\u001b[0m in \u001b[0;36m<module>\u001b[0;34m()\u001b[0m\n\u001b[0;32m----> 1\u001b[0;31m \u001b[0mb\u001b[0m\u001b[0;34m.\u001b[0m\u001b[0myy\u001b[0m \u001b[0;31m#\u001b[0m\u001b[0;34m\u001b[0m\u001b[0;34m\u001b[0m\u001b[0m\n\u001b[0m",
      "\u001b[0;31mAttributeError\u001b[0m: 'T' object has no attribute 'yy'"
     ]
    }
   ],
   "source": [
    "b.yy # 존재하지 않는 변수에 접근하면 attributeError를 발생시킨다 "
   ]
  },
  {
   "cell_type": "code",
   "execution_count": null,
   "metadata": {
    "colab": {
     "base_uri": "https://localhost:8080/"
    },
    "executionInfo": {
     "elapsed": 200,
     "status": "ok",
     "timestamp": 1631012498798,
     "user": {
      "displayName": "정지혁",
      "photoUrl": "https://lh3.googleusercontent.com/a-/AOh14Gi2xnkUvkGuxYJpQ869taL552Birarh0kp9GKTKCQ=s64",
      "userId": "09534774022449022692"
     },
     "user_tz": -540
    },
    "id": "gAsVdPGE6q2x",
    "outputId": "117b4038-39b0-433f-9046-53b01dcf4214"
   },
   "outputs": [
    {
     "data": {
      "text/plain": [
       "1"
      ]
     },
     "execution_count": 38,
     "metadata": {},
     "output_type": "execute_result"
    }
   ],
   "source": [
    "b.a # 인스턴스 변수에 없으면 클래스 변수에서 찾는다 (위임)"
   ]
  },
  {
   "cell_type": "code",
   "execution_count": null,
   "metadata": {
    "id": "Bn81Y0q_66tG"
   },
   "outputs": [],
   "source": [
    "class A:\n",
    "  @classmethod   \n",
    "  def xx(cls):   # instance / class variable의 생성은 시점에 따라 결정된다 \n",
    "    cls.t = 1 \n",
    "    print('cls')\n",
    "  \n",
    "  def yy(self):\n",
    "    print('instance')"
   ]
  },
  {
   "cell_type": "code",
   "execution_count": null,
   "metadata": {
    "colab": {
     "base_uri": "https://localhost:8080/"
    },
    "executionInfo": {
     "elapsed": 213,
     "status": "ok",
     "timestamp": 1631012671163,
     "user": {
      "displayName": "정지혁",
      "photoUrl": "https://lh3.googleusercontent.com/a-/AOh14Gi2xnkUvkGuxYJpQ869taL552Birarh0kp9GKTKCQ=s64",
      "userId": "09534774022449022692"
     },
     "user_tz": -540
    },
    "id": "MNx5YkwE7g7U",
    "outputId": "391019c3-cc85-4000-b8f5-9b9bf4a19019"
   },
   "outputs": [
    {
     "data": {
      "text/plain": [
       "<bound method A.xx of <class '__main__.A'>>"
      ]
     },
     "execution_count": 41,
     "metadata": {},
     "output_type": "execute_result"
    }
   ],
   "source": [
    "A.xx # classmethod는 클래스 입장에서 함수가 메소드로 "
   ]
  },
  {
   "cell_type": "code",
   "execution_count": null,
   "metadata": {
    "colab": {
     "base_uri": "https://localhost:8080/"
    },
    "executionInfo": {
     "elapsed": 6,
     "status": "ok",
     "timestamp": 1631012685731,
     "user": {
      "displayName": "정지혁",
      "photoUrl": "https://lh3.googleusercontent.com/a-/AOh14Gi2xnkUvkGuxYJpQ869taL552Birarh0kp9GKTKCQ=s64",
      "userId": "09534774022449022692"
     },
     "user_tz": -540
    },
    "id": "lGK3lTUS7iNA",
    "outputId": "b9b38904-7ec1-45a0-fdfa-bba7d5d63215"
   },
   "outputs": [
    {
     "data": {
      "text/plain": [
       "<function __main__.A.yy>"
      ]
     },
     "execution_count": 43,
     "metadata": {},
     "output_type": "execute_result"
    }
   ],
   "source": [
    "A.yy"
   ]
  },
  {
   "cell_type": "code",
   "execution_count": null,
   "metadata": {
    "colab": {
     "base_uri": "https://localhost:8080/"
    },
    "executionInfo": {
     "elapsed": 210,
     "status": "ok",
     "timestamp": 1631012850450,
     "user": {
      "displayName": "정지혁",
      "photoUrl": "https://lh3.googleusercontent.com/a-/AOh14Gi2xnkUvkGuxYJpQ869taL552Birarh0kp9GKTKCQ=s64",
      "userId": "09534774022449022692"
     },
     "user_tz": -540
    },
    "id": "abfhLAkd8LDp",
    "outputId": "aa3b8f3f-a2f7-42be-fe58-5a4e779b28e6"
   },
   "outputs": [
    {
     "name": "stdout",
     "output_type": "stream",
     "text": [
      "cls\n"
     ]
    }
   ],
   "source": [
    "a = A()\n",
    "a.xx() # 인스턴스에 없으면 클래스 찾는다"
   ]
  },
  {
   "cell_type": "code",
   "execution_count": null,
   "metadata": {
    "colab": {
     "base_uri": "https://localhost:8080/"
    },
    "executionInfo": {
     "elapsed": 215,
     "status": "ok",
     "timestamp": 1631012938990,
     "user": {
      "displayName": "정지혁",
      "photoUrl": "https://lh3.googleusercontent.com/a-/AOh14Gi2xnkUvkGuxYJpQ869taL552Birarh0kp9GKTKCQ=s64",
      "userId": "09534774022449022692"
     },
     "user_tz": -540
    },
    "id": "d-IXwYx28Xgd",
    "outputId": "009e101c-4efe-4390-d10b-94531cd9a588"
   },
   "outputs": [
    {
     "name": "stdout",
     "output_type": "stream",
     "text": [
      "cls\n"
     ]
    }
   ],
   "source": [
    "a = A()\n",
    "a.xx()"
   ]
  },
  {
   "cell_type": "code",
   "execution_count": null,
   "metadata": {
    "colab": {
     "base_uri": "https://localhost:8080/"
    },
    "executionInfo": {
     "elapsed": 2,
     "status": "ok",
     "timestamp": 1631012939745,
     "user": {
      "displayName": "정지혁",
      "photoUrl": "https://lh3.googleusercontent.com/a-/AOh14Gi2xnkUvkGuxYJpQ869taL552Birarh0kp9GKTKCQ=s64",
      "userId": "09534774022449022692"
     },
     "user_tz": -540
    },
    "id": "vVLuQ8y_8X2r",
    "outputId": "65aba1c7-15da-4ac9-e32f-6ac9d8dd1fb1"
   },
   "outputs": [
    {
     "data": {
      "text/plain": [
       "1"
      ]
     },
     "execution_count": 56,
     "metadata": {},
     "output_type": "execute_result"
    }
   ],
   "source": [
    "a.t"
   ]
  },
  {
   "cell_type": "code",
   "execution_count": null,
   "metadata": {
    "id": "xdrGO0KTUKX3"
   },
   "outputs": [],
   "source": [
    "import pandas as pd "
   ]
  },
  {
   "cell_type": "code",
   "execution_count": null,
   "metadata": {
    "colab": {
     "base_uri": "https://localhost:8080/"
    },
    "executionInfo": {
     "elapsed": 6,
     "status": "ok",
     "timestamp": 1631019152005,
     "user": {
      "displayName": "정지혁",
      "photoUrl": "https://lh3.googleusercontent.com/a-/AOh14Gi2xnkUvkGuxYJpQ869taL552Birarh0kp9GKTKCQ=s64",
      "userId": "09534774022449022692"
     },
     "user_tz": -540
    },
    "id": "sJCcDNnXUKlk",
    "outputId": "f4ecc1fa-4803-4051-b88f-06c196b06c34"
   },
   "outputs": [
    {
     "data": {
      "text/plain": [
       "type"
      ]
     },
     "execution_count": 64,
     "metadata": {},
     "output_type": "execute_result"
    }
   ],
   "source": [
    "type(pd.DataFrame)"
   ]
  },
  {
   "cell_type": "code",
   "execution_count": null,
   "metadata": {
    "colab": {
     "base_uri": "https://localhost:8080/"
    },
    "executionInfo": {
     "elapsed": 2,
     "status": "ok",
     "timestamp": 1631019152246,
     "user": {
      "displayName": "정지혁",
      "photoUrl": "https://lh3.googleusercontent.com/a-/AOh14Gi2xnkUvkGuxYJpQ869taL552Birarh0kp9GKTKCQ=s64",
      "userId": "09534774022449022692"
     },
     "user_tz": -540
    },
    "id": "OxHAGcMiUN0M",
    "outputId": "be39edae-fd28-47b9-d378-7387fcde7fcc"
   },
   "outputs": [
    {
     "data": {
      "text/plain": [
       "<bound method DataFrame.from_dict of <class 'pandas.core.frame.DataFrame'>>"
      ]
     },
     "execution_count": 65,
     "metadata": {},
     "output_type": "execute_result"
    }
   ],
   "source": [
    "pd.DataFrame.from_dict # classmethod"
   ]
  },
  {
   "cell_type": "code",
   "execution_count": null,
   "metadata": {
    "id": "_HKsNDmy8X-J"
   },
   "outputs": [],
   "source": [
    "class B:\n",
    "  def aa(self):\n",
    "    self.a = 1 \n",
    "  \n",
    "  def bb(self):\n",
    "    self.b = 2   # 인스턴스 변수는 인스턴스가 사용한다 "
   ]
  },
  {
   "cell_type": "code",
   "execution_count": null,
   "metadata": {
    "id": "eyJUx4lN8yeW"
   },
   "outputs": [],
   "source": [
    "b = B()"
   ]
  },
  {
   "cell_type": "code",
   "execution_count": null,
   "metadata": {
    "colab": {
     "base_uri": "https://localhost:8080/",
     "height": 164
    },
    "executionInfo": {
     "elapsed": 9,
     "status": "error",
     "timestamp": 1631013068950,
     "user": {
      "displayName": "정지혁",
      "photoUrl": "https://lh3.googleusercontent.com/a-/AOh14Gi2xnkUvkGuxYJpQ869taL552Birarh0kp9GKTKCQ=s64",
      "userId": "09534774022449022692"
     },
     "user_tz": -540
    },
    "id": "IP06Wcvm9EWY",
    "outputId": "c40173c6-e419-42d6-a328-06808333c909"
   },
   "outputs": [
    {
     "ename": "AttributeError",
     "evalue": "ignored",
     "output_type": "error",
     "traceback": [
      "\u001b[0;31m---------------------------------------------------------------------------\u001b[0m",
      "\u001b[0;31mAttributeError\u001b[0m                            Traceback (most recent call last)",
      "\u001b[0;32m<ipython-input-59-98be602909d9>\u001b[0m in \u001b[0;36m<module>\u001b[0;34m()\u001b[0m\n\u001b[0;32m----> 1\u001b[0;31m \u001b[0mb\u001b[0m\u001b[0;34m.\u001b[0m\u001b[0ma\u001b[0m\u001b[0;34m\u001b[0m\u001b[0;34m\u001b[0m\u001b[0m\n\u001b[0m",
      "\u001b[0;31mAttributeError\u001b[0m: 'B' object has no attribute 'a'"
     ]
    }
   ],
   "source": [
    "b.a"
   ]
  },
  {
   "cell_type": "code",
   "execution_count": null,
   "metadata": {
    "id": "fw9yBzZv9Ear"
   },
   "outputs": [],
   "source": [
    "b.aa() # 함수 실행시점에서 인스턴스 변수에 접근 가능해진다 "
   ]
  },
  {
   "cell_type": "code",
   "execution_count": null,
   "metadata": {
    "colab": {
     "base_uri": "https://localhost:8080/"
    },
    "executionInfo": {
     "elapsed": 208,
     "status": "ok",
     "timestamp": 1631013079832,
     "user": {
      "displayName": "정지혁",
      "photoUrl": "https://lh3.googleusercontent.com/a-/AOh14Gi2xnkUvkGuxYJpQ869taL552Birarh0kp9GKTKCQ=s64",
      "userId": "09534774022449022692"
     },
     "user_tz": -540
    },
    "id": "7gGU7I5y9HgW",
    "outputId": "da2b53a4-7a21-4ba9-8e95-99ecc75c04b4"
   },
   "outputs": [
    {
     "data": {
      "text/plain": [
       "1"
      ]
     },
     "execution_count": 61,
     "metadata": {},
     "output_type": "execute_result"
    }
   ],
   "source": [
    "b.a"
   ]
  },
  {
   "cell_type": "code",
   "execution_count": null,
   "metadata": {
    "colab": {
     "base_uri": "https://localhost:8080/"
    },
    "executionInfo": {
     "elapsed": 199,
     "status": "ok",
     "timestamp": 1631013089621,
     "user": {
      "displayName": "정지혁",
      "photoUrl": "https://lh3.googleusercontent.com/a-/AOh14Gi2xnkUvkGuxYJpQ869taL552Birarh0kp9GKTKCQ=s64",
      "userId": "09534774022449022692"
     },
     "user_tz": -540
    },
    "id": "B-u0sHXo9HmO",
    "outputId": "06b941e6-1028-4845-d100-8aae43b5041e"
   },
   "outputs": [
    {
     "data": {
      "text/plain": [
       "{'a': 1}"
      ]
     },
     "execution_count": 62,
     "metadata": {},
     "output_type": "execute_result"
    }
   ],
   "source": [
    "vars(b)"
   ]
  },
  {
   "cell_type": "code",
   "execution_count": null,
   "metadata": {
    "id": "HC50YUXj_Pyu"
   },
   "outputs": [],
   "source": [
    "class test:\n",
    "  a = 1 \n",
    "\n",
    "  @classmethod\n",
    "  def one(cls):\n",
    "    cls.a = 1 \n",
    "    print('cls')\n",
    "  \n",
    "  def two(self):\n",
    "    self.b = 2"
   ]
  },
  {
   "cell_type": "code",
   "execution_count": null,
   "metadata": {
    "id": "54Ahri3g_P37"
   },
   "outputs": [],
   "source": [
    "t = test()"
   ]
  },
  {
   "cell_type": "code",
   "execution_count": null,
   "metadata": {
    "colab": {
     "base_uri": "https://localhost:8080/"
    },
    "executionInfo": {
     "elapsed": 350,
     "status": "ok",
     "timestamp": 1631013672869,
     "user": {
      "displayName": "정지혁",
      "photoUrl": "https://lh3.googleusercontent.com/a-/AOh14Gi2xnkUvkGuxYJpQ869taL552Birarh0kp9GKTKCQ=s64",
      "userId": "09534774022449022692"
     },
     "user_tz": -540
    },
    "id": "12rTP-09_QA1",
    "outputId": "3128a240-fa9b-462b-9c2f-b33ed0701c27"
   },
   "outputs": [
    {
     "data": {
      "text/plain": [
       "1"
      ]
     },
     "execution_count": 73,
     "metadata": {},
     "output_type": "execute_result"
    }
   ],
   "source": [
    "t.a"
   ]
  },
  {
   "cell_type": "code",
   "execution_count": null,
   "metadata": {
    "colab": {
     "base_uri": "https://localhost:8080/",
     "height": 164
    },
    "executionInfo": {
     "elapsed": 239,
     "status": "error",
     "timestamp": 1631013678006,
     "user": {
      "displayName": "정지혁",
      "photoUrl": "https://lh3.googleusercontent.com/a-/AOh14Gi2xnkUvkGuxYJpQ869taL552Birarh0kp9GKTKCQ=s64",
      "userId": "09534774022449022692"
     },
     "user_tz": -540
    },
    "id": "gtRivZtA_Z2a",
    "outputId": "d2f00a13-8ba2-4a89-db3d-7d5bf9e9d3dc"
   },
   "outputs": [
    {
     "ename": "AttributeError",
     "evalue": "ignored",
     "output_type": "error",
     "traceback": [
      "\u001b[0;31m---------------------------------------------------------------------------\u001b[0m",
      "\u001b[0;31mAttributeError\u001b[0m                            Traceback (most recent call last)",
      "\u001b[0;32m<ipython-input-74-f650d918d24c>\u001b[0m in \u001b[0;36m<module>\u001b[0;34m()\u001b[0m\n\u001b[0;32m----> 1\u001b[0;31m \u001b[0mt\u001b[0m\u001b[0;34m.\u001b[0m\u001b[0mb\u001b[0m\u001b[0;34m\u001b[0m\u001b[0;34m\u001b[0m\u001b[0m\n\u001b[0m",
      "\u001b[0;31mAttributeError\u001b[0m: 'test' object has no attribute 'b'"
     ]
    }
   ],
   "source": [
    "t.b # 인스턴스 메소드가 실행된 시점 이후에 접근 가능하다 "
   ]
  },
  {
   "cell_type": "code",
   "execution_count": null,
   "metadata": {
    "id": "-8yXuzJj_en7"
   },
   "outputs": [],
   "source": [
    "t.two()"
   ]
  },
  {
   "cell_type": "code",
   "execution_count": null,
   "metadata": {
    "colab": {
     "base_uri": "https://localhost:8080/"
    },
    "executionInfo": {
     "elapsed": 225,
     "status": "ok",
     "timestamp": 1631013707318,
     "user": {
      "displayName": "정지혁",
      "photoUrl": "https://lh3.googleusercontent.com/a-/AOh14Gi2xnkUvkGuxYJpQ869taL552Birarh0kp9GKTKCQ=s64",
      "userId": "09534774022449022692"
     },
     "user_tz": -540
    },
    "id": "PqOZV0ul_hJz",
    "outputId": "6004ca02-159a-4071-beeb-674f6506f79e"
   },
   "outputs": [
    {
     "data": {
      "text/plain": [
       "2"
      ]
     },
     "execution_count": 76,
     "metadata": {},
     "output_type": "execute_result"
    }
   ],
   "source": [
    "t.b"
   ]
  },
  {
   "cell_type": "code",
   "execution_count": null,
   "metadata": {
    "id": "Cz0Rzby-CxpT"
   },
   "outputs": [],
   "source": [
    "import tensorflow as tf\n",
    "\n",
    "from tensorflow.keras.layers import Dense, Flatten, Conv2D\n",
    "from tensorflow.keras import Model\n",
    "\n",
    "mnist = tf.keras.datasets.mnist\n",
    "\n",
    "(x_train, y_train), (x_test, y_test) = mnist.load_data() # 동적 생성 \n",
    "x_train, x_test = x_train / 255.0, x_test / 255.0\n",
    "\n",
    "\n",
    "class MyModel(Model):\n",
    "  def __init__(self):     # callable 연산자 overloading / 역할은 기능을 초기화 한다 \n",
    "    super(MyModel, self).__init__()\n",
    "    self.conv1 = Conv2D(32, 3, activation='relu')\n",
    "    self.flatten = Flatten()\n",
    "    self.d1 = Dense(128, activation='relu')\n",
    "    self.d2 = Dense(10)\n",
    "\n",
    "  def call(self, x):\n",
    "    x = self.conv1(x)\n",
    "    x = self.flatten(x)\n",
    "    x = self.d1(x)\n",
    "    return self.d2(x)\n",
    "\n",
    "# Create an instance of the model\n",
    "model = MyModel()"
   ]
  },
  {
   "cell_type": "markdown",
   "metadata": {
    "id": "gBqQzstV-9oL"
   },
   "source": [
    "#### ※ 클래스안의 클래스 메소드와 인스턴스 메소드의 가장 큰 차이점은 클래스를 인스턴스화 했을 때\n",
    "#### 클래스 메소드 안에 있는 클래스 변수는 바로 접근 가능하지만, 인스턴스 메소드 안에 있는 \n",
    "#### 인스턴스 변수는 인스턴스 변수가 실행된 시점 이후에 접근 가능해진다 "
   ]
  },
  {
   "cell_type": "code",
   "execution_count": null,
   "metadata": {
    "id": "etpG-C-JFBHt"
   },
   "outputs": [],
   "source": [
    "class C:\n",
    "  \n",
    "  def __new__(cls):\n",
    "    print('new')\n",
    "  \n",
    "  def __init__(self):\n",
    "    print('init')"
   ]
  },
  {
   "cell_type": "code",
   "execution_count": null,
   "metadata": {
    "colab": {
     "base_uri": "https://localhost:8080/"
    },
    "executionInfo": {
     "elapsed": 215,
     "status": "ok",
     "timestamp": 1631015177108,
     "user": {
      "displayName": "정지혁",
      "photoUrl": "https://lh3.googleusercontent.com/a-/AOh14Gi2xnkUvkGuxYJpQ869taL552Birarh0kp9GKTKCQ=s64",
      "userId": "09534774022449022692"
     },
     "user_tz": -540
    },
    "id": "7yN-RSmwFBUK",
    "outputId": "7439ae8f-7345-4fb5-c95b-2a91d2847805"
   },
   "outputs": [
    {
     "name": "stdout",
     "output_type": "stream",
     "text": [
      "new\n"
     ]
    }
   ],
   "source": [
    "C()"
   ]
  },
  {
   "cell_type": "code",
   "execution_count": null,
   "metadata": {
    "colab": {
     "base_uri": "https://localhost:8080/"
    },
    "executionInfo": {
     "elapsed": 330,
     "status": "ok",
     "timestamp": 1631015185052,
     "user": {
      "displayName": "정지혁",
      "photoUrl": "https://lh3.googleusercontent.com/a-/AOh14Gi2xnkUvkGuxYJpQ869taL552Birarh0kp9GKTKCQ=s64",
      "userId": "09534774022449022692"
     },
     "user_tz": -540
    },
    "id": "INY2dtQzFIdh",
    "outputId": "b4e97cfc-1278-457a-cd85-fc76371886d9"
   },
   "outputs": [
    {
     "name": "stdout",
     "output_type": "stream",
     "text": [
      "new\n"
     ]
    }
   ],
   "source": [
    "c = C()"
   ]
  },
  {
   "cell_type": "code",
   "execution_count": null,
   "metadata": {
    "colab": {
     "base_uri": "https://localhost:8080/",
     "height": 164
    },
    "executionInfo": {
     "elapsed": 20,
     "status": "error",
     "timestamp": 1631015187614,
     "user": {
      "displayName": "정지혁",
      "photoUrl": "https://lh3.googleusercontent.com/a-/AOh14Gi2xnkUvkGuxYJpQ869taL552Birarh0kp9GKTKCQ=s64",
      "userId": "09534774022449022692"
     },
     "user_tz": -540
    },
    "id": "XUal1fnzFKVy",
    "outputId": "1df7bf13-b819-4579-87b1-7438e3f6e5e3"
   },
   "outputs": [
    {
     "ename": "TypeError",
     "evalue": "ignored",
     "output_type": "error",
     "traceback": [
      "\u001b[0;31m---------------------------------------------------------------------------\u001b[0m",
      "\u001b[0;31mTypeError\u001b[0m                                 Traceback (most recent call last)",
      "\u001b[0;32m<ipython-input-9-efb827eda749>\u001b[0m in \u001b[0;36m<module>\u001b[0;34m()\u001b[0m\n\u001b[0;32m----> 1\u001b[0;31m \u001b[0mvars\u001b[0m\u001b[0;34m(\u001b[0m\u001b[0mc\u001b[0m\u001b[0;34m)\u001b[0m\u001b[0;34m\u001b[0m\u001b[0;34m\u001b[0m\u001b[0m\n\u001b[0m",
      "\u001b[0;31mTypeError\u001b[0m: vars() argument must have __dict__ attribute"
     ]
    }
   ],
   "source": [
    "vars(c)"
   ]
  },
  {
   "cell_type": "code",
   "execution_count": null,
   "metadata": {
    "id": "0Te3KId1FOnr"
   },
   "outputs": [],
   "source": [
    "class C:\n",
    "  \n",
    "  def __new__(cls):    # 객체를 반환하는 것\n",
    "    print('new')\n",
    "    return super().__new__(cls)\n",
    "  \n",
    "  def __init__(self):  # 반환된 객체의 값을 지정해주는 것 / 초기화 용도로 사용 / return이 None이어야 한\n",
    "    print('init')"
   ]
  },
  {
   "cell_type": "code",
   "execution_count": null,
   "metadata": {
    "colab": {
     "base_uri": "https://localhost:8080/"
    },
    "executionInfo": {
     "elapsed": 589,
     "status": "ok",
     "timestamp": 1631015260653,
     "user": {
      "displayName": "정지혁",
      "photoUrl": "https://lh3.googleusercontent.com/a-/AOh14Gi2xnkUvkGuxYJpQ869taL552Birarh0kp9GKTKCQ=s64",
      "userId": "09534774022449022692"
     },
     "user_tz": -540
    },
    "id": "QxsDFTu5Fbqt",
    "outputId": "804dd3d5-248e-47ae-d8f4-0ac14748053e"
   },
   "outputs": [
    {
     "name": "stdout",
     "output_type": "stream",
     "text": [
      "new\n",
      "init\n"
     ]
    }
   ],
   "source": [
    "c = C()  # 파이썬에서 인스턴스 생성은 두 단계로 나누어져 있다 "
   ]
  },
  {
   "cell_type": "markdown",
   "metadata": {
    "id": "llLQtVEDHK50"
   },
   "source": [
    "## staticmethod"
   ]
  },
  {
   "cell_type": "markdown",
   "metadata": {
    "id": "jX_ujzMPHP9q"
   },
   "source": [
    "```\n",
    "대형 프로젝트에서 주로 사용한다 \n",
    "```"
   ]
  },
  {
   "cell_type": "code",
   "execution_count": null,
   "metadata": {
    "id": "oFCZuh7tHJZr"
   },
   "outputs": [],
   "source": [
    "class T:\n",
    "  @staticmethod  # 기본적으로 python의 method는 정의 첫번째 인자 강제, 사용은 첫번째 인자 생략하는 것이 원칙이다 \n",
    "  def st():      # staticmethos는 클래스 인스턴스와 상관 없이 존재한다 \n",
    "    print('st')"
   ]
  },
  {
   "cell_type": "code",
   "execution_count": null,
   "metadata": {
    "colab": {
     "base_uri": "https://localhost:8080/"
    },
    "executionInfo": {
     "elapsed": 11,
     "status": "ok",
     "timestamp": 1631016301025,
     "user": {
      "displayName": "정지혁",
      "photoUrl": "https://lh3.googleusercontent.com/a-/AOh14Gi2xnkUvkGuxYJpQ869taL552Birarh0kp9GKTKCQ=s64",
      "userId": "09534774022449022692"
     },
     "user_tz": -540
    },
    "id": "7ZoumNjbHKQa",
    "outputId": "794d367e-011f-4d04-eab5-c504148c3997"
   },
   "outputs": [
    {
     "name": "stdout",
     "output_type": "stream",
     "text": [
      "st\n"
     ]
    }
   ],
   "source": [
    "T.st() # 체계적으로 구조화 할 수 있다 "
   ]
  },
  {
   "cell_type": "markdown",
   "metadata": {
    "id": "TAz4OfpJJ1M6"
   },
   "source": [
    "## property, descriptor"
   ]
  },
  {
   "cell_type": "markdown",
   "metadata": {
    "id": "vHW6YVHeKHen"
   },
   "source": [
    "descriptor 는 . 행동 결정 (get set del) => 정보 은닉에 사용"
   ]
  },
  {
   "cell_type": "code",
   "execution_count": 1,
   "metadata": {
    "id": "bEgkK3u6J30d"
   },
   "outputs": [],
   "source": [
    "class D: # callable 관점에서\n",
    "\n",
    "  def __init__(self, t):\n",
    "    self._t = t\n",
    "\n",
    "  @property # callable을 callable 하지 않게 변경\n",
    "  def t(self):\n",
    "    return self._t\n",
    "  \n",
    "  @t.setter\n",
    "  def t(self, t):\n",
    "    self._t = t\n",
    "\n",
    "  def __getattribute__(self, x):\n",
    "    if x == '_t':\n",
    "      print('접근 안됨')"
   ]
  },
  {
   "cell_type": "code",
   "execution_count": 2,
   "metadata": {
    "id": "NzsULOSYKboQ"
   },
   "outputs": [],
   "source": [
    "d = D(6)"
   ]
  },
  {
   "cell_type": "code",
   "execution_count": 3,
   "metadata": {
    "id": "msc7gXQSKodX"
   },
   "outputs": [],
   "source": [
    "d.t "
   ]
  },
  {
   "cell_type": "code",
   "execution_count": 4,
   "metadata": {
    "id": "ReIBmVozLs_-"
   },
   "outputs": [],
   "source": [
    "vars(d)"
   ]
  },
  {
   "cell_type": "code",
   "execution_count": 5,
   "metadata": {
    "colab": {
     "base_uri": "https://localhost:8080/"
    },
    "executionInfo": {
     "elapsed": 22,
     "status": "ok",
     "timestamp": 1631017000888,
     "user": {
      "displayName": "정지혁",
      "photoUrl": "https://lh3.googleusercontent.com/a-/AOh14Gi2xnkUvkGuxYJpQ869taL552Birarh0kp9GKTKCQ=s64",
      "userId": "09534774022449022692"
     },
     "user_tz": -540
    },
    "id": "ST8ZCFy8KpkF",
    "outputId": "340a2844-e484-4bf6-fbc1-f02f1c60d2a1"
   },
   "outputs": [
    {
     "name": "stdout",
     "output_type": "stream",
     "text": [
      "접근 안됨\n"
     ]
    }
   ],
   "source": [
    "d._t"
   ]
  },
  {
   "cell_type": "code",
   "execution_count": 6,
   "metadata": {
    "id": "Ft5zZcZjK0cq"
   },
   "outputs": [],
   "source": [
    "class E:\n",
    "  __a = 1 # mangling"
   ]
  },
  {
   "cell_type": "code",
   "execution_count": 7,
   "metadata": {
    "colab": {
     "base_uri": "https://localhost:8080/",
     "height": 164
    },
    "executionInfo": {
     "elapsed": 297,
     "status": "error",
     "timestamp": 1631016775403,
     "user": {
      "displayName": "정지혁",
      "photoUrl": "https://lh3.googleusercontent.com/a-/AOh14Gi2xnkUvkGuxYJpQ869taL552Birarh0kp9GKTKCQ=s64",
      "userId": "09534774022449022692"
     },
     "user_tz": -540
    },
    "id": "uaR77gzDLOaU",
    "outputId": "e3074ee1-14ce-4320-c1d4-2ea8a185cfa3"
   },
   "outputs": [
    {
     "ename": "AttributeError",
     "evalue": "type object 'E' has no attribute '__a'",
     "output_type": "error",
     "traceback": [
      "\u001b[1;31m---------------------------------------------------------------------------\u001b[0m",
      "\u001b[1;31mAttributeError\u001b[0m                            Traceback (most recent call last)",
      "\u001b[1;32m<ipython-input-7-e5fbae86e799>\u001b[0m in \u001b[0;36m<module>\u001b[1;34m\u001b[0m\n\u001b[1;32m----> 1\u001b[1;33m \u001b[0mE\u001b[0m\u001b[1;33m.\u001b[0m\u001b[0m__a\u001b[0m\u001b[1;33m\u001b[0m\u001b[1;33m\u001b[0m\u001b[0m\n\u001b[0m",
      "\u001b[1;31mAttributeError\u001b[0m: type object 'E' has no attribute '__a'"
     ]
    }
   ],
   "source": [
    "E.__a"
   ]
  },
  {
   "cell_type": "code",
   "execution_count": null,
   "metadata": {
    "colab": {
     "base_uri": "https://localhost:8080/"
    },
    "executionInfo": {
     "elapsed": 248,
     "status": "ok",
     "timestamp": 1631016758422,
     "user": {
      "displayName": "정지혁",
      "photoUrl": "https://lh3.googleusercontent.com/a-/AOh14Gi2xnkUvkGuxYJpQ869taL552Birarh0kp9GKTKCQ=s64",
      "userId": "09534774022449022692"
     },
     "user_tz": -540
    },
    "id": "UFh1sdxeLIwx",
    "outputId": "2e29db71-1f19-4326-ed5d-72aa57fdba4e"
   },
   "outputs": [
    {
     "data": {
      "text/plain": [
       "1"
      ]
     },
     "execution_count": 24,
     "metadata": {},
     "output_type": "execute_result"
    }
   ],
   "source": [
    "E._E__a"
   ]
  },
  {
   "cell_type": "markdown",
   "metadata": {
    "id": "89fYYkJHOsoG"
   },
   "source": [
    "## Dispatch"
   ]
  },
  {
   "cell_type": "markdown",
   "metadata": {
    "id": "IF2RGGDwOs1V"
   },
   "source": [
    "```python\n",
    "Dispatch는 어떤 메소드를 호출할 것인가를 결정하여 그것을 실행하도록 유도해주는 과정을 말한다 \n",
    "\n",
    " \n",
    "python은 singledispatch만 지원한다 \n",
    "단, multiple dispatch는 3rd party를 설치하면 구현 가능하다  \n",
    " \n",
    "파라미터가 한개면 single\n",
    "파라미터가 두개 이상이면 multiple \n",
    "\n",
    "len # type builtin_function or method / dispatch를 지원해주는 generic function \n",
    "\n",
    "len([1,2,3]) -> list 관련 메소드로 dispatch \n",
    "len((1,2,3)) -> tuple 관련 메소드로 dispatch # dispatch는 tensorflow predict에 숨어있는 개념이다\n",
    "```"
   ]
  },
  {
   "cell_type": "markdown",
   "metadata": {
    "id": "h9209eonPOEL"
   },
   "source": [
    "## Single dispatch vs Multiple dispatch"
   ]
  },
  {
   "cell_type": "code",
   "execution_count": null,
   "metadata": {
    "id": "M4pAQ_vbPAwm"
   },
   "outputs": [],
   "source": [
    "# method overloading\n",
    "# 다른 프로그래밍 언어에서는 parameter가 다르면 다른 함수로 간주한다 \n",
    "# python에서는 method overloading을 지원하지 않는다 \n",
    "\n",
    "def x():\n",
    "    print('x')\n",
    "\n",
    "def x(a):\n",
    "    print('a')"
   ]
  },
  {
   "cell_type": "markdown",
   "metadata": {
    "id": "-V6cfgExPxsV"
   },
   "source": [
    "### Single dispatch"
   ]
  },
  {
   "cell_type": "code",
   "execution_count": null,
   "metadata": {
    "id": "bTA7iHffPult"
   },
   "outputs": [],
   "source": [
    "from functools import singledispatch\n",
    "\n",
    "@singledispatch # 데코레이터 singledispatch함수에 x함수의 기능이 추가 되는 것이다 \n",
    "def x(a):\n",
    "    print(a)\n",
    "\n",
    "@x.register(int)\n",
    "def _(a):\n",
    "    print('int', a)\n",
    "    \n",
    "@x.register(float)\n",
    "def _(a):\n",
    "    print('float', a)\n",
    "    \n",
    "# 데코레이터 관점에서 봤을 때 메소드 이름이 동일해도 서로 다르게 작동할 수 있다    \n",
    "# 데이터 타입에 따라서 다른 메소드를 실행시킬수 있다 "
   ]
  },
  {
   "cell_type": "code",
   "execution_count": null,
   "metadata": {
    "colab": {
     "base_uri": "https://localhost:8080/"
    },
    "executionInfo": {
     "elapsed": 237,
     "status": "ok",
     "timestamp": 1631018075868,
     "user": {
      "displayName": "정지혁",
      "photoUrl": "https://lh3.googleusercontent.com/a-/AOh14Gi2xnkUvkGuxYJpQ869taL552Birarh0kp9GKTKCQ=s64",
      "userId": "09534774022449022692"
     },
     "user_tz": -540
    },
    "id": "-N6EQ5rQPsGv",
    "outputId": "9764aa68-e95d-4f95-8eea-1a19c576435e"
   },
   "outputs": [
    {
     "name": "stdout",
     "output_type": "stream",
     "text": [
      "a\n"
     ]
    }
   ],
   "source": [
    "x('a')"
   ]
  },
  {
   "cell_type": "code",
   "execution_count": null,
   "metadata": {
    "colab": {
     "base_uri": "https://localhost:8080/"
    },
    "executionInfo": {
     "elapsed": 219,
     "status": "ok",
     "timestamp": 1631018079339,
     "user": {
      "displayName": "정지혁",
      "photoUrl": "https://lh3.googleusercontent.com/a-/AOh14Gi2xnkUvkGuxYJpQ869taL552Birarh0kp9GKTKCQ=s64",
      "userId": "09534774022449022692"
     },
     "user_tz": -540
    },
    "id": "_MoIe-HPQMR6",
    "outputId": "15a41082-d9ea-4d46-bc9d-3d7eda03e374"
   },
   "outputs": [
    {
     "name": "stdout",
     "output_type": "stream",
     "text": [
      "int 1\n"
     ]
    }
   ],
   "source": [
    "x(1)"
   ]
  },
  {
   "cell_type": "code",
   "execution_count": null,
   "metadata": {
    "colab": {
     "base_uri": "https://localhost:8080/"
    },
    "executionInfo": {
     "elapsed": 17,
     "status": "ok",
     "timestamp": 1631018081833,
     "user": {
      "displayName": "정지혁",
      "photoUrl": "https://lh3.googleusercontent.com/a-/AOh14Gi2xnkUvkGuxYJpQ869taL552Birarh0kp9GKTKCQ=s64",
      "userId": "09534774022449022692"
     },
     "user_tz": -540
    },
    "id": "kM821ZsuQNIV",
    "outputId": "b512c42c-1fd0-4a20-f11b-e7e05ce4e7a9"
   },
   "outputs": [
    {
     "name": "stdout",
     "output_type": "stream",
     "text": [
      "float 1.0\n"
     ]
    }
   ],
   "source": [
    "x(1.)"
   ]
  },
  {
   "cell_type": "markdown",
   "metadata": {
    "id": "Jg6rwAeNQRH-"
   },
   "source": [
    "### Tensorflow predict (dispatch 예시)"
   ]
  },
  {
   "cell_type": "code",
   "execution_count": null,
   "metadata": {
    "colab": {
     "base_uri": "https://localhost:8080/"
    },
    "executionInfo": {
     "elapsed": 226,
     "status": "ok",
     "timestamp": 1631018912236,
     "user": {
      "displayName": "정지혁",
      "photoUrl": "https://lh3.googleusercontent.com/a-/AOh14Gi2xnkUvkGuxYJpQ869taL552Birarh0kp9GKTKCQ=s64",
      "userId": "09534774022449022692"
     },
     "user_tz": -540
    },
    "id": "ioH3sdPuQNti",
    "outputId": "91cc2af4-900c-4cd8-8453-8a107bf530a6"
   },
   "outputs": [
    {
     "data": {
      "text/plain": [
       "array([[-0.9186919, -1.4591577]], dtype=float32)"
      ]
     },
     "execution_count": 55,
     "metadata": {},
     "output_type": "execute_result"
    }
   ],
   "source": [
    "import tensorflow as tf \n",
    " \n",
    "model = tf.keras.models.Sequential([\n",
    "    tf.keras.layers.Dense(2, input_shape=(2,))\n",
    "])\n",
    " \n",
    "model.predict(tf.constant([[1,2]])) # numpy array type"
   ]
  },
  {
   "cell_type": "code",
   "execution_count": null,
   "metadata": {
    "colab": {
     "base_uri": "https://localhost:8080/"
    },
    "executionInfo": {
     "elapsed": 6,
     "status": "ok",
     "timestamp": 1631018914083,
     "user": {
      "displayName": "정지혁",
      "photoUrl": "https://lh3.googleusercontent.com/a-/AOh14Gi2xnkUvkGuxYJpQ869taL552Birarh0kp9GKTKCQ=s64",
      "userId": "09534774022449022692"
     },
     "user_tz": -540
    },
    "id": "SnV3DjoaQQAA",
    "outputId": "cd0d850a-6697-41ba-db24-794098caf8e6"
   },
   "outputs": [
    {
     "data": {
      "text/plain": [
       "<tf.Tensor: shape=(1, 2), dtype=float32, numpy=array([[-0.9186919, -1.4591577]], dtype=float32)>"
      ]
     },
     "execution_count": 56,
     "metadata": {},
     "output_type": "execute_result"
    }
   ],
   "source": [
    "model(tf.constant([[1,2]])) # Tensor type"
   ]
  },
  {
   "cell_type": "markdown",
   "metadata": {
    "id": "JFjud6_hTnJ2"
   },
   "source": [
    "### Multiple dispatch"
   ]
  },
  {
   "cell_type": "code",
   "execution_count": null,
   "metadata": {
    "colab": {
     "base_uri": "https://localhost:8080/"
    },
    "executionInfo": {
     "elapsed": 4972,
     "status": "ok",
     "timestamp": 1631019038819,
     "user": {
      "displayName": "정지혁",
      "photoUrl": "https://lh3.googleusercontent.com/a-/AOh14Gi2xnkUvkGuxYJpQ869taL552Birarh0kp9GKTKCQ=s64",
      "userId": "09534774022449022692"
     },
     "user_tz": -540
    },
    "id": "_dpRHR3ETzvL",
    "outputId": "b3bbfb01-cb23-42fd-bed0-4eafa41e1859"
   },
   "outputs": [
    {
     "name": "stdout",
     "output_type": "stream",
     "text": [
      "Collecting multipledispatch\n",
      "  Downloading multipledispatch-0.6.0-py3-none-any.whl (11 kB)\n",
      "Requirement already satisfied: six in /usr/local/lib/python3.7/dist-packages (from multipledispatch) (1.15.0)\n",
      "Installing collected packages: multipledispatch\n",
      "Successfully installed multipledispatch-0.6.0\n"
     ]
    }
   ],
   "source": [
    "!pip install multipledispatch"
   ]
  },
  {
   "cell_type": "code",
   "execution_count": null,
   "metadata": {
    "id": "Hcv80LALTtY7"
   },
   "outputs": [],
   "source": [
    "from multipledispatch import dispatch\n",
    "\n",
    "@dispatch(int, int)\n",
    "def add(x, y):\n",
    "    return x + y\n",
    "\n",
    "@dispatch(object, object)\n",
    "def add(x, y):\n",
    "    return \"%s + %s\" % (x, y)"
   ]
  },
  {
   "cell_type": "code",
   "execution_count": null,
   "metadata": {
    "colab": {
     "base_uri": "https://localhost:8080/"
    },
    "executionInfo": {
     "elapsed": 208,
     "status": "ok",
     "timestamp": 1631019046026,
     "user": {
      "displayName": "정지혁",
      "photoUrl": "https://lh3.googleusercontent.com/a-/AOh14Gi2xnkUvkGuxYJpQ869taL552Birarh0kp9GKTKCQ=s64",
      "userId": "09534774022449022692"
     },
     "user_tz": -540
    },
    "id": "z4MgLpGtTwBY",
    "outputId": "6a1de34a-ca22-42a9-98e0-945783476fd0"
   },
   "outputs": [
    {
     "data": {
      "text/plain": [
       "3"
      ]
     },
     "execution_count": 60,
     "metadata": {},
     "output_type": "execute_result"
    }
   ],
   "source": [
    "add(1,2)"
   ]
  },
  {
   "cell_type": "code",
   "execution_count": null,
   "metadata": {
    "colab": {
     "base_uri": "https://localhost:8080/",
     "height": 37
    },
    "executionInfo": {
     "elapsed": 307,
     "status": "ok",
     "timestamp": 1631019057693,
     "user": {
      "displayName": "정지혁",
      "photoUrl": "https://lh3.googleusercontent.com/a-/AOh14Gi2xnkUvkGuxYJpQ869taL552Birarh0kp9GKTKCQ=s64",
      "userId": "09534774022449022692"
     },
     "user_tz": -540
    },
    "id": "mxB33jzJT5Hx",
    "outputId": "608da345-6c80-49a5-93d4-90e6493bea58"
   },
   "outputs": [
    {
     "data": {
      "application/vnd.google.colaboratory.intrinsic+json": {
       "type": "string"
      },
      "text/plain": [
       "'1 + 2'"
      ]
     },
     "execution_count": 61,
     "metadata": {},
     "output_type": "execute_result"
    }
   ],
   "source": [
    "add('1','2')"
   ]
  },
  {
   "cell_type": "markdown",
   "metadata": {
    "id": "kNiuH3Z7YoRS"
   },
   "source": [
    "```\n",
    "※ 용어 정리 \n",
    "__함수이름__ 이러한 형태의 메소드: dundu, magic method, speicial method,  \n",
    "일반적으로 프로그래밍 언어에서는 protocol이라고 한다 \n",
    "```"
   ]
  },
  {
   "cell_type": "code",
   "execution_count": null,
   "metadata": {
    "id": "8cJ9FaxDa2To"
   },
   "outputs": [],
   "source": [
    "from itertools import zip_longest"
   ]
  },
  {
   "cell_type": "code",
   "execution_count": null,
   "metadata": {
    "id": "Z3MKyfnAa2dM"
   },
   "outputs": [],
   "source": [
    "x = zip([1,2,3,4],[4,5,6])"
   ]
  },
  {
   "cell_type": "code",
   "execution_count": null,
   "metadata": {
    "colab": {
     "base_uri": "https://localhost:8080/"
    },
    "executionInfo": {
     "elapsed": 206,
     "status": "ok",
     "timestamp": 1631020910469,
     "user": {
      "displayName": "정지혁",
      "photoUrl": "https://lh3.googleusercontent.com/a-/AOh14Gi2xnkUvkGuxYJpQ869taL552Birarh0kp9GKTKCQ=s64",
      "userId": "09534774022449022692"
     },
     "user_tz": -540
    },
    "id": "XcSEUulba_ob",
    "outputId": "69f97bf0-0fd6-4675-9edd-c96feb3728bf"
   },
   "outputs": [
    {
     "data": {
      "text/plain": [
       "[(1, 4), (2, 5), (3, 6)]"
      ]
     },
     "execution_count": 68,
     "metadata": {},
     "output_type": "execute_result"
    }
   ],
   "source": [
    "list(x)"
   ]
  },
  {
   "cell_type": "code",
   "execution_count": null,
   "metadata": {
    "id": "R1p2xnnMbAKx"
   },
   "outputs": [],
   "source": [
    "y = zip_longest([1,2,3,4],[4,5,6])"
   ]
  },
  {
   "cell_type": "code",
   "execution_count": null,
   "metadata": {
    "colab": {
     "base_uri": "https://localhost:8080/"
    },
    "executionInfo": {
     "elapsed": 9,
     "status": "ok",
     "timestamp": 1631020953666,
     "user": {
      "displayName": "정지혁",
      "photoUrl": "https://lh3.googleusercontent.com/a-/AOh14Gi2xnkUvkGuxYJpQ869taL552Birarh0kp9GKTKCQ=s64",
      "userId": "09534774022449022692"
     },
     "user_tz": -540
    },
    "id": "VRVFBNjYbIh-",
    "outputId": "79e6bb8e-296c-4dec-b222-695d21786e8e"
   },
   "outputs": [
    {
     "data": {
      "text/plain": [
       "[(1, 4), (2, 5), (3, 6), (4, None)]"
      ]
     },
     "execution_count": 72,
     "metadata": {},
     "output_type": "execute_result"
    }
   ],
   "source": [
    "list(y)"
   ]
  }
 ],
 "metadata": {
  "accelerator": "GPU",
  "colab": {
   "authorship_tag": "ABX9TyOKDTRTf8aL5+WB02d7d4On",
   "collapsed_sections": [],
   "name": "2일차 수업 내용_시각.ipynb",
   "provenance": []
  },
  "kernelspec": {
   "display_name": "Python 3",
   "language": "python",
   "name": "python3"
  },
  "language_info": {
   "codemirror_mode": {
    "name": "ipython",
    "version": 3
   },
   "file_extension": ".py",
   "mimetype": "text/x-python",
   "name": "python",
   "nbconvert_exporter": "python",
   "pygments_lexer": "ipython3",
   "version": "3.8.5"
  }
 },
 "nbformat": 4,
 "nbformat_minor": 1
}
