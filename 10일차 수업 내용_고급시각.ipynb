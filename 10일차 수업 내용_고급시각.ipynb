{
 "cells": [
  {
   "cell_type": "code",
   "execution_count": 2,
   "metadata": {
    "colab": {
     "base_uri": "https://localhost:8080/"
    },
    "executionInfo": {
     "elapsed": 320,
     "status": "ok",
     "timestamp": 1631924068922,
     "user": {
      "displayName": "정지혁",
      "photoUrl": "https://lh3.googleusercontent.com/a-/AOh14Gi2xnkUvkGuxYJpQ869taL552Birarh0kp9GKTKCQ=s64",
      "userId": "09534774022449022692"
     },
     "user_tz": -540
    },
    "id": "VV6uxX03lf6g",
    "outputId": "47558aa7-e1ae-42ed-ce7e-9a170c3bf20c"
   },
   "outputs": [
    {
     "name": "stdout",
     "output_type": "stream",
     "text": [
      "Drive already mounted at /content/drive; to attempt to forcibly remount, call drive.mount(\"/content/drive\", force_remount=True).\n"
     ]
    }
   ],
   "source": [
    "# 구글 드라이브의 폴더와 구글 코랩 폴더 연결\n",
    "from google.colab import drive\n",
    "drive.mount('/content/drive')"
   ]
  },
  {
   "cell_type": "code",
   "execution_count": 3,
   "metadata": {
    "colab": {
     "base_uri": "https://localhost:8080/"
    },
    "executionInfo": {
     "elapsed": 11,
     "status": "ok",
     "timestamp": 1631924069747,
     "user": {
      "displayName": "정지혁",
      "photoUrl": "https://lh3.googleusercontent.com/a-/AOh14Gi2xnkUvkGuxYJpQ869taL552Birarh0kp9GKTKCQ=s64",
      "userId": "09534774022449022692"
     },
     "user_tz": -540
    },
    "id": "v5SORExslh3Q",
    "outputId": "3b91569a-913e-48fa-d7fb-5aeca385a626"
   },
   "outputs": [
    {
     "name": "stdout",
     "output_type": "stream",
     "text": [
      "/content\n"
     ]
    }
   ],
   "source": [
    "# 현재 경로 확인\n",
    "!pwd"
   ]
  },
  {
   "cell_type": "code",
   "execution_count": 4,
   "metadata": {
    "colab": {
     "base_uri": "https://localhost:8080/"
    },
    "executionInfo": {
     "elapsed": 8,
     "status": "ok",
     "timestamp": 1631924070353,
     "user": {
      "displayName": "정지혁",
      "photoUrl": "https://lh3.googleusercontent.com/a-/AOh14Gi2xnkUvkGuxYJpQ869taL552Birarh0kp9GKTKCQ=s64",
      "userId": "09534774022449022692"
     },
     "user_tz": -540
    },
    "id": "xX7pmutKRDO_",
    "outputId": "8487493e-7a9f-4357-a95a-a846393cd8ff"
   },
   "outputs": [
    {
     "name": "stdout",
     "output_type": "stream",
     "text": [
      "/content/drive/My Drive/Colab Notebooks\n"
     ]
    }
   ],
   "source": [
    "# drive/My Drive/Colab Notebooks 경로로 변경\n",
    "%cd drive/My\\ Drive/Colab\\ Notebooks\\"
   ]
  },
  {
   "cell_type": "code",
   "execution_count": null,
   "metadata": {
    "id": "XJ7vhPz-l3dr"
   },
   "outputs": [],
   "source": [
    "import pathlib\n",
    "dataset_url = \"https://storage.googleapis.com/download.tensorflow.org/example_images/flower_photos.tgz\"\n",
    "data_dir = tf.keras.utils.get_file(origin=dataset_url, \n",
    "                                   fname='flower_photos', \n",
    "                                   untar=True)\n",
    "\n",
    "data_dir = pathlib.Path(data_dir)\n",
    "\n",
    "image_count = len(list(data_dir.glob('*/*.jpg')))\n",
    "print(image_count)"
   ]
  },
  {
   "cell_type": "markdown",
   "metadata": {
    "id": "vBvaB29xmmte"
   },
   "source": [
    "## Image data"
   ]
  },
  {
   "cell_type": "markdown",
   "metadata": {
    "id": "3LkyoJfImqRO"
   },
   "source": [
    "```python\n",
    "이미지 데이터를 다룰 때는 주의 해야 할 것들이 있다 \n",
    "1. 이미지 데이터의 크기가 재각각이다\n",
    "2. 이미지 데이터를 머신러닝 데이터로 사용하기 위해서는 array data로 바꿔야한다 \n",
    "3. 이미지 데이터를 파일로 갖고 있을 경우 tensorflow에서는 tf.io.read_file('')로 불러온다 \n",
    "4. 불러온 이미지 파일 type에 따라서 decoder를 달리해야 한다 \n",
    "5. png 파일은 투명도를 지원한다. 따라서 같은 크기더라도 채널 정보가 4차원이 된다 \n",
    "```"
   ]
  },
  {
   "cell_type": "markdown",
   "metadata": {
    "id": "zYzRoejKoxbm"
   },
   "source": [
    "## 이미지가 크기가 다를때 세 가지 해결 방식 "
   ]
  },
  {
   "cell_type": "markdown",
   "metadata": {
    "id": "DCN_TLQ1o1wO"
   },
   "source": [
    "```python\n",
    "1. resize \n",
    "- resize를 통해 크기를 통일시킨다 \n",
    "- 단, resize를 하게 되면 데이터의 의미가 유지되지 않는다(이미지 왜곡이 발생한다)  \n",
    "2. crop \n",
    "- 내가 생각한 이미지가 생각보다 클 때 사용한다\n",
    "- 데이터를 일일이 crop 해야하는 단점이 있다 \n",
    "3. padding \n",
    "- 내가 생각한 이미지가 생각보다 작을 때 사용한다 \n",
    "\n",
    "# sppnet, r-cnn에서 resize관련 이슈를 해결한 방식을 배울 것이다 \n",
    "```"
   ]
  },
  {
   "cell_type": "markdown",
   "metadata": {
    "id": "i0YnytPgq6ZY"
   },
   "source": [
    "## 이미지 데이터의 크기가 크면 클수록 좋을까?"
   ]
  },
  {
   "cell_type": "markdown",
   "metadata": {
    "id": "cRsUyTC6q97g"
   },
   "source": [
    "```\n",
    "# 가정: cpu, gpu의 성능은 최고라고 가정한다 => 데이터가 많으면 많을 수록 좋다 \n",
    "\n",
    "데이터가 많다는 것은 2차원 데이터에서 row가 늘어나는 것이다 \n",
    "row가 많으면 처리할 연산량이 많아지기 때문에 처리속도가 떨어진다 \n",
    "하지만 하드웨어 성능관점에서 벗어나면 데이터의 row가 많으면 많을 수록 좋다 \n",
    "\n",
    "그렇다면 column(feature/dimension)은 크면 클 수록 좋을까? => column은 i.i.d 가정을 갖고 있다 \n",
    "예를 들어 꽃을 설명 할 때 꽃 잎 정보만 주어 졌을 때 정확하게 학습할까 아니면 꽃 잎 정보, 꽃 줄기 정보, 꽃의 씨앗 정보가 주어졌을 때 더 정확하게 학습할까? \n",
    "당연 더 많은 종류의 정보가 주어졌을 때 학습을 잘 할 수 있다 => 더 많은 nuance를 갖기 때문에 feature가 많은 것은 유리할 수 있다 \n",
    "하지만, 차원이 증가하면 증가할 수록 차원의 저주가 발생한다 \n",
    "즉, 차원이 증가함에 따라 필요한 데이터는 기하 급수적으로 늘어난다 \n",
    "\n",
    "데이터에 따라, 모델에 따라, feature 갯수에 따라 데이터가 작으면 overfitting이 발생할 수 있다 \n",
    "예를 들어 사람을 인식하는 모델이 있다고 가정했을 때 눈, 코, 입 정보만 주어진 데이터로 학습을 할 경우 \n",
    "사람의 눈, 코, 입이 포함되어 있는 데이터의 경우는 정확하게 인식할 수 있지만 \n",
    "눈, 코, 입과 더불어 사람의 몸 전체가 주어진 데이터에 대해서는 사람이라고 인식을 하지 못하게 될 수도 있다. \n",
    "뿐만 아니라 사람을 인식하는 모델을 학습할 때 사람 몸 전체에 대한 정보가 주어진 데이터를 학습하는데 \n",
    "데이터에 대한 feature갯수 보다 데이터의 갯수가 적을 경우 학습된 사람 데이터에 대해서만 \n",
    "정확하게 인식하고 조금이라도 다르게 생긴 사람 데이터 정보가 들어 왔을 때 정확히 인식하지 못할 가능성이 발생 할 수 있다  \n",
    "```"
   ]
  },
  {
   "cell_type": "markdown",
   "metadata": {
    "id": "VeZJKa8MU7Xt"
   },
   "source": [
    "## Feature selection"
   ]
  },
  {
   "cell_type": "markdown",
   "metadata": {
    "id": "EJWR8x-twyyU"
   },
   "source": [
    "```\n",
    "유의미한 feature만 추려서 사용한다 \n",
    "```"
   ]
  },
  {
   "cell_type": "markdown",
   "metadata": {
    "id": "tQuQDyvPU-h8"
   },
   "source": [
    "```python\n",
    "1. Filter (Statistics)\n",
    "- 통계 값을 활용하여 클래스와 가장 밀접한 feature를 택한다 \n",
    "- 상관성 분석을 통해 구분한다  \n",
    "2. Wrapper \n",
    "- Algorithm + feature를 활용하여 최적의 feature를 택한다 \n",
    "3. Embeded \n",
    "- Algorithm으로 자체만으로 feature의 중요도를 알려준다 \n",
    "- Feature 기반의 분류를 할 수 있는 것에만 사용할 수 있다 \n",
    "\n",
    "Feature selection은 한계가 있다\n",
    "\n",
    "이미지 데이터는 i.i.d가 아니기 때문에 feature간의 독립성이 약해서 feature selection을 사용할 수 없다 \n",
    "```"
   ]
  },
  {
   "cell_type": "markdown",
   "metadata": {
    "id": "2Daseew-YLJB"
   },
   "source": [
    "## Filter"
   ]
  },
  {
   "cell_type": "code",
   "execution_count": null,
   "metadata": {
    "id": "NI_NbMlbSG--"
   },
   "outputs": [],
   "source": [
    "import seaborn as sns\n",
    "from sklearn.feature_selection import SelectKBest, chi2 # 카이제곱 검정: 관찰된 빈도가 기대되는 빈도와 의미있게 다른지의 여부를 검정하기 위해 사용되는 검정방법이다"
   ]
  },
  {
   "cell_type": "code",
   "execution_count": null,
   "metadata": {
    "id": "u0g2j4qwVa9V"
   },
   "outputs": [],
   "source": [
    "iris = sns.load_dataset('iris')\n",
    "skb = SelectKBest(chi2, k=3) # 클래스와 연관성이 가장 큰 3가지 feature를 고른다 \n",
    "skb.fit_transform(iris.iloc[:,:-1], iris.species) "
   ]
  },
  {
   "cell_type": "code",
   "execution_count": null,
   "metadata": {
    "colab": {
     "base_uri": "https://localhost:8080/"
    },
    "executionInfo": {
     "elapsed": 280,
     "status": "ok",
     "timestamp": 1631916189208,
     "user": {
      "displayName": "정지혁",
      "photoUrl": "https://lh3.googleusercontent.com/a-/AOh14Gi2xnkUvkGuxYJpQ869taL552Birarh0kp9GKTKCQ=s64",
      "userId": "09534774022449022692"
     },
     "user_tz": -540
    },
    "id": "1m1rl6xryL9K",
    "outputId": "c1b3ae2d-ee50-4f6c-eb89-a5552b55c73a"
   },
   "outputs": [
    {
     "data": {
      "text/plain": [
       "array([[5.1, 1.4, 0.2],\n",
       "       [4.9, 1.4, 0.2],\n",
       "       [4.7, 1.3, 0.2],\n",
       "       [4.6, 1.5, 0.2],\n",
       "       [5. , 1.4, 0.2]])"
      ]
     },
     "execution_count": 14,
     "metadata": {},
     "output_type": "execute_result"
    }
   ],
   "source": [
    "skb.fit_transform(iris.iloc[:,:-1], iris.species)[:5]"
   ]
  },
  {
   "cell_type": "code",
   "execution_count": null,
   "metadata": {
    "colab": {
     "base_uri": "https://localhost:8080/",
     "height": 205
    },
    "executionInfo": {
     "elapsed": 231,
     "status": "ok",
     "timestamp": 1631916206418,
     "user": {
      "displayName": "정지혁",
      "photoUrl": "https://lh3.googleusercontent.com/a-/AOh14Gi2xnkUvkGuxYJpQ869taL552Birarh0kp9GKTKCQ=s64",
      "userId": "09534774022449022692"
     },
     "user_tz": -540
    },
    "id": "LnZydd0pyQGC",
    "outputId": "480b6555-c9aa-4737-f2f9-f78613e966c6"
   },
   "outputs": [
    {
     "data": {
      "text/html": [
       "<div>\n",
       "<style scoped>\n",
       "    .dataframe tbody tr th:only-of-type {\n",
       "        vertical-align: middle;\n",
       "    }\n",
       "\n",
       "    .dataframe tbody tr th {\n",
       "        vertical-align: top;\n",
       "    }\n",
       "\n",
       "    .dataframe thead th {\n",
       "        text-align: right;\n",
       "    }\n",
       "</style>\n",
       "<table border=\"1\" class=\"dataframe\">\n",
       "  <thead>\n",
       "    <tr style=\"text-align: right;\">\n",
       "      <th></th>\n",
       "      <th>sepal_length</th>\n",
       "      <th>sepal_width</th>\n",
       "      <th>petal_length</th>\n",
       "      <th>petal_width</th>\n",
       "      <th>species</th>\n",
       "    </tr>\n",
       "  </thead>\n",
       "  <tbody>\n",
       "    <tr>\n",
       "      <th>0</th>\n",
       "      <td>5.1</td>\n",
       "      <td>3.5</td>\n",
       "      <td>1.4</td>\n",
       "      <td>0.2</td>\n",
       "      <td>setosa</td>\n",
       "    </tr>\n",
       "    <tr>\n",
       "      <th>1</th>\n",
       "      <td>4.9</td>\n",
       "      <td>3.0</td>\n",
       "      <td>1.4</td>\n",
       "      <td>0.2</td>\n",
       "      <td>setosa</td>\n",
       "    </tr>\n",
       "    <tr>\n",
       "      <th>2</th>\n",
       "      <td>4.7</td>\n",
       "      <td>3.2</td>\n",
       "      <td>1.3</td>\n",
       "      <td>0.2</td>\n",
       "      <td>setosa</td>\n",
       "    </tr>\n",
       "    <tr>\n",
       "      <th>3</th>\n",
       "      <td>4.6</td>\n",
       "      <td>3.1</td>\n",
       "      <td>1.5</td>\n",
       "      <td>0.2</td>\n",
       "      <td>setosa</td>\n",
       "    </tr>\n",
       "    <tr>\n",
       "      <th>4</th>\n",
       "      <td>5.0</td>\n",
       "      <td>3.6</td>\n",
       "      <td>1.4</td>\n",
       "      <td>0.2</td>\n",
       "      <td>setosa</td>\n",
       "    </tr>\n",
       "  </tbody>\n",
       "</table>\n",
       "</div>"
      ],
      "text/plain": [
       "   sepal_length  sepal_width  petal_length  petal_width species\n",
       "0           5.1          3.5           1.4          0.2  setosa\n",
       "1           4.9          3.0           1.4          0.2  setosa\n",
       "2           4.7          3.2           1.3          0.2  setosa\n",
       "3           4.6          3.1           1.5          0.2  setosa\n",
       "4           5.0          3.6           1.4          0.2  setosa"
      ]
     },
     "execution_count": 15,
     "metadata": {},
     "output_type": "execute_result"
    }
   ],
   "source": [
    "iris.iloc[:5] # sepal_length, petal_length, petal_width 3가지 feature가 선택되었다 "
   ]
  },
  {
   "cell_type": "code",
   "execution_count": null,
   "metadata": {
    "colab": {
     "base_uri": "https://localhost:8080/"
    },
    "executionInfo": {
     "elapsed": 403,
     "status": "ok",
     "timestamp": 1631915965977,
     "user": {
      "displayName": "정지혁",
      "photoUrl": "https://lh3.googleusercontent.com/a-/AOh14Gi2xnkUvkGuxYJpQ869taL552Birarh0kp9GKTKCQ=s64",
      "userId": "09534774022449022692"
     },
     "user_tz": -540
    },
    "id": "XlBJV6CuVjV6",
    "outputId": "47074920-6f30-44cf-979f-3c286086c7dc"
   },
   "outputs": [
    {
     "data": {
      "text/plain": [
       "{'k': 3,\n",
       " 'pvalues_': array([4.47651499e-03, 1.56395980e-01, 5.53397228e-26, 2.75824965e-15]),\n",
       " 'score_func': <function sklearn.feature_selection._univariate_selection.chi2>,\n",
       " 'scores_': array([ 10.81782088,   3.7107283 , 116.31261309,  67.0483602 ])}"
      ]
     },
     "execution_count": 10,
     "metadata": {},
     "output_type": "execute_result"
    }
   ],
   "source": [
    "vars(skb)"
   ]
  },
  {
   "cell_type": "code",
   "execution_count": null,
   "metadata": {
    "colab": {
     "base_uri": "https://localhost:8080/"
    },
    "executionInfo": {
     "elapsed": 9,
     "status": "ok",
     "timestamp": 1631915965978,
     "user": {
      "displayName": "정지혁",
      "photoUrl": "https://lh3.googleusercontent.com/a-/AOh14Gi2xnkUvkGuxYJpQ869taL552Birarh0kp9GKTKCQ=s64",
      "userId": "09534774022449022692"
     },
     "user_tz": -540
    },
    "id": "kTW_HEuYVtYc",
    "outputId": "3b8d44b1-3113-4e85-896a-917e851e87d8"
   },
   "outputs": [
    {
     "data": {
      "text/plain": [
       "{'k': 3,\n",
       " 'score_func': <function sklearn.feature_selection._univariate_selection.chi2>}"
      ]
     },
     "execution_count": 11,
     "metadata": {},
     "output_type": "execute_result"
    }
   ],
   "source": [
    "skb.get_params()"
   ]
  },
  {
   "cell_type": "code",
   "execution_count": null,
   "metadata": {
    "colab": {
     "base_uri": "https://localhost:8080/",
     "height": 175
    },
    "executionInfo": {
     "elapsed": 261,
     "status": "ok",
     "timestamp": 1631916287384,
     "user": {
      "displayName": "정지혁",
      "photoUrl": "https://lh3.googleusercontent.com/a-/AOh14Gi2xnkUvkGuxYJpQ869taL552Birarh0kp9GKTKCQ=s64",
      "userId": "09534774022449022692"
     },
     "user_tz": -540
    },
    "id": "djFVYc-1ylIM",
    "outputId": "e95a989d-9a51-4167-f817-8b52ec1b47b7"
   },
   "outputs": [
    {
     "data": {
      "text/html": [
       "<div>\n",
       "<style scoped>\n",
       "    .dataframe tbody tr th:only-of-type {\n",
       "        vertical-align: middle;\n",
       "    }\n",
       "\n",
       "    .dataframe tbody tr th {\n",
       "        vertical-align: top;\n",
       "    }\n",
       "\n",
       "    .dataframe thead th {\n",
       "        text-align: right;\n",
       "    }\n",
       "</style>\n",
       "<table border=\"1\" class=\"dataframe\">\n",
       "  <thead>\n",
       "    <tr style=\"text-align: right;\">\n",
       "      <th></th>\n",
       "      <th>sepal_length</th>\n",
       "      <th>sepal_width</th>\n",
       "      <th>petal_length</th>\n",
       "      <th>petal_width</th>\n",
       "    </tr>\n",
       "  </thead>\n",
       "  <tbody>\n",
       "    <tr>\n",
       "      <th>sepal_length</th>\n",
       "      <td>1.000000</td>\n",
       "      <td>-0.117570</td>\n",
       "      <td>0.871754</td>\n",
       "      <td>0.817941</td>\n",
       "    </tr>\n",
       "    <tr>\n",
       "      <th>sepal_width</th>\n",
       "      <td>-0.117570</td>\n",
       "      <td>1.000000</td>\n",
       "      <td>-0.428440</td>\n",
       "      <td>-0.366126</td>\n",
       "    </tr>\n",
       "    <tr>\n",
       "      <th>petal_length</th>\n",
       "      <td>0.871754</td>\n",
       "      <td>-0.428440</td>\n",
       "      <td>1.000000</td>\n",
       "      <td>0.962865</td>\n",
       "    </tr>\n",
       "    <tr>\n",
       "      <th>petal_width</th>\n",
       "      <td>0.817941</td>\n",
       "      <td>-0.366126</td>\n",
       "      <td>0.962865</td>\n",
       "      <td>1.000000</td>\n",
       "    </tr>\n",
       "  </tbody>\n",
       "</table>\n",
       "</div>"
      ],
      "text/plain": [
       "              sepal_length  sepal_width  petal_length  petal_width\n",
       "sepal_length      1.000000    -0.117570      0.871754     0.817941\n",
       "sepal_width      -0.117570     1.000000     -0.428440    -0.366126\n",
       "petal_length      0.871754    -0.428440      1.000000     0.962865\n",
       "petal_width       0.817941    -0.366126      0.962865     1.000000"
      ]
     },
     "execution_count": 16,
     "metadata": {},
     "output_type": "execute_result"
    }
   ],
   "source": [
    "iris.corr() # petal_length, petal_width 두 가지 feature가 서로 연관되어 있기 때문에 둘 중 하나를 택한다 "
   ]
  },
  {
   "cell_type": "markdown",
   "metadata": {
    "id": "HXdudbqTX-8e"
   },
   "source": [
    "## Wrapper"
   ]
  },
  {
   "cell_type": "markdown",
   "metadata": {
    "id": "TzTaeADqzJDc"
   },
   "source": [
    "```\n",
    "알고리즘과 데이터의 feature에 따른 경우의 수를 고려하여 계산하는 방식 \n",
    "```"
   ]
  },
  {
   "cell_type": "code",
   "execution_count": null,
   "metadata": {
    "colab": {
     "base_uri": "https://localhost:8080/"
    },
    "executionInfo": {
     "elapsed": 244,
     "status": "ok",
     "timestamp": 1631916612926,
     "user": {
      "displayName": "정지혁",
      "photoUrl": "https://lh3.googleusercontent.com/a-/AOh14Gi2xnkUvkGuxYJpQ869taL552Birarh0kp9GKTKCQ=s64",
      "userId": "09534774022449022692"
     },
     "user_tz": -540
    },
    "id": "tUBsGU9vWM8I",
    "outputId": "93c2d8a6-a2d3-4773-c7bc-0aa0c18a0881"
   },
   "outputs": [
    {
     "name": "stderr",
     "output_type": "stream",
     "text": [
      "/usr/local/lib/python3.7/dist-packages/sklearn/linear_model/_logistic.py:940: ConvergenceWarning: lbfgs failed to converge (status=1):\n",
      "STOP: TOTAL NO. of ITERATIONS REACHED LIMIT.\n",
      "\n",
      "Increase the number of iterations (max_iter) or scale the data as shown in:\n",
      "    https://scikit-learn.org/stable/modules/preprocessing.html\n",
      "Please also refer to the documentation for alternative solver options:\n",
      "    https://scikit-learn.org/stable/modules/linear_model.html#logistic-regression\n",
      "  extra_warning_msg=_LOGISTIC_SOLVER_CONVERGENCE_MSG)\n"
     ]
    },
    {
     "data": {
      "text/plain": [
       "{'estimator': LogisticRegression(C=1.0, class_weight=None, dual=False, fit_intercept=True,\n",
       "                    intercept_scaling=1, l1_ratio=None, max_iter=100,\n",
       "                    multi_class='auto', n_jobs=None, penalty='l2',\n",
       "                    random_state=None, solver='lbfgs', tol=0.0001, verbose=0,\n",
       "                    warm_start=False),\n",
       " 'estimator_': LogisticRegression(C=1.0, class_weight=None, dual=False, fit_intercept=True,\n",
       "                    intercept_scaling=1, l1_ratio=None, max_iter=100,\n",
       "                    multi_class='auto', n_jobs=None, penalty='l2',\n",
       "                    random_state=None, solver='lbfgs', tol=0.0001, verbose=0,\n",
       "                    warm_start=False),\n",
       " 'n_features_': 2,\n",
       " 'n_features_to_select': 2,\n",
       " 'ranking_': array([3, 2, 1, 1]),\n",
       " 'step': 1,\n",
       " 'support_': array([False, False,  True,  True]),\n",
       " 'verbose': 0}"
      ]
     },
     "execution_count": 17,
     "metadata": {},
     "output_type": "execute_result"
    }
   ],
   "source": [
    "from sklearn.feature_selection import RFE # Recursive feature extraction \n",
    "from sklearn.linear_model import LogisticRegression\n",
    "\n",
    "rfe = RFE(LogisticRegression(), n_features_to_select=2) # 4개 중에 2개 선택 (iris feature가 4개 이기 때문에)\n",
    "rfe.fit_transform(iris.iloc[:,:-1], iris.species) # fit_transform \n",
    "vars(rfe)"
   ]
  },
  {
   "cell_type": "code",
   "execution_count": null,
   "metadata": {
    "colab": {
     "base_uri": "https://localhost:8080/"
    },
    "executionInfo": {
     "elapsed": 1596,
     "status": "ok",
     "timestamp": 1631916623240,
     "user": {
      "displayName": "정지혁",
      "photoUrl": "https://lh3.googleusercontent.com/a-/AOh14Gi2xnkUvkGuxYJpQ869taL552Birarh0kp9GKTKCQ=s64",
      "userId": "09534774022449022692"
     },
     "user_tz": -540
    },
    "id": "cHU23qF_z3kj",
    "outputId": "272632c2-2ad7-44d7-b370-9d054518c21d"
   },
   "outputs": [
    {
     "data": {
      "text/plain": [
       "Index(['petal_length', 'petal_width'], dtype='object')"
      ]
     },
     "execution_count": 18,
     "metadata": {},
     "output_type": "execute_result"
    }
   ],
   "source": [
    "iris.columns[:-1][rfe.support_] "
   ]
  },
  {
   "cell_type": "markdown",
   "metadata": {
    "id": "PB6tRyIfX83V"
   },
   "source": [
    "## Embeded"
   ]
  },
  {
   "cell_type": "code",
   "execution_count": null,
   "metadata": {
    "id": "jiT3x7MwXFlD"
   },
   "outputs": [],
   "source": [
    "from sklearn.tree import DecisionTreeClassifier # 분기를 시켜 feature의 중요도를 나타낸다 \n",
    "from sklearn.ensemble import RandomForestClassifier"
   ]
  },
  {
   "cell_type": "code",
   "execution_count": null,
   "metadata": {
    "colab": {
     "base_uri": "https://localhost:8080/"
    },
    "executionInfo": {
     "elapsed": 229,
     "status": "ok",
     "timestamp": 1631875737619,
     "user": {
      "displayName": "정지혁",
      "photoUrl": "https://lh3.googleusercontent.com/a-/AOh14Gi2xnkUvkGuxYJpQ869taL552Birarh0kp9GKTKCQ=s64",
      "userId": "09534774022449022692"
     },
     "user_tz": -540
    },
    "id": "IpGDJ1-rXf6P",
    "outputId": "1ef57e58-9840-4d86-fd44-4a1d6eedef5e"
   },
   "outputs": [
    {
     "data": {
      "text/plain": [
       "array([0.01333333, 0.        , 0.56405596, 0.42261071])"
      ]
     },
     "execution_count": 36,
     "metadata": {},
     "output_type": "execute_result"
    }
   ],
   "source": [
    "dt = DecisionTreeClassifier()\n",
    "dt.fit(iris.iloc[:,:-1], iris.species)\n",
    "\n",
    "dt.feature_importances_ # feature의 중요도를 알려준다 "
   ]
  },
  {
   "cell_type": "code",
   "execution_count": null,
   "metadata": {
    "colab": {
     "base_uri": "https://localhost:8080/"
    },
    "executionInfo": {
     "elapsed": 243,
     "status": "ok",
     "timestamp": 1631916807803,
     "user": {
      "displayName": "정지혁",
      "photoUrl": "https://lh3.googleusercontent.com/a-/AOh14Gi2xnkUvkGuxYJpQ869taL552Birarh0kp9GKTKCQ=s64",
      "userId": "09534774022449022692"
     },
     "user_tz": -540
    },
    "id": "sl82jTLi0iTg",
    "outputId": "4ccddc1d-6900-4579-846e-fb27a6a36d43"
   },
   "outputs": [
    {
     "data": {
      "text/plain": [
       "Index(['sepal_length', 'sepal_width', 'petal_length', 'petal_width'], dtype='object')"
      ]
     },
     "execution_count": 20,
     "metadata": {},
     "output_type": "execute_result"
    }
   ],
   "source": [
    "iris.iloc[:,:-1].columns"
   ]
  },
  {
   "cell_type": "code",
   "execution_count": null,
   "metadata": {
    "colab": {
     "base_uri": "https://localhost:8080/"
    },
    "executionInfo": {
     "elapsed": 237,
     "status": "ok",
     "timestamp": 1631875741902,
     "user": {
      "displayName": "정지혁",
      "photoUrl": "https://lh3.googleusercontent.com/a-/AOh14Gi2xnkUvkGuxYJpQ869taL552Birarh0kp9GKTKCQ=s64",
      "userId": "09534774022449022692"
     },
     "user_tz": -540
    },
    "id": "piMJVk07Xm0X",
    "outputId": "2995992d-f2d4-4931-9727-076d5a6e6bd5"
   },
   "outputs": [
    {
     "data": {
      "text/plain": [
       "array([0.10738656, 0.02592046, 0.41244991, 0.45424308])"
      ]
     },
     "execution_count": 37,
     "metadata": {},
     "output_type": "execute_result"
    }
   ],
   "source": [
    "rf = RandomForestClassifier()\n",
    "rf.fit(iris.iloc[:,:-1], iris.species)\n",
    "\n",
    "rf.feature_importances_"
   ]
  },
  {
   "cell_type": "markdown",
   "metadata": {
    "id": "Bm2XKNb7aEeN"
   },
   "source": [
    "## Dimension Reduction"
   ]
  },
  {
   "cell_type": "markdown",
   "metadata": {
    "id": "V26nLmnBaHeI"
   },
   "source": [
    "```\n",
    "차원 축소\n",
    "\n",
    "nuance 손실도 발생하고 원본 데이터를 손상시킨다는 단점이 있다  \n",
    "```"
   ]
  },
  {
   "cell_type": "code",
   "execution_count": null,
   "metadata": {
    "id": "xk8fq5SuaG0x"
   },
   "outputs": [],
   "source": [
    "from sklearn.decomposition import PCA"
   ]
  },
  {
   "cell_type": "code",
   "execution_count": null,
   "metadata": {
    "id": "z3TWI1ZAaNzS"
   },
   "outputs": [],
   "source": [
    "pca = PCA(2) # 2차원으로 줄인다 "
   ]
  },
  {
   "cell_type": "code",
   "execution_count": null,
   "metadata": {
    "colab": {
     "base_uri": "https://localhost:8080/"
    },
    "executionInfo": {
     "elapsed": 272,
     "status": "ok",
     "timestamp": 1631916949309,
     "user": {
      "displayName": "정지혁",
      "photoUrl": "https://lh3.googleusercontent.com/a-/AOh14Gi2xnkUvkGuxYJpQ869taL552Birarh0kp9GKTKCQ=s64",
      "userId": "09534774022449022692"
     },
     "user_tz": -540
    },
    "id": "Tl7hXJI1aQ2_",
    "outputId": "040eae41-49a5-4895-c15d-964cbbe1a863"
   },
   "outputs": [
    {
     "data": {
      "text/plain": [
       "array([[-2.68412563,  0.31939725],\n",
       "       [-2.71414169, -0.17700123],\n",
       "       [-2.88899057, -0.14494943],\n",
       "       [-2.74534286, -0.31829898],\n",
       "       [-2.72871654,  0.32675451],\n",
       "       [-2.28085963,  0.74133045],\n",
       "       [-2.82053775, -0.08946138],\n",
       "       [-2.62614497,  0.16338496],\n",
       "       [-2.88638273, -0.57831175],\n",
       "       [-2.6727558 , -0.11377425],\n",
       "       [-2.50694709,  0.6450689 ],\n",
       "       [-2.61275523,  0.01472994],\n",
       "       [-2.78610927, -0.235112  ],\n",
       "       [-3.22380374, -0.51139459],\n",
       "       [-2.64475039,  1.17876464],\n",
       "       [-2.38603903,  1.33806233],\n",
       "       [-2.62352788,  0.81067951],\n",
       "       [-2.64829671,  0.31184914],\n",
       "       [-2.19982032,  0.87283904],\n",
       "       [-2.5879864 ,  0.51356031],\n",
       "       [-2.31025622,  0.39134594],\n",
       "       [-2.54370523,  0.43299606],\n",
       "       [-3.21593942,  0.13346807],\n",
       "       [-2.30273318,  0.09870885],\n",
       "       [-2.35575405, -0.03728186],\n",
       "       [-2.50666891, -0.14601688],\n",
       "       [-2.46882007,  0.13095149],\n",
       "       [-2.56231991,  0.36771886],\n",
       "       [-2.63953472,  0.31203998],\n",
       "       [-2.63198939, -0.19696122],\n",
       "       [-2.58739848, -0.20431849],\n",
       "       [-2.4099325 ,  0.41092426],\n",
       "       [-2.64886233,  0.81336382],\n",
       "       [-2.59873675,  1.09314576],\n",
       "       [-2.63692688, -0.12132235],\n",
       "       [-2.86624165,  0.06936447],\n",
       "       [-2.62523805,  0.59937002],\n",
       "       [-2.80068412,  0.26864374],\n",
       "       [-2.98050204, -0.48795834],\n",
       "       [-2.59000631,  0.22904384],\n",
       "       [-2.77010243,  0.26352753],\n",
       "       [-2.84936871, -0.94096057],\n",
       "       [-2.99740655, -0.34192606],\n",
       "       [-2.40561449,  0.18887143],\n",
       "       [-2.20948924,  0.43666314],\n",
       "       [-2.71445143, -0.2502082 ],\n",
       "       [-2.53814826,  0.50377114],\n",
       "       [-2.83946217, -0.22794557],\n",
       "       [-2.54308575,  0.57941002],\n",
       "       [-2.70335978,  0.10770608],\n",
       "       [ 1.28482569,  0.68516047],\n",
       "       [ 0.93248853,  0.31833364],\n",
       "       [ 1.46430232,  0.50426282],\n",
       "       [ 0.18331772, -0.82795901],\n",
       "       [ 1.08810326,  0.07459068],\n",
       "       [ 0.64166908, -0.41824687],\n",
       "       [ 1.09506066,  0.28346827],\n",
       "       [-0.74912267, -1.00489096],\n",
       "       [ 1.04413183,  0.2283619 ],\n",
       "       [-0.0087454 , -0.72308191],\n",
       "       [-0.50784088, -1.26597119],\n",
       "       [ 0.51169856, -0.10398124],\n",
       "       [ 0.26497651, -0.55003646],\n",
       "       [ 0.98493451, -0.12481785],\n",
       "       [-0.17392537, -0.25485421],\n",
       "       [ 0.92786078,  0.46717949],\n",
       "       [ 0.66028376, -0.35296967],\n",
       "       [ 0.23610499, -0.33361077],\n",
       "       [ 0.94473373, -0.54314555],\n",
       "       [ 0.04522698, -0.58383438],\n",
       "       [ 1.11628318, -0.08461685],\n",
       "       [ 0.35788842, -0.06892503],\n",
       "       [ 1.29818388, -0.32778731],\n",
       "       [ 0.92172892, -0.18273779],\n",
       "       [ 0.71485333,  0.14905594],\n",
       "       [ 0.90017437,  0.32850447],\n",
       "       [ 1.33202444,  0.24444088],\n",
       "       [ 1.55780216,  0.26749545],\n",
       "       [ 0.81329065, -0.1633503 ],\n",
       "       [-0.30558378, -0.36826219],\n",
       "       [-0.06812649, -0.70517213],\n",
       "       [-0.18962247, -0.68028676],\n",
       "       [ 0.13642871, -0.31403244],\n",
       "       [ 1.38002644, -0.42095429],\n",
       "       [ 0.58800644, -0.48428742],\n",
       "       [ 0.80685831,  0.19418231],\n",
       "       [ 1.22069088,  0.40761959],\n",
       "       [ 0.81509524, -0.37203706],\n",
       "       [ 0.24595768, -0.2685244 ],\n",
       "       [ 0.16641322, -0.68192672],\n",
       "       [ 0.46480029, -0.67071154],\n",
       "       [ 0.8908152 , -0.03446444],\n",
       "       [ 0.23054802, -0.40438585],\n",
       "       [-0.70453176, -1.01224823],\n",
       "       [ 0.35698149, -0.50491009],\n",
       "       [ 0.33193448, -0.21265468],\n",
       "       [ 0.37621565, -0.29321893],\n",
       "       [ 0.64257601,  0.01773819],\n",
       "       [-0.90646986, -0.75609337],\n",
       "       [ 0.29900084, -0.34889781],\n",
       "       [ 2.53119273, -0.00984911],\n",
       "       [ 1.41523588, -0.57491635],\n",
       "       [ 2.61667602,  0.34390315],\n",
       "       [ 1.97153105, -0.1797279 ],\n",
       "       [ 2.35000592, -0.04026095],\n",
       "       [ 3.39703874,  0.55083667],\n",
       "       [ 0.52123224, -1.19275873],\n",
       "       [ 2.93258707,  0.3555    ],\n",
       "       [ 2.32122882, -0.2438315 ],\n",
       "       [ 2.91675097,  0.78279195],\n",
       "       [ 1.66177415,  0.24222841],\n",
       "       [ 1.80340195, -0.21563762],\n",
       "       [ 2.1655918 ,  0.21627559],\n",
       "       [ 1.34616358, -0.77681835],\n",
       "       [ 1.58592822, -0.53964071],\n",
       "       [ 1.90445637,  0.11925069],\n",
       "       [ 1.94968906,  0.04194326],\n",
       "       [ 3.48705536,  1.17573933],\n",
       "       [ 3.79564542,  0.25732297],\n",
       "       [ 1.30079171, -0.76114964],\n",
       "       [ 2.42781791,  0.37819601],\n",
       "       [ 1.19900111, -0.60609153],\n",
       "       [ 3.49992004,  0.4606741 ],\n",
       "       [ 1.38876613, -0.20439933],\n",
       "       [ 2.2754305 ,  0.33499061],\n",
       "       [ 2.61409047,  0.56090136],\n",
       "       [ 1.25850816, -0.17970479],\n",
       "       [ 1.29113206, -0.11666865],\n",
       "       [ 2.12360872, -0.20972948],\n",
       "       [ 2.38800302,  0.4646398 ],\n",
       "       [ 2.84167278,  0.37526917],\n",
       "       [ 3.23067366,  1.37416509],\n",
       "       [ 2.15943764, -0.21727758],\n",
       "       [ 1.44416124, -0.14341341],\n",
       "       [ 1.78129481, -0.49990168],\n",
       "       [ 3.07649993,  0.68808568],\n",
       "       [ 2.14424331,  0.1400642 ],\n",
       "       [ 1.90509815,  0.04930053],\n",
       "       [ 1.16932634, -0.16499026],\n",
       "       [ 2.10761114,  0.37228787],\n",
       "       [ 2.31415471,  0.18365128],\n",
       "       [ 1.9222678 ,  0.40920347],\n",
       "       [ 1.41523588, -0.57491635],\n",
       "       [ 2.56301338,  0.2778626 ],\n",
       "       [ 2.41874618,  0.3047982 ],\n",
       "       [ 1.94410979,  0.1875323 ],\n",
       "       [ 1.52716661, -0.37531698],\n",
       "       [ 1.76434572,  0.07885885],\n",
       "       [ 1.90094161,  0.11662796],\n",
       "       [ 1.39018886, -0.28266094]])"
      ]
     },
     "execution_count": 23,
     "metadata": {},
     "output_type": "execute_result"
    }
   ],
   "source": [
    "pca.fit_transform(iris.iloc[:,:-1], iris.species) # 4차원 -> 2차원 / 공간이 왜곡 되었다 "
   ]
  },
  {
   "cell_type": "markdown",
   "metadata": {
    "id": "XRAQlt_u1aNy"
   },
   "source": [
    "## Feature selection vs Dimension reduction"
   ]
  },
  {
   "cell_type": "markdown",
   "metadata": {
    "id": "pBhOZpC21gYo"
   },
   "source": [
    "```\n",
    "Feature selection은 데이터 값을 그대로 유지하면서 feature를 축소 했지만, \n",
    "Dimension reduction은 데이터 값을 변형하면서 차원을 축소 한다 => 공간을 왜곡시킨다 \n",
    "```"
   ]
  },
  {
   "cell_type": "code",
   "execution_count": null,
   "metadata": {
    "colab": {
     "base_uri": "https://localhost:8080/"
    },
    "executionInfo": {
     "elapsed": 6771,
     "status": "ok",
     "timestamp": 1631876536323,
     "user": {
      "displayName": "정지혁",
      "photoUrl": "https://lh3.googleusercontent.com/a-/AOh14Gi2xnkUvkGuxYJpQ869taL552Birarh0kp9GKTKCQ=s64",
      "userId": "09534774022449022692"
     },
     "user_tz": -540
    },
    "id": "1LVQQQwOa47B",
    "outputId": "f2f0b0b1-fdc0-4f6d-dbeb-f163f8eb404d"
   },
   "outputs": [
    {
     "name": "stdout",
     "output_type": "stream",
     "text": [
      "Collecting mglearn\n",
      "  Downloading mglearn-0.1.9.tar.gz (540 kB)\n",
      "\u001b[?25l\r",
      "\u001b[K     |▋                               | 10 kB 19.6 MB/s eta 0:00:01\r",
      "\u001b[K     |█▏                              | 20 kB 18.9 MB/s eta 0:00:01\r",
      "\u001b[K     |█▉                              | 30 kB 11.2 MB/s eta 0:00:01\r",
      "\u001b[K     |██▍                             | 40 kB 9.8 MB/s eta 0:00:01\r",
      "\u001b[K     |███                             | 51 kB 5.6 MB/s eta 0:00:01\r",
      "\u001b[K     |███▋                            | 61 kB 6.1 MB/s eta 0:00:01\r",
      "\u001b[K     |████▎                           | 71 kB 5.7 MB/s eta 0:00:01\r",
      "\u001b[K     |████▉                           | 81 kB 6.3 MB/s eta 0:00:01\r",
      "\u001b[K     |█████▌                          | 92 kB 6.5 MB/s eta 0:00:01\r",
      "\u001b[K     |██████                          | 102 kB 5.6 MB/s eta 0:00:01\r",
      "\u001b[K     |██████▊                         | 112 kB 5.6 MB/s eta 0:00:01\r",
      "\u001b[K     |███████▎                        | 122 kB 5.6 MB/s eta 0:00:01\r",
      "\u001b[K     |███████▉                        | 133 kB 5.6 MB/s eta 0:00:01\r",
      "\u001b[K     |████████▌                       | 143 kB 5.6 MB/s eta 0:00:01\r",
      "\u001b[K     |█████████                       | 153 kB 5.6 MB/s eta 0:00:01\r",
      "\u001b[K     |█████████▊                      | 163 kB 5.6 MB/s eta 0:00:01\r",
      "\u001b[K     |██████████▎                     | 174 kB 5.6 MB/s eta 0:00:01\r",
      "\u001b[K     |███████████                     | 184 kB 5.6 MB/s eta 0:00:01\r",
      "\u001b[K     |███████████▌                    | 194 kB 5.6 MB/s eta 0:00:01\r",
      "\u001b[K     |████████████▏                   | 204 kB 5.6 MB/s eta 0:00:01\r",
      "\u001b[K     |████████████▊                   | 215 kB 5.6 MB/s eta 0:00:01\r",
      "\u001b[K     |█████████████▍                  | 225 kB 5.6 MB/s eta 0:00:01\r",
      "\u001b[K     |██████████████                  | 235 kB 5.6 MB/s eta 0:00:01\r",
      "\u001b[K     |██████████████▋                 | 245 kB 5.6 MB/s eta 0:00:01\r",
      "\u001b[K     |███████████████▏                | 256 kB 5.6 MB/s eta 0:00:01\r",
      "\u001b[K     |███████████████▊                | 266 kB 5.6 MB/s eta 0:00:01\r",
      "\u001b[K     |████████████████▍               | 276 kB 5.6 MB/s eta 0:00:01\r",
      "\u001b[K     |█████████████████               | 286 kB 5.6 MB/s eta 0:00:01\r",
      "\u001b[K     |█████████████████▋              | 296 kB 5.6 MB/s eta 0:00:01\r",
      "\u001b[K     |██████████████████▏             | 307 kB 5.6 MB/s eta 0:00:01\r",
      "\u001b[K     |██████████████████▉             | 317 kB 5.6 MB/s eta 0:00:01\r",
      "\u001b[K     |███████████████████▍            | 327 kB 5.6 MB/s eta 0:00:01\r",
      "\u001b[K     |████████████████████            | 337 kB 5.6 MB/s eta 0:00:01\r",
      "\u001b[K     |████████████████████▋           | 348 kB 5.6 MB/s eta 0:00:01\r",
      "\u001b[K     |█████████████████████▎          | 358 kB 5.6 MB/s eta 0:00:01\r",
      "\u001b[K     |█████████████████████▉          | 368 kB 5.6 MB/s eta 0:00:01\r",
      "\u001b[K     |██████████████████████▌         | 378 kB 5.6 MB/s eta 0:00:01\r",
      "\u001b[K     |███████████████████████         | 389 kB 5.6 MB/s eta 0:00:01\r",
      "\u001b[K     |███████████████████████▋        | 399 kB 5.6 MB/s eta 0:00:01\r",
      "\u001b[K     |████████████████████████▎       | 409 kB 5.6 MB/s eta 0:00:01\r",
      "\u001b[K     |████████████████████████▉       | 419 kB 5.6 MB/s eta 0:00:01\r",
      "\u001b[K     |█████████████████████████▌      | 430 kB 5.6 MB/s eta 0:00:01\r",
      "\u001b[K     |██████████████████████████      | 440 kB 5.6 MB/s eta 0:00:01\r",
      "\u001b[K     |██████████████████████████▊     | 450 kB 5.6 MB/s eta 0:00:01\r",
      "\u001b[K     |███████████████████████████▎    | 460 kB 5.6 MB/s eta 0:00:01\r",
      "\u001b[K     |████████████████████████████    | 471 kB 5.6 MB/s eta 0:00:01\r",
      "\u001b[K     |████████████████████████████▌   | 481 kB 5.6 MB/s eta 0:00:01\r",
      "\u001b[K     |█████████████████████████████▏  | 491 kB 5.6 MB/s eta 0:00:01\r",
      "\u001b[K     |█████████████████████████████▊  | 501 kB 5.6 MB/s eta 0:00:01\r",
      "\u001b[K     |██████████████████████████████▍ | 512 kB 5.6 MB/s eta 0:00:01\r",
      "\u001b[K     |███████████████████████████████ | 522 kB 5.6 MB/s eta 0:00:01\r",
      "\u001b[K     |███████████████████████████████▌| 532 kB 5.6 MB/s eta 0:00:01\r",
      "\u001b[K     |████████████████████████████████| 540 kB 5.6 MB/s \n",
      "\u001b[?25hRequirement already satisfied: numpy in /usr/local/lib/python3.7/dist-packages (from mglearn) (1.19.5)\n",
      "Requirement already satisfied: matplotlib in /usr/local/lib/python3.7/dist-packages (from mglearn) (3.2.2)\n",
      "Requirement already satisfied: scikit-learn in /usr/local/lib/python3.7/dist-packages (from mglearn) (0.22.2.post1)\n",
      "Requirement already satisfied: pandas in /usr/local/lib/python3.7/dist-packages (from mglearn) (1.1.5)\n",
      "Requirement already satisfied: pillow in /usr/local/lib/python3.7/dist-packages (from mglearn) (7.1.2)\n",
      "Requirement already satisfied: cycler in /usr/local/lib/python3.7/dist-packages (from mglearn) (0.10.0)\n",
      "Requirement already satisfied: imageio in /usr/local/lib/python3.7/dist-packages (from mglearn) (2.4.1)\n",
      "Requirement already satisfied: joblib in /usr/local/lib/python3.7/dist-packages (from mglearn) (1.0.1)\n",
      "Requirement already satisfied: six in /usr/local/lib/python3.7/dist-packages (from cycler->mglearn) (1.15.0)\n",
      "Requirement already satisfied: python-dateutil>=2.1 in /usr/local/lib/python3.7/dist-packages (from matplotlib->mglearn) (2.8.2)\n",
      "Requirement already satisfied: pyparsing!=2.0.4,!=2.1.2,!=2.1.6,>=2.0.1 in /usr/local/lib/python3.7/dist-packages (from matplotlib->mglearn) (2.4.7)\n",
      "Requirement already satisfied: kiwisolver>=1.0.1 in /usr/local/lib/python3.7/dist-packages (from matplotlib->mglearn) (1.3.1)\n",
      "Requirement already satisfied: pytz>=2017.2 in /usr/local/lib/python3.7/dist-packages (from pandas->mglearn) (2018.9)\n",
      "Requirement already satisfied: scipy>=0.17.0 in /usr/local/lib/python3.7/dist-packages (from scikit-learn->mglearn) (1.4.1)\n",
      "Building wheels for collected packages: mglearn\n",
      "  Building wheel for mglearn (setup.py) ... \u001b[?25l\u001b[?25hdone\n",
      "  Created wheel for mglearn: filename=mglearn-0.1.9-py2.py3-none-any.whl size=582637 sha256=b6566ae305251082dfd510a7030c15fc20744a4a49db3440e5d5f1900e8de59e\n",
      "  Stored in directory: /root/.cache/pip/wheels/f1/17/e1/1720d6dcd70187b6b6c3750cb3508798f2b1d57c9d3214b08b\n",
      "Successfully built mglearn\n",
      "Installing collected packages: mglearn\n",
      "Successfully installed mglearn-0.1.9\n"
     ]
    }
   ],
   "source": [
    "!pip install mglearn"
   ]
  },
  {
   "cell_type": "code",
   "execution_count": null,
   "metadata": {
    "id": "kwyWOyXea1Nf"
   },
   "outputs": [],
   "source": [
    "import mglearn"
   ]
  },
  {
   "cell_type": "code",
   "execution_count": null,
   "metadata": {
    "colab": {
     "base_uri": "https://localhost:8080/",
     "height": 621
    },
    "executionInfo": {
     "elapsed": 1292,
     "status": "ok",
     "timestamp": 1631876562567,
     "user": {
      "displayName": "정지혁",
      "photoUrl": "https://lh3.googleusercontent.com/a-/AOh14Gi2xnkUvkGuxYJpQ869taL552Birarh0kp9GKTKCQ=s64",
      "userId": "09534774022449022692"
     },
     "user_tz": -540
    },
    "id": "RhMQLVt4aVdI",
    "outputId": "d1885ba2-f258-4cf9-b3e8-6383677d14d4"
   },
   "outputs": [
    {
     "data": {
      "image/png": "[encoded data removed]",
      "text/plain": [
       "<Figure size 720x720 with 4 Axes>"
      ]
     },
     "metadata": {
      "needs_background": "light"
     },
     "output_type": "display_data"
    }
   ],
   "source": [
    "mglearn.plot_pca.plot_pca_illustration() # 차원이 축소 되어도 의미를 잃지 않았다 / 고차원의 특성이 저차원에서도 유지가 되었다 / manifold"
   ]
  },
  {
   "cell_type": "markdown",
   "metadata": {
    "id": "lxH3DNh_2ed1"
   },
   "source": [
    "```\n",
    "Manifold \n",
    "\n",
    "고차원의 데이터를 공간상에 표현하면 각 데이터들은 점의 형태로 찍혀지는데, 이러한 점들을 잘 아우르는 subspace를 manifold라고 한다 \n",
    "\n",
    "```"
   ]
  },
  {
   "cell_type": "markdown",
   "metadata": {
    "id": "WAxXfxQG4ewz"
   },
   "source": [
    "## Path"
   ]
  },
  {
   "cell_type": "code",
   "execution_count": 8,
   "metadata": {
    "executionInfo": {
     "elapsed": 445,
     "status": "ok",
     "timestamp": 1631923214845,
     "user": {
      "displayName": "정지혁",
      "photoUrl": "https://lh3.googleusercontent.com/a-/AOh14Gi2xnkUvkGuxYJpQ869taL552Birarh0kp9GKTKCQ=s64",
      "userId": "09534774022449022692"
     },
     "user_tz": -540
    },
    "id": "byjTEBnJbDe2"
   },
   "outputs": [],
   "source": [
    "import cv2\n",
    "import os # 운영체제별로 결과가 상이할 수 있다 \n",
    "from pathlib import Path # 운영체제 별로 상이하지 않게 범용적으로 사용 가능 "
   ]
  },
  {
   "cell_type": "code",
   "execution_count": 9,
   "metadata": {
    "colab": {
     "base_uri": "https://localhost:8080/"
    },
    "executionInfo": {
     "elapsed": 13,
     "status": "ok",
     "timestamp": 1631923215574,
     "user": {
      "displayName": "정지혁",
      "photoUrl": "https://lh3.googleusercontent.com/a-/AOh14Gi2xnkUvkGuxYJpQ869taL552Birarh0kp9GKTKCQ=s64",
      "userId": "09534774022449022692"
     },
     "user_tz": -540
    },
    "id": "Jq8CetiS5NiK",
    "outputId": "b59928c9-7a44-4b15-fab7-0e5e94ed1673"
   },
   "outputs": [
    {
     "name": "stdout",
     "output_type": "stream",
     "text": [
      "/content/drive/My Drive/Colab Notebooks/고급시각반 정리\n"
     ]
    }
   ],
   "source": [
    "!pwd"
   ]
  },
  {
   "cell_type": "code",
   "execution_count": 7,
   "metadata": {
    "colab": {
     "base_uri": "https://localhost:8080/"
    },
    "executionInfo": {
     "elapsed": 2533,
     "status": "ok",
     "timestamp": 1631918595397,
     "user": {
      "displayName": "정지혁",
      "photoUrl": "https://lh3.googleusercontent.com/a-/AOh14Gi2xnkUvkGuxYJpQ869taL552Birarh0kp9GKTKCQ=s64",
      "userId": "09534774022449022692"
     },
     "user_tz": -540
    },
    "id": "6hI5eSGi5XNe",
    "outputId": "c498f210-aec1-4507-d3f3-e342acb88452"
   },
   "outputs": [
    {
     "data": {
      "text/plain": [
       "['7410356270_9dff4d0e2e_n.jpg',\n",
       " '7568630428_8cf0fc16ff_n.jpg',\n",
       " '10770585085_4742b9dac3_n.jpg',\n",
       " '4286053334_a75541f20b_m.jpg',\n",
       " '8759177308_951790e00d_m.jpg',\n",
       " '4131565290_0585c4dd5a_n.jpg',\n",
       " '8710109684_e2c5ef6aeb_n.jpg',\n",
       " '3504430338_77d6a7fab4_n.jpg',\n",
       " '2612704455_efce1c2144_m.jpg',\n",
       " '8021540573_c56cf9070d_n.jpg']"
      ]
     },
     "execution_count": 7,
     "metadata": {},
     "output_type": "execute_result"
    }
   ],
   "source": [
    "os.listdir('flower_photos/daisy')[:10]"
   ]
  },
  {
   "cell_type": "code",
   "execution_count": 8,
   "metadata": {
    "executionInfo": {
     "elapsed": 400992,
     "status": "ok",
     "timestamp": 1631919001106,
     "user": {
      "displayName": "정지혁",
      "photoUrl": "https://lh3.googleusercontent.com/a-/AOh14Gi2xnkUvkGuxYJpQ869taL552Birarh0kp9GKTKCQ=s64",
      "userId": "09534774022449022692"
     },
     "user_tz": -540
    },
    "id": "vZYBpWDijG5A"
   },
   "outputs": [],
   "source": [
    "path = 'flower_photos/daisy'\n",
    "images = [cv2.imread(os.path.join(path,i)) for i in os.listdir(path)] # os.listdir : 특정 디렉토리를 리스트로 만들어 준다 "
   ]
  },
  {
   "cell_type": "code",
   "execution_count": null,
   "metadata": {
    "colab": {
     "base_uri": "https://localhost:8080/"
    },
    "executionInfo": {
     "elapsed": 294,
     "status": "ok",
     "timestamp": 1631878733673,
     "user": {
      "displayName": "정지혁",
      "photoUrl": "https://lh3.googleusercontent.com/a-/AOh14Gi2xnkUvkGuxYJpQ869taL552Birarh0kp9GKTKCQ=s64",
      "userId": "09534774022449022692"
     },
     "user_tz": -540
    },
    "id": "i9ZSocPwjPE0",
    "outputId": "97552604-c91d-48f1-8e6a-41964f9ea3e3"
   },
   "outputs": [
    {
     "name": "stdout",
     "output_type": "stream",
     "text": [
      "/content/drive/My Drive/Colab Notebooks/고급시각반 정리/flower_photos\n"
     ]
    }
   ],
   "source": [
    "!pwd"
   ]
  },
  {
   "cell_type": "code",
   "execution_count": 10,
   "metadata": {
    "executionInfo": {
     "elapsed": 310012,
     "status": "ok",
     "timestamp": 1631923532203,
     "user": {
      "displayName": "정지혁",
      "photoUrl": "https://lh3.googleusercontent.com/a-/AOh14Gi2xnkUvkGuxYJpQ869taL552Birarh0kp9GKTKCQ=s64",
      "userId": "09534774022449022692"
     },
     "user_tz": -540
    },
    "id": "s3DpMUUwjUDv"
   },
   "outputs": [],
   "source": [
    "path = Path('flower_photos/daisy') # path 객체로 불러온다 \n",
    "images = [cv2.imread(str(i)) for i in path.iterdir()]"
   ]
  },
  {
   "cell_type": "code",
   "execution_count": 12,
   "metadata": {
    "colab": {
     "base_uri": "https://localhost:8080/"
    },
    "executionInfo": {
     "elapsed": 521,
     "status": "ok",
     "timestamp": 1631923542087,
     "user": {
      "displayName": "정지혁",
      "photoUrl": "https://lh3.googleusercontent.com/a-/AOh14Gi2xnkUvkGuxYJpQ869taL552Birarh0kp9GKTKCQ=s64",
      "userId": "09534774022449022692"
     },
     "user_tz": -540
    },
    "id": "Z64tjWOfNaPd",
    "outputId": "7a8e9fec-b4e1-4d2d-c901-d66437300246"
   },
   "outputs": [
    {
     "data": {
      "text/plain": [
       "633"
      ]
     },
     "execution_count": 12,
     "metadata": {},
     "output_type": "execute_result"
    }
   ],
   "source": [
    "len(images)"
   ]
  },
  {
   "cell_type": "markdown",
   "metadata": {
    "id": "6nX2fdRulaHR"
   },
   "source": [
    "## Pattern"
   ]
  },
  {
   "cell_type": "markdown",
   "metadata": {
    "id": "-mavILWy8avi"
   },
   "source": [
    "```\n",
    "path 객체는 pattern을 사용할 수 있다 \n",
    "```"
   ]
  },
  {
   "cell_type": "code",
   "execution_count": 13,
   "metadata": {
    "executionInfo": {
     "elapsed": 514,
     "status": "ok",
     "timestamp": 1631923546658,
     "user": {
      "displayName": "정지혁",
      "photoUrl": "https://lh3.googleusercontent.com/a-/AOh14Gi2xnkUvkGuxYJpQ869taL552Birarh0kp9GKTKCQ=s64",
      "userId": "09534774022449022692"
     },
     "user_tz": -540
    },
    "id": "CTQ6he1rlbUo"
   },
   "outputs": [],
   "source": [
    "import glob # 패턴을 활용할 수 있는 패키지 "
   ]
  },
  {
   "cell_type": "code",
   "execution_count": 14,
   "metadata": {
    "executionInfo": {
     "elapsed": 2779,
     "status": "ok",
     "timestamp": 1631923550394,
     "user": {
      "displayName": "정지혁",
      "photoUrl": "https://lh3.googleusercontent.com/a-/AOh14Gi2xnkUvkGuxYJpQ869taL552Birarh0kp9GKTKCQ=s64",
      "userId": "09534774022449022692"
     },
     "user_tz": -540
    },
    "id": "BGM2UC_KlcXc"
   },
   "outputs": [],
   "source": [
    "image = [cv2.imread(i) for i in glob.glob('flower_photos/daisy/*.jpg')] # glob 모듈의 glob 함수는 사용자가 제시한 조건에 맞는 파일명을 리스트 형식으로 반환한다."
   ]
  },
  {
   "cell_type": "code",
   "execution_count": 15,
   "metadata": {
    "colab": {
     "base_uri": "https://localhost:8080/"
    },
    "executionInfo": {
     "elapsed": 328,
     "status": "ok",
     "timestamp": 1631923559126,
     "user": {
      "displayName": "정지혁",
      "photoUrl": "https://lh3.googleusercontent.com/a-/AOh14Gi2xnkUvkGuxYJpQ869taL552Birarh0kp9GKTKCQ=s64",
      "userId": "09534774022449022692"
     },
     "user_tz": -540
    },
    "id": "E9EWk-IHOUuz",
    "outputId": "c67dd3d4-d009-465a-c32c-34b67ce04023"
   },
   "outputs": [
    {
     "data": {
      "text/plain": [
       "633"
      ]
     },
     "execution_count": 15,
     "metadata": {},
     "output_type": "execute_result"
    }
   ],
   "source": [
    "len(image)"
   ]
  },
  {
   "cell_type": "code",
   "execution_count": 13,
   "metadata": {
    "executionInfo": {
     "elapsed": 306,
     "status": "ok",
     "timestamp": 1631924248034,
     "user": {
      "displayName": "정지혁",
      "photoUrl": "https://lh3.googleusercontent.com/a-/AOh14Gi2xnkUvkGuxYJpQ869taL552Birarh0kp9GKTKCQ=s64",
      "userId": "09534774022449022692"
     },
     "user_tz": -540
    },
    "id": "AmaZNrgwmVsn"
   },
   "outputs": [],
   "source": [
    "import imageio"
   ]
  },
  {
   "cell_type": "code",
   "execution_count": null,
   "metadata": {
    "id": "qApMvaAaNUKl"
   },
   "outputs": [],
   "source": [
    "imageio.volread(path) # s mode를 알아야 한다?"
   ]
  },
  {
   "cell_type": "code",
   "execution_count": 19,
   "metadata": {
    "colab": {
     "base_uri": "https://localhost:8080/",
     "height": 340
    },
    "executionInfo": {
     "elapsed": 538,
     "status": "error",
     "timestamp": 1631924347175,
     "user": {
      "displayName": "정지혁",
      "photoUrl": "https://lh3.googleusercontent.com/a-/AOh14Gi2xnkUvkGuxYJpQ869taL552Birarh0kp9GKTKCQ=s64",
      "userId": "09534774022449022692"
     },
     "user_tz": -540
    },
    "id": "7am2ssgTmWyh",
    "outputId": "e3f23fd8-2c5c-45c7-d9f5-03a85ce158b2"
   },
   "outputs": [
    {
     "ename": "RuntimeError",
     "evalue": "ignored",
     "output_type": "error",
     "traceback": [
      "\u001b[0;31m---------------------------------------------------------------------------\u001b[0m",
      "\u001b[0;31mRuntimeError\u001b[0m                              Traceback (most recent call last)",
      "\u001b[0;32m<ipython-input-19-d9417262d075>\u001b[0m in \u001b[0;36m<module>\u001b[0;34m()\u001b[0m\n\u001b[1;32m      1\u001b[0m \u001b[0mpath\u001b[0m \u001b[0;34m=\u001b[0m \u001b[0;34m'flower_photos/daisy'\u001b[0m\u001b[0;34m\u001b[0m\u001b[0;34m\u001b[0m\u001b[0m\n\u001b[0;32m----> 2\u001b[0;31m \u001b[0mimageio\u001b[0m\u001b[0;34m.\u001b[0m\u001b[0mmimread\u001b[0m\u001b[0;34m(\u001b[0m\u001b[0mpath\u001b[0m\u001b[0;34m,\u001b[0m \u001b[0mformat\u001b[0m\u001b[0;34m=\u001b[0m\u001b[0;34m'jpg'\u001b[0m\u001b[0;34m)\u001b[0m \u001b[0;31m# multiple image를 불러들일 수 있다. 단, jpeg는 multi-image 불러들일 수 없다\u001b[0m\u001b[0;34m\u001b[0m\u001b[0;34m\u001b[0m\u001b[0m\n\u001b[0m",
      "\u001b[0;32m/usr/local/lib/python3.7/dist-packages/imageio/core/functions.py\u001b[0m in \u001b[0;36mmimread\u001b[0;34m(uri, format, memtest, **kwargs)\u001b[0m\n\u001b[1;32m    293\u001b[0m \u001b[0;34m\u001b[0m\u001b[0m\n\u001b[1;32m    294\u001b[0m     \u001b[0;31m# Get reader\u001b[0m\u001b[0;34m\u001b[0m\u001b[0;34m\u001b[0m\u001b[0;34m\u001b[0m\u001b[0m\n\u001b[0;32m--> 295\u001b[0;31m     \u001b[0mreader\u001b[0m \u001b[0;34m=\u001b[0m \u001b[0mread\u001b[0m\u001b[0;34m(\u001b[0m\u001b[0muri\u001b[0m\u001b[0;34m,\u001b[0m \u001b[0mformat\u001b[0m\u001b[0;34m,\u001b[0m \u001b[0;34m\"I\"\u001b[0m\u001b[0;34m,\u001b[0m \u001b[0;34m**\u001b[0m\u001b[0mkwargs\u001b[0m\u001b[0;34m)\u001b[0m\u001b[0;34m\u001b[0m\u001b[0;34m\u001b[0m\u001b[0m\n\u001b[0m\u001b[1;32m    296\u001b[0m \u001b[0;34m\u001b[0m\u001b[0m\n\u001b[1;32m    297\u001b[0m     \u001b[0;31m# Read\u001b[0m\u001b[0;34m\u001b[0m\u001b[0;34m\u001b[0m\u001b[0;34m\u001b[0m\u001b[0m\n",
      "\u001b[0;32m/usr/local/lib/python3.7/dist-packages/imageio/core/functions.py\u001b[0m in \u001b[0;36mget_reader\u001b[0;34m(uri, format, mode, **kwargs)\u001b[0m\n\u001b[1;32m    141\u001b[0m \u001b[0;34m\u001b[0m\u001b[0m\n\u001b[1;32m    142\u001b[0m     \u001b[0;31m# Return its reader object\u001b[0m\u001b[0;34m\u001b[0m\u001b[0;34m\u001b[0m\u001b[0;34m\u001b[0m\u001b[0m\n\u001b[0;32m--> 143\u001b[0;31m     \u001b[0;32mreturn\u001b[0m \u001b[0mformat\u001b[0m\u001b[0;34m.\u001b[0m\u001b[0mget_reader\u001b[0m\u001b[0;34m(\u001b[0m\u001b[0mrequest\u001b[0m\u001b[0;34m)\u001b[0m\u001b[0;34m\u001b[0m\u001b[0;34m\u001b[0m\u001b[0m\n\u001b[0m\u001b[1;32m    144\u001b[0m \u001b[0;34m\u001b[0m\u001b[0m\n\u001b[1;32m    145\u001b[0m \u001b[0;34m\u001b[0m\u001b[0m\n",
      "\u001b[0;32m/usr/local/lib/python3.7/dist-packages/imageio/core/format.py\u001b[0m in \u001b[0;36mget_reader\u001b[0;34m(self, request)\u001b[0m\n\u001b[1;32m    170\u001b[0m         \u001b[0;32mif\u001b[0m \u001b[0mselect_mode\u001b[0m \u001b[0;32mnot\u001b[0m \u001b[0;32min\u001b[0m \u001b[0mself\u001b[0m\u001b[0;34m.\u001b[0m\u001b[0mmodes\u001b[0m\u001b[0;34m:\u001b[0m\u001b[0;34m\u001b[0m\u001b[0;34m\u001b[0m\u001b[0m\n\u001b[1;32m    171\u001b[0m             raise RuntimeError(\n\u001b[0;32m--> 172\u001b[0;31m                 \u001b[0;34m\"Format %s cannot read in mode %r\"\u001b[0m \u001b[0;34m%\u001b[0m \u001b[0;34m(\u001b[0m\u001b[0mself\u001b[0m\u001b[0;34m.\u001b[0m\u001b[0mname\u001b[0m\u001b[0;34m,\u001b[0m \u001b[0mselect_mode\u001b[0m\u001b[0;34m)\u001b[0m\u001b[0;34m\u001b[0m\u001b[0;34m\u001b[0m\u001b[0m\n\u001b[0m\u001b[1;32m    173\u001b[0m             )\n\u001b[1;32m    174\u001b[0m         \u001b[0;32mreturn\u001b[0m \u001b[0mself\u001b[0m\u001b[0;34m.\u001b[0m\u001b[0mReader\u001b[0m\u001b[0;34m(\u001b[0m\u001b[0mself\u001b[0m\u001b[0;34m,\u001b[0m \u001b[0mrequest\u001b[0m\u001b[0;34m)\u001b[0m\u001b[0;34m\u001b[0m\u001b[0;34m\u001b[0m\u001b[0m\n",
      "\u001b[0;31mRuntimeError\u001b[0m: Format JPEG-PIL cannot read in mode 'I'"
     ]
    }
   ],
   "source": [
    "path = 'flower_photos/daisy'\n",
    "imageio.mimread(path, format='jpg') # multiple image를 불러들일 수 있다. 단, jpeg는 multi-image 불러들일 수 없다 "
   ]
  },
  {
   "cell_type": "code",
   "execution_count": 17,
   "metadata": {
    "executionInfo": {
     "elapsed": 331,
     "status": "ok",
     "timestamp": 1631923570438,
     "user": {
      "displayName": "정지혁",
      "photoUrl": "https://lh3.googleusercontent.com/a-/AOh14Gi2xnkUvkGuxYJpQ869taL552Birarh0kp9GKTKCQ=s64",
      "userId": "09534774022449022692"
     },
     "user_tz": -540
    },
    "id": "5yvbl5kGnJT8"
   },
   "outputs": [],
   "source": [
    "from skimage.io import imread_collection"
   ]
  },
  {
   "cell_type": "code",
   "execution_count": 18,
   "metadata": {
    "executionInfo": {
     "elapsed": 601,
     "status": "ok",
     "timestamp": 1631923572694,
     "user": {
      "displayName": "정지혁",
      "photoUrl": "https://lh3.googleusercontent.com/a-/AOh14Gi2xnkUvkGuxYJpQ869taL552Birarh0kp9GKTKCQ=s64",
      "userId": "09534774022449022692"
     },
     "user_tz": -540
    },
    "id": "6pzOZ5ihnLkS"
   },
   "outputs": [],
   "source": [
    "imc = imread_collection('flower_photos/daisy/*.jpg')  # 패턴을 정확히 이해해야 한다 "
   ]
  },
  {
   "cell_type": "code",
   "execution_count": 20,
   "metadata": {
    "colab": {
     "base_uri": "https://localhost:8080/"
    },
    "executionInfo": {
     "elapsed": 530,
     "status": "ok",
     "timestamp": 1631923587299,
     "user": {
      "displayName": "정지혁",
      "photoUrl": "https://lh3.googleusercontent.com/a-/AOh14Gi2xnkUvkGuxYJpQ869taL552Birarh0kp9GKTKCQ=s64",
      "userId": "09534774022449022692"
     },
     "user_tz": -540
    },
    "id": "6rLtNpy7ONH8",
    "outputId": "0e6dacf5-097f-449b-8287-54211c1b85d2"
   },
   "outputs": [
    {
     "data": {
      "text/plain": [
       "['flower_photos/daisy/5547758_eea9edfd54_n.jpg',\n",
       " 'flower_photos/daisy/5673551_01d1ea993e_n.jpg',\n",
       " 'flower_photos/daisy/5673728_71b8cb57eb.jpg',\n",
       " 'flower_photos/daisy/5794835_d15905c7c8_n.jpg',\n",
       " 'flower_photos/daisy/5794839_200acd910c_n.jpg',\n",
       " 'flower_photos/daisy/11642632_1e7627a2cc.jpg',\n",
       " 'flower_photos/daisy/15207766_fc2f1d692c_n.jpg',\n",
       " 'flower_photos/daisy/21652746_cc379e0eea_m.jpg',\n",
       " 'flower_photos/daisy/25360380_1a881a5648.jpg',\n",
       " 'flower_photos/daisy/43474673_7bb4465a86.jpg']"
      ]
     },
     "execution_count": 20,
     "metadata": {},
     "output_type": "execute_result"
    }
   ],
   "source": [
    "imc.files[:10]"
   ]
  },
  {
   "cell_type": "code",
   "execution_count": 22,
   "metadata": {
    "executionInfo": {
     "elapsed": 510,
     "status": "ok",
     "timestamp": 1631923789521,
     "user": {
      "displayName": "정지혁",
      "photoUrl": "https://lh3.googleusercontent.com/a-/AOh14Gi2xnkUvkGuxYJpQ869taL552Birarh0kp9GKTKCQ=s64",
      "userId": "09534774022449022692"
     },
     "user_tz": -540
    },
    "id": "SOByfZz6PIit"
   },
   "outputs": [],
   "source": [
    "w = os.walk('flower_photos/daisy')"
   ]
  },
  {
   "cell_type": "code",
   "execution_count": 29,
   "metadata": {
    "colab": {
     "base_uri": "https://localhost:8080/"
    },
    "executionInfo": {
     "elapsed": 393,
     "status": "ok",
     "timestamp": 1631923929466,
     "user": {
      "displayName": "정지혁",
      "photoUrl": "https://lh3.googleusercontent.com/a-/AOh14Gi2xnkUvkGuxYJpQ869taL552Birarh0kp9GKTKCQ=s64",
      "userId": "09534774022449022692"
     },
     "user_tz": -540
    },
    "id": "MF0cF5l7POl1",
    "outputId": "5cd33bde-fbda-49bb-dcd5-6c37700a9058"
   },
   "outputs": [
    {
     "name": "stdout",
     "output_type": "stream",
     "text": [
      "7410356270_9dff4d0e2e_n.jpg\n",
      "7568630428_8cf0fc16ff_n.jpg\n",
      "10770585085_4742b9dac3_n.jpg\n",
      "4286053334_a75541f20b_m.jpg\n",
      "8759177308_951790e00d_m.jpg\n",
      "4131565290_0585c4dd5a_n.jpg\n",
      "8710109684_e2c5ef6aeb_n.jpg\n",
      "3504430338_77d6a7fab4_n.jpg\n",
      "2612704455_efce1c2144_m.jpg\n",
      "8021540573_c56cf9070d_n.jpg\n"
     ]
    }
   ],
   "source": [
    "for _, _, files in os.walk('flower_photos/daisy'):\n",
    "  for i in range(10):\n",
    "    print(files[i])"
   ]
  },
  {
   "cell_type": "code",
   "execution_count": 1,
   "metadata": {
    "executionInfo": {
     "elapsed": 1414,
     "status": "ok",
     "timestamp": 1631924066546,
     "user": {
      "displayName": "정지혁",
      "photoUrl": "https://lh3.googleusercontent.com/a-/AOh14Gi2xnkUvkGuxYJpQ869taL552Birarh0kp9GKTKCQ=s64",
      "userId": "09534774022449022692"
     },
     "user_tz": -540
    },
    "id": "-2V4bVCeP0xo"
   },
   "outputs": [],
   "source": [
    "import tensorflow as tf "
   ]
  },
  {
   "cell_type": "code",
   "execution_count": 8,
   "metadata": {
    "colab": {
     "base_uri": "https://localhost:8080/"
    },
    "executionInfo": {
     "elapsed": 1488,
     "status": "ok",
     "timestamp": 1631924131323,
     "user": {
      "displayName": "정지혁",
      "photoUrl": "https://lh3.googleusercontent.com/a-/AOh14Gi2xnkUvkGuxYJpQ869taL552Birarh0kp9GKTKCQ=s64",
      "userId": "09534774022449022692"
     },
     "user_tz": -540
    },
    "id": "AgJn8MH6pW8V",
    "outputId": "cebce839-7152-464a-b564-a7c21c680ed1"
   },
   "outputs": [
    {
     "name": "stdout",
     "output_type": "stream",
     "text": [
      "Found 3670 files belonging to 5 classes.\n"
     ]
    }
   ],
   "source": [
    "img = tf.keras.preprocessing.image_dataset_from_directory('flower_photos/')"
   ]
  },
  {
   "cell_type": "code",
   "execution_count": 10,
   "metadata": {
    "colab": {
     "base_uri": "https://localhost:8080/"
    },
    "executionInfo": {
     "elapsed": 1605,
     "status": "ok",
     "timestamp": 1631924140282,
     "user": {
      "displayName": "정지혁",
      "photoUrl": "https://lh3.googleusercontent.com/a-/AOh14Gi2xnkUvkGuxYJpQ869taL552Birarh0kp9GKTKCQ=s64",
      "userId": "09534774022449022692"
     },
     "user_tz": -540
    },
    "id": "ZgukcJeiQdmj",
    "outputId": "26964c4c-ba92-437b-9b09-ad01eabd66f2"
   },
   "outputs": [
    {
     "data": {
      "text/plain": [
       "tensorflow.python.data.ops.dataset_ops.BatchDataset"
      ]
     },
     "execution_count": 10,
     "metadata": {},
     "output_type": "execute_result"
    }
   ],
   "source": [
    "type(img)"
   ]
  },
  {
   "cell_type": "code",
   "execution_count": null,
   "metadata": {
    "id": "ZG6oJNBAqc9_"
   },
   "outputs": [],
   "source": [
    "for i in img:\n",
    "  print(i[0].numpy()) # float형태로 한꺼번에 불러온다 단, 범용적으로 사용하지 못하는 단점이 있다 "
   ]
  },
  {
   "cell_type": "markdown",
   "metadata": {
    "id": "2-L9FhvWtXZh"
   },
   "source": [
    "## 전처리의 중요성 "
   ]
  },
  {
   "cell_type": "markdown",
   "metadata": {
    "id": "iP2xA5QUtbE6"
   },
   "source": [
    "```\n",
    "전처리는 정답이 없다 \n",
    "```"
   ]
  },
  {
   "cell_type": "code",
   "execution_count": 21,
   "metadata": {
    "executionInfo": {
     "elapsed": 338,
     "status": "ok",
     "timestamp": 1631924467026,
     "user": {
      "displayName": "정지혁",
      "photoUrl": "https://lh3.googleusercontent.com/a-/AOh14Gi2xnkUvkGuxYJpQ869taL552Birarh0kp9GKTKCQ=s64",
      "userId": "09534774022449022692"
     },
     "user_tz": -540
    },
    "id": "7okvZuXjz8GK"
   },
   "outputs": [],
   "source": [
    "import tensorflow as tf \n",
    "import matplotlib.pyplot as plt"
   ]
  },
  {
   "cell_type": "code",
   "execution_count": 30,
   "metadata": {
    "executionInfo": {
     "elapsed": 831,
     "status": "ok",
     "timestamp": 1631925212704,
     "user": {
      "displayName": "정지혁",
      "photoUrl": "https://lh3.googleusercontent.com/a-/AOh14Gi2xnkUvkGuxYJpQ869taL552Birarh0kp9GKTKCQ=s64",
      "userId": "09534774022449022692"
     },
     "user_tz": -540
    },
    "id": "GLeRpmr10e0E"
   },
   "outputs": [],
   "source": [
    "(X_train, y_train), (X_test, y_test) = tf.keras.datasets.mnist.load_data()\n",
    "# (X_train, y_train), (X_test, y_test) = tf.keras.datasets.cifar10.load_data()"
   ]
  },
  {
   "cell_type": "markdown",
   "metadata": {
    "id": "gOUIHpYZ1n88"
   },
   "source": [
    "```\n",
    "정 중앙에 있는 숫자 + 비틀림이 없는 숫자 + 크기가 일정 \n",
    "- 이러한 가정이 있기 때문에 성능이 좋았다, 가정을 한 데이터에 대해서는 대표성을 잘 지닌다  \n",
    "- 그러다 다양한 상황의 일반적인 데이터에는 성능이 좋지 못할 수도 있다 ex) A라는 사람의 필체를 학습한 a모델이 있다고 했을 때 A라는 사람의 글씨는 정확히 인식할 수 있지만 다른 사람의 필체는 정확하게 인식하지 못할 가능성이 높다 \n",
    "```"
   ]
  },
  {
   "cell_type": "code",
   "execution_count": null,
   "metadata": {
    "colab": {
     "base_uri": "https://localhost:8080/",
     "height": 283
    },
    "executionInfo": {
     "elapsed": 866,
     "status": "ok",
     "timestamp": 1631883484022,
     "user": {
      "displayName": "정지혁",
      "photoUrl": "https://lh3.googleusercontent.com/a-/AOh14Gi2xnkUvkGuxYJpQ869taL552Birarh0kp9GKTKCQ=s64",
      "userId": "09534774022449022692"
     },
     "user_tz": -540
    },
    "id": "687ydeVr0zta",
    "outputId": "ac54292b-a6af-45ec-8e87-1c50b378c336"
   },
   "outputs": [
    {
     "data": {
      "text/plain": [
       "<matplotlib.image.AxesImage at 0x7f33bd403c50>"
      ]
     },
     "execution_count": 22,
     "metadata": {},
     "output_type": "execute_result"
    },
    {
     "data": {
      "image/png": "[encoded data removed]",
      "text/plain": [
       "<Figure size 432x288 with 1 Axes>"
      ]
     },
     "metadata": {
      "needs_background": "light"
     },
     "output_type": "display_data"
    }
   ],
   "source": [
    "plt.imshow(X_train[0]) # 정 중앙에 있는 숫자 + 비틀림이 없는 숫자 + 크기가 일정 (전처리를 통해서 새로운 데이터 분포를 만든 것) => 이러한 가정이 있기 때문에 성능이 좋았다, 가정을 한 데이터에 대해서는 대표성을 잘 지닌다  "
   ]
  },
  {
   "cell_type": "code",
   "execution_count": null,
   "metadata": {
    "colab": {
     "base_uri": "https://localhost:8080/",
     "height": 285
    },
    "executionInfo": {
     "elapsed": 484,
     "status": "ok",
     "timestamp": 1631883506293,
     "user": {
      "displayName": "정지혁",
      "photoUrl": "https://lh3.googleusercontent.com/a-/AOh14Gi2xnkUvkGuxYJpQ869taL552Birarh0kp9GKTKCQ=s64",
      "userId": "09534774022449022692"
     },
     "user_tz": -540
    },
    "id": "AV-2YGtb1iFK",
    "outputId": "87b528eb-cdf7-4807-f993-5bf75cb82083"
   },
   "outputs": [
    {
     "data": {
      "text/plain": [
       "<matplotlib.image.AxesImage at 0x7f33bce9ccd0>"
      ]
     },
     "execution_count": 24,
     "metadata": {},
     "output_type": "execute_result"
    },
    {
     "data": {
      "image/png": "[encoded data removed]",
      "text/plain": [
       "<Figure size 432x288 with 1 Axes>"
      ]
     },
     "metadata": {
      "needs_background": "light"
     },
     "output_type": "display_data"
    }
   ],
   "source": [
    "plt.imshow(X_train[0]) # 3차원 데이터 이기 때문에 전통적인 머신러닝에 사용할 수 없다 "
   ]
  },
  {
   "cell_type": "code",
   "execution_count": 31,
   "metadata": {
    "colab": {
     "base_uri": "https://localhost:8080/",
     "height": 283
    },
    "executionInfo": {
     "elapsed": 539,
     "status": "ok",
     "timestamp": 1631925226478,
     "user": {
      "displayName": "정지혁",
      "photoUrl": "https://lh3.googleusercontent.com/a-/AOh14Gi2xnkUvkGuxYJpQ869taL552Birarh0kp9GKTKCQ=s64",
      "userId": "09534774022449022692"
     },
     "user_tz": -540
    },
    "id": "mKUNwbOsUmSP",
    "outputId": "dd767aa6-5729-4998-aaff-1631e7f96a60"
   },
   "outputs": [
    {
     "data": {
      "text/plain": [
       "<matplotlib.image.AxesImage at 0x7f40de372410>"
      ]
     },
     "execution_count": 31,
     "metadata": {},
     "output_type": "execute_result"
    },
    {
     "data": {
      "image/png": "[encoded data removed]",
      "text/plain": [
       "<Figure size 432x288 with 1 Axes>"
      ]
     },
     "metadata": {
      "needs_background": "light"
     },
     "output_type": "display_data"
    }
   ],
   "source": [
    "plt.imshow(X_train[0], cmap='gray') "
   ]
  },
  {
   "cell_type": "code",
   "execution_count": 24,
   "metadata": {
    "colab": {
     "base_uri": "https://localhost:8080/"
    },
    "executionInfo": {
     "elapsed": 317,
     "status": "ok",
     "timestamp": 1631924492122,
     "user": {
      "displayName": "정지혁",
      "photoUrl": "https://lh3.googleusercontent.com/a-/AOh14Gi2xnkUvkGuxYJpQ869taL552Birarh0kp9GKTKCQ=s64",
      "userId": "09534774022449022692"
     },
     "user_tz": -540
    },
    "id": "pVp6aqe2Rxe8",
    "outputId": "4f9cd69c-448e-4ace-85e5-9d6bbf609dab"
   },
   "outputs": [
    {
     "data": {
      "text/plain": [
       "(32, 32, 3)"
      ]
     },
     "execution_count": 24,
     "metadata": {},
     "output_type": "execute_result"
    }
   ],
   "source": [
    "X_train[0].shape"
   ]
  },
  {
   "cell_type": "code",
   "execution_count": 25,
   "metadata": {
    "colab": {
     "base_uri": "https://localhost:8080/"
    },
    "executionInfo": {
     "elapsed": 404,
     "status": "ok",
     "timestamp": 1631924506061,
     "user": {
      "displayName": "정지혁",
      "photoUrl": "https://lh3.googleusercontent.com/a-/AOh14Gi2xnkUvkGuxYJpQ869taL552Birarh0kp9GKTKCQ=s64",
      "userId": "09534774022449022692"
     },
     "user_tz": -540
    },
    "id": "-Q35f6OAR6z0",
    "outputId": "14125831-fc75-44d6-a671-945c47dd369b"
   },
   "outputs": [
    {
     "data": {
      "text/plain": [
       "array([ 59,  62,  63, ..., 123,  92,  72], dtype=uint8)"
      ]
     },
     "execution_count": 25,
     "metadata": {},
     "output_type": "execute_result"
    }
   ],
   "source": [
    "X_train[0].flatten() # 1차원으로 변경, copy방식 => 원본하고 같이 바뀌고 싶지 않을 때"
   ]
  },
  {
   "cell_type": "code",
   "execution_count": 26,
   "metadata": {
    "colab": {
     "base_uri": "https://localhost:8080/"
    },
    "executionInfo": {
     "elapsed": 5,
     "status": "ok",
     "timestamp": 1631924516147,
     "user": {
      "displayName": "정지혁",
      "photoUrl": "https://lh3.googleusercontent.com/a-/AOh14Gi2xnkUvkGuxYJpQ869taL552Birarh0kp9GKTKCQ=s64",
      "userId": "09534774022449022692"
     },
     "user_tz": -540
    },
    "id": "Dpc3EdXeR9T9",
    "outputId": "785f5912-a4a5-448f-f41f-42f56a177110"
   },
   "outputs": [
    {
     "data": {
      "text/plain": [
       "array([ 59,  62,  63, ..., 123,  92,  72], dtype=uint8)"
      ]
     },
     "execution_count": 26,
     "metadata": {},
     "output_type": "execute_result"
    }
   ],
   "source": [
    "X_train[0].ravel()   # 1차원으로 변경, view방식 => 원본하고 같이 바뀌고 싶을 때 "
   ]
  },
  {
   "cell_type": "markdown",
   "metadata": {
    "id": "5goDbz8HSgUo"
   },
   "source": [
    "```\n",
    "color 이미지 일 때 (32, 32, 3) 이미지는 머신러닝 관점에서 차원은 3072(32X32X3)이다  \n",
    "따라서 차원의 저주 문제가 발생한다 \n",
    "\n",
    "gray로 바꿈으로써 차원을 축소할 수도 있다 => color를 gray로 바꿀 때 단순히 평균해서 바꾸기도 한다 => np.mean(X_train[0], axis=2)\n",
    "```"
   ]
  },
  {
   "cell_type": "code",
   "execution_count": 28,
   "metadata": {
    "executionInfo": {
     "elapsed": 333,
     "status": "ok",
     "timestamp": 1631924932327,
     "user": {
      "displayName": "정지혁",
      "photoUrl": "https://lh3.googleusercontent.com/a-/AOh14Gi2xnkUvkGuxYJpQ869taL552Birarh0kp9GKTKCQ=s64",
      "userId": "09534774022449022692"
     },
     "user_tz": -540
    },
    "id": "JnVKEZ4tTY-0"
   },
   "outputs": [],
   "source": [
    "from skimage.color import rgb2gray"
   ]
  },
  {
   "cell_type": "code",
   "execution_count": 29,
   "metadata": {
    "colab": {
     "base_uri": "https://localhost:8080/"
    },
    "executionInfo": {
     "elapsed": 3,
     "status": "ok",
     "timestamp": 1631924933488,
     "user": {
      "displayName": "정지혁",
      "photoUrl": "https://lh3.googleusercontent.com/a-/AOh14Gi2xnkUvkGuxYJpQ869taL552Birarh0kp9GKTKCQ=s64",
      "userId": "09534774022449022692"
     },
     "user_tz": -540
    },
    "id": "SuwOB2KkTZDI",
    "outputId": "018f30b9-fb08-47fa-f8f6-4e68f545ea7b"
   },
   "outputs": [
    {
     "data": {
      "text/plain": [
       "(3072, 1024)"
      ]
     },
     "execution_count": 29,
     "metadata": {},
     "output_type": "execute_result"
    }
   ],
   "source": [
    "X_train[0].size, rgb2gray(X_train[0]).size # nuance"
   ]
  },
  {
   "cell_type": "markdown",
   "metadata": {
    "id": "S28wHDJwVKuv"
   },
   "source": [
    "<table>\n",
    "  <tr>\n",
    "    <th>Raw data</th>\n",
    "    <th>Featured data</th>\n",
    "  </tr>\n",
    "  <tr>\n",
    "    <th>원본 데이터</th>\n",
    "    <th>전처리된 데이터</th>\n",
    "  </tr>\n",
    "  <tr>\n",
    "    <th>의미 손실이 없는 대신 패턴을 찾기 어렵다</th>\n",
    "    <th>일부 의미가 손실 되지만 패턴을 찾기 좋다</th>\n",
    "  </tr>\n",
    "  <tr>\n",
    "    <th>차원의 저주가 발생할 수 있다</th>\n",
    "    <th>차원이 축소가 된다</th>\n",
    "  </tr>\n",
    "  <tr>\n",
    "    <th>연산량이 많이 요구된다</th>\n",
    "    <th>연산량이 많이 줄어든다</th>\n",
    "  </tr>\n",
    "  <tr>\n",
    "    <th>저장 공간이 많이 요구된다</th>\n",
    "    <th>저장 공간이 많이 줄어든다</th>\n",
    "  </tr>\n",
    "</table>"
   ]
  },
  {
   "cell_type": "markdown",
   "metadata": {
    "id": "_56J9Rsy01MF"
   },
   "source": [
    "## 이미지 변화 적용(Filter) "
   ]
  },
  {
   "cell_type": "markdown",
   "metadata": {
    "id": "Aj5svs981Ku_"
   },
   "source": [
    "```\n",
    "Filter도 전처리 방법중 하나 이다 \n",
    "어떻게, 어떤 Filter를 적용하는 것이 맞는지 정확히 알 수 없다 \n",
    "```"
   ]
  },
  {
   "cell_type": "markdown",
   "metadata": {
    "id": "wmDkU-na2SPm"
   },
   "source": [
    "## Image augmentation"
   ]
  },
  {
   "cell_type": "markdown",
   "metadata": {
    "id": "xMKI_Jxb2VIv"
   },
   "source": [
    "```\n",
    "원본 이미지의 의미를 유지시키면서 변형 하고 \n",
    "새로운 데이터 셋으로 사용 한다 \n",
    "```"
   ]
  },
  {
   "cell_type": "code",
   "execution_count": 33,
   "metadata": {
    "executionInfo": {
     "elapsed": 387,
     "status": "ok",
     "timestamp": 1631925803489,
     "user": {
      "displayName": "정지혁",
      "photoUrl": "https://lh3.googleusercontent.com/a-/AOh14Gi2xnkUvkGuxYJpQ869taL552Birarh0kp9GKTKCQ=s64",
      "userId": "09534774022449022692"
     },
     "user_tz": -540
    },
    "id": "AtzM0eYg2Uex"
   },
   "outputs": [],
   "source": [
    "from sklearn.datasets import load_digits"
   ]
  },
  {
   "cell_type": "code",
   "execution_count": 34,
   "metadata": {
    "executionInfo": {
     "elapsed": 17,
     "status": "ok",
     "timestamp": 1631925804150,
     "user": {
      "displayName": "정지혁",
      "photoUrl": "https://lh3.googleusercontent.com/a-/AOh14Gi2xnkUvkGuxYJpQ869taL552Birarh0kp9GKTKCQ=s64",
      "userId": "09534774022449022692"
     },
     "user_tz": -540
    },
    "id": "BX976qn94diP"
   },
   "outputs": [],
   "source": [
    "data = load_digits()"
   ]
  },
  {
   "cell_type": "code",
   "execution_count": 35,
   "metadata": {
    "colab": {
     "base_uri": "https://localhost:8080/"
    },
    "executionInfo": {
     "elapsed": 17,
     "status": "ok",
     "timestamp": 1631925804151,
     "user": {
      "displayName": "정지혁",
      "photoUrl": "https://lh3.googleusercontent.com/a-/AOh14Gi2xnkUvkGuxYJpQ869taL552Birarh0kp9GKTKCQ=s64",
      "userId": "09534774022449022692"
     },
     "user_tz": -540
    },
    "id": "faQWhzhi4fzi",
    "outputId": "6daaeb92-bd4f-4a48-93bc-01dfa1c963c4"
   },
   "outputs": [
    {
     "data": {
      "text/plain": [
       "(1797, 8, 8)"
      ]
     },
     "execution_count": 35,
     "metadata": {},
     "output_type": "execute_result"
    }
   ],
   "source": [
    "data.images.shape"
   ]
  },
  {
   "cell_type": "code",
   "execution_count": 36,
   "metadata": {
    "colab": {
     "base_uri": "https://localhost:8080/",
     "height": 283
    },
    "executionInfo": {
     "elapsed": 13,
     "status": "ok",
     "timestamp": 1631925804152,
     "user": {
      "displayName": "정지혁",
      "photoUrl": "https://lh3.googleusercontent.com/a-/AOh14Gi2xnkUvkGuxYJpQ869taL552Birarh0kp9GKTKCQ=s64",
      "userId": "09534774022449022692"
     },
     "user_tz": -540
    },
    "id": "Ha1j8FZ-4gu5",
    "outputId": "2216e036-a213-40d6-dbe5-66c073bffae9"
   },
   "outputs": [
    {
     "data": {
      "text/plain": [
       "<matplotlib.image.AxesImage at 0x7f40dc9e7bd0>"
      ]
     },
     "execution_count": 36,
     "metadata": {},
     "output_type": "execute_result"
    },
    {
     "data": {
      "image/png": "[encoded data removed]",
      "text/plain": [
       "<Figure size 432x288 with 1 Axes>"
      ]
     },
     "metadata": {
      "needs_background": "light"
     },
     "output_type": "display_data"
    }
   ],
   "source": [
    "plt.imshow(data.images[2], cmap='gray')"
   ]
  },
  {
   "cell_type": "code",
   "execution_count": 37,
   "metadata": {
    "colab": {
     "base_uri": "https://localhost:8080/"
    },
    "executionInfo": {
     "elapsed": 350,
     "status": "ok",
     "timestamp": 1631925810915,
     "user": {
      "displayName": "정지혁",
      "photoUrl": "https://lh3.googleusercontent.com/a-/AOh14Gi2xnkUvkGuxYJpQ869taL552Birarh0kp9GKTKCQ=s64",
      "userId": "09534774022449022692"
     },
     "user_tz": -540
    },
    "id": "jK6e0FnC4jQo",
    "outputId": "cb33a699-1e7e-4615-a80a-ba1f6665a3b9"
   },
   "outputs": [
    {
     "data": {
      "text/plain": [
       "array([[ 0.,  0.,  5., ...,  0.,  0.,  0.],\n",
       "       [ 0.,  0.,  0., ..., 10.,  0.,  0.],\n",
       "       [ 0.,  0.,  0., ..., 16.,  9.,  0.],\n",
       "       ...,\n",
       "       [ 0.,  0.,  1., ...,  6.,  0.,  0.],\n",
       "       [ 0.,  0.,  2., ..., 12.,  0.,  0.],\n",
       "       [ 0.,  0., 10., ..., 12.,  1.,  0.]])"
      ]
     },
     "execution_count": 37,
     "metadata": {},
     "output_type": "execute_result"
    }
   ],
   "source": [
    "data.data # 하나의 데이터는 1차원으로 변경되었다 "
   ]
  },
  {
   "cell_type": "markdown",
   "metadata": {
    "id": "hJd_jrgz5dc-"
   },
   "source": [
    "## Model"
   ]
  },
  {
   "cell_type": "markdown",
   "metadata": {
    "id": "qop02T2YXT3u"
   },
   "source": [
    "```\n",
    "이미지 데이터는 공통적으로 Non Linear다 \n",
    "Non Linear라는 것은 데이터 셋을 비선형적으로 구분해야 한다  \n",
    "```"
   ]
  },
  {
   "cell_type": "markdown",
   "metadata": {
    "id": "5ldpLl_M7bIH"
   },
   "source": [
    "```\n",
    "머신러닝은 meta 프로그래밍이 가능하다 => 메타 프로그래밍은 자기 자신 혹은 다른 컴퓨터 프로그램을 데이터로 취급하며 프로그램을 작성·수정하는 것을 말한다\n",
    "특징들이 일반적이기 때문에 (abstract)\n",
    "```"
   ]
  },
  {
   "cell_type": "code",
   "execution_count": 38,
   "metadata": {
    "executionInfo": {
     "elapsed": 1320,
     "status": "ok",
     "timestamp": 1631925995771,
     "user": {
      "displayName": "정지혁",
      "photoUrl": "https://lh3.googleusercontent.com/a-/AOh14Gi2xnkUvkGuxYJpQ869taL552Birarh0kp9GKTKCQ=s64",
      "userId": "09534774022449022692"
     },
     "user_tz": -540
    },
    "id": "1w1_DaFS7WeJ"
   },
   "outputs": [],
   "source": [
    "import cv2\n",
    "import numpy as np\n",
    "from sklearn.tree import DecisionTreeClassifier"
   ]
  },
  {
   "cell_type": "code",
   "execution_count": 39,
   "metadata": {
    "executionInfo": {
     "elapsed": 5,
     "status": "ok",
     "timestamp": 1631925995772,
     "user": {
      "displayName": "정지혁",
      "photoUrl": "https://lh3.googleusercontent.com/a-/AOh14Gi2xnkUvkGuxYJpQ869taL552Birarh0kp9GKTKCQ=s64",
      "userId": "09534774022449022692"
     },
     "user_tz": -540
    },
    "id": "JfB1_SNl7Xng"
   },
   "outputs": [],
   "source": [
    "dt = DecisionTreeClassifier() # 1단계 (Hyperparameter)"
   ]
  },
  {
   "cell_type": "code",
   "execution_count": 40,
   "metadata": {
    "colab": {
     "base_uri": "https://localhost:8080/"
    },
    "executionInfo": {
     "elapsed": 11,
     "status": "ok",
     "timestamp": 1631925996393,
     "user": {
      "displayName": "정지혁",
      "photoUrl": "https://lh3.googleusercontent.com/a-/AOh14Gi2xnkUvkGuxYJpQ869taL552Birarh0kp9GKTKCQ=s64",
      "userId": "09534774022449022692"
     },
     "user_tz": -540
    },
    "id": "XUI5A8xu7p7x",
    "outputId": "73c273fa-7719-4219-e664-f0a87e6ea811"
   },
   "outputs": [
    {
     "data": {
      "text/plain": [
       "DecisionTreeClassifier(ccp_alpha=0.0, class_weight=None, criterion='gini',\n",
       "                       max_depth=None, max_features=None, max_leaf_nodes=None,\n",
       "                       min_impurity_decrease=0.0, min_impurity_split=None,\n",
       "                       min_samples_leaf=1, min_samples_split=2,\n",
       "                       min_weight_fraction_leaf=0.0, presort='deprecated',\n",
       "                       random_state=None, splitter='best')"
      ]
     },
     "execution_count": 40,
     "metadata": {},
     "output_type": "execute_result"
    }
   ],
   "source": [
    "dt.fit(data.data, data.target)"
   ]
  },
  {
   "cell_type": "code",
   "execution_count": 41,
   "metadata": {
    "executionInfo": {
     "elapsed": 4,
     "status": "ok",
     "timestamp": 1631925998017,
     "user": {
      "displayName": "정지혁",
      "photoUrl": "https://lh3.googleusercontent.com/a-/AOh14Gi2xnkUvkGuxYJpQ869taL552Birarh0kp9GKTKCQ=s64",
      "userId": "09534774022449022692"
     },
     "user_tz": -540
    },
    "id": "j3-SCPdl7tL1"
   },
   "outputs": [],
   "source": [
    "from sklearn.model_selection import train_test_split, cross_val_score\n",
    "from sklearn.neural_network import MLPClassifier, MLPRegressor\n",
    "from sklearn.svm import SVC, SVR\n",
    "from sklearn.neighbors import KNeighborsClassifier"
   ]
  },
  {
   "cell_type": "code",
   "execution_count": 42,
   "metadata": {
    "executionInfo": {
     "elapsed": 3,
     "status": "ok",
     "timestamp": 1631925998018,
     "user": {
      "displayName": "정지혁",
      "photoUrl": "https://lh3.googleusercontent.com/a-/AOh14Gi2xnkUvkGuxYJpQ869taL552Birarh0kp9GKTKCQ=s64",
      "userId": "09534774022449022692"
     },
     "user_tz": -540
    },
    "id": "Op1OUzNj716B"
   },
   "outputs": [],
   "source": [
    "t = cross_val_score(dt, data.data, data.target, cv = 10) "
   ]
  },
  {
   "cell_type": "code",
   "execution_count": 43,
   "metadata": {
    "colab": {
     "base_uri": "https://localhost:8080/"
    },
    "executionInfo": {
     "elapsed": 15,
     "status": "ok",
     "timestamp": 1631925999038,
     "user": {
      "displayName": "정지혁",
      "photoUrl": "https://lh3.googleusercontent.com/a-/AOh14Gi2xnkUvkGuxYJpQ869taL552Birarh0kp9GKTKCQ=s64",
      "userId": "09534774022449022692"
     },
     "user_tz": -540
    },
    "id": "KdG0Rsi_75cm",
    "outputId": "4f1576fa-def9-4c37-ac97-8f3804799587"
   },
   "outputs": [
    {
     "data": {
      "text/plain": [
       "array([0.79444444, 0.86666667, 0.85      , 0.8       , 0.78333333,\n",
       "       0.87222222, 0.90555556, 0.81005587, 0.81564246, 0.82681564])"
      ]
     },
     "execution_count": 43,
     "metadata": {},
     "output_type": "execute_result"
    }
   ],
   "source": [
    "t"
   ]
  },
  {
   "cell_type": "code",
   "execution_count": 44,
   "metadata": {
    "colab": {
     "base_uri": "https://localhost:8080/"
    },
    "executionInfo": {
     "elapsed": 9,
     "status": "ok",
     "timestamp": 1631925999039,
     "user": {
      "displayName": "정지혁",
      "photoUrl": "https://lh3.googleusercontent.com/a-/AOh14Gi2xnkUvkGuxYJpQ869taL552Birarh0kp9GKTKCQ=s64",
      "userId": "09534774022449022692"
     },
     "user_tz": -540
    },
    "id": "nL7Ulnc776KS",
    "outputId": "89650e11-e4db-42fd-94b4-2231233d4149"
   },
   "outputs": [
    {
     "data": {
      "text/plain": [
       "0.8324736188702669"
      ]
     },
     "execution_count": 44,
     "metadata": {},
     "output_type": "execute_result"
    }
   ],
   "source": [
    "t.mean() # 전처리가 잘 되어 있기 때문에 성능이 좋다 "
   ]
  },
  {
   "cell_type": "code",
   "execution_count": 45,
   "metadata": {
    "colab": {
     "base_uri": "https://localhost:8080/"
    },
    "executionInfo": {
     "elapsed": 7,
     "status": "ok",
     "timestamp": 1631925999646,
     "user": {
      "displayName": "정지혁",
      "photoUrl": "https://lh3.googleusercontent.com/a-/AOh14Gi2xnkUvkGuxYJpQ869taL552Birarh0kp9GKTKCQ=s64",
      "userId": "09534774022449022692"
     },
     "user_tz": -540
    },
    "id": "BoSbg4IG76nn",
    "outputId": "17cd50c8-e37c-4cd8-e4a9-fe70cd3e1745"
   },
   "outputs": [
    {
     "data": {
      "text/plain": [
       "True"
      ]
     },
     "execution_count": 45,
     "metadata": {},
     "output_type": "execute_result"
    }
   ],
   "source": [
    "data.data = data.data.astype('float32')\n",
    "knn1 = cv2.ml.KNearest_create()\n",
    "knn1.train(data.data, cv2.ml.ROW_SAMPLE ,data.target) # 데이터가 연속이라는 가정을 두고 학습을 해야 하기 때문에 데이터 타입이 float이어야 한다 "
   ]
  },
  {
   "cell_type": "code",
   "execution_count": 46,
   "metadata": {
    "colab": {
     "base_uri": "https://localhost:8080/"
    },
    "executionInfo": {
     "elapsed": 10,
     "status": "ok",
     "timestamp": 1631926000156,
     "user": {
      "displayName": "정지혁",
      "photoUrl": "https://lh3.googleusercontent.com/a-/AOh14Gi2xnkUvkGuxYJpQ869taL552Birarh0kp9GKTKCQ=s64",
      "userId": "09534774022449022692"
     },
     "user_tz": -540
    },
    "id": "PD1b3fOP9Bf9",
    "outputId": "dbba2ebf-0c4d-4472-b72d-713e1ea7151f"
   },
   "outputs": [
    {
     "data": {
      "text/plain": [
       "KNeighborsClassifier(algorithm='auto', leaf_size=30, metric='minkowski',\n",
       "                     metric_params=None, n_jobs=None, n_neighbors=5, p=2,\n",
       "                     weights='uniform')"
      ]
     },
     "execution_count": 46,
     "metadata": {},
     "output_type": "execute_result"
    }
   ],
   "source": [
    "knn2 = KNeighborsClassifier()\n",
    "knn2.fit(data.data, data.target)"
   ]
  },
  {
   "cell_type": "code",
   "execution_count": 47,
   "metadata": {
    "colab": {
     "base_uri": "https://localhost:8080/"
    },
    "executionInfo": {
     "elapsed": 10,
     "status": "ok",
     "timestamp": 1631926000504,
     "user": {
      "displayName": "정지혁",
      "photoUrl": "https://lh3.googleusercontent.com/a-/AOh14Gi2xnkUvkGuxYJpQ869taL552Birarh0kp9GKTKCQ=s64",
      "userId": "09534774022449022692"
     },
     "user_tz": -540
    },
    "id": "FH5nWPtP9jId",
    "outputId": "22217fda-cb7c-4280-e7b6-818ca94ef673"
   },
   "outputs": [
    {
     "data": {
      "text/plain": [
       "(3.0,\n",
       " array([[3.]], dtype=float32),\n",
       " array([[3., 3., 3.]], dtype=float32),\n",
       " array([[  0., 197., 232.]], dtype=float32))"
      ]
     },
     "execution_count": 47,
     "metadata": {},
     "output_type": "execute_result"
    }
   ],
   "source": [
    "knn1.findNearest(data.data[3][np.newaxis], 3) # 2차원 데이터를 받는다 "
   ]
  },
  {
   "cell_type": "code",
   "execution_count": 48,
   "metadata": {
    "colab": {
     "base_uri": "https://localhost:8080/"
    },
    "executionInfo": {
     "elapsed": 501,
     "status": "ok",
     "timestamp": 1631926001857,
     "user": {
      "displayName": "정지혁",
      "photoUrl": "https://lh3.googleusercontent.com/a-/AOh14Gi2xnkUvkGuxYJpQ869taL552Birarh0kp9GKTKCQ=s64",
      "userId": "09534774022449022692"
     },
     "user_tz": -540
    },
    "id": "ApixwN9m-dXW",
    "outputId": "90dd793c-2fb0-47a1-92a4-e6d2f77147a1"
   },
   "outputs": [
    {
     "data": {
      "text/plain": [
       "array([3])"
      ]
     },
     "execution_count": 48,
     "metadata": {},
     "output_type": "execute_result"
    }
   ],
   "source": [
    "knn2.predict(data.data[3][np.newaxis])"
   ]
  },
  {
   "cell_type": "code",
   "execution_count": 49,
   "metadata": {
    "colab": {
     "base_uri": "https://localhost:8080/"
    },
    "executionInfo": {
     "elapsed": 9710,
     "status": "ok",
     "timestamp": 1631926011564,
     "user": {
      "displayName": "정지혁",
      "photoUrl": "https://lh3.googleusercontent.com/a-/AOh14Gi2xnkUvkGuxYJpQ869taL552Birarh0kp9GKTKCQ=s64",
      "userId": "09534774022449022692"
     },
     "user_tz": -540
    },
    "id": "d00-nDnX-0Bw",
    "outputId": "54f5b4a0-893d-44b0-bd68-2f9826d9b7ff"
   },
   "outputs": [
    {
     "name": "stdout",
     "output_type": "stream",
     "text": [
      "10 loops, best of 5: 148 ms per loop\n"
     ]
    }
   ],
   "source": [
    "%timeit knn1.findNearest(data.data, 5) "
   ]
  },
  {
   "cell_type": "code",
   "execution_count": 50,
   "metadata": {
    "colab": {
     "base_uri": "https://localhost:8080/"
    },
    "executionInfo": {
     "elapsed": 2297,
     "status": "ok",
     "timestamp": 1631926013843,
     "user": {
      "displayName": "정지혁",
      "photoUrl": "https://lh3.googleusercontent.com/a-/AOh14Gi2xnkUvkGuxYJpQ869taL552Birarh0kp9GKTKCQ=s64",
      "userId": "09534774022449022692"
     },
     "user_tz": -540
    },
    "id": "LkiHukIS_Bmj",
    "outputId": "e2e81b0b-e624-448a-ea44-6c47a59fe80d"
   },
   "outputs": [
    {
     "name": "stdout",
     "output_type": "stream",
     "text": [
      "1 loop, best of 5: 417 ms per loop\n"
     ]
    }
   ],
   "source": [
    "%timeit knn2.predict(data.data) "
   ]
  }
 ],
 "metadata": {
  "accelerator": "GPU",
  "colab": {
   "authorship_tag": "ABX9TyPVV4LLwc/hUvjqZljjpYSQ",
   "collapsed_sections": [],
   "name": "10일차 수업 내용_고급시각.ipynb",
   "provenance": []
  },
  "kernelspec": {
   "display_name": "Python 3",
   "language": "python",
   "name": "python3"
  },
  "language_info": {
   "codemirror_mode": {
    "name": "ipython",
    "version": 3
   },
   "file_extension": ".py",
   "mimetype": "text/x-python",
   "name": "python",
   "nbconvert_exporter": "python",
   "pygments_lexer": "ipython3",
   "version": "3.8.5"
  }
 },
 "nbformat": 4,
 "nbformat_minor": 1
}
