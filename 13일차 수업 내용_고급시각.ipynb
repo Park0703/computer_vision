{
 "cells": [
  {
   "cell_type": "code",
   "execution_count": 1,
   "metadata": {
    "colab": {
     "base_uri": "https://localhost:8080/"
    },
    "executionInfo": {
     "elapsed": 26437,
     "status": "ok",
     "timestamp": 1632737417628,
     "user": {
      "displayName": "정지혁",
      "photoUrl": "https://lh3.googleusercontent.com/a-/AOh14Gi2xnkUvkGuxYJpQ869taL552Birarh0kp9GKTKCQ=s64",
      "userId": "09534774022449022692"
     },
     "user_tz": -540
    },
    "id": "VV6uxX03lf6g",
    "outputId": "1a0dd68a-aff9-4ace-a778-ddef46850008"
   },
   "outputs": [
    {
     "name": "stdout",
     "output_type": "stream",
     "text": [
      "Mounted at /content/drive\n"
     ]
    }
   ],
   "source": [
    "# 구글 드라이브의 폴더와 구글 코랩 폴더 연결\n",
    "from google.colab import drive\n",
    "drive.mount('/content/drive')"
   ]
  },
  {
   "cell_type": "code",
   "execution_count": 2,
   "metadata": {
    "colab": {
     "base_uri": "https://localhost:8080/"
    },
    "executionInfo": {
     "elapsed": 15,
     "status": "ok",
     "timestamp": 1632737417629,
     "user": {
      "displayName": "정지혁",
      "photoUrl": "https://lh3.googleusercontent.com/a-/AOh14Gi2xnkUvkGuxYJpQ869taL552Birarh0kp9GKTKCQ=s64",
      "userId": "09534774022449022692"
     },
     "user_tz": -540
    },
    "id": "v5SORExslh3Q",
    "outputId": "bb2e6178-d721-4bca-c42e-dc67f933531c"
   },
   "outputs": [
    {
     "name": "stdout",
     "output_type": "stream",
     "text": [
      "/content\n"
     ]
    }
   ],
   "source": [
    "# 현재 경로 확인\n",
    "!pwd"
   ]
  },
  {
   "cell_type": "code",
   "execution_count": 3,
   "metadata": {
    "colab": {
     "base_uri": "https://localhost:8080/"
    },
    "executionInfo": {
     "elapsed": 10,
     "status": "ok",
     "timestamp": 1632737417630,
     "user": {
      "displayName": "정지혁",
      "photoUrl": "https://lh3.googleusercontent.com/a-/AOh14Gi2xnkUvkGuxYJpQ869taL552Birarh0kp9GKTKCQ=s64",
      "userId": "09534774022449022692"
     },
     "user_tz": -540
    },
    "id": "Wjo2oKF4lioE",
    "outputId": "eb4caebb-ca6e-49f2-b0b2-1a4b2e1c321e"
   },
   "outputs": [
    {
     "name": "stdout",
     "output_type": "stream",
     "text": [
      "/content/drive/My Drive/Colab Notebooks\n"
     ]
    }
   ],
   "source": [
    "# drive/My Drive/Colab Notebooks 경로로 변경\n",
    "%cd drive/My\\ Drive/Colab\\ Notebooks\\"
   ]
  },
  {
   "cell_type": "markdown",
   "metadata": {
    "id": "ReEfuFTFgFVV"
   },
   "source": [
    "# Tensorflow "
   ]
  },
  {
   "cell_type": "markdown",
   "metadata": {
    "id": "mHHYokmbyPcV"
   },
   "source": [
    "## 모델을 만드는 여러가지 표현 방법"
   ]
  },
  {
   "cell_type": "markdown",
   "metadata": {
    "id": "GJbTqVC3zO7K"
   },
   "source": [
    "### Sequential"
   ]
  },
  {
   "cell_type": "code",
   "execution_count": 2,
   "metadata": {
    "executionInfo": {
     "elapsed": 1685,
     "status": "ok",
     "timestamp": 1632758614158,
     "user": {
      "displayName": "정지혁",
      "photoUrl": "https://lh3.googleusercontent.com/a-/AOh14Gi2xnkUvkGuxYJpQ869taL552Birarh0kp9GKTKCQ=s64",
      "userId": "09534774022449022692"
     },
     "user_tz": -540
    },
    "id": "3jv5kgt-u0Me"
   },
   "outputs": [],
   "source": [
    "import tensorflow as tf\n",
    "import numpy as np\n",
    "import matplotlib.pyplot as plt"
   ]
  },
  {
   "cell_type": "code",
   "execution_count": 5,
   "metadata": {
    "executionInfo": {
     "elapsed": 6252,
     "status": "ok",
     "timestamp": 1632737441919,
     "user": {
      "displayName": "정지혁",
      "photoUrl": "https://lh3.googleusercontent.com/a-/AOh14Gi2xnkUvkGuxYJpQ869taL552Birarh0kp9GKTKCQ=s64",
      "userId": "09534774022449022692"
     },
     "user_tz": -540
    },
    "id": "9C_cQSH7u-lx"
   },
   "outputs": [],
   "source": [
    "model = tf.keras.models.Sequential()"
   ]
  },
  {
   "cell_type": "code",
   "execution_count": 6,
   "metadata": {
    "executionInfo": {
     "elapsed": 393,
     "status": "ok",
     "timestamp": 1632737736634,
     "user": {
      "displayName": "정지혁",
      "photoUrl": "https://lh3.googleusercontent.com/a-/AOh14Gi2xnkUvkGuxYJpQ869taL552Birarh0kp9GKTKCQ=s64",
      "userId": "09534774022449022692"
     },
     "user_tz": -540
    },
    "id": "LyjAwoN4vB3f"
   },
   "outputs": [],
   "source": [
    "model.add(tf.keras.layers.Dense(2))\n",
    "model.add(tf.keras.layers.Dense(2))"
   ]
  },
  {
   "cell_type": "code",
   "execution_count": 11,
   "metadata": {
    "executionInfo": {
     "elapsed": 392,
     "status": "ok",
     "timestamp": 1632737878762,
     "user": {
      "displayName": "정지혁",
      "photoUrl": "https://lh3.googleusercontent.com/a-/AOh14Gi2xnkUvkGuxYJpQ869taL552Birarh0kp9GKTKCQ=s64",
      "userId": "09534774022449022692"
     },
     "user_tz": -540
    },
    "id": "SYqKh2SUwLQj"
   },
   "outputs": [],
   "source": [
    "x = tf.constant([[1,2]])\n",
    "y = tf.constant([[1,2],[2,3]])"
   ]
  },
  {
   "cell_type": "code",
   "execution_count": 8,
   "metadata": {
    "colab": {
     "base_uri": "https://localhost:8080/"
    },
    "executionInfo": {
     "elapsed": 2861,
     "status": "ok",
     "timestamp": 1632737751398,
     "user": {
      "displayName": "정지혁",
      "photoUrl": "https://lh3.googleusercontent.com/a-/AOh14Gi2xnkUvkGuxYJpQ869taL552Birarh0kp9GKTKCQ=s64",
      "userId": "09534774022449022692"
     },
     "user_tz": -540
    },
    "id": "jgJuIo51wNb8",
    "outputId": "d4bf5f85-d32c-46c1-cd01-677d88846250"
   },
   "outputs": [
    {
     "data": {
      "text/plain": [
       "<tf.Tensor: shape=(1, 2), dtype=float32, numpy=array([[0.3294789, 0.589738 ]], dtype=float32)>"
      ]
     },
     "execution_count": 8,
     "metadata": {},
     "output_type": "execute_result"
    }
   ],
   "source": [
    "model(x) "
   ]
  },
  {
   "cell_type": "code",
   "execution_count": 9,
   "metadata": {
    "colab": {
     "base_uri": "https://localhost:8080/"
    },
    "executionInfo": {
     "elapsed": 391,
     "status": "ok",
     "timestamp": 1632737776284,
     "user": {
      "displayName": "정지혁",
      "photoUrl": "https://lh3.googleusercontent.com/a-/AOh14Gi2xnkUvkGuxYJpQ869taL552Birarh0kp9GKTKCQ=s64",
      "userId": "09534774022449022692"
     },
     "user_tz": -540
    },
    "id": "K86cPZ9swOGo",
    "outputId": "771c9696-80e4-4217-ff21-6507f63315e4"
   },
   "outputs": [
    {
     "data": {
      "text/plain": [
       "True"
      ]
     },
     "execution_count": 9,
     "metadata": {},
     "output_type": "execute_result"
    }
   ],
   "source": [
    "model.built"
   ]
  },
  {
   "cell_type": "code",
   "execution_count": 10,
   "metadata": {
    "colab": {
     "base_uri": "https://localhost:8080/"
    },
    "executionInfo": {
     "elapsed": 433,
     "status": "ok",
     "timestamp": 1632737780599,
     "user": {
      "displayName": "정지혁",
      "photoUrl": "https://lh3.googleusercontent.com/a-/AOh14Gi2xnkUvkGuxYJpQ869taL552Birarh0kp9GKTKCQ=s64",
      "userId": "09534774022449022692"
     },
     "user_tz": -540
    },
    "id": "njyQew_owUuu",
    "outputId": "c2796fdb-3c2f-4e2e-f882-2d1aba7ea1c8"
   },
   "outputs": [
    {
     "name": "stdout",
     "output_type": "stream",
     "text": [
      "Model: \"sequential\"\n",
      "_________________________________________________________________\n",
      "Layer (type)                 Output Shape              Param #   \n",
      "=================================================================\n",
      "dense (Dense)                (1, 2)                    6         \n",
      "_________________________________________________________________\n",
      "dense_1 (Dense)              (1, 2)                    6         \n",
      "=================================================================\n",
      "Total params: 12\n",
      "Trainable params: 12\n",
      "Non-trainable params: 0\n",
      "_________________________________________________________________\n"
     ]
    }
   ],
   "source": [
    "model.summary()"
   ]
  },
  {
   "cell_type": "code",
   "execution_count": 12,
   "metadata": {
    "colab": {
     "base_uri": "https://localhost:8080/"
    },
    "executionInfo": {
     "elapsed": 420,
     "status": "ok",
     "timestamp": 1632737890582,
     "user": {
      "displayName": "정지혁",
      "photoUrl": "https://lh3.googleusercontent.com/a-/AOh14Gi2xnkUvkGuxYJpQ869taL552Birarh0kp9GKTKCQ=s64",
      "userId": "09534774022449022692"
     },
     "user_tz": -540
    },
    "id": "USN13ww6wuyA",
    "outputId": "beb5c3fc-21e0-4f08-d654-0ba1dfea8979"
   },
   "outputs": [
    {
     "data": {
      "text/plain": [
       "<tf.Tensor: shape=(2, 2), dtype=float32, numpy=\n",
       "array([[0.3294789 , 0.589738  ],\n",
       "       [0.2781678 , 0.97357416]], dtype=float32)>"
      ]
     },
     "execution_count": 12,
     "metadata": {},
     "output_type": "execute_result"
    }
   ],
   "source": [
    "model(y)"
   ]
  },
  {
   "cell_type": "code",
   "execution_count": 13,
   "metadata": {
    "colab": {
     "base_uri": "https://localhost:8080/"
    },
    "executionInfo": {
     "elapsed": 397,
     "status": "ok",
     "timestamp": 1632737896746,
     "user": {
      "displayName": "정지혁",
      "photoUrl": "https://lh3.googleusercontent.com/a-/AOh14Gi2xnkUvkGuxYJpQ869taL552Birarh0kp9GKTKCQ=s64",
      "userId": "09534774022449022692"
     },
     "user_tz": -540
    },
    "id": "056m2SSPwwtX",
    "outputId": "2af53f6f-88bc-46cf-9cf2-3d34ed6ce019"
   },
   "outputs": [
    {
     "name": "stdout",
     "output_type": "stream",
     "text": [
      "Model: \"sequential\"\n",
      "_________________________________________________________________\n",
      "Layer (type)                 Output Shape              Param #   \n",
      "=================================================================\n",
      "dense (Dense)                (None, 2)                 6         \n",
      "_________________________________________________________________\n",
      "dense_1 (Dense)              (None, 2)                 6         \n",
      "=================================================================\n",
      "Total params: 12\n",
      "Trainable params: 12\n",
      "Non-trainable params: 0\n",
      "_________________________________________________________________\n"
     ]
    }
   ],
   "source": [
    "model.summary()"
   ]
  },
  {
   "cell_type": "code",
   "execution_count": null,
   "metadata": {
    "id": "w9mtPci6wyTv"
   },
   "outputs": [],
   "source": [
    "tf.keras.layers.InputLayer"
   ]
  },
  {
   "cell_type": "code",
   "execution_count": 14,
   "metadata": {
    "executionInfo": {
     "elapsed": 393,
     "status": "ok",
     "timestamp": 1632738078195,
     "user": {
      "displayName": "정지혁",
      "photoUrl": "https://lh3.googleusercontent.com/a-/AOh14Gi2xnkUvkGuxYJpQ869taL552Birarh0kp9GKTKCQ=s64",
      "userId": "09534774022449022692"
     },
     "user_tz": -540
    },
    "id": "G_d4XT6SxKr6"
   },
   "outputs": [],
   "source": [
    "model = tf.keras.models.Sequential()\n",
    "model.add(tf.keras.layers.InputLayer(input_shape=(2,))) # 두 개의 값을 갖는 1차원 데이터를 받겠다 (데이터의 개수는 상관없이 받는다)\n",
    "model.add(tf.keras.layers.Dense(2))\n",
    "model.add(tf.keras.layers.Dense(2))"
   ]
  },
  {
   "cell_type": "code",
   "execution_count": 16,
   "metadata": {
    "colab": {
     "base_uri": "https://localhost:8080/"
    },
    "executionInfo": {
     "elapsed": 8,
     "status": "ok",
     "timestamp": 1632738091754,
     "user": {
      "displayName": "정지혁",
      "photoUrl": "https://lh3.googleusercontent.com/a-/AOh14Gi2xnkUvkGuxYJpQ869taL552Birarh0kp9GKTKCQ=s64",
      "userId": "09534774022449022692"
     },
     "user_tz": -540
    },
    "id": "E6mqWwpkxepO",
    "outputId": "07bcc2ab-5888-4dc6-86c8-eda82f21eb87"
   },
   "outputs": [
    {
     "name": "stdout",
     "output_type": "stream",
     "text": [
      "Model: \"sequential_1\"\n",
      "_________________________________________________________________\n",
      "Layer (type)                 Output Shape              Param #   \n",
      "=================================================================\n",
      "dense_2 (Dense)              (None, 2)                 6         \n",
      "_________________________________________________________________\n",
      "dense_3 (Dense)              (None, 2)                 6         \n",
      "=================================================================\n",
      "Total params: 12\n",
      "Trainable params: 12\n",
      "Non-trainable params: 0\n",
      "_________________________________________________________________\n"
     ]
    }
   ],
   "source": [
    "model.summary()"
   ]
  },
  {
   "cell_type": "code",
   "execution_count": 18,
   "metadata": {
    "executionInfo": {
     "elapsed": 392,
     "status": "ok",
     "timestamp": 1632738196715,
     "user": {
      "displayName": "정지혁",
      "photoUrl": "https://lh3.googleusercontent.com/a-/AOh14Gi2xnkUvkGuxYJpQ869taL552Birarh0kp9GKTKCQ=s64",
      "userId": "09534774022449022692"
     },
     "user_tz": -540
    },
    "id": "t3UFzxvdxg9V"
   },
   "outputs": [],
   "source": [
    "model = tf.keras.models.Sequential()\n",
    "model.add(tf.keras.layers.Dense(2, input_shape=(2,))) # input layer를 추가하지 않고 줄여서 사용할 수 있다 \n",
    "model.add(tf.keras.layers.Dense(2))"
   ]
  },
  {
   "cell_type": "code",
   "execution_count": 19,
   "metadata": {
    "colab": {
     "base_uri": "https://localhost:8080/"
    },
    "executionInfo": {
     "elapsed": 5,
     "status": "ok",
     "timestamp": 1632738200442,
     "user": {
      "displayName": "정지혁",
      "photoUrl": "https://lh3.googleusercontent.com/a-/AOh14Gi2xnkUvkGuxYJpQ869taL552Birarh0kp9GKTKCQ=s64",
      "userId": "09534774022449022692"
     },
     "user_tz": -540
    },
    "id": "D99D_pPZx2kw",
    "outputId": "05fae1ca-b636-4dff-88d1-546c6f7bb317"
   },
   "outputs": [
    {
     "name": "stdout",
     "output_type": "stream",
     "text": [
      "Model: \"sequential_3\"\n",
      "_________________________________________________________________\n",
      "Layer (type)                 Output Shape              Param #   \n",
      "=================================================================\n",
      "dense_5 (Dense)              (None, 2)                 6         \n",
      "_________________________________________________________________\n",
      "dense_6 (Dense)              (None, 2)                 6         \n",
      "=================================================================\n",
      "Total params: 12\n",
      "Trainable params: 12\n",
      "Non-trainable params: 0\n",
      "_________________________________________________________________\n"
     ]
    }
   ],
   "source": [
    "model.summary()"
   ]
  },
  {
   "cell_type": "code",
   "execution_count": 20,
   "metadata": {
    "executionInfo": {
     "elapsed": 419,
     "status": "ok",
     "timestamp": 1632738260030,
     "user": {
      "displayName": "정지혁",
      "photoUrl": "https://lh3.googleusercontent.com/a-/AOh14Gi2xnkUvkGuxYJpQ869taL552Birarh0kp9GKTKCQ=s64",
      "userId": "09534774022449022692"
     },
     "user_tz": -540
    },
    "id": "VO7-iDnKx8d5"
   },
   "outputs": [],
   "source": [
    "model = tf.keras.models.Sequential([\n",
    "  tf.keras.layers.Dense(2, input_shape=[2]), # (2,)처럼 튜플 형태말고 리스트 형태로도 표현할 수 있다 \n",
    "  tf.keras.layers.Dense(2)\n",
    "])"
   ]
  },
  {
   "cell_type": "code",
   "execution_count": 21,
   "metadata": {
    "colab": {
     "base_uri": "https://localhost:8080/"
    },
    "executionInfo": {
     "elapsed": 405,
     "status": "ok",
     "timestamp": 1632738265551,
     "user": {
      "displayName": "정지혁",
      "photoUrl": "https://lh3.googleusercontent.com/a-/AOh14Gi2xnkUvkGuxYJpQ869taL552Birarh0kp9GKTKCQ=s64",
      "userId": "09534774022449022692"
     },
     "user_tz": -540
    },
    "id": "qUs7A7JYyLCX",
    "outputId": "adadda09-6d35-49ea-90c5-53dbe2202cd0"
   },
   "outputs": [
    {
     "name": "stdout",
     "output_type": "stream",
     "text": [
      "Model: \"sequential_4\"\n",
      "_________________________________________________________________\n",
      "Layer (type)                 Output Shape              Param #   \n",
      "=================================================================\n",
      "dense_7 (Dense)              (None, 2)                 6         \n",
      "_________________________________________________________________\n",
      "dense_8 (Dense)              (None, 2)                 6         \n",
      "=================================================================\n",
      "Total params: 12\n",
      "Trainable params: 12\n",
      "Non-trainable params: 0\n",
      "_________________________________________________________________\n"
     ]
    }
   ],
   "source": [
    "model.summary()"
   ]
  },
  {
   "cell_type": "markdown",
   "metadata": {
    "id": "Sc6Ipd0XzSvG"
   },
   "source": [
    "### Model"
   ]
  },
  {
   "cell_type": "code",
   "execution_count": 27,
   "metadata": {
    "executionInfo": {
     "elapsed": 390,
     "status": "ok",
     "timestamp": 1632739132053,
     "user": {
      "displayName": "정지혁",
      "photoUrl": "https://lh3.googleusercontent.com/a-/AOh14Gi2xnkUvkGuxYJpQ869taL552Birarh0kp9GKTKCQ=s64",
      "userId": "09534774022449022692"
     },
     "user_tz": -540
    },
    "id": "lwDJPJ150w77"
   },
   "outputs": [],
   "source": [
    "inputs = tf.keras.Input(shape=(2,)) # tensor \n",
    "x = tf.keras.layers.Dense(2)(inputs)s\n",
    "outputs = tf.keras.layers.Dense(2)(x)"
   ]
  },
  {
   "cell_type": "code",
   "execution_count": 28,
   "metadata": {
    "executionInfo": {
     "elapsed": 387,
     "status": "ok",
     "timestamp": 1632739137437,
     "user": {
      "displayName": "정지혁",
      "photoUrl": "https://lh3.googleusercontent.com/a-/AOh14Gi2xnkUvkGuxYJpQ869taL552Birarh0kp9GKTKCQ=s64",
      "userId": "09534774022449022692"
     },
     "user_tz": -540
    },
    "id": "7RXauJzAzT8d"
   },
   "outputs": [],
   "source": [
    "model = tf.keras.models.Model(inputs, outputs) # input과 output을 같이 인자로 넣어줘야 한다 / 그리고 input으로 tensor를 받아야 한다 "
   ]
  },
  {
   "cell_type": "code",
   "execution_count": 29,
   "metadata": {
    "colab": {
     "base_uri": "https://localhost:8080/"
    },
    "executionInfo": {
     "elapsed": 418,
     "status": "ok",
     "timestamp": 1632739170350,
     "user": {
      "displayName": "정지혁",
      "photoUrl": "https://lh3.googleusercontent.com/a-/AOh14Gi2xnkUvkGuxYJpQ869taL552Birarh0kp9GKTKCQ=s64",
      "userId": "09534774022449022692"
     },
     "user_tz": -540
    },
    "id": "4Aes66B01Swb",
    "outputId": "5157a3ef-b6f6-4bd0-fff5-f500641f56f1"
   },
   "outputs": [
    {
     "name": "stdout",
     "output_type": "stream",
     "text": [
      "Model: \"model\"\n",
      "_________________________________________________________________\n",
      "Layer (type)                 Output Shape              Param #   \n",
      "=================================================================\n",
      "input_4 (InputLayer)         [(None, 2)]               0         \n",
      "_________________________________________________________________\n",
      "dense_15 (Dense)             (None, 2)                 6         \n",
      "_________________________________________________________________\n",
      "dense_16 (Dense)             (None, 2)                 6         \n",
      "=================================================================\n",
      "Total params: 12\n",
      "Trainable params: 12\n",
      "Non-trainable params: 0\n",
      "_________________________________________________________________\n"
     ]
    }
   ],
   "source": [
    "model.summary() # input layer가 명시된다 "
   ]
  },
  {
   "cell_type": "code",
   "execution_count": 30,
   "metadata": {
    "colab": {
     "base_uri": "https://localhost:8080/",
     "height": 337
    },
    "executionInfo": {
     "elapsed": 405,
     "status": "error",
     "timestamp": 1632739298629,
     "user": {
      "displayName": "정지혁",
      "photoUrl": "https://lh3.googleusercontent.com/a-/AOh14Gi2xnkUvkGuxYJpQ869taL552Birarh0kp9GKTKCQ=s64",
      "userId": "09534774022449022692"
     },
     "user_tz": -540
    },
    "id": "8ejvg5xX1pE7",
    "outputId": "e14231f8-1a7e-4867-b2d3-a6ac0cea32ff"
   },
   "outputs": [
    {
     "ename": "TypeError",
     "evalue": "ignored",
     "output_type": "error",
     "traceback": [
      "\u001b[0;31m---------------------------------------------------------------------------\u001b[0m",
      "\u001b[0;31mTypeError\u001b[0m                                 Traceback (most recent call last)",
      "\u001b[0;32m<ipython-input-30-0d37a4939440>\u001b[0m in \u001b[0;36m<module>\u001b[0;34m()\u001b[0m\n\u001b[1;32m      1\u001b[0m \u001b[0minputs\u001b[0m \u001b[0;34m=\u001b[0m \u001b[0mtf\u001b[0m\u001b[0;34m.\u001b[0m\u001b[0mkeras\u001b[0m\u001b[0;34m.\u001b[0m\u001b[0mlayers\u001b[0m\u001b[0;34m.\u001b[0m\u001b[0mInputLayer\u001b[0m\u001b[0;34m(\u001b[0m\u001b[0minput_shape\u001b[0m\u001b[0;34m=\u001b[0m\u001b[0;34m(\u001b[0m\u001b[0;36m2\u001b[0m\u001b[0;34m,\u001b[0m\u001b[0;34m)\u001b[0m\u001b[0;34m)\u001b[0m \u001b[0;31m# layer\u001b[0m\u001b[0;34m\u001b[0m\u001b[0;34m\u001b[0m\u001b[0m\n\u001b[0;32m----> 2\u001b[0;31m \u001b[0mx\u001b[0m \u001b[0;34m=\u001b[0m \u001b[0mtf\u001b[0m\u001b[0;34m.\u001b[0m\u001b[0mkeras\u001b[0m\u001b[0;34m.\u001b[0m\u001b[0mlayers\u001b[0m\u001b[0;34m.\u001b[0m\u001b[0mDense\u001b[0m\u001b[0;34m(\u001b[0m\u001b[0;36m2\u001b[0m\u001b[0;34m)\u001b[0m\u001b[0;34m(\u001b[0m\u001b[0minputs\u001b[0m\u001b[0;34m)\u001b[0m\u001b[0;34m\u001b[0m\u001b[0;34m\u001b[0m\u001b[0m\n\u001b[0m\u001b[1;32m      3\u001b[0m \u001b[0moutputs\u001b[0m \u001b[0;34m=\u001b[0m \u001b[0mtf\u001b[0m\u001b[0;34m.\u001b[0m\u001b[0mkeras\u001b[0m\u001b[0;34m.\u001b[0m\u001b[0mlayers\u001b[0m\u001b[0;34m.\u001b[0m\u001b[0mDense\u001b[0m\u001b[0;34m(\u001b[0m\u001b[0;36m2\u001b[0m\u001b[0;34m)\u001b[0m\u001b[0;34m(\u001b[0m\u001b[0mx\u001b[0m\u001b[0;34m)\u001b[0m\u001b[0;34m\u001b[0m\u001b[0;34m\u001b[0m\u001b[0m\n",
      "\u001b[0;32m/usr/local/lib/python3.7/dist-packages/keras/engine/base_layer.py\u001b[0m in \u001b[0;36m__call__\u001b[0;34m(self, *args, **kwargs)\u001b[0m\n\u001b[1;32m   1018\u001b[0m         training=training_mode):\n\u001b[1;32m   1019\u001b[0m \u001b[0;34m\u001b[0m\u001b[0m\n\u001b[0;32m-> 1020\u001b[0;31m       \u001b[0minput_spec\u001b[0m\u001b[0;34m.\u001b[0m\u001b[0massert_input_compatibility\u001b[0m\u001b[0;34m(\u001b[0m\u001b[0mself\u001b[0m\u001b[0;34m.\u001b[0m\u001b[0minput_spec\u001b[0m\u001b[0;34m,\u001b[0m \u001b[0minputs\u001b[0m\u001b[0;34m,\u001b[0m \u001b[0mself\u001b[0m\u001b[0;34m.\u001b[0m\u001b[0mname\u001b[0m\u001b[0;34m)\u001b[0m\u001b[0;34m\u001b[0m\u001b[0;34m\u001b[0m\u001b[0m\n\u001b[0m\u001b[1;32m   1021\u001b[0m       \u001b[0;32mif\u001b[0m \u001b[0meager\u001b[0m\u001b[0;34m:\u001b[0m\u001b[0;34m\u001b[0m\u001b[0;34m\u001b[0m\u001b[0m\n\u001b[1;32m   1022\u001b[0m         \u001b[0mcall_fn\u001b[0m \u001b[0;34m=\u001b[0m \u001b[0mself\u001b[0m\u001b[0;34m.\u001b[0m\u001b[0mcall\u001b[0m\u001b[0;34m\u001b[0m\u001b[0;34m\u001b[0m\u001b[0m\n",
      "\u001b[0;32m/usr/local/lib/python3.7/dist-packages/keras/engine/input_spec.py\u001b[0m in \u001b[0;36massert_input_compatibility\u001b[0;34m(input_spec, inputs, layer_name)\u001b[0m\n\u001b[1;32m    194\u001b[0m     \u001b[0;31m# have a `shape` attribute.\u001b[0m\u001b[0;34m\u001b[0m\u001b[0;34m\u001b[0m\u001b[0;34m\u001b[0m\u001b[0m\n\u001b[1;32m    195\u001b[0m     \u001b[0;32mif\u001b[0m \u001b[0;32mnot\u001b[0m \u001b[0mhasattr\u001b[0m\u001b[0;34m(\u001b[0m\u001b[0mx\u001b[0m\u001b[0;34m,\u001b[0m \u001b[0;34m'shape'\u001b[0m\u001b[0;34m)\u001b[0m\u001b[0;34m:\u001b[0m\u001b[0;34m\u001b[0m\u001b[0;34m\u001b[0m\u001b[0m\n\u001b[0;32m--> 196\u001b[0;31m       \u001b[0;32mraise\u001b[0m \u001b[0mTypeError\u001b[0m\u001b[0;34m(\u001b[0m\u001b[0;34m'Inputs to a layer should be tensors. Got: %s'\u001b[0m \u001b[0;34m%\u001b[0m \u001b[0;34m(\u001b[0m\u001b[0mx\u001b[0m\u001b[0;34m,\u001b[0m\u001b[0;34m)\u001b[0m\u001b[0;34m)\u001b[0m\u001b[0;34m\u001b[0m\u001b[0;34m\u001b[0m\u001b[0m\n\u001b[0m\u001b[1;32m    197\u001b[0m \u001b[0;34m\u001b[0m\u001b[0m\n\u001b[1;32m    198\u001b[0m   \u001b[0;32mif\u001b[0m \u001b[0mlen\u001b[0m\u001b[0;34m(\u001b[0m\u001b[0minputs\u001b[0m\u001b[0;34m)\u001b[0m \u001b[0;34m!=\u001b[0m \u001b[0mlen\u001b[0m\u001b[0;34m(\u001b[0m\u001b[0minput_spec\u001b[0m\u001b[0;34m)\u001b[0m\u001b[0;34m:\u001b[0m\u001b[0;34m\u001b[0m\u001b[0;34m\u001b[0m\u001b[0m\n",
      "\u001b[0;31mTypeError\u001b[0m: Inputs to a layer should be tensors. Got: <keras.engine.input_layer.InputLayer object at 0x7f09f68a56d0>"
     ]
    }
   ],
   "source": [
    "inputs = tf.keras.layers.InputLayer(input_shape=(2,)) # layer\n",
    "x = tf.keras.layers.Dense(2)(inputs) # tensor를 인자로 받아야 한다 \n",
    "outputs = tf.keras.layers.Dense(2)(x)"
   ]
  },
  {
   "cell_type": "code",
   "execution_count": 40,
   "metadata": {
    "executionInfo": {
     "elapsed": 488,
     "status": "ok",
     "timestamp": 1632740155740,
     "user": {
      "displayName": "정지혁",
      "photoUrl": "https://lh3.googleusercontent.com/a-/AOh14Gi2xnkUvkGuxYJpQ869taL552Birarh0kp9GKTKCQ=s64",
      "userId": "09534774022449022692"
     },
     "user_tz": -540
    },
    "id": "i7ZE2eL4360W"
   },
   "outputs": [],
   "source": [
    "inputs1 = tf.keras.Input(shape=(2,))\n",
    "inputs2 = tf.keras.Input(shape=(2,))\n",
    "x1 = tf.keras.layers.Dense(2)(inputs1)\n",
    "x2 = tf.keras.layers.Dense(2)(inputs2) \n",
    "outputs1 = tf.keras.layers.Dense(2)(x1)\n",
    "outputs2 = tf.keras.layers.Dense(2)(x2)\n",
    "\n",
    "model = tf.keras.models.Model([inputs1, inputs2], [outputs1,outputs2])"
   ]
  },
  {
   "cell_type": "code",
   "execution_count": 35,
   "metadata": {
    "colab": {
     "base_uri": "https://localhost:8080/"
    },
    "executionInfo": {
     "elapsed": 6,
     "status": "ok",
     "timestamp": 1632740007659,
     "user": {
      "displayName": "정지혁",
      "photoUrl": "https://lh3.googleusercontent.com/a-/AOh14Gi2xnkUvkGuxYJpQ869taL552Birarh0kp9GKTKCQ=s64",
      "userId": "09534774022449022692"
     },
     "user_tz": -540
    },
    "id": "ruaF_fG7363e",
    "outputId": "64eaa654-8da1-4f72-b66f-6d7f841e192e"
   },
   "outputs": [
    {
     "name": "stdout",
     "output_type": "stream",
     "text": [
      "Model: \"model_1\"\n",
      "__________________________________________________________________________________________________\n",
      "Layer (type)                    Output Shape         Param #     Connected to                     \n",
      "==================================================================================================\n",
      "input_8 (InputLayer)            [(None, 2)]          0                                            \n",
      "__________________________________________________________________________________________________\n",
      "input_9 (InputLayer)            [(None, 2)]          0                                            \n",
      "__________________________________________________________________________________________________\n",
      "dense_19 (Dense)                (None, 2)            6           input_8[0][0]                    \n",
      "__________________________________________________________________________________________________\n",
      "dense_20 (Dense)                (None, 2)            6           input_9[0][0]                    \n",
      "__________________________________________________________________________________________________\n",
      "dense_21 (Dense)                (None, 2)            6           dense_19[0][0]                   \n",
      "__________________________________________________________________________________________________\n",
      "dense_22 (Dense)                (None, 2)            6           dense_20[0][0]                   \n",
      "==================================================================================================\n",
      "Total params: 24\n",
      "Trainable params: 24\n",
      "Non-trainable params: 0\n",
      "__________________________________________________________________________________________________\n"
     ]
    }
   ],
   "source": [
    "model.summary() # InputLayer나 connected to가 있을 경우 Model로 만들었다는 의미 이다 "
   ]
  },
  {
   "cell_type": "markdown",
   "metadata": {
    "id": "-cuYB_OH5BXS"
   },
   "source": [
    "```\n",
    "Sequential과 달리 input layer와 output layer를 두 개 이상 받을 수 있다 \n",
    "```"
   ]
  },
  {
   "cell_type": "code",
   "execution_count": 36,
   "metadata": {
    "colab": {
     "base_uri": "https://localhost:8080/",
     "height": 272
    },
    "executionInfo": {
     "elapsed": 432,
     "status": "ok",
     "timestamp": 1632740047065,
     "user": {
      "displayName": "정지혁",
      "photoUrl": "https://lh3.googleusercontent.com/a-/AOh14Gi2xnkUvkGuxYJpQ869taL552Birarh0kp9GKTKCQ=s64",
      "userId": "09534774022449022692"
     },
     "user_tz": -540
    },
    "id": "Cnz1EDf7368L",
    "outputId": "1733859a-b79d-4ea6-970d-f8b29d684328"
   },
   "outputs": [
    {
     "data": {
      "image/png": "[encoded data removed]",
      "text/plain": [
       "<IPython.core.display.Image object>"
      ]
     },
     "execution_count": 36,
     "metadata": {},
     "output_type": "execute_result"
    }
   ],
   "source": [
    "tf.keras.utils.plot_model(model)"
   ]
  },
  {
   "cell_type": "code",
   "execution_count": 37,
   "metadata": {
    "colab": {
     "base_uri": "https://localhost:8080/",
     "height": 312
    },
    "executionInfo": {
     "elapsed": 612,
     "status": "ok",
     "timestamp": 1632740088145,
     "user": {
      "displayName": "정지혁",
      "photoUrl": "https://lh3.googleusercontent.com/a-/AOh14Gi2xnkUvkGuxYJpQ869taL552Birarh0kp9GKTKCQ=s64",
      "userId": "09534774022449022692"
     },
     "user_tz": -540
    },
    "id": "RPXmjz-A4_Ug",
    "outputId": "0d7b1532-2339-46f4-d7f5-22844013eb85"
   },
   "outputs": [
    {
     "data": {
      "image/png": "[encoded data removed]",
      "text/plain": [
       "<IPython.core.display.Image object>"
      ]
     },
     "execution_count": 37,
     "metadata": {},
     "output_type": "execute_result"
    }
   ],
   "source": [
    "tf.keras.utils.plot_model(model, show_shapes=True)"
   ]
  },
  {
   "cell_type": "code",
   "execution_count": 5,
   "metadata": {
    "executionInfo": {
     "elapsed": 248,
     "status": "ok",
     "timestamp": 1632758696449,
     "user": {
      "displayName": "정지혁",
      "photoUrl": "https://lh3.googleusercontent.com/a-/AOh14Gi2xnkUvkGuxYJpQ869taL552Birarh0kp9GKTKCQ=s64",
      "userId": "09534774022449022692"
     },
     "user_tz": -540
    },
    "id": "NoLqbEwA9WWq"
   },
   "outputs": [],
   "source": [
    "inputs1 = tf.keras.Input(shape=(2,))\n",
    "inputs2 = tf.keras.Input(shape=(2,))\n",
    "x1 = tf.keras.layers.Dense(2)(inputs1)\n",
    "x2 = tf.keras.layers.Dense(2)(inputs2) \n",
    "outputs1 = tf.keras.layers.Add()([x1,x2])\n",
    "outputs2 = tf.keras.layers.Subtract()([x1,x2])\n",
    "\n",
    "model = tf.keras.models.Model([inputs1, inputs2], [outputs1,outputs2])"
   ]
  },
  {
   "cell_type": "code",
   "execution_count": 6,
   "metadata": {
    "colab": {
     "base_uri": "https://localhost:8080/",
     "height": 312
    },
    "executionInfo": {
     "elapsed": 11,
     "status": "ok",
     "timestamp": 1632758696918,
     "user": {
      "displayName": "정지혁",
      "photoUrl": "https://lh3.googleusercontent.com/a-/AOh14Gi2xnkUvkGuxYJpQ869taL552Birarh0kp9GKTKCQ=s64",
      "userId": "09534774022449022692"
     },
     "user_tz": -540
    },
    "id": "NRCpPh-M_5bV",
    "outputId": "04d3aac5-f848-40a8-a64b-b81b4a74aa79"
   },
   "outputs": [
    {
     "data": {
      "image/png": "[encoded data removed]",
      "text/plain": [
       "<IPython.core.display.Image object>"
      ]
     },
     "execution_count": 6,
     "metadata": {},
     "output_type": "execute_result"
    }
   ],
   "source": [
    "tf.keras.utils.plot_model(model, show_shapes=True)"
   ]
  },
  {
   "cell_type": "markdown",
   "metadata": {
    "id": "vr2pWlc_B1R5"
   },
   "source": [
    "### Model과 Sequential을 동시에 활용하는 방법"
   ]
  },
  {
   "cell_type": "code",
   "execution_count": 7,
   "metadata": {
    "executionInfo": {
     "elapsed": 244,
     "status": "ok",
     "timestamp": 1632758875347,
     "user": {
      "displayName": "정지혁",
      "photoUrl": "https://lh3.googleusercontent.com/a-/AOh14Gi2xnkUvkGuxYJpQ869taL552Birarh0kp9GKTKCQ=s64",
      "userId": "09534774022449022692"
     },
     "user_tz": -540
    },
    "id": "AdbMo5U0FLVw"
   },
   "outputs": [],
   "source": [
    "se = tf.keras.models.Sequential([\n",
    "  tf.keras.layers.Dense(2),\n",
    "  tf.keras.layers.Dense(2)                                 \n",
    "])"
   ]
  },
  {
   "cell_type": "code",
   "execution_count": 10,
   "metadata": {
    "executionInfo": {
     "elapsed": 268,
     "status": "ok",
     "timestamp": 1632758929977,
     "user": {
      "displayName": "정지혁",
      "photoUrl": "https://lh3.googleusercontent.com/a-/AOh14Gi2xnkUvkGuxYJpQ869taL552Birarh0kp9GKTKCQ=s64",
      "userId": "09534774022449022692"
     },
     "user_tz": -540
    },
    "id": "D0jH9pVqFVHv"
   },
   "outputs": [],
   "source": [
    "inputs_ = tf.keras.Input(shape=(3,))\n",
    "outputs = se(inputs_)\n",
    "model = tf.keras.models.Model(inputs_, outputs)"
   ]
  },
  {
   "cell_type": "code",
   "execution_count": 11,
   "metadata": {
    "colab": {
     "base_uri": "https://localhost:8080/"
    },
    "executionInfo": {
     "elapsed": 254,
     "status": "ok",
     "timestamp": 1632758944797,
     "user": {
      "displayName": "정지혁",
      "photoUrl": "https://lh3.googleusercontent.com/a-/AOh14Gi2xnkUvkGuxYJpQ869taL552Birarh0kp9GKTKCQ=s64",
      "userId": "09534774022449022692"
     },
     "user_tz": -540
    },
    "id": "itsqbsdyBEl8",
    "outputId": "9cfc2077-59a4-4415-e78b-617aff9e8808"
   },
   "outputs": [
    {
     "data": {
      "text/plain": [
       "<keras.engine.functional.Functional at 0x7f73508eef10>"
      ]
     },
     "execution_count": 11,
     "metadata": {},
     "output_type": "execute_result"
    }
   ],
   "source": [
    "model"
   ]
  },
  {
   "cell_type": "code",
   "execution_count": 12,
   "metadata": {
    "colab": {
     "base_uri": "https://localhost:8080/"
    },
    "executionInfo": {
     "elapsed": 263,
     "status": "ok",
     "timestamp": 1632758952752,
     "user": {
      "displayName": "정지혁",
      "photoUrl": "https://lh3.googleusercontent.com/a-/AOh14Gi2xnkUvkGuxYJpQ869taL552Birarh0kp9GKTKCQ=s64",
      "userId": "09534774022449022692"
     },
     "user_tz": -540
    },
    "id": "6MHk6Z7XBGA4",
    "outputId": "5c444fa0-3165-4a4a-a267-98b1d5efdb72"
   },
   "outputs": [
    {
     "name": "stdout",
     "output_type": "stream",
     "text": [
      "Model: \"model_2\"\n",
      "_________________________________________________________________\n",
      "Layer (type)                 Output Shape              Param #   \n",
      "=================================================================\n",
      "input_6 (InputLayer)         [(None, 3)]               0         \n",
      "_________________________________________________________________\n",
      "sequential (Sequential)      (None, 2)                 14        \n",
      "=================================================================\n",
      "Total params: 14\n",
      "Trainable params: 14\n",
      "Non-trainable params: 0\n",
      "_________________________________________________________________\n"
     ]
    }
   ],
   "source": [
    "model.summary() # 모델 안에 모델을 넣지는 않지만 단순화 하기 위해서 모델 안에 sequential을 넣는 방법을 사용하는 경우는 많다  "
   ]
  },
  {
   "cell_type": "markdown",
   "metadata": {
    "id": "uV5giw9SCD77"
   },
   "source": [
    "### 데이터 시각화로 Balanced data인지 구별하기"
   ]
  },
  {
   "cell_type": "code",
   "execution_count": 4,
   "metadata": {
    "colab": {
     "base_uri": "https://localhost:8080/"
    },
    "executionInfo": {
     "elapsed": 630,
     "status": "ok",
     "timestamp": 1632743634853,
     "user": {
      "displayName": "정지혁",
      "photoUrl": "https://lh3.googleusercontent.com/a-/AOh14Gi2xnkUvkGuxYJpQ869taL552Birarh0kp9GKTKCQ=s64",
      "userId": "09534774022449022692"
     },
     "user_tz": -540
    },
    "id": "pdZ_l2-uGdWG",
    "outputId": "f083fa71-18cc-4f93-d99b-cb171de43390"
   },
   "outputs": [
    {
     "name": "stdout",
     "output_type": "stream",
     "text": [
      "Downloading data from https://storage.googleapis.com/tensorflow/tf-keras-datasets/mnist.npz\n",
      "11493376/11490434 [==============================] - 0s 0us/step\n",
      "11501568/11490434 [==============================] - 0s 0us/step\n"
     ]
    }
   ],
   "source": [
    "(X_train, y_train), (X_test, y_test) = tf.keras.datasets.mnist.load_data()"
   ]
  },
  {
   "cell_type": "code",
   "execution_count": 5,
   "metadata": {
    "colab": {
     "base_uri": "https://localhost:8080/"
    },
    "executionInfo": {
     "elapsed": 236,
     "status": "ok",
     "timestamp": 1632743641897,
     "user": {
      "displayName": "정지혁",
      "photoUrl": "https://lh3.googleusercontent.com/a-/AOh14Gi2xnkUvkGuxYJpQ869taL552Birarh0kp9GKTKCQ=s64",
      "userId": "09534774022449022692"
     },
     "user_tz": -540
    },
    "id": "Znxm4ddYGrO8",
    "outputId": "52ddcb11-8962-41f6-ef07-9c1808301789"
   },
   "outputs": [
    {
     "data": {
      "text/plain": [
       "(60000, 28, 28)"
      ]
     },
     "execution_count": 5,
     "metadata": {},
     "output_type": "execute_result"
    }
   ],
   "source": [
    "X_train.shape"
   ]
  },
  {
   "cell_type": "code",
   "execution_count": 6,
   "metadata": {
    "colab": {
     "base_uri": "https://localhost:8080/"
    },
    "executionInfo": {
     "elapsed": 242,
     "status": "ok",
     "timestamp": 1632743668977,
     "user": {
      "displayName": "정지혁",
      "photoUrl": "https://lh3.googleusercontent.com/a-/AOh14Gi2xnkUvkGuxYJpQ869taL552Birarh0kp9GKTKCQ=s64",
      "userId": "09534774022449022692"
     },
     "user_tz": -540
    },
    "id": "-rjFE_7OGtBh",
    "outputId": "b3f2f0ef-970f-4949-ff2f-8b2d929482ee"
   },
   "outputs": [
    {
     "data": {
      "text/plain": [
       "array([[[0, 0, 0, ..., 0, 0, 0],\n",
       "        [0, 0, 0, ..., 0, 0, 0],\n",
       "        [0, 0, 0, ..., 0, 0, 0],\n",
       "        ...,\n",
       "        [0, 0, 0, ..., 0, 0, 0],\n",
       "        [0, 0, 0, ..., 0, 0, 0],\n",
       "        [0, 0, 0, ..., 0, 0, 0]],\n",
       "\n",
       "       [[0, 0, 0, ..., 0, 0, 0],\n",
       "        [0, 0, 0, ..., 0, 0, 0],\n",
       "        [0, 0, 0, ..., 0, 0, 0],\n",
       "        ...,\n",
       "        [0, 0, 0, ..., 0, 0, 0],\n",
       "        [0, 0, 0, ..., 0, 0, 0],\n",
       "        [0, 0, 0, ..., 0, 0, 0]],\n",
       "\n",
       "       [[0, 0, 0, ..., 0, 0, 0],\n",
       "        [0, 0, 0, ..., 0, 0, 0],\n",
       "        [0, 0, 0, ..., 0, 0, 0],\n",
       "        ...,\n",
       "        [0, 0, 0, ..., 0, 0, 0],\n",
       "        [0, 0, 0, ..., 0, 0, 0],\n",
       "        [0, 0, 0, ..., 0, 0, 0]],\n",
       "\n",
       "       ...,\n",
       "\n",
       "       [[0, 0, 0, ..., 0, 0, 0],\n",
       "        [0, 0, 0, ..., 0, 0, 0],\n",
       "        [0, 0, 0, ..., 0, 0, 0],\n",
       "        ...,\n",
       "        [0, 0, 0, ..., 0, 0, 0],\n",
       "        [0, 0, 0, ..., 0, 0, 0],\n",
       "        [0, 0, 0, ..., 0, 0, 0]],\n",
       "\n",
       "       [[0, 0, 0, ..., 0, 0, 0],\n",
       "        [0, 0, 0, ..., 0, 0, 0],\n",
       "        [0, 0, 0, ..., 0, 0, 0],\n",
       "        ...,\n",
       "        [0, 0, 0, ..., 0, 0, 0],\n",
       "        [0, 0, 0, ..., 0, 0, 0],\n",
       "        [0, 0, 0, ..., 0, 0, 0]],\n",
       "\n",
       "       [[0, 0, 0, ..., 0, 0, 0],\n",
       "        [0, 0, 0, ..., 0, 0, 0],\n",
       "        [0, 0, 0, ..., 0, 0, 0],\n",
       "        ...,\n",
       "        [0, 0, 0, ..., 0, 0, 0],\n",
       "        [0, 0, 0, ..., 0, 0, 0],\n",
       "        [0, 0, 0, ..., 0, 0, 0]]], dtype=uint8)"
      ]
     },
     "execution_count": 6,
     "metadata": {},
     "output_type": "execute_result"
    }
   ],
   "source": [
    "X_train"
   ]
  },
  {
   "cell_type": "code",
   "execution_count": 8,
   "metadata": {
    "colab": {
     "base_uri": "https://localhost:8080/"
    },
    "executionInfo": {
     "elapsed": 233,
     "status": "ok",
     "timestamp": 1632743772965,
     "user": {
      "displayName": "정지혁",
      "photoUrl": "https://lh3.googleusercontent.com/a-/AOh14Gi2xnkUvkGuxYJpQ869taL552Birarh0kp9GKTKCQ=s64",
      "userId": "09534774022449022692"
     },
     "user_tz": -540
    },
    "id": "SRWaNYp5Gzgy",
    "outputId": "98b508ca-c661-47bd-8f1a-9d07cf2e5c29"
   },
   "outputs": [
    {
     "data": {
      "text/plain": [
       "(array([0, 1, 2, 3, 4, 5, 6, 7, 8, 9], dtype=uint8),\n",
       " array([5923, 6742, 5958, 6131, 5842, 5421, 5918, 6265, 5851, 5949]))"
      ]
     },
     "execution_count": 8,
     "metadata": {},
     "output_type": "execute_result"
    }
   ],
   "source": [
    "np.unique(y_train, return_counts=True)"
   ]
  },
  {
   "cell_type": "code",
   "execution_count": 10,
   "metadata": {
    "colab": {
     "base_uri": "https://localhost:8080/",
     "height": 334
    },
    "executionInfo": {
     "elapsed": 637,
     "status": "ok",
     "timestamp": 1632743816858,
     "user": {
      "displayName": "정지혁",
      "photoUrl": "https://lh3.googleusercontent.com/a-/AOh14Gi2xnkUvkGuxYJpQ869taL552Birarh0kp9GKTKCQ=s64",
      "userId": "09534774022449022692"
     },
     "user_tz": -540
    },
    "id": "2qzCEWWbHNDN",
    "outputId": "7377a782-30d4-487c-be0d-bbad19a48741"
   },
   "outputs": [
    {
     "data": {
      "text/plain": [
       "(array([5923., 6742., 5958., 6131., 5842., 5421., 5918., 6265., 5851.,\n",
       "        5949.]),\n",
       " array([0. , 0.9, 1.8, 2.7, 3.6, 4.5, 5.4, 6.3, 7.2, 8.1, 9. ]),\n",
       " <a list of 10 Patch objects>)"
      ]
     },
     "execution_count": 10,
     "metadata": {},
     "output_type": "execute_result"
    },
    {
     "data": {
      "image/png": "[encoded data removed]",
      "text/plain": [
       "<Figure size 432x288 with 1 Axes>"
      ]
     },
     "metadata": {
      "needs_background": "light"
     },
     "output_type": "display_data"
    }
   ],
   "source": [
    "plt.hist(y_train) # blanced data"
   ]
  },
  {
   "cell_type": "markdown",
   "metadata": {
    "id": "YAAk0uD2HhYX"
   },
   "source": [
    "## MLP"
   ]
  },
  {
   "cell_type": "code",
   "execution_count": null,
   "metadata": {
    "id": "KtwJCeHVHiSV"
   },
   "outputs": [],
   "source": [
    "# numerical stability => input이 있으면 output이 있어야 한다 "
   ]
  },
  {
   "cell_type": "code",
   "execution_count": 11,
   "metadata": {
    "executionInfo": {
     "elapsed": 239,
     "status": "ok",
     "timestamp": 1632744039541,
     "user": {
      "displayName": "정지혁",
      "photoUrl": "https://lh3.googleusercontent.com/a-/AOh14Gi2xnkUvkGuxYJpQ869taL552Birarh0kp9GKTKCQ=s64",
      "userId": "09534774022449022692"
     },
     "user_tz": -540
    },
    "id": "AEB9v8yBIKpz"
   },
   "outputs": [],
   "source": [
    "# Normalization \n",
    "X_train = X_train / 255 # coersion\n",
    "X_test = X_test / 255"
   ]
  },
  {
   "cell_type": "markdown",
   "metadata": {
    "id": "KzzzW4H4I6oU"
   },
   "source": [
    "```\n",
    "preprocessing을 모델 안에서 하는지 모델 밖에서 하는지 결정해야 한다\n",
    "\n",
    "Inside model \n",
    "- portability, 편리하다 \n",
    "- GPU 연산이 가능하다 \n",
    "\n",
    "Outside model \n",
    "- 데이터의 형태에 제약이 없어 범용성이 있다 \n",
    "- 기본적으로 CPU방식이지만 CPU + GPU방식을 쓸 수 있다 \n",
    "```"
   ]
  },
  {
   "cell_type": "markdown",
   "metadata": {
    "id": "uPBPxR5_KjKM"
   },
   "source": [
    "```\n",
    "tensorflow에서는 3차원,즉 흑백 이미지는 (Batch(size), H, W)로 받아들인다 \n",
    "4차원(color 이미지) 일때는 (B, H, W, C) 또는 (B, C, H, W)(theano 기본)으로 받아들인다  \n",
    "```"
   ]
  },
  {
   "cell_type": "markdown",
   "metadata": {
    "id": "iVIjDIR-Qreu"
   },
   "source": [
    "### Flatten"
   ]
  },
  {
   "cell_type": "code",
   "execution_count": 12,
   "metadata": {
    "colab": {
     "base_uri": "https://localhost:8080/"
    },
    "executionInfo": {
     "elapsed": 368,
     "status": "ok",
     "timestamp": 1632744523163,
     "user": {
      "displayName": "정지혁",
      "photoUrl": "https://lh3.googleusercontent.com/a-/AOh14Gi2xnkUvkGuxYJpQ869taL552Birarh0kp9GKTKCQ=s64",
      "userId": "09534774022449022692"
     },
     "user_tz": -540
    },
    "id": "cWEb4-OxI_Ve",
    "outputId": "3073c7b3-f192-453c-b3d6-51bcdbac4c67"
   },
   "outputs": [
    {
     "data": {
      "text/plain": [
       "<tf.Tensor: shape=(60000, 784), dtype=float32, numpy=\n",
       "array([[0., 0., 0., ..., 0., 0., 0.],\n",
       "       [0., 0., 0., ..., 0., 0., 0.],\n",
       "       [0., 0., 0., ..., 0., 0., 0.],\n",
       "       ...,\n",
       "       [0., 0., 0., ..., 0., 0., 0.],\n",
       "       [0., 0., 0., ..., 0., 0., 0.],\n",
       "       [0., 0., 0., ..., 0., 0., 0.]], dtype=float32)>"
      ]
     },
     "execution_count": 12,
     "metadata": {},
     "output_type": "execute_result"
    }
   ],
   "source": [
    "tf.keras.layers.Flatten()(X_train) # 함수 밖에서 사용하면 cpu로 연산한다  "
   ]
  },
  {
   "cell_type": "code",
   "execution_count": 34,
   "metadata": {
    "executionInfo": {
     "elapsed": 240,
     "status": "ok",
     "timestamp": 1632746239330,
     "user": {
      "displayName": "정지혁",
      "photoUrl": "https://lh3.googleusercontent.com/a-/AOh14Gi2xnkUvkGuxYJpQ869taL552Birarh0kp9GKTKCQ=s64",
      "userId": "09534774022449022692"
     },
     "user_tz": -540
    },
    "id": "o29hwC_xQkWU"
   },
   "outputs": [],
   "source": [
    "X_train_bw = X_train.reshape(60000, 28, 28, 1)"
   ]
  },
  {
   "cell_type": "code",
   "execution_count": 35,
   "metadata": {
    "colab": {
     "base_uri": "https://localhost:8080/"
    },
    "executionInfo": {
     "elapsed": 243,
     "status": "ok",
     "timestamp": 1632746265358,
     "user": {
      "displayName": "정지혁",
      "photoUrl": "https://lh3.googleusercontent.com/a-/AOh14Gi2xnkUvkGuxYJpQ869taL552Birarh0kp9GKTKCQ=s64",
      "userId": "09534774022449022692"
     },
     "user_tz": -540
    },
    "id": "4GE28rOcQtOf",
    "outputId": "88ac5fa6-b239-40b4-b1cf-66b835585cec"
   },
   "outputs": [
    {
     "data": {
      "text/plain": [
       "<tf.Tensor: shape=(60000, 784), dtype=float32, numpy=\n",
       "array([[0., 0., 0., ..., 0., 0., 0.],\n",
       "       [0., 0., 0., ..., 0., 0., 0.],\n",
       "       [0., 0., 0., ..., 0., 0., 0.],\n",
       "       ...,\n",
       "       [0., 0., 0., ..., 0., 0., 0.],\n",
       "       [0., 0., 0., ..., 0., 0., 0.],\n",
       "       [0., 0., 0., ..., 0., 0., 0.]], dtype=float32)>"
      ]
     },
     "execution_count": 35,
     "metadata": {},
     "output_type": "execute_result"
    }
   ],
   "source": [
    "tf.keras.layers.Flatten()(X_train_bw) "
   ]
  },
  {
   "cell_type": "code",
   "execution_count": 36,
   "metadata": {
    "colab": {
     "base_uri": "https://localhost:8080/"
    },
    "executionInfo": {
     "elapsed": 266,
     "status": "ok",
     "timestamp": 1632746285570,
     "user": {
      "displayName": "정지혁",
      "photoUrl": "https://lh3.googleusercontent.com/a-/AOh14Gi2xnkUvkGuxYJpQ869taL552Birarh0kp9GKTKCQ=s64",
      "userId": "09534774022449022692"
     },
     "user_tz": -540
    },
    "id": "U5sKWccLQw9J",
    "outputId": "2f699043-62a0-4658-bcbf-b56b53dd6bb7"
   },
   "outputs": [
    {
     "data": {
      "text/plain": [
       "(47040000,)"
      ]
     },
     "execution_count": 36,
     "metadata": {},
     "output_type": "execute_result"
    }
   ],
   "source": [
    "X_train_bw.flatten().shape"
   ]
  },
  {
   "cell_type": "markdown",
   "metadata": {
    "id": "tc6G3hVUQz15"
   },
   "source": [
    "```\n",
    "numpy에서 flatten은 모든 것을 1차원으로 만들어 준다 \n",
    "```\n"
   ]
  },
  {
   "cell_type": "code",
   "execution_count": 37,
   "metadata": {
    "colab": {
     "base_uri": "https://localhost:8080/"
    },
    "executionInfo": {
     "elapsed": 244,
     "status": "ok",
     "timestamp": 1632746325938,
     "user": {
      "displayName": "정지혁",
      "photoUrl": "https://lh3.googleusercontent.com/a-/AOh14Gi2xnkUvkGuxYJpQ869taL552Birarh0kp9GKTKCQ=s64",
      "userId": "09534774022449022692"
     },
     "user_tz": -540
    },
    "id": "uS1ZqCTuQ71_",
    "outputId": "f4cd370d-27c7-40f7-dcb8-a053915467cb"
   },
   "outputs": [
    {
     "data": {
      "text/plain": [
       "True"
      ]
     },
     "execution_count": 37,
     "metadata": {},
     "output_type": "execute_result"
    }
   ],
   "source": [
    "'__call__' in dir(tf.keras.layers.Flatten()) # instance => Function "
   ]
  },
  {
   "cell_type": "markdown",
   "metadata": {
    "id": "TWn-b7g1ROJM"
   },
   "source": [
    "## MLP를 만드는 다양한 방법"
   ]
  },
  {
   "cell_type": "code",
   "execution_count": 13,
   "metadata": {
    "executionInfo": {
     "elapsed": 248,
     "status": "ok",
     "timestamp": 1632759622737,
     "user": {
      "displayName": "정지혁",
      "photoUrl": "https://lh3.googleusercontent.com/a-/AOh14Gi2xnkUvkGuxYJpQ869taL552Birarh0kp9GKTKCQ=s64",
      "userId": "09534774022449022692"
     },
     "user_tz": -540
    },
    "id": "OmGvk3FTKEJn"
   },
   "outputs": [],
   "source": [
    "input_ = tf.keras.Input(shape=(28,28)) \n",
    "x = tf.keras.layers.Flatten()(input_) # 1차가 되었기 때문에 fully conntected 모델을 사용할 수 있다 \n",
    "x = tf.keras.layers.Dense(128, activation='relu')(x) # Dense에는 하나의 데이터가 1차원인 경우에만 집어 넣을 수 있다 "
   ]
  },
  {
   "cell_type": "code",
   "execution_count": 14,
   "metadata": {
    "colab": {
     "base_uri": "https://localhost:8080/"
    },
    "executionInfo": {
     "elapsed": 9,
     "status": "ok",
     "timestamp": 1632759623549,
     "user": {
      "displayName": "정지혁",
      "photoUrl": "https://lh3.googleusercontent.com/a-/AOh14Gi2xnkUvkGuxYJpQ869taL552Birarh0kp9GKTKCQ=s64",
      "userId": "09534774022449022692"
     },
     "user_tz": -540
    },
    "id": "_Os4fvLDO5tF",
    "outputId": "88140df8-3051-42df-bef2-e4bcb8692296"
   },
   "outputs": [
    {
     "data": {
      "text/plain": [
       "<KerasTensor: shape=(None, 128) dtype=float32 (created by layer 'dense_6')>"
      ]
     },
     "execution_count": 14,
     "metadata": {},
     "output_type": "execute_result"
    }
   ],
   "source": [
    "x"
   ]
  },
  {
   "cell_type": "code",
   "execution_count": 15,
   "metadata": {
    "executionInfo": {
     "elapsed": 370,
     "status": "ok",
     "timestamp": 1632759632938,
     "user": {
      "displayName": "정지혁",
      "photoUrl": "https://lh3.googleusercontent.com/a-/AOh14Gi2xnkUvkGuxYJpQ869taL552Birarh0kp9GKTKCQ=s64",
      "userId": "09534774022449022692"
     },
     "user_tz": -540
    },
    "id": "ZvteyZhHLqB7"
   },
   "outputs": [],
   "source": [
    "input_ = tf.keras.Input(shape=(28,28))\n",
    "x = tf.keras.layers.Dense(128, activation='relu')(input_) # 2차원 값을 Dense에 넣으면 원하는 output을 만들어 낼 수 없다"
   ]
  },
  {
   "cell_type": "code",
   "execution_count": 16,
   "metadata": {
    "colab": {
     "base_uri": "https://localhost:8080/"
    },
    "executionInfo": {
     "elapsed": 7,
     "status": "ok",
     "timestamp": 1632759634597,
     "user": {
      "displayName": "정지혁",
      "photoUrl": "https://lh3.googleusercontent.com/a-/AOh14Gi2xnkUvkGuxYJpQ869taL552Birarh0kp9GKTKCQ=s64",
      "userId": "09534774022449022692"
     },
     "user_tz": -540
    },
    "id": "QtngfddRO4Cy",
    "outputId": "86992a70-9631-4585-e6a3-b26b06c66286"
   },
   "outputs": [
    {
     "data": {
      "text/plain": [
       "<KerasTensor: shape=(None, 28, 128) dtype=float32 (created by layer 'dense_7')>"
      ]
     },
     "execution_count": 16,
     "metadata": {},
     "output_type": "execute_result"
    }
   ],
   "source": [
    "x"
   ]
  },
  {
   "cell_type": "markdown",
   "metadata": {
    "id": "SJFXreeTRqq5"
   },
   "source": [
    "### Option1"
   ]
  },
  {
   "cell_type": "code",
   "execution_count": null,
   "metadata": {
    "id": "SVM14yGpRvxc"
   },
   "outputs": [],
   "source": [
    "input_ = tf.keras.Input(shape=(28,28)) \n",
    "x = tf.keras.layers.Flatten()(input_) \n",
    "x = tf.keras.layers.Dense(2)(x)\n",
    "x = tf.keras.layers.Activation('relu')(x) # 또는 x = tf.keras.layers.ReLU()(x)\n",
    "# Activation layer를 따로 두는 이유는 Batch Normalization을 하기 위해서 이다  "
   ]
  },
  {
   "cell_type": "markdown",
   "metadata": {
    "id": "256ZBO7uSGbD"
   },
   "source": [
    "## Option2"
   ]
  },
  {
   "cell_type": "code",
   "execution_count": 38,
   "metadata": {
    "executionInfo": {
     "elapsed": 237,
     "status": "ok",
     "timestamp": 1632746665367,
     "user": {
      "displayName": "정지혁",
      "photoUrl": "https://lh3.googleusercontent.com/a-/AOh14Gi2xnkUvkGuxYJpQ869taL552Birarh0kp9GKTKCQ=s64",
      "userId": "09534774022449022692"
     },
     "user_tz": -540
    },
    "id": "KYQwpE4jSKhK"
   },
   "outputs": [],
   "source": [
    "input_ = tf.keras.Input(shape=(28,28)) \n",
    "x = tf.keras.layers.Flatten()(input_) \n",
    "x= tf.keras.layers.Dense(128, activation='relu')(x)"
   ]
  },
  {
   "cell_type": "code",
   "execution_count": 18,
   "metadata": {
    "executionInfo": {
     "elapsed": 248,
     "status": "ok",
     "timestamp": 1632760811342,
     "user": {
      "displayName": "정지혁",
      "photoUrl": "https://lh3.googleusercontent.com/a-/AOh14Gi2xnkUvkGuxYJpQ869taL552Birarh0kp9GKTKCQ=s64",
      "userId": "09534774022449022692"
     },
     "user_tz": -540
    },
    "id": "QCaj0D6OP10Z"
   },
   "outputs": [],
   "source": [
    "input_ = tf.keras.Input(shape=(28,28)) \n",
    "x = tf.keras.layers.Flatten()(input_) \n",
    "x = tf.keras.layers.Dense(128)(x)\n",
    "x = tf.keras.layers.ReLU()(x)\n",
    "x = tf.keras.layers.Dropout(0.2)(x)\n",
    "output = tf.keras.layers.Dense(10, activation='softmax')(x) # Batch Normalization과 상관 없기 때문에 관례상 마지막은 단축 표현을 쓴다 "
   ]
  },
  {
   "cell_type": "code",
   "execution_count": 19,
   "metadata": {
    "executionInfo": {
     "elapsed": 5,
     "status": "ok",
     "timestamp": 1632760812441,
     "user": {
      "displayName": "정지혁",
      "photoUrl": "https://lh3.googleusercontent.com/a-/AOh14Gi2xnkUvkGuxYJpQ869taL552Birarh0kp9GKTKCQ=s64",
      "userId": "09534774022449022692"
     },
     "user_tz": -540
    },
    "id": "iWQgF876QZ3B"
   },
   "outputs": [],
   "source": [
    "model = tf.keras.models.Model(input_, output)"
   ]
  },
  {
   "cell_type": "code",
   "execution_count": 20,
   "metadata": {
    "colab": {
     "base_uri": "https://localhost:8080/"
    },
    "executionInfo": {
     "elapsed": 11,
     "status": "ok",
     "timestamp": 1632760813406,
     "user": {
      "displayName": "정지혁",
      "photoUrl": "https://lh3.googleusercontent.com/a-/AOh14Gi2xnkUvkGuxYJpQ869taL552Birarh0kp9GKTKCQ=s64",
      "userId": "09534774022449022692"
     },
     "user_tz": -540
    },
    "id": "ICac-hmWQdno",
    "outputId": "c4955885-919d-4b02-8001-272597d3e49f"
   },
   "outputs": [
    {
     "name": "stdout",
     "output_type": "stream",
     "text": [
      "Model: \"model_3\"\n",
      "_________________________________________________________________\n",
      "Layer (type)                 Output Shape              Param #   \n",
      "=================================================================\n",
      "input_9 (InputLayer)         [(None, 28, 28)]          0         \n",
      "_________________________________________________________________\n",
      "flatten_1 (Flatten)          (None, 784)               0         \n",
      "_________________________________________________________________\n",
      "dense_8 (Dense)              (None, 128)               100480    \n",
      "_________________________________________________________________\n",
      "re_lu (ReLU)                 (None, 128)               0         \n",
      "_________________________________________________________________\n",
      "dropout (Dropout)            (None, 128)               0         \n",
      "_________________________________________________________________\n",
      "dense_9 (Dense)              (None, 10)                1290      \n",
      "=================================================================\n",
      "Total params: 101,770\n",
      "Trainable params: 101,770\n",
      "Non-trainable params: 0\n",
      "_________________________________________________________________\n"
     ]
    }
   ],
   "source": [
    "model.summary() # param이 0인 경우 학습하지 않아도 되는 단순한 연산이다 "
   ]
  },
  {
   "cell_type": "markdown",
   "metadata": {
    "id": "azBY0n0NaDGx"
   },
   "source": [
    "```\n",
    "neural network parameter 구하는 법\n",
    "입력값 (28x28) X dense layer nodes(128) + dense layer bias(128) = 100480\n",
    "```"
   ]
  },
  {
   "cell_type": "code",
   "execution_count": 39,
   "metadata": {
    "colab": {
     "base_uri": "https://localhost:8080/"
    },
    "executionInfo": {
     "elapsed": 256,
     "status": "ok",
     "timestamp": 1632748950129,
     "user": {
      "displayName": "정지혁",
      "photoUrl": "https://lh3.googleusercontent.com/a-/AOh14Gi2xnkUvkGuxYJpQ869taL552Birarh0kp9GKTKCQ=s64",
      "userId": "09534774022449022692"
     },
     "user_tz": -540
    },
    "id": "uiSS6e9za7pK",
    "outputId": "4caf0178-8d8e-44b8-e66a-a73ede08a094"
   },
   "outputs": [
    {
     "data": {
      "text/plain": [
       "<tf.Variable 'dense_7/kernel:0' shape=(784, 128) dtype=float32, numpy=\n",
       "array([[-0.00481777, -0.05054575, -0.066313  , ...,  0.01311962,\n",
       "         0.04805059,  0.00298249],\n",
       "       [ 0.07520033, -0.01051669,  0.00903524, ..., -0.07472851,\n",
       "         0.01202653, -0.00115251],\n",
       "       [-0.01647546, -0.03879095, -0.03718614, ..., -0.05494369,\n",
       "        -0.05540787,  0.05530912],\n",
       "       ...,\n",
       "       [-0.00182921,  0.07649232, -0.07937535, ...,  0.05838447,\n",
       "         0.05726648, -0.03632762],\n",
       "       [-0.00923116,  0.01400795, -0.05262435, ..., -0.07948828,\n",
       "         0.01813819, -0.02076239],\n",
       "       [-0.01461188,  0.07456786,  0.0081539 , ...,  0.01914987,\n",
       "         0.07928162, -0.03385995]], dtype=float32)>"
      ]
     },
     "execution_count": 39,
     "metadata": {},
     "output_type": "execute_result"
    }
   ],
   "source": [
    "model.weights[0] # tensorflow에서는 weight를 kernel라고 부른다 그리고 weight는 kernel + bias를 지칭한다 / kernel은 glorot방식으로 초기화 된다(학습이 빠르고 잘 수렴되는 초기화 방식)"
   ]
  },
  {
   "cell_type": "code",
   "execution_count": 40,
   "metadata": {
    "colab": {
     "base_uri": "https://localhost:8080/"
    },
    "executionInfo": {
     "elapsed": 251,
     "status": "ok",
     "timestamp": 1632749053238,
     "user": {
      "displayName": "정지혁",
      "photoUrl": "https://lh3.googleusercontent.com/a-/AOh14Gi2xnkUvkGuxYJpQ869taL552Birarh0kp9GKTKCQ=s64",
      "userId": "09534774022449022692"
     },
     "user_tz": -540
    },
    "id": "XmhexxC2bVi9",
    "outputId": "3a4fbac5-a108-4513-9d6e-2455db519f7c"
   },
   "outputs": [
    {
     "data": {
      "text/plain": [
       "<tf.Variable 'dense_7/bias:0' shape=(128,) dtype=float32, numpy=\n",
       "array([0., 0., 0., 0., 0., 0., 0., 0., 0., 0., 0., 0., 0., 0., 0., 0., 0.,\n",
       "       0., 0., 0., 0., 0., 0., 0., 0., 0., 0., 0., 0., 0., 0., 0., 0., 0.,\n",
       "       0., 0., 0., 0., 0., 0., 0., 0., 0., 0., 0., 0., 0., 0., 0., 0., 0.,\n",
       "       0., 0., 0., 0., 0., 0., 0., 0., 0., 0., 0., 0., 0., 0., 0., 0., 0.,\n",
       "       0., 0., 0., 0., 0., 0., 0., 0., 0., 0., 0., 0., 0., 0., 0., 0., 0.,\n",
       "       0., 0., 0., 0., 0., 0., 0., 0., 0., 0., 0., 0., 0., 0., 0., 0., 0.,\n",
       "       0., 0., 0., 0., 0., 0., 0., 0., 0., 0., 0., 0., 0., 0., 0., 0., 0.,\n",
       "       0., 0., 0., 0., 0., 0., 0., 0., 0.], dtype=float32)>"
      ]
     },
     "execution_count": 40,
     "metadata": {},
     "output_type": "execute_result"
    }
   ],
   "source": [
    "model.weights[1]"
   ]
  },
  {
   "cell_type": "code",
   "execution_count": 41,
   "metadata": {
    "colab": {
     "base_uri": "https://localhost:8080/"
    },
    "executionInfo": {
     "elapsed": 237,
     "status": "ok",
     "timestamp": 1632749075720,
     "user": {
      "displayName": "정지혁",
      "photoUrl": "https://lh3.googleusercontent.com/a-/AOh14Gi2xnkUvkGuxYJpQ869taL552Birarh0kp9GKTKCQ=s64",
      "userId": "09534774022449022692"
     },
     "user_tz": -540
    },
    "id": "yHOkTQX4bWK1",
    "outputId": "39ce01a4-b72e-4d59-e407-ce3507dc4bad"
   },
   "outputs": [
    {
     "data": {
      "text/plain": [
       "<tf.Variable 'dense_8/kernel:0' shape=(128, 10) dtype=float32, numpy=\n",
       "array([[-0.01635328,  0.00763369,  0.13723023, ..., -0.18139066,\n",
       "         0.09355612,  0.14300655],\n",
       "       [-0.06704196, -0.12000238,  0.20172156, ...,  0.0606968 ,\n",
       "        -0.02551591, -0.10963563],\n",
       "       [ 0.00977565, -0.11188473,  0.15327264, ...,  0.12097086,\n",
       "         0.00371699,  0.11089064],\n",
       "       ...,\n",
       "       [ 0.15975083, -0.12796631, -0.12143513, ...,  0.00048973,\n",
       "         0.08025642,  0.09352569],\n",
       "       [-0.10482513, -0.00614406,  0.16832988, ...,  0.1809843 ,\n",
       "         0.16601638, -0.18317826],\n",
       "       [ 0.10724227,  0.1758986 ,  0.03089926, ...,  0.09623767,\n",
       "         0.0754603 , -0.14214656]], dtype=float32)>"
      ]
     },
     "execution_count": 41,
     "metadata": {},
     "output_type": "execute_result"
    }
   ],
   "source": [
    "model.weights[2]"
   ]
  },
  {
   "cell_type": "code",
   "execution_count": 42,
   "metadata": {
    "colab": {
     "base_uri": "https://localhost:8080/"
    },
    "executionInfo": {
     "elapsed": 255,
     "status": "ok",
     "timestamp": 1632749077957,
     "user": {
      "displayName": "정지혁",
      "photoUrl": "https://lh3.googleusercontent.com/a-/AOh14Gi2xnkUvkGuxYJpQ869taL552Birarh0kp9GKTKCQ=s64",
      "userId": "09534774022449022692"
     },
     "user_tz": -540
    },
    "id": "DnRmnWvRbbqW",
    "outputId": "2ee1060c-baca-47bc-fba4-d6c8438f4fd5"
   },
   "outputs": [
    {
     "data": {
      "text/plain": [
       "<tf.Variable 'dense_8/bias:0' shape=(10,) dtype=float32, numpy=array([0., 0., 0., 0., 0., 0., 0., 0., 0., 0.], dtype=float32)>"
      ]
     },
     "execution_count": 42,
     "metadata": {},
     "output_type": "execute_result"
    }
   ],
   "source": [
    "model.weights[3]"
   ]
  },
  {
   "cell_type": "code",
   "execution_count": 22,
   "metadata": {
    "colab": {
     "base_uri": "https://localhost:8080/"
    },
    "executionInfo": {
     "elapsed": 262,
     "status": "ok",
     "timestamp": 1632760830859,
     "user": {
      "displayName": "정지혁",
      "photoUrl": "https://lh3.googleusercontent.com/a-/AOh14Gi2xnkUvkGuxYJpQ869taL552Birarh0kp9GKTKCQ=s64",
      "userId": "09534774022449022692"
     },
     "user_tz": -540
    },
    "id": "FFhzlpuzcewp",
    "outputId": "312520eb-1f74-4ee6-d371-0a7958cf5410"
   },
   "outputs": [
    {
     "data": {
      "text/plain": [
       "True"
      ]
     },
     "execution_count": 22,
     "metadata": {},
     "output_type": "execute_result"
    }
   ],
   "source": [
    "model.trainable_weights == model.trainable_variables"
   ]
  },
  {
   "cell_type": "code",
   "execution_count": 24,
   "metadata": {
    "colab": {
     "base_uri": "https://localhost:8080/"
    },
    "executionInfo": {
     "elapsed": 247,
     "status": "ok",
     "timestamp": 1632760915218,
     "user": {
      "displayName": "정지혁",
      "photoUrl": "https://lh3.googleusercontent.com/a-/AOh14Gi2xnkUvkGuxYJpQ869taL552Birarh0kp9GKTKCQ=s64",
      "userId": "09534774022449022692"
     },
     "user_tz": -540
    },
    "id": "NANtUULXIj8o",
    "outputId": "7534f773-b6fc-4e4b-8a8b-a7df946cfc27"
   },
   "outputs": [
    {
     "data": {
      "text/plain": [
       "False"
      ]
     },
     "execution_count": 24,
     "metadata": {},
     "output_type": "execute_result"
    }
   ],
   "source": [
    "model.trainable_weights is model.trainable_variables"
   ]
  },
  {
   "cell_type": "code",
   "execution_count": 21,
   "metadata": {
    "colab": {
     "base_uri": "https://localhost:8080/"
    },
    "executionInfo": {
     "elapsed": 254,
     "status": "ok",
     "timestamp": 1632760821212,
     "user": {
      "displayName": "정지혁",
      "photoUrl": "https://lh3.googleusercontent.com/a-/AOh14Gi2xnkUvkGuxYJpQ869taL552Birarh0kp9GKTKCQ=s64",
      "userId": "09534774022449022692"
     },
     "user_tz": -540
    },
    "id": "dSUiSUHAIFA8",
    "outputId": "e4cbce25-6f22-4271-cb05-a88cb149a739"
   },
   "outputs": [
    {
     "data": {
      "text/plain": [
       "[<tf.Variable 'dense_8/kernel:0' shape=(784, 128) dtype=float32, numpy=\n",
       " array([[-0.05531485, -0.07744511, -0.0746323 , ..., -0.06485563,\n",
       "         -0.05913215, -0.03761471],\n",
       "        [ 0.00124295,  0.07567873,  0.00529402, ...,  0.03713652,\n",
       "         -0.03533567,  0.02690652],\n",
       "        [ 0.06762456, -0.02606952, -0.03866001, ...,  0.0321365 ,\n",
       "         -0.05224103, -0.03288466],\n",
       "        ...,\n",
       "        [ 0.05756753,  0.03487769, -0.04956114, ...,  0.07006838,\n",
       "         -0.04104863, -0.08020123],\n",
       "        [ 0.03739367,  0.05591244,  0.0753384 , ...,  0.0743489 ,\n",
       "          0.00566504, -0.05400074],\n",
       "        [-0.00660357, -0.06026491, -0.07941656, ..., -0.05506966,\n",
       "         -0.06525376, -0.05522396]], dtype=float32)>,\n",
       " <tf.Variable 'dense_8/bias:0' shape=(128,) dtype=float32, numpy=\n",
       " array([0., 0., 0., 0., 0., 0., 0., 0., 0., 0., 0., 0., 0., 0., 0., 0., 0.,\n",
       "        0., 0., 0., 0., 0., 0., 0., 0., 0., 0., 0., 0., 0., 0., 0., 0., 0.,\n",
       "        0., 0., 0., 0., 0., 0., 0., 0., 0., 0., 0., 0., 0., 0., 0., 0., 0.,\n",
       "        0., 0., 0., 0., 0., 0., 0., 0., 0., 0., 0., 0., 0., 0., 0., 0., 0.,\n",
       "        0., 0., 0., 0., 0., 0., 0., 0., 0., 0., 0., 0., 0., 0., 0., 0., 0.,\n",
       "        0., 0., 0., 0., 0., 0., 0., 0., 0., 0., 0., 0., 0., 0., 0., 0., 0.,\n",
       "        0., 0., 0., 0., 0., 0., 0., 0., 0., 0., 0., 0., 0., 0., 0., 0., 0.,\n",
       "        0., 0., 0., 0., 0., 0., 0., 0., 0.], dtype=float32)>,\n",
       " <tf.Variable 'dense_9/kernel:0' shape=(128, 10) dtype=float32, numpy=\n",
       " array([[ 0.09544928,  0.08058016, -0.19936405, ...,  0.06292586,\n",
       "          0.05765642, -0.18936837],\n",
       "        [-0.03744939, -0.09664733,  0.01312402, ...,  0.10993271,\n",
       "          0.14227311,  0.10375817],\n",
       "        [-0.11351802,  0.05995773,  0.19267906, ...,  0.02832732,\n",
       "          0.1751137 ,  0.08727919],\n",
       "        ...,\n",
       "        [ 0.18473722,  0.0153936 ,  0.17687447, ..., -0.07043667,\n",
       "          0.07194577, -0.2060329 ],\n",
       "        [ 0.04917909, -0.19079669,  0.03048648, ..., -0.04494686,\n",
       "          0.19417565, -0.18756153],\n",
       "        [ 0.04652865,  0.02577874, -0.12224188, ..., -0.19071367,\n",
       "          0.04850109,  0.04275919]], dtype=float32)>,\n",
       " <tf.Variable 'dense_9/bias:0' shape=(10,) dtype=float32, numpy=array([0., 0., 0., 0., 0., 0., 0., 0., 0., 0.], dtype=float32)>]"
      ]
     },
     "execution_count": 21,
     "metadata": {},
     "output_type": "execute_result"
    }
   ],
   "source": [
    "model.trainable_weights"
   ]
  },
  {
   "cell_type": "markdown",
   "metadata": {
    "id": "U285GkEOdEuZ"
   },
   "source": [
    "## Learning"
   ]
  },
  {
   "cell_type": "markdown",
   "metadata": {
    "id": "p-8OgUxOdGwU"
   },
   "source": [
    "```python\n",
    "학습시키는 두 가지 방법 \n",
    "\n",
    "1. compile 방식 => computational graph 형태로 변환 시켜준다 / 내가 만든 모델이 tensorflow에서 지원해준다  \n",
    "2. 직접 구현하는 방식 \n",
    "```"
   ]
  }
 ],
 "metadata": {
  "accelerator": "GPU",
  "colab": {
   "authorship_tag": "ABX9TyMJD6Bu3jwLswyd5IXRK7B2",
   "collapsed_sections": [],
   "name": "13일차 수업 내용_고급시각.ipynb",
   "provenance": []
  },
  "kernelspec": {
   "display_name": "Python 3",
   "language": "python",
   "name": "python3"
  },
  "language_info": {
   "codemirror_mode": {
    "name": "ipython",
    "version": 3
   },
   "file_extension": ".py",
   "mimetype": "text/x-python",
   "name": "python",
   "nbconvert_exporter": "python",
   "pygments_lexer": "ipython3",
   "version": "3.8.5"
  }
 },
 "nbformat": 4,
 "nbformat_minor": 1
}
